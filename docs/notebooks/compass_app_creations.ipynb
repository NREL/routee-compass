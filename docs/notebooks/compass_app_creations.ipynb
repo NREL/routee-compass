{
 "cells": [
  {
   "cell_type": "markdown",
   "id": "ebc3ea6f-f25a-4dbb-bc4d-c67df4449ac5",
   "metadata": {},
   "source": [
    "# CompassApp Creation Deepdive\n",
    "\n",
    "In this example we will look into various ways you can create a CompassApp. This example is intenteded to be more of a deepdive into CompassApp creation, a beginners guide can be found in open_street_maps_example"
   ]
  },
  {
   "cell_type": "code",
   "execution_count": 2,
   "id": "3bef7a36-8c8e-4d9c-8038-36ac4cd3f5b3",
   "metadata": {},
   "outputs": [],
   "source": [
    "from nrel.routee.compass import CompassApp"
   ]
  },
  {
   "cell_type": "markdown",
   "id": "e55d1b23-a3a2-4792-b74d-16864d46dd2c",
   "metadata": {},
   "source": [
    "For all of these examples we will be creating a CompassApp for Pittsburgh, PA, USA. All of the creations will have `add_grade=True`"
   ]
  },
  {
   "cell_type": "markdown",
   "id": "64430c5b-1a30-4434-b160-443d2753f608",
   "metadata": {},
   "source": [
    "## Using `from_place`\n",
    "The CompassApp class has a streamlined constructor that can take a location, and parameters for `generate_compass_dataset` like `add_grade=True`. Another useful optional parameter is `cache_dir`. In order to have a CompassApp object create, several files need to be generated. If cache_dir is left to its default of None, the files will be created by Python's `TemporaryDirectory`."
   ]
  },
  {
   "cell_type": "code",
   "execution_count": 3,
   "id": "d0cc6ad3-835f-43b0-8bfd-c25934329abd",
   "metadata": {},
   "outputs": [
    {
     "name": "stdout",
     "output_type": "stream",
     "text": [
      "processing graph topology and speeds\n",
      "adding grade information\n",
      "processing vertices\n",
      "processing edges\n",
      "writing vertex files\n",
      "writing edge files\n",
      "writing edge attribute files\n",
      "copying default configuration TOML files\n",
      "copying RouteE Powertrain models\n"
     ]
    }
   ],
   "source": [
    "app = CompassApp.from_place(\"Pittsburgh, Pennsylvania, USA\", add_grade=True)"
   ]
  },
  {
   "cell_type": "markdown",
   "id": "9e9ad2a3-67c0-4aba-bdca-48f4366a0af2",
   "metadata": {},
   "source": [
    "However if you want to save off the files so that you can later use them you can put the file path in `cache_dir`"
   ]
  },
  {
   "cell_type": "code",
   "execution_count": 5,
   "id": "d56eecf0-4983-42b0-a0e5-b98505b9ad43",
   "metadata": {},
   "outputs": [
    {
     "name": "stdout",
     "output_type": "stream",
     "text": [
      "processing graph topology and speeds\n",
      "adding grade information\n",
      "processing vertices\n",
      "processing edges\n",
      "writing vertex files\n",
      "writing edge files\n",
      "writing edge attribute files\n",
      "copying default configuration TOML files\n",
      "copying RouteE Powertrain models\n"
     ]
    }
   ],
   "source": [
    "app = CompassApp.from_place(\"Pittsburgh, Pennsylvania, USA\", cache_dir=\"pittsburgh_pa\", add_grade=True)\n",
    "app2 = CompassApp.from_config_file(\"pittsburgh_pa/osm_default_energy.toml\")"
   ]
  },
  {
   "cell_type": "markdown",
   "id": "32fa52e9-79f5-4fea-a51a-1e899a982551",
   "metadata": {},
   "source": [
    "Use can also a pathlib Path object for the `cache_dir`"
   ]
  },
  {
   "cell_type": "code",
   "execution_count": 6,
   "id": "09b3dd08-b9d8-43fa-8d98-a5b24eeea338",
   "metadata": {},
   "outputs": [
    {
     "name": "stdout",
     "output_type": "stream",
     "text": [
      "processing graph topology and speeds\n",
      "adding grade information\n",
      "processing vertices\n",
      "processing edges\n",
      "writing vertex files\n",
      "writing edge files\n",
      "writing edge attribute files\n",
      "copying default configuration TOML files\n",
      "copying RouteE Powertrain models\n"
     ]
    }
   ],
   "source": [
    "from pathlib import Path\n",
    "app = CompassApp.from_place(\"Pittsburgh, Pennsylvania, USA\", cache_dir=Path(\"pittsburgh_pa\"), add_grade=True)\n",
    "app2 = CompassApp.from_config_file(\"pittsburgh_pa/osm_default_energy.toml\")"
   ]
  },
  {
   "cell_type": "markdown",
   "id": "05fa1ec8-8152-4917-ad5b-1949b0b3dafa",
   "metadata": {},
   "source": [
    "## Using `from_polygon`\n",
    "The CompassApp class also has a streamline constructor that can take a polygon. Similar to `from_place` it shares parameters from `generate_compass_dataset` and the optional parameter `cache_dir`"
   ]
  },
  {
   "cell_type": "code",
   "execution_count": 17,
   "id": "882eb261-08fb-4f02-8240-e1b750bffff3",
   "metadata": {},
   "outputs": [
    {
     "name": "stdout",
     "output_type": "stream",
     "text": [
      "processing graph topology and speeds\n",
      "adding grade information\n",
      "processing vertices\n",
      "processing edges\n",
      "writing vertex files\n",
      "writing edge files\n",
      "writing edge attribute files\n",
      "copying default configuration TOML files\n",
      "copying RouteE Powertrain models\n"
     ]
    }
   ],
   "source": [
    "from shapely.geometry import shape\n",
    "from shapely.ops import unary_union\n",
    "import json\n",
    "\n",
    "# downloaded from https://catalog.data.gov/dataset/pittsburgh-city-boundary\n",
    "with open(\"example_data/Pittsburgh_City_Boundary.geojson\") as fp:\n",
    "    geo = json.load(fp)\n",
    "polygons = [shape(feature[\"geometry\"]) for feature in geo[\"features\"]]\n",
    "merge_poly = unary_union(polygons)\n",
    "app = CompassApp.from_polygon(merge_poly, add_grade=True)"
   ]
  },
  {
   "cell_type": "markdown",
   "id": "0e703891-da28-469d-bd35-973b05333f4d",
   "metadata": {},
   "source": [
    "## Epilogue\n",
    "Now that you know how to create a CompassApp, the next notebook `compass_app_queries` will go over how to run queries with a CompassApp"
   ]
  },
  {
   "cell_type": "code",
   "execution_count": null,
   "id": "16ac75bd-4c22-4532-82ce-cfc5e240ffc2",
   "metadata": {},
   "outputs": [],
   "source": []
  }
 ],
 "metadata": {
  "kernelspec": {
   "display_name": "Python 3 (ipykernel)",
   "language": "python",
   "name": "python3"
  },
  "language_info": {
   "codemirror_mode": {
    "name": "ipython",
    "version": 3
   },
   "file_extension": ".py",
   "mimetype": "text/x-python",
   "name": "python",
   "nbconvert_exporter": "python",
   "pygments_lexer": "ipython3",
   "version": "3.11.9"
  }
 },
 "nbformat": 4,
 "nbformat_minor": 5
}
