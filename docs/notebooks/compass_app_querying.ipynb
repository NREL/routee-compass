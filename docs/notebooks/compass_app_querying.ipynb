{
 "cells": [
  {
   "cell_type": "markdown",
   "id": "1192e10a-67f3-4dc7-b5ac-d60be93a07c4",
   "metadata": {},
   "source": [
    "# CompassApp Querying Deepdive\n",
    "In this example we will look into various ways you can query with a CompassApp. This example is intenteded to be more of a deepdive into CompassApp querying, a beginners guide can be found in open_street_maps_example"
   ]
  },
  {
   "cell_type": "code",
   "execution_count": 1,
   "id": "68c02c2f-3c38-42a2-af79-52139bf54ce6",
   "metadata": {},
   "outputs": [],
   "source": [
    "from nrel.routee.compass import CompassApp"
   ]
  },
  {
   "cell_type": "code",
   "execution_count": null,
   "id": "1fd0dffa-71dd-4002-9b2b-0c48b2d488fa",
   "metadata": {},
   "outputs": [],
   "source": [
    "# run if you don't have a folder of cached data of Pittsburgh PA\n",
    "app = CompassApp.from_place(\"Pittsburgh, Pennsylvania, USA\", cache_dir=\"pittsburgh_pa\", add_grade=True)"
   ]
  },
  {
   "cell_type": "code",
   "execution_count": 2,
   "id": "8a1074c1-937b-41c9-a3b3-27e3a7dab241",
   "metadata": {},
   "outputs": [],
   "source": [
    "# run if you already have a Pittsburgh PA folder\n",
    "app = CompassApp.from_config_file(\"pittsburgh_pa/osm_default_energy.toml\")"
   ]
  },
  {
   "cell_type": "markdown",
   "id": "105a3658-2d0e-43f1-bd26-ab8e2aa9f3db",
   "metadata": {},
   "source": [
    "## run\n",
    "The CompassApp object has a run method that can run a single query or a list of queries"
   ]
  },
  {
   "cell_type": "code",
   "execution_count": 60,
   "id": "accef783-bd14-4a57-8990-4f50f7bcc4b7",
   "metadata": {},
   "outputs": [],
   "source": [
    "query = [\n",
    "    {\n",
    "        \"origin_x\": -80.052196,\n",
    "        \"origin_y\": 40.432366,\n",
    "        \"destination_x\": -79.949288,\n",
    "        \"destination_y\": 40.465854,\n",
    "        \"model_name\": \"2016_Leaf_24_kWh\",\n",
    "        \"vehicle_rates\": {\n",
    "            \"distance\": {\"type\": \"factor\", \"factor\": 0.655},\n",
    "            \"time\": {\"type\": \"factor\", \"factor\": 0.33},\n",
    "            \"energy_electric\": {\"type\": \"factor\", \"factor\": .50},            \n",
    "        },\n",
    "        \"grid_search\": {\n",
    "            \"test_cases\": [\n",
    "              {\n",
    "                \"name\": \"least_time\",\n",
    "                \"weights\": {\n",
    "                  \"distance\": 0,\n",
    "                  \"time\": 1,\n",
    "                  \"energy_electric\": 0\n",
    "                }\n",
    "              },\n",
    "              {\n",
    "                \"name\": \"least_energy\",\n",
    "                \"weights\": {\n",
    "                  \"distance\": 0,\n",
    "                  \"time\": 0,\n",
    "                  \"energy_electric\": 1\n",
    "                }\n",
    "              },\n",
    "              {\n",
    "                \"name\": \"least_cost\",\n",
    "                \"weights\": {\n",
    "                  \"distance\": 1,\n",
    "                  \"time\": 1,\n",
    "                  \"energy_electric\": 1\n",
    "                }\n",
    "              }\n",
    "            ]\n",
    "          }    \n",
    "    },\n",
    "]"
   ]
  },
  {
   "cell_type": "code",
   "execution_count": 61,
   "id": "0cc6ddc9-1742-4247-baea-056fd29a5305",
   "metadata": {},
   "outputs": [],
   "source": [
    "result = app.run(query)"
   ]
  },
  {
   "cell_type": "markdown",
   "id": "6329d5db-2611-42be-a99a-d9ed33889f3e",
   "metadata": {},
   "source": [
    "You can also run multiple queries"
   ]
  },
  {
   "cell_type": "code",
   "execution_count": 72,
   "id": "c107ccf3-de1e-4944-b309-fa8f38bb4330",
   "metadata": {},
   "outputs": [],
   "source": [
    "from itertools import permutations\n",
    "locations = [(-80.052196, 40.432366), (-79.949288, 40.465854), (-79.996035, 40.444908), (-79.948078, 40.446414)]\n",
    "queries = []\n",
    "for (source_x, source_y), (dest_x, dest_y) in permutations(locations, 2):\n",
    "    queries.append({\n",
    "        \"origin_x\": source_x,\n",
    "        \"origin_y\": source_y,\n",
    "        \"destination_x\": dest_x,\n",
    "        \"destination_y\": dest_y,\n",
    "        \"model_name\": \"2016_Leaf_24_kWh\",\n",
    "        \"vehicle_rates\": {\n",
    "            \"distance\": {\"type\": \"factor\", \"factor\": 0.655},\n",
    "            \"time\": {\"type\": \"factor\", \"factor\": 0.33},\n",
    "            \"energy_electric\": {\"type\": \"factor\", \"factor\": .50},            \n",
    "        },\n",
    "        \"grid_search\": {\n",
    "            \"test_cases\": [\n",
    "              {\n",
    "                \"name\": \"least_time\",\n",
    "                \"weights\": {\n",
    "                  \"distance\": 0,\n",
    "                  \"time\": 1,\n",
    "                  \"energy_electric\": 0\n",
    "                }\n",
    "              },\n",
    "              {\n",
    "                \"name\": \"least_energy\",\n",
    "                \"weights\": {\n",
    "                  \"distance\": 0,\n",
    "                  \"time\": 0,\n",
    "                  \"energy_electric\": 1\n",
    "                }\n",
    "              },\n",
    "              {\n",
    "                \"name\": \"least_cost\",\n",
    "                \"weights\": {\n",
    "                  \"distance\": 1,\n",
    "                  \"time\": 1,\n",
    "                  \"energy_electric\": 1\n",
    "                }\n",
    "              }\n",
    "            ]\n",
    "          }    \n",
    "    })\n",
    "    "
   ]
  },
  {
   "cell_type": "code",
   "execution_count": 74,
   "id": "1645287a-f983-4a76-aefa-581faebcbb4b",
   "metadata": {},
   "outputs": [],
   "source": [
    "result = app.run(query)"
   ]
  },
  {
   "cell_type": "markdown",
   "id": "ace5bc5c-9deb-47c7-ba95-ed8714bcbec3",
   "metadata": {},
   "source": [
    "## Epilogue\n",
    "Now that you know how to query a CompassApp, the next notebook compass_app_analyze_results will go over how to analyze the results of your query"
   ]
  },
  {
   "cell_type": "code",
   "execution_count": null,
   "id": "54fa5609-e560-4442-9f32-f397e2353d1d",
   "metadata": {},
   "outputs": [],
   "source": []
  }
 ],
 "metadata": {
  "kernelspec": {
   "display_name": "Python 3 (ipykernel)",
   "language": "python",
   "name": "python3"
  },
  "language_info": {
   "codemirror_mode": {
    "name": "ipython",
    "version": 3
   },
   "file_extension": ".py",
   "mimetype": "text/x-python",
   "name": "python",
   "nbconvert_exporter": "python",
   "pygments_lexer": "ipython3",
   "version": "3.11.8"
  }
 },
 "nbformat": 4,
 "nbformat_minor": 5
}
