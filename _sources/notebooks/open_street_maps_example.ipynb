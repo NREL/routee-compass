{
 "cells": [
  {
   "cell_type": "markdown",
   "id": "75b8a7cf-1dd0-4469-9b75-0f3d0824bf5c",
   "metadata": {},
   "source": [
    "# OpenStreetMap example\n",
    "\n",
    "In this example, we download a road network from OSM using the OSMNx package, and then process the result, resulting in a RouteE Compass network dataset.\n",
    "\n",
    "## requirements\n",
    "\n",
    "To download an open street maps dataset, we'll need some extra dependnecies which are included with the conda distribution of this pacakge: \n",
    "\n",
    "```console\n",
    "conda create -n routee-compass -c conda-forge python=3.11 nrel.routee.compass \n",
    "```"
   ]
  },
  {
   "cell_type": "code",
   "execution_count": 21,
   "id": "debe13e9-b483-496f-8e79-d99e93484fcf",
   "metadata": {},
   "outputs": [],
   "source": [
    "import osmnx as ox\n",
    "from nrel.routee.compass.io import generate_compass_dataset\n",
    "from nrel.routee.compass import CompassApp\n",
    "import json"
   ]
  },
  {
   "cell_type": "markdown",
   "id": "6209ab68-8cf6-40cf-a9d8-624e8d90d986",
   "metadata": {},
   "source": [
    "## Building RouteE Compass Dataset\n",
    "\n",
    "### Get OSM graph\n",
    "\n",
    "First, we need to get an OSM graph that we can use to convert into the format RouteE Compass expects.\n",
    "\n",
    "In this example we will load in a road network that covers Golden, Colorado as a small example, but this workflow will work with any osmnx graph (osmnx provides [many graph download operations](https://osmnx.readthedocs.io/en/stable/user-reference.html#module-osmnx.graph))."
   ]
  },
  {
   "cell_type": "code",
   "execution_count": 2,
   "id": "4e0726db-5a19-48cb-964f-7030ba14f0b3",
   "metadata": {},
   "outputs": [],
   "source": [
    "g = ox.graph_from_place(\"Golden, Colorado, USA\", network_type=\"drive\")  "
   ]
  },
  {
   "cell_type": "markdown",
   "id": "052a41ad-daba-4b78-943d-5f24a089bf88",
   "metadata": {},
   "source": [
    "### Convert Graph to Compass Dataset\n",
    "\n",
    "Now, we call the `generate_compass_dataset` function which will convert the osmnx graph into files that are compatible with RouteE Compass.\n",
    "\n",
    "```{note}\n",
    "In order to get the most accurate energy results from the routee-powertrain vehicle models, it's important to include road grade information since it plays a large factor in vehicle energy consumption (`add_grade=True`)\n",
    "That being said, adding grade can be a big lift computationally. In our case, we pull digital elevation model (DEM) raster files from USGS and then use osmnx to append elevation and grade to the graph. If the graph is large, this can take a while to download and could take up a lot of disk space.\n",
    "So, we recommend that you include grade information in your graph but want to be clear about the requirements for doing so.\n",
    "```"
   ]
  },
  {
   "cell_type": "code",
   "execution_count": 5,
   "id": "2a99e267-0ba5-462f-83e4-e8428701597c",
   "metadata": {},
   "outputs": [],
   "source": [
    "generate_compass_dataset(g, output_directory=\"golden_co\", add_grade=True)      "
   ]
  },
  {
   "cell_type": "markdown",
   "id": "a54714f9-a4e5-48eb-84f9-4219a790956d",
   "metadata": {},
   "source": [
    "This will parse the OSM graph and write the RouteE Compass files into a new folder \"golden_co/\". If you take a look in this directory, you'll notice some `.toml` files like: `osm_default_energy.toml`. \n",
    "These are configurations for the compass application. Take a look [here](https://nrel.github.io/routee-compass/config.html) for more information about this file.\n",
    "\n",
    "## Running\n",
    "\n",
    "### Load Application\n",
    "\n",
    "Now we can load the application from one of our config files. \n",
    "We'll pick `osm_default_energy.toml` for computing energy optimal routes."
   ]
  },
  {
   "cell_type": "code",
   "execution_count": 6,
   "id": "edad6c15-c641-4010-b097-7d07aa86c1e7",
   "metadata": {},
   "outputs": [
    {
     "name": "stdout",
     "output_type": "stream",
     "text": [
      "\n",
      "\n",
      "\n",
      "\n"
     ]
    },
    {
     "name": "stderr",
     "output_type": "stream",
     "text": [
      "uuid file: 100%|██████████| 746/746 [00:00<00:00, 2224495.00it/s]it/s]"
     ]
    }
   ],
   "source": [
    "app = CompassApp.from_config_file(\"golden_co/osm_default_energy.toml\")  "
   ]
  },
  {
   "cell_type": "markdown",
   "id": "4bfbfbf8-e721-4754-a165-0beb7b46b81b",
   "metadata": {},
   "source": [
    "###  Queries\n",
    "\n",
    "With our application loaded we can start computing routes by passing queries to the app.\n",
    "To demonstrate, we'll route between two locations in Golden, CO utilzing the grid search input plugin to run two separate searches. \n",
    "\n",
    "The energy cost coefficient indicates how much we should factor energy into our route search, 0.0 indicating that we should not factor in energy at all (shortest time route) and 1.0 indicating that we should only factor energy in (least energy route)\n",
    "\n",
    "The `model_name` parameter specifies which energy model to use. This can anything that was included in the config as a `[[traveral.energy_models]]` section. We'll use the 2016 Toyota Camry."
   ]
  },
  {
   "cell_type": "code",
   "execution_count": 13,
   "id": "f01086d0-231f-4013-bc24-97f9c56670bd",
   "metadata": {},
   "outputs": [],
   "source": [
    "query = [\n",
    "    {\n",
    "        \"origin_name\": \"Government Center Station\",\n",
    "        \"destination_name\": \"Cannonball Creek Brewery\",\n",
    "        \"origin_x\": -105.200146,\n",
    "        \"origin_y\": 39.726570,\n",
    "        \"destination_x\": -105.234964,\n",
    "        \"destination_y\": 39.768477,\n",
    "        \"model_name\": \"2016_TOYOTA_Camry_4cyl_2WD\",\n",
    "        \"state_variable_coefficients\": {\n",
    "            \"distance\": 0.0,\n",
    "            \"time\": 1.0,\n",
    "            \"energy_liquid\": 0.0,\n",
    "        },\n",
    "    },\n",
    "    {\n",
    "        \"origin_name\": \"Government Center Station\",\n",
    "        \"destination_name\": \"Cannonball Creek Brewery\",\n",
    "        \"origin_x\": -105.200146,\n",
    "        \"origin_y\": 39.726570,\n",
    "        \"destination_x\": -105.234964,\n",
    "        \"destination_y\": 39.768477,\n",
    "        \"model_name\": \"2016_TOYOTA_Camry_4cyl_2WD\",\n",
    "        \"state_variable_coefficients\": {\n",
    "            \"distance\": 0.0,\n",
    "            \"time\": 0.0,\n",
    "            \"energy_liquid\": 1.0,\n",
    "        },\n",
    "\n",
    "    }\n",
    "]"
   ]
  },
  {
   "cell_type": "markdown",
   "id": "f1977bac-446f-41b2-b32d-ecfd449c3d5c",
   "metadata": {},
   "source": [
    "Now, let's pass the query to the application.\n",
    "\n",
    "```{note}\n",
    "A query can be a single object, or, a list of objects.\n",
    "If the input is a list of objects, the application will run these queries in parallel over the number of threads defined in the config file under the `paralellism` key (defaults to 2).\n",
    "```"
   ]
  },
  {
   "cell_type": "code",
   "execution_count": 14,
   "id": "c6e9361b-5ffd-4ec5-a09a-d51e46752ebf",
   "metadata": {},
   "outputs": [
    {
     "name": "stdout",
     "output_type": "stream",
     "text": [
      "\n"
     ]
    },
    {
     "name": "stderr",
     "output_type": "stream",
     "text": [
      "search: 100%|██████████| 2/2 [00:00<00:00, 448.75it/s]2.20it/s]"
     ]
    }
   ],
   "source": [
    "results = app.run(query)"
   ]
  },
  {
   "cell_type": "markdown",
   "id": "60534047-b102-40af-9212-cf574f6c4ac2",
   "metadata": {},
   "source": [
    "## Analysis\n",
    "\n",
    "The application returns the results as a list of python dictionaries.\n",
    "Since we used the grid search to specify two separate searches, we should get two results back:"
   ]
  },
  {
   "cell_type": "code",
   "execution_count": 18,
   "id": "2c51774c-acff-4569-a820-4be5ba5aa51b",
   "metadata": {},
   "outputs": [],
   "source": [
    "assert len(results), f\"expected 2 results, found {len(results)}\"\n",
    "for r in results:\n",
    "    error = r.get(\"error\")\n",
    "    if error is not None:\n",
    "        print(f\"request {r['request']['name']} had error: {error}\")"
   ]
  },
  {
   "cell_type": "markdown",
   "id": "0b84c836-32b3-46d3-8a1f-a3f9511b1fd2",
   "metadata": {},
   "source": [
    "### Traversal and Cost Summaries\n",
    "\n",
    "Since we have the `traversal` output plugin activated by default, we can take a look at the summary for each result under the `traversal_summary` key."
   ]
  },
  {
   "cell_type": "code",
   "execution_count": 53,
   "id": "1825ee52",
   "metadata": {},
   "outputs": [],
   "source": [
    "def pretty_print(dict):\n",
    "    print(json.dumps(dict, indent=4))\n",
    "shortest_time_result = results[0]\n",
    "least_energy_result = results[1]"
   ]
  },
  {
   "cell_type": "markdown",
   "id": "18b50d4e",
   "metadata": {},
   "source": [
    "Summary of route result for distance, time, and energy:"
   ]
  },
  {
   "cell_type": "code",
   "execution_count": 76,
   "id": "961c910c-63ec-4c79-9522-19f24f151215",
   "metadata": {},
   "outputs": [
    {
     "name": "stdout",
     "output_type": "stream",
     "text": [
      "{\n",
      "    \"distance\": 4.23738036063421,\n",
      "    \"distance_unit\": \"miles\",\n",
      "    \"energy_liquid\": 1.7531906338670376,\n",
      "    \"time\": 8.486183959367098,\n",
      "    \"time_unit\": \"minutes\",\n",
      "    \"vehicle_info\": {\n",
      "        \"energy_unit\": \"gallons_gasoline\"\n",
      "    }\n",
      "}\n"
     ]
    }
   ],
   "source": [
    "\n",
    "pretty_print(shortest_time_result[\"traversal_summary\"])"
   ]
  },
  {
   "cell_type": "markdown",
   "id": "22141c5e",
   "metadata": {},
   "source": [
    "The cost summary shows the costs per unit assigned to the trip, in dollars.\n",
    "\n",
    "This is based on the user assumptions assigned in the configuration which can be overriden in the route request query."
   ]
  },
  {
   "cell_type": "code",
   "execution_count": 78,
   "id": "d4501094",
   "metadata": {},
   "outputs": [
    {
     "name": "stdout",
     "output_type": "stream",
     "text": [
      "{\n",
      "    \"distance\": 2.775484136215408,\n",
      "    \"energy_liquid\": 5.469954777665158,\n",
      "    \"time\": 2.8287506162795912,\n",
      "    \"total_cost\": 11.074189530160158\n",
      "}\n"
     ]
    }
   ],
   "source": [
    "pretty_print(shortest_time_result[\"cost_summary\"][\"cost\"])"
   ]
  },
  {
   "cell_type": "markdown",
   "id": "ee8ad015",
   "metadata": {},
   "source": [
    "The info section includes details for how these costs were calculated. \n",
    "\n",
    "The user can set different state variable coefficients in the query that are weighted against the vehicle state variable rates.\n",
    "\n",
    "The algorithm will rely on the weighted costs while the cost summary will show the final costs without weight coefficients applied."
   ]
  },
  {
   "cell_type": "code",
   "execution_count": null,
   "id": "788183c8",
   "metadata": {},
   "outputs": [],
   "source": [
    "shortest_time_result[\"cost_summary\"][\"info\"]"
   ]
  },
  {
   "cell_type": "markdown",
   "id": "a6a7fc0e",
   "metadata": {},
   "source": [
    "Each response object contains this information. The least energy traversal and cost summary are below."
   ]
  },
  {
   "cell_type": "code",
   "execution_count": 79,
   "id": "e2c6cb39-49aa-4697-9785-fa839dc16a86",
   "metadata": {},
   "outputs": [
    {
     "name": "stdout",
     "output_type": "stream",
     "text": [
      "{\n",
      "    \"distance\": 4.020870727313324,\n",
      "    \"distance_unit\": \"miles\",\n",
      "    \"energy_liquid\": 1.7423185323233328,\n",
      "    \"time\": 8.587012115596758,\n",
      "    \"time_unit\": \"minutes\",\n",
      "    \"vehicle_info\": {\n",
      "        \"energy_unit\": \"gallons_gasoline\"\n",
      "    }\n",
      "}\n",
      "{\n",
      "    \"distance\": 2.6336703263902272,\n",
      "    \"energy_liquid\": 5.436033820848799,\n",
      "    \"time\": 2.862360270564561,\n",
      "    \"total_cost\": 10.932064417803588\n",
      "}\n"
     ]
    }
   ],
   "source": [
    "pretty_print(least_energy_result[\"traversal_summary\"])\n",
    "pretty_print(least_energy_result[\"cost_summary\"][\"cost\"])"
   ]
  },
  {
   "cell_type": "markdown",
   "id": "73127486",
   "metadata": {},
   "source": [
    "What becomes interesting is if we can compare our choices. Here's a quick comparison of the two:"
   ]
  },
  {
   "cell_type": "code",
   "execution_count": 82,
   "id": "6283c273",
   "metadata": {},
   "outputs": [
    {
     "name": "stdout",
     "output_type": "stream",
     "text": [
      " - distance: 0.22 miles further with energy-optimal\n",
      " - time: 0.22 minutes longer with energy-optimal\n",
      " - energy: 0.01 gallons_gasoline more with time-optimal\n",
      " - cost: $0.14 more with energy-optimal\n"
     ]
    }
   ],
   "source": [
    "dist_diff = shortest_time_result[\"traversal_summary\"][\"distance\"] - least_energy_result[\"traversal_summary\"][\"distance\"]\n",
    "time_diff = shortest_time_result[\"traversal_summary\"][\"time\"] - least_energy_result[\"traversal_summary\"][\"time\"]\n",
    "enrg_diff = shortest_time_result[\"traversal_summary\"][\"energy_liquid\"] - least_energy_result[\"traversal_summary\"][\"energy_liquid\"]\n",
    "cost_diff = shortest_time_result[\"cost_summary\"][\"cost\"][\"total_cost\"] - least_energy_result[\"cost_summary\"][\"cost\"][\"total_cost\"]\n",
    "dist_unit = shortest_time_result[\"traversal_summary\"][\"distance_unit\"]\n",
    "time_unit = shortest_time_result[\"traversal_summary\"][\"time_unit\"]\n",
    "enrg_unit = shortest_time_result[\"traversal_summary\"][\"vehicle_info\"][\"energy_unit\"]\n",
    "print(f\" - distance: {dist_diff:.2f} {dist_unit} further with energy-optimal\")\n",
    "print(f\" - time: {dist_diff:.2f} {time_unit} longer with energy-optimal\")\n",
    "print(f\" - energy: {enrg_diff:.2f} {enrg_unit} more with time-optimal\")\n",
    "print(f\" - cost: ${cost_diff:.2f} more with energy-optimal\")"
   ]
  },
  {
   "cell_type": "markdown",
   "id": "7a6af97d-7f60-4bc1-9b7e-df594e59ebfd",
   "metadata": {},
   "source": [
    "In addition to the summary, the result also contains much more information.\n",
    "Here's a list of all the different sections that get returned:"
   ]
  },
  {
   "cell_type": "code",
   "execution_count": 71,
   "id": "791e814f-333c-43f4-ae84-36b9be517548",
   "metadata": {},
   "outputs": [
    {
     "name": "stdout",
     "output_type": "stream",
     "text": [
      " - algorithm_runtime\n",
      " - basic_summary_runtime\n",
      " - cost_summary\n",
      "   - cost\n",
      "     - distance\n",
      "     - energy_liquid\n",
      "     - time\n",
      "     - total_cost\n",
      "   - info\n",
      "     - cost_aggregation\n",
      "     - network_state_variable_rates\n",
      "     - state_variable_coefficients\n",
      "     - state_variable_indices\n",
      "     - vehicle_state_variable_rates\n",
      " - destination_vertex_uuid\n",
      " - iterations\n",
      " - origin_vertex_uuid\n",
      " - output_plugin_executed_time\n",
      " - request\n",
      "   - destination_name\n",
      "   - destination_vertex\n",
      "   - destination_x\n",
      "   - destination_y\n",
      "   - model_name\n",
      "   - origin_name\n",
      "   - origin_vertex\n",
      "   - origin_x\n",
      "   - origin_y\n",
      "   - query_weight_estimate\n",
      "   - state_variable_coefficients\n",
      "     - distance\n",
      "     - energy_liquid\n",
      "     - time\n",
      " - result_memory_usage_bytes\n",
      " - route\n",
      "   - features\n",
      "   - type\n",
      " - route_edge_count\n",
      " - search_app_runtime\n",
      " - search_executed_time\n",
      " - traversal_summary\n",
      "   - distance\n",
      "   - distance_unit\n",
      "   - energy_liquid\n",
      "   - time\n",
      "   - time_unit\n",
      "   - vehicle_info\n",
      "     - energy_unit\n",
      " - tree_edge_count\n"
     ]
    }
   ],
   "source": [
    "def print_keys(d, indent=0):\n",
    "    for k in sorted(d.keys()):\n",
    "        print(f\"{' '*indent} - {k}\")\n",
    "        if isinstance(d[k], dict):\n",
    "            print_keys(d[k], indent+2)\n",
    "print_keys(least_energy_result)"
   ]
  },
  {
   "cell_type": "markdown",
   "id": "02501e5a-6e5b-4c1b-bc48-3c9e6e206ab7",
   "metadata": {},
   "source": [
    "### Plotting\n",
    "\n",
    "We can also plot the results to see the difference between the two routes."
   ]
  },
  {
   "cell_type": "code",
   "execution_count": 72,
   "id": "30257102-07ee-4338-9c8c-41676e1995ed",
   "metadata": {},
   "outputs": [],
   "source": [
    "from nrel.routee.compass.plot import plot_route_folium, plot_routes_folium"
   ]
  },
  {
   "cell_type": "markdown",
   "id": "70e99c19-cfeb-4bf3-a012-09d7727cdda2",
   "metadata": {},
   "source": [
    "We can use the `plot_route_folium` function to plot single routes, passing in the `line_kwargs` parameter to customize the folium linestring:"
   ]
  },
  {
   "cell_type": "code",
   "execution_count": 73,
   "id": "1ac13aae-32fc-4c10-b888-6373b175655a",
   "metadata": {},
   "outputs": [
    {
     "data": {
      "text/html": [
       "<div style=\"width:100%;\"><div style=\"position:relative;width:100%;height:0;padding-bottom:60%;\"><span style=\"color:#565656\">Make this Notebook Trusted to load map: File -> Trust Notebook</span><iframe srcdoc=\"&lt;!DOCTYPE html&gt;\n",
       "&lt;html&gt;\n",
       "&lt;head&gt;\n",
       "    \n",
       "    &lt;meta http-equiv=&quot;content-type&quot; content=&quot;text/html; charset=UTF-8&quot; /&gt;\n",
       "    \n",
       "        &lt;script&gt;\n",
       "            L_NO_TOUCH = false;\n",
       "            L_DISABLE_3D = false;\n",
       "        &lt;/script&gt;\n",
       "    \n",
       "    &lt;style&gt;html, body {width: 100%;height: 100%;margin: 0;padding: 0;}&lt;/style&gt;\n",
       "    &lt;style&gt;#map {position:absolute;top:0;bottom:0;right:0;left:0;}&lt;/style&gt;\n",
       "    &lt;script src=&quot;https://cdn.jsdelivr.net/npm/leaflet@1.9.3/dist/leaflet.js&quot;&gt;&lt;/script&gt;\n",
       "    &lt;script src=&quot;https://code.jquery.com/jquery-1.12.4.min.js&quot;&gt;&lt;/script&gt;\n",
       "    &lt;script src=&quot;https://cdn.jsdelivr.net/npm/bootstrap@5.2.2/dist/js/bootstrap.bundle.min.js&quot;&gt;&lt;/script&gt;\n",
       "    &lt;script src=&quot;https://cdnjs.cloudflare.com/ajax/libs/Leaflet.awesome-markers/2.0.2/leaflet.awesome-markers.js&quot;&gt;&lt;/script&gt;\n",
       "    &lt;link rel=&quot;stylesheet&quot; href=&quot;https://cdn.jsdelivr.net/npm/leaflet@1.9.3/dist/leaflet.css&quot;/&gt;\n",
       "    &lt;link rel=&quot;stylesheet&quot; href=&quot;https://cdn.jsdelivr.net/npm/bootstrap@5.2.2/dist/css/bootstrap.min.css&quot;/&gt;\n",
       "    &lt;link rel=&quot;stylesheet&quot; href=&quot;https://netdna.bootstrapcdn.com/bootstrap/3.0.0/css/bootstrap.min.css&quot;/&gt;\n",
       "    &lt;link rel=&quot;stylesheet&quot; href=&quot;https://cdn.jsdelivr.net/npm/@fortawesome/fontawesome-free@6.2.0/css/all.min.css&quot;/&gt;\n",
       "    &lt;link rel=&quot;stylesheet&quot; href=&quot;https://cdnjs.cloudflare.com/ajax/libs/Leaflet.awesome-markers/2.0.2/leaflet.awesome-markers.css&quot;/&gt;\n",
       "    &lt;link rel=&quot;stylesheet&quot; href=&quot;https://cdn.jsdelivr.net/gh/python-visualization/folium/folium/templates/leaflet.awesome.rotate.min.css&quot;/&gt;\n",
       "    \n",
       "            &lt;meta name=&quot;viewport&quot; content=&quot;width=device-width,\n",
       "                initial-scale=1.0, maximum-scale=1.0, user-scalable=no&quot; /&gt;\n",
       "            &lt;style&gt;\n",
       "                #map_0acdbf3d52f2feea8da8d9c090017b46 {\n",
       "                    position: relative;\n",
       "                    width: 100.0%;\n",
       "                    height: 100.0%;\n",
       "                    left: 0.0%;\n",
       "                    top: 0.0%;\n",
       "                }\n",
       "                .leaflet-container { font-size: 1rem; }\n",
       "            &lt;/style&gt;\n",
       "        \n",
       "&lt;/head&gt;\n",
       "&lt;body&gt;\n",
       "    \n",
       "    \n",
       "            &lt;div class=&quot;folium-map&quot; id=&quot;map_0acdbf3d52f2feea8da8d9c090017b46&quot; &gt;&lt;/div&gt;\n",
       "        \n",
       "&lt;/body&gt;\n",
       "&lt;script&gt;\n",
       "    \n",
       "    \n",
       "            var map_0acdbf3d52f2feea8da8d9c090017b46 = L.map(\n",
       "                &quot;map_0acdbf3d52f2feea8da8d9c090017b46&quot;,\n",
       "                {\n",
       "                    center: [39.746578216552734, -105.22162628173828],\n",
       "                    crs: L.CRS.EPSG3857,\n",
       "                    zoom: 12,\n",
       "                    zoomControl: true,\n",
       "                    preferCanvas: false,\n",
       "                }\n",
       "            );\n",
       "\n",
       "            \n",
       "\n",
       "        \n",
       "    \n",
       "            var tile_layer_84981b8aca063435dd126133ffa6ddaf = L.tileLayer(\n",
       "                &quot;https://{s}.tile.openstreetmap.org/{z}/{x}/{y}.png&quot;,\n",
       "                {&quot;attribution&quot;: &quot;Data by \\u0026copy; \\u003ca target=\\&quot;_blank\\&quot; href=\\&quot;http://openstreetmap.org\\&quot;\\u003eOpenStreetMap\\u003c/a\\u003e, under \\u003ca target=\\&quot;_blank\\&quot; href=\\&quot;http://www.openstreetmap.org/copyright\\&quot;\\u003eODbL\\u003c/a\\u003e.&quot;, &quot;detectRetina&quot;: false, &quot;maxNativeZoom&quot;: 18, &quot;maxZoom&quot;: 18, &quot;minZoom&quot;: 0, &quot;noWrap&quot;: false, &quot;opacity&quot;: 1, &quot;subdomains&quot;: &quot;abc&quot;, &quot;tms&quot;: false}\n",
       "            ).addTo(map_0acdbf3d52f2feea8da8d9c090017b46);\n",
       "        \n",
       "    \n",
       "            var poly_line_56444389304f678040510dd57ea563ed = L.polyline(\n",
       "                [[39.7273063659668, -105.19941711425781], [39.727298736572266, -105.19945526123047], [39.7272834777832, -105.1994857788086], [39.72726058959961, -105.19952392578125], [39.72722625732422, -105.19954681396484], [39.72719192504883, -105.19955444335938], [39.727169036865234, -105.19955444335938], [39.72714614868164, -105.19955444335938], [39.727115631103516, -105.19953918457031], [39.72708511352539, -105.19950866699219], [39.72706604003906, -105.19947052001953], [39.72705078125, -105.19943237304688], [39.727046966552734, -105.19937896728516], [39.72705078125, -105.19935607910156], [39.72705841064453, -105.19932556152344], [39.727073669433594, -105.19929504394531], [39.72709655761719, -105.19925689697266], [39.72713088989258, -105.19923400878906], [39.72716522216797, -105.19921875], [39.7271842956543, -105.19922637939453], [39.727210998535156, -105.19922637939453], [39.72734832763672, -105.19916534423828], [39.7274169921875, -105.19915008544922], [39.72753143310547, -105.19908905029297], [39.727684020996094, -105.19905853271484], [39.727745056152344, -105.19905090332031], [39.727970123291016, -105.19902038574219], [39.72815704345703, -105.19903564453125], [39.72843933105469, -105.19908905029297], [39.72866439819336, -105.19918060302734], [39.72882080078125, -105.19927978515625], [39.728919982910156, -105.19938659667969], [39.72903060913086, -105.19955444335938], [39.72904968261719, -105.1995849609375], [39.729217529296875, -105.19981384277344], [39.72930908203125, -105.19989776611328], [39.729408264160156, -105.19995880126953], [39.72954559326172, -105.20001220703125], [39.72962951660156, -105.2000732421875], [39.72972869873047, -105.2000732421875], [39.729713439941406, -105.2007064819336], [39.72972106933594, -105.20130920410156], [39.72981643676758, -105.20320129394531], [39.72982406616211, -105.20337677001953], [39.72986602783203, -105.20356750488281], [39.729881286621094, -105.20365142822266], [39.72992706298828, -105.203857421875], [39.730106353759766, -105.20426177978516], [39.730491638183594, -105.20480346679688], [39.730873107910156, -105.20531463623047], [39.7310676574707, -105.20559692382812], [39.73119354248047, -105.20582580566406], [39.73120880126953, -105.20585632324219], [39.73130798339844, -105.20611572265625], [39.731346130371094, -105.20624542236328], [39.73138427734375, -105.2064208984375], [39.731422424316406, -105.20673370361328], [39.73143005371094, -105.2070541381836], [39.731422424316406, -105.20722198486328], [39.731407165527344, -105.20740509033203], [39.731361389160156, -105.20777130126953], [39.731327056884766, -105.2079086303711], [39.73128128051758, -105.20806121826172], [39.73122787475586, -105.20820617675781], [39.731170654296875, -105.20834350585938], [39.73109817504883, -105.20848083496094], [39.73100662231445, -105.2086181640625], [39.73092269897461, -105.20872497558594], [39.73081970214844, -105.20883178710938], [39.730621337890625, -105.208984375], [39.7304801940918, -105.20907592773438], [39.730369567871094, -105.20919799804688], [39.73033142089844, -105.20925903320312], [39.73031234741211, -105.20932006835938], [39.73030090332031, -105.20938873291016], [39.73029327392578, -105.20951080322266], [39.73031234741211, -105.20967864990234], [39.73044204711914, -105.20993041992188], [39.730499267578125, -105.21003723144531], [39.730587005615234, -105.2101821899414], [39.73073959350586, -105.21044921875], [39.73092269897461, -105.21072387695312], [39.73109436035156, -105.2109603881836], [39.731239318847656, -105.21114349365234], [39.73141098022461, -105.21134948730469], [39.7315788269043, -105.21153259277344], [39.731754302978516, -105.21170806884766], [39.73197937011719, -105.21190643310547], [39.73236083984375, -105.21224212646484], [39.73291778564453, -105.21271514892578], [39.733455657958984, -105.21318817138672], [39.7338981628418, -105.21356964111328], [39.734275817871094, -105.21389770507812], [39.73471450805664, -105.21427917480469], [39.73546600341797, -105.21492767333984], [39.73563003540039, -105.21507263183594], [39.73588562011719, -105.21529388427734], [39.73638916015625, -105.21572875976562], [39.73691177368164, -105.2161865234375], [39.73772430419922, -105.21688079833984], [39.73908996582031, -105.21807098388672], [39.73978805541992, -105.21867370605469], [39.74030303955078, -105.21910858154297], [39.74056625366211, -105.21932983398438], [39.74067687988281, -105.21942138671875], [39.741580963134766, -105.22021484375], [39.74164962768555, -105.22027587890625], [39.741703033447266, -105.2203140258789], [39.742149353027344, -105.22069549560547], [39.74258041381836, -105.22106170654297], [39.74326705932617, -105.22154235839844], [39.74357986450195, -105.22176361083984], [39.74367141723633, -105.22183227539062], [39.743736267089844, -105.22187805175781], [39.74388122558594, -105.22197723388672], [39.743953704833984, -105.2220230102539], [39.7440071105957, -105.22206115722656], [39.744083404541016, -105.22209930419922], [39.744136810302734, -105.22212982177734], [39.74418258666992, -105.22215270996094], [39.74427795410156, -105.22220611572266], [39.74433517456055, -105.22222900390625], [39.744407653808594, -105.22225952148438], [39.74446487426758, -105.2222900390625], [39.7444953918457, -105.22230529785156], [39.74456787109375, -105.22234344482422], [39.744632720947266, -105.22238159179688], [39.74468231201172, -105.222412109375], [39.744720458984375, -105.2224349975586], [39.74476623535156, -105.22246551513672], [39.74481201171875, -105.22249603271484], [39.74485397338867, -105.2225341796875], [39.74488830566406, -105.2225570678711], [39.74493408203125, -105.22259521484375], [39.74497985839844, -105.22264099121094], [39.745155334472656, -105.22279357910156], [39.745479583740234, -105.2230453491211], [39.74550247192383, -105.22306060791016], [39.74551773071289, -105.22306823730469], [39.745540618896484, -105.22308349609375], [39.74555587768555, -105.22309112548828], [39.745574951171875, -105.22309875488281], [39.745601654052734, -105.22310638427734], [39.7456169128418, -105.22310638427734], [39.74563217163086, -105.22310638427734], [39.745662689208984, -105.22310638427734], [39.74568176269531, -105.22309875488281], [39.745697021484375, -105.22309112548828], [39.745723724365234, -105.22308349609375], [39.74573516845703, -105.22307586669922], [39.745758056640625, -105.22305297851562], [39.74576950073242, -105.2230453491211], [39.745784759521484, -105.22303009033203], [39.74580383300781, -105.2229995727539], [39.74589157104492, -105.2228775024414], [39.74600601196289, -105.22266387939453], [39.746158599853516, -105.2223892211914], [39.746360778808594, -105.22201538085938], [39.74644088745117, -105.22187042236328], [39.746482849121094, -105.22179412841797], [39.74652099609375, -105.22173309326172], [39.746551513671875, -105.2216796875], [39.746578216552734, -105.22162628173828], [39.7465934753418, -105.2215805053711], [39.74660110473633, -105.22154998779297], [39.746604919433594, -105.22151184082031], [39.746604919433594, -105.22146606445312], [39.74660110473633, -105.221435546875], [39.74658966064453, -105.22138977050781], [39.74658203125, -105.22135925292969], [39.746578216552734, -105.22132873535156], [39.746578216552734, -105.22130584716797], [39.74658203125, -105.22127532958984], [39.746585845947266, -105.22125244140625], [39.74659729003906, -105.22122955322266], [39.746612548828125, -105.22119903564453], [39.74662780761719, -105.22118377685547], [39.746646881103516, -105.2211685180664], [39.74666976928711, -105.22115325927734], [39.7466926574707, -105.22115325927734], [39.7467155456543, -105.22115325927734], [39.74671936035156, -105.22115325927734], [39.74678039550781, -105.22113037109375], [39.74681091308594, -105.22112274169922], [39.74683380126953, -105.22109985351562], [39.74686813354492, -105.2210693359375], [39.74688720703125, -105.22103881835938], [39.74690628051758, -105.22100067138672], [39.74697494506836, -105.22087097167969], [39.747108459472656, -105.22065734863281], [39.74713897705078, -105.22061157226562], [39.74715805053711, -105.2205810546875], [39.74720764160156, -105.22053527832031], [39.747337341308594, -105.22029876708984], [39.74735641479492, -105.22021484375], [39.74736785888672, -105.22018432617188], [39.74738311767578, -105.22015380859375], [39.74750900268555, -105.21992492675781], [39.74758529663086, -105.21979522705078], [39.74762725830078, -105.21974182128906], [39.7476921081543, -105.21965026855469], [39.747772216796875, -105.2195053100586], [39.747886657714844, -105.21929931640625], [39.747920989990234, -105.21923828125], [39.74795150756836, -105.21917724609375], [39.74809646606445, -105.21891784667969], [39.74813461303711, -105.2188491821289], [39.74825668334961, -105.2186279296875], [39.74848556518555, -105.21822357177734], [39.74851608276367, -105.2181625366211], [39.74856185913086, -105.21808624267578], [39.74905014038086, -105.2171630859375], [39.74909591674805, -105.21708679199219], [39.74912643432617, -105.217041015625], [39.74937438964844, -105.21658325195312], [39.74968338012695, -105.21601104736328], [39.74974822998047, -105.21607208251953], [39.750457763671875, -105.21675109863281], [39.75050735473633, -105.21680450439453], [39.750572204589844, -105.21685791015625], [39.750953674316406, -105.21720886230469], [39.751258850097656, -105.21749114990234], [39.7513313293457, -105.2175521850586], [39.75138854980469, -105.21760559082031], [39.751747131347656, -105.21793365478516], [39.75209426879883, -105.21826171875], [39.75214767456055, -105.21830749511719], [39.75221252441406, -105.21836853027344], [39.75230026245117, -105.21845245361328], [39.752506256103516, -105.21864318847656], [39.752716064453125, -105.21883392333984], [39.75289535522461, -105.21900177001953], [39.752960205078125, -105.21906280517578], [39.75303268432617, -105.21913146972656], [39.75370407104492, -105.21977233886719], [39.75376510620117, -105.21983337402344], [39.75382995605469, -105.21989440917969], [39.754234313964844, -105.22026062011719], [39.7545280456543, -105.22054290771484], [39.75458526611328, -105.2206039428711], [39.754661560058594, -105.22067260742188], [39.755332946777344, -105.22127532958984], [39.75540542602539, -105.22134399414062], [39.755489349365234, -105.22142028808594], [39.75614929199219, -105.22203826904297], [39.7562255859375, -105.22211456298828], [39.75630187988281, -105.22218322753906], [39.75661849975586, -105.22248077392578], [39.756629943847656, -105.22249603271484], [39.7569465637207, -105.22279357910156], [39.757057189941406, -105.22289276123047], [39.75748062133789, -105.2232666015625], [39.7575569152832, -105.22334289550781], [39.75762176513672, -105.22340393066406], [39.75785827636719, -105.22361755371094], [39.75796890258789, -105.22372436523438], [39.75800323486328, -105.2237548828125], [39.75830078125, -105.22405242919922], [39.758358001708984, -105.22410583496094], [39.758724212646484, -105.22444152832031], [39.75880432128906, -105.22451782226562], [39.759159088134766, -105.224853515625], [39.7595100402832, -105.22517395019531], [39.75968933105469, -105.225341796875], [39.7597541809082, -105.22540283203125], [39.75988006591797, -105.22551727294922], [39.75989532470703, -105.22553253173828], [39.75996398925781, -105.22560119628906], [39.76001739501953, -105.22564697265625], [39.76040267944336, -105.22599029541016], [39.76050567626953, -105.22608947753906], [39.76059341430664, -105.2261734008789], [39.76066589355469, -105.22624206542969], [39.76079559326172, -105.22636413574219], [39.7608757019043, -105.2264404296875], [39.76158142089844, -105.22710418701172], [39.761627197265625, -105.2271499633789], [39.761680603027344, -105.22720336914062], [39.762203216552734, -105.22769165039062], [39.7623405456543, -105.22782897949219], [39.763038635253906, -105.22845458984375], [39.763282775878906, -105.22866821289062], [39.763736724853516, -105.22906494140625], [39.764015197753906, -105.22930908203125], [39.764095306396484, -105.22937774658203], [39.76417541503906, -105.22946166992188], [39.76435852050781, -105.22965240478516], [39.7645378112793, -105.22986602783203], [39.76482391357422, -105.23019409179688], [39.76520538330078, -105.23070526123047], [39.765472412109375, -105.2310791015625], [39.765480041503906, -105.23109436035156], [39.76552963256836, -105.23117065429688], [39.76557922363281, -105.23123168945312], [39.76559066772461, -105.23124694824219], [39.76577377319336, -105.23150634765625], [39.76589584350586, -105.23167419433594], [39.765995025634766, -105.23180389404297], [39.7661018371582, -105.23192596435547], [39.7662467956543, -105.23206329345703], [39.76645278930664, -105.23226165771484], [39.76714324951172, -105.23292541503906], [39.767356872558594, -105.23312377929688], [39.76744079589844, -105.23320770263672], [39.76751708984375, -105.23328399658203], [39.767574310302734, -105.23335266113281], [39.76762771606445, -105.2334213256836], [39.767696380615234, -105.23353576660156], [39.767730712890625, -105.23360443115234], [39.76776123046875, -105.2336654663086], [39.767791748046875, -105.2337417602539], [39.767818450927734, -105.23381042480469], [39.76785659790039, -105.23394012451172], [39.76787185668945, -105.2340316772461], [39.76789093017578, -105.23412322998047], [39.76790237426758, -105.2342300415039], [39.76791000366211, -105.23433685302734], [39.767906188964844, -105.23440551757812], [39.76790237426758, -105.2344970703125], [39.767887115478516, -105.23466491699219], [39.76786422729492, -105.23477935791016], [39.76783752441406, -105.2348861694336], [39.767799377441406, -105.23503112792969], [39.76775360107422, -105.2352066040039], [39.7677116394043, -105.23534393310547]],\n",
       "                {&quot;bubblingMouseEvents&quot;: true, &quot;color&quot;: &quot;blue&quot;, &quot;dashArray&quot;: null, &quot;dashOffset&quot;: null, &quot;fill&quot;: false, &quot;fillColor&quot;: &quot;blue&quot;, &quot;fillOpacity&quot;: 0.2, &quot;fillRule&quot;: &quot;evenodd&quot;, &quot;lineCap&quot;: &quot;round&quot;, &quot;lineJoin&quot;: &quot;round&quot;, &quot;noClip&quot;: false, &quot;opacity&quot;: 0.8, &quot;smoothFactor&quot;: 1.0, &quot;stroke&quot;: true, &quot;weight&quot;: 10}\n",
       "            ).addTo(map_0acdbf3d52f2feea8da8d9c090017b46);\n",
       "        \n",
       "    \n",
       "            poly_line_56444389304f678040510dd57ea563ed.bindTooltip(\n",
       "                `&lt;div&gt;\n",
       "                     Shortest Time\n",
       "                 &lt;/div&gt;`,\n",
       "                {&quot;sticky&quot;: true}\n",
       "            );\n",
       "        \n",
       "    \n",
       "            var marker_761a978a80e6a0a4058d8df9b8526637 = L.marker(\n",
       "                [39.7273063659668, -105.19941711425781],\n",
       "                {}\n",
       "            ).addTo(map_0acdbf3d52f2feea8da8d9c090017b46);\n",
       "        \n",
       "    \n",
       "            var icon_f176f41455eaad741c8ad25a04c70d28 = L.AwesomeMarkers.icon(\n",
       "                {&quot;extraClasses&quot;: &quot;fa-rotate-0&quot;, &quot;icon&quot;: &quot;circle&quot;, &quot;iconColor&quot;: &quot;white&quot;, &quot;markerColor&quot;: &quot;green&quot;, &quot;prefix&quot;: &quot;fa&quot;}\n",
       "            );\n",
       "            marker_761a978a80e6a0a4058d8df9b8526637.setIcon(icon_f176f41455eaad741c8ad25a04c70d28);\n",
       "        \n",
       "    \n",
       "            marker_761a978a80e6a0a4058d8df9b8526637.bindTooltip(\n",
       "                `&lt;div&gt;\n",
       "                     Origin\n",
       "                 &lt;/div&gt;`,\n",
       "                {&quot;sticky&quot;: true}\n",
       "            );\n",
       "        \n",
       "    \n",
       "            var marker_af43c65a243bca6780f4af8ab5f9fa4e = L.marker(\n",
       "                [39.7677116394043, -105.23534393310547],\n",
       "                {}\n",
       "            ).addTo(map_0acdbf3d52f2feea8da8d9c090017b46);\n",
       "        \n",
       "    \n",
       "            var icon_0bf1f6f14bc80a4a36b29f2ba0414a1e = L.AwesomeMarkers.icon(\n",
       "                {&quot;extraClasses&quot;: &quot;fa-rotate-0&quot;, &quot;icon&quot;: &quot;circle&quot;, &quot;iconColor&quot;: &quot;white&quot;, &quot;markerColor&quot;: &quot;red&quot;, &quot;prefix&quot;: &quot;fa&quot;}\n",
       "            );\n",
       "            marker_af43c65a243bca6780f4af8ab5f9fa4e.setIcon(icon_0bf1f6f14bc80a4a36b29f2ba0414a1e);\n",
       "        \n",
       "    \n",
       "            marker_af43c65a243bca6780f4af8ab5f9fa4e.bindTooltip(\n",
       "                `&lt;div&gt;\n",
       "                     Destination\n",
       "                 &lt;/div&gt;`,\n",
       "                {&quot;sticky&quot;: true}\n",
       "            );\n",
       "        \n",
       "    \n",
       "            var poly_line_0a0966e9cedae2f14fbf5d357f2c0320 = L.polyline(\n",
       "                [[39.7273063659668, -105.19941711425781], [39.727298736572266, -105.19945526123047], [39.7272834777832, -105.1994857788086], [39.72726058959961, -105.19952392578125], [39.72722625732422, -105.19954681396484], [39.72719192504883, -105.19955444335938], [39.727169036865234, -105.19955444335938], [39.72714614868164, -105.19955444335938], [39.727115631103516, -105.19953918457031], [39.72708511352539, -105.19950866699219], [39.72706604003906, -105.19947052001953], [39.72705078125, -105.19943237304688], [39.727046966552734, -105.19937896728516], [39.72705078125, -105.19935607910156], [39.72705841064453, -105.19932556152344], [39.727073669433594, -105.19929504394531], [39.72709655761719, -105.19925689697266], [39.72713088989258, -105.19923400878906], [39.72716522216797, -105.19921875], [39.7271842956543, -105.19922637939453], [39.727210998535156, -105.19922637939453], [39.72734832763672, -105.19916534423828], [39.7274169921875, -105.19915008544922], [39.72753143310547, -105.19908905029297], [39.727684020996094, -105.19905853271484], [39.727745056152344, -105.19905090332031], [39.727970123291016, -105.19902038574219], [39.72815704345703, -105.19903564453125], [39.72843933105469, -105.19908905029297], [39.72866439819336, -105.19918060302734], [39.72882080078125, -105.19927978515625], [39.728919982910156, -105.19938659667969], [39.72903060913086, -105.19955444335938], [39.72904968261719, -105.1995849609375], [39.729217529296875, -105.19981384277344], [39.72930908203125, -105.19989776611328], [39.729408264160156, -105.19995880126953], [39.72954559326172, -105.20001220703125], [39.72962951660156, -105.2000732421875], [39.72964859008789, -105.19967651367188], [39.72967529296875, -105.19873046875], [39.72969055175781, -105.19867706298828], [39.7297248840332, -105.1985855102539], [39.72972869873047, -105.19841766357422], [39.72997283935547, -105.19841766357422], [39.7302131652832, -105.19842529296875], [39.730323791503906, -105.19842529296875], [39.73044204711914, -105.19844055175781], [39.73056411743164, -105.19847106933594], [39.730716705322266, -105.19851684570312], [39.73085021972656, -105.19856262207031], [39.73099136352539, -105.1986312866211], [39.73112869262695, -105.19871520996094], [39.73122787475586, -105.19879150390625], [39.73133087158203, -105.1988754272461], [39.73143005371094, -105.19895935058594], [39.73152542114258, -105.19905853271484], [39.73160934448242, -105.19915008544922], [39.73170852661133, -105.19926452636719], [39.73185729980469, -105.19944763183594], [39.73195266723633, -105.19956970214844], [39.73204040527344, -105.19966888427734], [39.73213577270508, -105.19976043701172], [39.732261657714844, -105.1998519897461], [39.73236846923828, -105.19991302490234], [39.73247146606445, -105.19996643066406], [39.73258972167969, -105.20000457763672], [39.732688903808594, -105.20002746582031], [39.7327995300293, -105.20006561279297], [39.73294448852539, -105.20010375976562], [39.733062744140625, -105.20013427734375], [39.733184814453125, -105.20018768310547], [39.73329162597656, -105.20025634765625], [39.73343276977539, -105.20036315917969], [39.733524322509766, -105.20045471191406], [39.733551025390625, -105.20048522949219], [39.733612060546875, -105.20055389404297], [39.73368835449219, -105.20065307617188], [39.733768463134766, -105.20075225830078], [39.73384094238281, -105.20085144042969], [39.73393630981445, -105.20094299316406], [39.73403549194336, -105.20101165771484], [39.734073638916016, -105.20104217529297], [39.73411178588867, -105.20106506347656], [39.734153747558594, -105.20108795166016], [39.73421096801758, -105.20111846923828], [39.734317779541016, -105.201171875], [39.734405517578125, -105.20120239257812], [39.73456954956055, -105.20124053955078], [39.734771728515625, -105.20127868652344], [39.73513412475586, -105.20133209228516], [39.73522186279297, -105.20134735107422], [39.73532485961914, -105.20135498046875], [39.735443115234375, -105.20134735107422], [39.73554992675781, -105.20132446289062], [39.73570251464844, -105.20128631591797], [39.73583984375, -105.20125579833984], [39.736244201660156, -105.20116424560547], [39.736717224121094, -105.20106506347656], [39.736785888671875, -105.20105743408203], [39.736854553222656, -105.20104217529297], [39.73696517944336, -105.20103454589844], [39.73707580566406, -105.20104217529297], [39.73719024658203, -105.20106506347656], [39.7373161315918, -105.20109558105469], [39.73771286010742, -105.20123291015625], [39.73795700073242, -105.20130157470703], [39.73844528198242, -105.2014389038086], [39.738685607910156, -105.2015151977539], [39.73957061767578, -105.20178985595703], [39.739715576171875, -105.20183563232422], [39.73982620239258, -105.20186614990234], [39.73993682861328, -105.2018814086914], [39.74006271362305, -105.20189666748047], [39.74018478393555, -105.20189666748047], [39.74031448364258, -105.2018814086914], [39.74042892456055, -105.20186614990234], [39.74055099487305, -105.20183563232422], [39.740665435791016, -105.2018051147461], [39.740760803222656, -105.20177459716797], [39.74087142944336, -105.20172119140625], [39.74099349975586, -105.20165252685547], [39.741127014160156, -105.2015609741211], [39.74126052856445, -105.20144653320312], [39.741371154785156, -105.20134735107422], [39.74147415161133, -105.20123291015625], [39.741607666015625, -105.2010726928711], [39.74169158935547, -105.20096588134766], [39.741790771484375, -105.20083618164062], [39.741798400878906, -105.2008285522461], [39.74189758300781, -105.20068359375], [39.741886138916016, -105.20062255859375], [39.74188995361328, -105.2005615234375], [39.74190902709961, -105.20050048828125], [39.741939544677734, -105.200439453125], [39.741981506347656, -105.20040130615234], [39.74203109741211, -105.20037078857422], [39.74208450317383, -105.20036315917969], [39.74214172363281, -105.20037841796875], [39.7421875, -105.2004165649414], [39.742225646972656, -105.2004623413086], [39.742252349853516, -105.20052337646484], [39.74226379394531, -105.20059204101562], [39.74225997924805, -105.2006607055664], [39.74224090576172, -105.20072174072266], [39.742271423339844, -105.20082092285156], [39.7423210144043, -105.20089721679688], [39.74280548095703, -105.20165252685547], [39.74290466308594, -105.20181274414062], [39.74291229248047, -105.20182800292969], [39.74314880371094, -105.20220184326172], [39.743438720703125, -105.20264434814453], [39.74357986450195, -105.20286560058594], [39.743770599365234, -105.20318603515625], [39.74412536621094, -105.20372009277344], [39.74445343017578, -105.20423126220703], [39.744537353515625, -105.2043685913086], [39.744808197021484, -105.2048110961914], [39.74503707885742, -105.2052001953125], [39.74516296386719, -105.20543670654297], [39.745262145996094, -105.20564270019531], [39.745357513427734, -105.20587158203125], [39.74544143676758, -105.20606994628906], [39.74546813964844, -105.20613861083984], [39.74555969238281, -105.20635223388672], [39.74563980102539, -105.20661926269531], [39.74573516845703, -105.20690155029297], [39.745811462402344, -105.20716094970703], [39.74584197998047, -105.20729064941406], [39.745906829833984, -105.20751953125], [39.74595642089844, -105.20774841308594], [39.746009826660156, -105.2080078125], [39.74603271484375, -105.20811462402344], [39.74605178833008, -105.20826721191406], [39.7460823059082, -105.20848083496094], [39.74610900878906, -105.20861053466797], [39.746116638183594, -105.20870971679688], [39.74611282348633, -105.20880126953125], [39.74610900878906, -105.20891571044922], [39.746116638183594, -105.20899200439453], [39.74613952636719, -105.20906829833984], [39.746158599853516, -105.20911407470703], [39.74625015258789, -105.20921325683594], [39.746280670166016, -105.20923614501953], [39.74629592895508, -105.20925903320312], [39.74632263183594, -105.20928955078125], [39.74634552001953, -105.2093505859375], [39.746360778808594, -105.20942687988281], [39.74639129638672, -105.20957946777344], [39.746437072753906, -105.209716796875], [39.74650192260742, -105.20983123779297], [39.746707916259766, -105.21003723144531], [39.74678039550781, -105.2101058959961], [39.747337341308594, -105.21060180664062], [39.74745559692383, -105.21070861816406], [39.747562408447266, -105.21080780029297], [39.747596740722656, -105.2108383178711], [39.74765396118164, -105.21089172363281], [39.74814987182617, -105.21135711669922], [39.74833679199219, -105.21153259277344], [39.74837112426758, -105.21156311035156], [39.748416900634766, -105.21160888671875], [39.748470306396484, -105.21165466308594], [39.748722076416016, -105.21189880371094], [39.749237060546875, -105.21237182617188], [39.74928283691406, -105.21240997314453], [39.75000762939453, -105.21307373046875], [39.75004577636719, -105.2131118774414], [39.75038146972656, -105.21342468261719], [39.75046157836914, -105.2135009765625], [39.75082015991211, -105.21383666992188], [39.750877380371094, -105.2138900756836], [39.75093460083008, -105.21394348144531], [39.7511100769043, -105.214111328125], [39.75162887573242, -105.21460723876953], [39.751670837402344, -105.21464538574219], [39.751739501953125, -105.21470642089844], [39.75248336791992, -105.21539306640625], [39.75250244140625, -105.21541595458984], [39.75325012207031, -105.21611022949219], [39.75330352783203, -105.21615600585938], [39.75407028198242, -105.21686553955078], [39.75413131713867, -105.2169189453125], [39.754478454589844, -105.21724700927734], [39.75456237792969, -105.21731567382812], [39.754966735839844, -105.2176742553711], [39.755069732666016, -105.21782684326172], [39.755313873291016, -105.218017578125], [39.75534439086914, -105.21804809570312], [39.75570297241211, -105.21839141845703], [39.755775451660156, -105.21846008300781], [39.75583267211914, -105.21852111816406], [39.75590133666992, -105.21858215332031], [39.756038665771484, -105.21870422363281], [39.75616455078125, -105.21882629394531], [39.75627899169922, -105.21892547607422], [39.75651550292969, -105.21914672851562], [39.7565803527832, -105.21920776367188], [39.756526947021484, -105.21929931640625], [39.756473541259766, -105.21939849853516], [39.756324768066406, -105.21967315673828], [39.75604248046875, -105.2201919555664], [39.756011962890625, -105.22024536132812], [39.75606918334961, -105.22032165527344], [39.756256103515625, -105.22053527832031], [39.756282806396484, -105.2205581665039], [39.756404876708984, -105.2206802368164], [39.75654602050781, -105.2208023071289], [39.75674057006836, -105.220947265625], [39.75669860839844, -105.22109985351562], [39.75663757324219, -105.2213134765625], [39.75657272338867, -105.22146606445312], [39.75651931762695, -105.22156524658203], [39.7564582824707, -105.2216796875], [39.756290435791016, -105.22199249267578], [39.7562255859375, -105.22211456298828], [39.75630187988281, -105.22218322753906], [39.75661849975586, -105.22248077392578], [39.756629943847656, -105.22249603271484], [39.7569465637207, -105.22279357910156], [39.757057189941406, -105.22289276123047], [39.75748062133789, -105.2232666015625], [39.7575569152832, -105.22334289550781], [39.75762176513672, -105.22340393066406], [39.75785827636719, -105.22361755371094], [39.75796890258789, -105.22372436523438], [39.75800323486328, -105.2237548828125], [39.75830078125, -105.22405242919922], [39.758358001708984, -105.22410583496094], [39.758724212646484, -105.22444152832031], [39.75880432128906, -105.22451782226562], [39.759159088134766, -105.224853515625], [39.7595100402832, -105.22517395019531], [39.75968933105469, -105.225341796875], [39.7597541809082, -105.22540283203125], [39.75988006591797, -105.22551727294922], [39.75989532470703, -105.22553253173828], [39.75996398925781, -105.22560119628906], [39.76001739501953, -105.22564697265625], [39.76040267944336, -105.22599029541016], [39.76050567626953, -105.22608947753906], [39.76059341430664, -105.2261734008789], [39.76066589355469, -105.22624206542969], [39.76079559326172, -105.22636413574219], [39.7608757019043, -105.2264404296875], [39.76158142089844, -105.22710418701172], [39.761627197265625, -105.2271499633789], [39.761680603027344, -105.22720336914062], [39.762203216552734, -105.22769165039062], [39.7623405456543, -105.22782897949219], [39.763038635253906, -105.22845458984375], [39.763282775878906, -105.22866821289062], [39.763736724853516, -105.22906494140625], [39.764015197753906, -105.22930908203125], [39.764095306396484, -105.22937774658203], [39.76417541503906, -105.22946166992188], [39.76435852050781, -105.22965240478516], [39.7645378112793, -105.22986602783203], [39.76482391357422, -105.23019409179688], [39.76520538330078, -105.23070526123047], [39.765472412109375, -105.2310791015625], [39.765480041503906, -105.23109436035156], [39.76552963256836, -105.23117065429688], [39.76557922363281, -105.23123168945312], [39.76559066772461, -105.23124694824219], [39.76577377319336, -105.23150634765625], [39.76589584350586, -105.23167419433594], [39.765995025634766, -105.23180389404297], [39.7661018371582, -105.23192596435547], [39.7662467956543, -105.23206329345703], [39.76645278930664, -105.23226165771484], [39.76714324951172, -105.23292541503906], [39.767356872558594, -105.23312377929688], [39.76744079589844, -105.23320770263672], [39.76751708984375, -105.23328399658203], [39.767574310302734, -105.23335266113281], [39.76762771606445, -105.2334213256836], [39.767696380615234, -105.23353576660156], [39.767730712890625, -105.23360443115234], [39.76776123046875, -105.2336654663086], [39.767791748046875, -105.2337417602539], [39.767818450927734, -105.23381042480469], [39.76785659790039, -105.23394012451172], [39.76787185668945, -105.2340316772461], [39.76789093017578, -105.23412322998047], [39.76790237426758, -105.2342300415039], [39.76791000366211, -105.23433685302734], [39.767906188964844, -105.23440551757812], [39.76790237426758, -105.2344970703125], [39.767887115478516, -105.23466491699219], [39.76786422729492, -105.23477935791016], [39.76783752441406, -105.2348861694336], [39.767799377441406, -105.23503112792969], [39.76775360107422, -105.2352066040039], [39.7677116394043, -105.23534393310547]],\n",
       "                {&quot;bubblingMouseEvents&quot;: true, &quot;color&quot;: &quot;green&quot;, &quot;dashArray&quot;: null, &quot;dashOffset&quot;: null, &quot;fill&quot;: false, &quot;fillColor&quot;: &quot;green&quot;, &quot;fillOpacity&quot;: 0.2, &quot;fillRule&quot;: &quot;evenodd&quot;, &quot;lineCap&quot;: &quot;round&quot;, &quot;lineJoin&quot;: &quot;round&quot;, &quot;noClip&quot;: false, &quot;opacity&quot;: 0.8, &quot;smoothFactor&quot;: 1.0, &quot;stroke&quot;: true, &quot;weight&quot;: 10}\n",
       "            ).addTo(map_0acdbf3d52f2feea8da8d9c090017b46);\n",
       "        \n",
       "    \n",
       "            poly_line_0a0966e9cedae2f14fbf5d357f2c0320.bindTooltip(\n",
       "                `&lt;div&gt;\n",
       "                     Least Energy\n",
       "                 &lt;/div&gt;`,\n",
       "                {&quot;sticky&quot;: true}\n",
       "            );\n",
       "        \n",
       "    \n",
       "            var marker_c708bcd59a46c1985221e961040c7ba8 = L.marker(\n",
       "                [39.7273063659668, -105.19941711425781],\n",
       "                {}\n",
       "            ).addTo(map_0acdbf3d52f2feea8da8d9c090017b46);\n",
       "        \n",
       "    \n",
       "            var icon_338e7868b6567853b17bec5f5884e0ff = L.AwesomeMarkers.icon(\n",
       "                {&quot;extraClasses&quot;: &quot;fa-rotate-0&quot;, &quot;icon&quot;: &quot;circle&quot;, &quot;iconColor&quot;: &quot;white&quot;, &quot;markerColor&quot;: &quot;green&quot;, &quot;prefix&quot;: &quot;fa&quot;}\n",
       "            );\n",
       "            marker_c708bcd59a46c1985221e961040c7ba8.setIcon(icon_338e7868b6567853b17bec5f5884e0ff);\n",
       "        \n",
       "    \n",
       "            marker_c708bcd59a46c1985221e961040c7ba8.bindTooltip(\n",
       "                `&lt;div&gt;\n",
       "                     Origin\n",
       "                 &lt;/div&gt;`,\n",
       "                {&quot;sticky&quot;: true}\n",
       "            );\n",
       "        \n",
       "    \n",
       "            var marker_6d59165a65aa53a7542686258e710b49 = L.marker(\n",
       "                [39.7677116394043, -105.23534393310547],\n",
       "                {}\n",
       "            ).addTo(map_0acdbf3d52f2feea8da8d9c090017b46);\n",
       "        \n",
       "    \n",
       "            var icon_acf98e8275156aa649655581c3f5e077 = L.AwesomeMarkers.icon(\n",
       "                {&quot;extraClasses&quot;: &quot;fa-rotate-0&quot;, &quot;icon&quot;: &quot;circle&quot;, &quot;iconColor&quot;: &quot;white&quot;, &quot;markerColor&quot;: &quot;red&quot;, &quot;prefix&quot;: &quot;fa&quot;}\n",
       "            );\n",
       "            marker_6d59165a65aa53a7542686258e710b49.setIcon(icon_acf98e8275156aa649655581c3f5e077);\n",
       "        \n",
       "    \n",
       "            marker_6d59165a65aa53a7542686258e710b49.bindTooltip(\n",
       "                `&lt;div&gt;\n",
       "                     Destination\n",
       "                 &lt;/div&gt;`,\n",
       "                {&quot;sticky&quot;: true}\n",
       "            );\n",
       "        \n",
       "&lt;/script&gt;\n",
       "&lt;/html&gt;\" style=\"position:absolute;width:100%;height:100%;left:0;top:0;border:none !important;\" allowfullscreen webkitallowfullscreen mozallowfullscreen></iframe></div></div>"
      ],
      "text/plain": [
       "<folium.folium.Map at 0x1b299f970>"
      ]
     },
     "execution_count": 73,
     "metadata": {},
     "output_type": "execute_result"
    }
   ],
   "source": [
    "m = plot_route_folium(shortest_time_result, line_kwargs={\"color\": \"blue\", \"tooltip\": \"Shortest Time\"})\n",
    "m = plot_route_folium(least_energy_result, line_kwargs={\"color\": \"green\", \"tooltip\": \"Least Energy\"}, folium_map=m)\n",
    "m"
   ]
  },
  {
   "cell_type": "markdown",
   "id": "a457fb10-abef-4af7-9619-3decdc6075e3",
   "metadata": {},
   "source": [
    "We can also use the plot_routes_folium function and pass in multiple results. The function will color the routes based on the `value_fn` which takes a single result as an argument. For example, we can tell it to color the routes based on the total energy usage. "
   ]
  },
  {
   "cell_type": "code",
   "execution_count": 75,
   "id": "aa1e6b11",
   "metadata": {},
   "outputs": [
    {
     "data": {
      "text/html": [
       "<div style=\"width:100%;\"><div style=\"position:relative;width:100%;height:0;padding-bottom:60%;\"><span style=\"color:#565656\">Make this Notebook Trusted to load map: File -> Trust Notebook</span><iframe srcdoc=\"&lt;!DOCTYPE html&gt;\n",
       "&lt;html&gt;\n",
       "&lt;head&gt;\n",
       "    \n",
       "    &lt;meta http-equiv=&quot;content-type&quot; content=&quot;text/html; charset=UTF-8&quot; /&gt;\n",
       "    \n",
       "        &lt;script&gt;\n",
       "            L_NO_TOUCH = false;\n",
       "            L_DISABLE_3D = false;\n",
       "        &lt;/script&gt;\n",
       "    \n",
       "    &lt;style&gt;html, body {width: 100%;height: 100%;margin: 0;padding: 0;}&lt;/style&gt;\n",
       "    &lt;style&gt;#map {position:absolute;top:0;bottom:0;right:0;left:0;}&lt;/style&gt;\n",
       "    &lt;script src=&quot;https://cdn.jsdelivr.net/npm/leaflet@1.9.3/dist/leaflet.js&quot;&gt;&lt;/script&gt;\n",
       "    &lt;script src=&quot;https://code.jquery.com/jquery-1.12.4.min.js&quot;&gt;&lt;/script&gt;\n",
       "    &lt;script src=&quot;https://cdn.jsdelivr.net/npm/bootstrap@5.2.2/dist/js/bootstrap.bundle.min.js&quot;&gt;&lt;/script&gt;\n",
       "    &lt;script src=&quot;https://cdnjs.cloudflare.com/ajax/libs/Leaflet.awesome-markers/2.0.2/leaflet.awesome-markers.js&quot;&gt;&lt;/script&gt;\n",
       "    &lt;link rel=&quot;stylesheet&quot; href=&quot;https://cdn.jsdelivr.net/npm/leaflet@1.9.3/dist/leaflet.css&quot;/&gt;\n",
       "    &lt;link rel=&quot;stylesheet&quot; href=&quot;https://cdn.jsdelivr.net/npm/bootstrap@5.2.2/dist/css/bootstrap.min.css&quot;/&gt;\n",
       "    &lt;link rel=&quot;stylesheet&quot; href=&quot;https://netdna.bootstrapcdn.com/bootstrap/3.0.0/css/bootstrap.min.css&quot;/&gt;\n",
       "    &lt;link rel=&quot;stylesheet&quot; href=&quot;https://cdn.jsdelivr.net/npm/@fortawesome/fontawesome-free@6.2.0/css/all.min.css&quot;/&gt;\n",
       "    &lt;link rel=&quot;stylesheet&quot; href=&quot;https://cdnjs.cloudflare.com/ajax/libs/Leaflet.awesome-markers/2.0.2/leaflet.awesome-markers.css&quot;/&gt;\n",
       "    &lt;link rel=&quot;stylesheet&quot; href=&quot;https://cdn.jsdelivr.net/gh/python-visualization/folium/folium/templates/leaflet.awesome.rotate.min.css&quot;/&gt;\n",
       "    \n",
       "            &lt;meta name=&quot;viewport&quot; content=&quot;width=device-width,\n",
       "                initial-scale=1.0, maximum-scale=1.0, user-scalable=no&quot; /&gt;\n",
       "            &lt;style&gt;\n",
       "                #map_75c2c9742d22aa678c2dac182a4fdbb3 {\n",
       "                    position: relative;\n",
       "                    width: 100.0%;\n",
       "                    height: 100.0%;\n",
       "                    left: 0.0%;\n",
       "                    top: 0.0%;\n",
       "                }\n",
       "                .leaflet-container { font-size: 1rem; }\n",
       "            &lt;/style&gt;\n",
       "        \n",
       "&lt;/head&gt;\n",
       "&lt;body&gt;\n",
       "    \n",
       "    \n",
       "            &lt;div class=&quot;folium-map&quot; id=&quot;map_75c2c9742d22aa678c2dac182a4fdbb3&quot; &gt;&lt;/div&gt;\n",
       "        \n",
       "&lt;/body&gt;\n",
       "&lt;script&gt;\n",
       "    \n",
       "    \n",
       "            var map_75c2c9742d22aa678c2dac182a4fdbb3 = L.map(\n",
       "                &quot;map_75c2c9742d22aa678c2dac182a4fdbb3&quot;,\n",
       "                {\n",
       "                    center: [39.746578216552734, -105.22162628173828],\n",
       "                    crs: L.CRS.EPSG3857,\n",
       "                    zoom: 12,\n",
       "                    zoomControl: true,\n",
       "                    preferCanvas: false,\n",
       "                }\n",
       "            );\n",
       "\n",
       "            \n",
       "\n",
       "        \n",
       "    \n",
       "            var tile_layer_7b2b41d3713e54dcf5de0592e570d8a4 = L.tileLayer(\n",
       "                &quot;https://{s}.tile.openstreetmap.org/{z}/{x}/{y}.png&quot;,\n",
       "                {&quot;attribution&quot;: &quot;Data by \\u0026copy; \\u003ca target=\\&quot;_blank\\&quot; href=\\&quot;http://openstreetmap.org\\&quot;\\u003eOpenStreetMap\\u003c/a\\u003e, under \\u003ca target=\\&quot;_blank\\&quot; href=\\&quot;http://www.openstreetmap.org/copyright\\&quot;\\u003eODbL\\u003c/a\\u003e.&quot;, &quot;detectRetina&quot;: false, &quot;maxNativeZoom&quot;: 18, &quot;maxZoom&quot;: 18, &quot;minZoom&quot;: 0, &quot;noWrap&quot;: false, &quot;opacity&quot;: 1, &quot;subdomains&quot;: &quot;abc&quot;, &quot;tms&quot;: false}\n",
       "            ).addTo(map_75c2c9742d22aa678c2dac182a4fdbb3);\n",
       "        \n",
       "    \n",
       "            var poly_line_c29dfba3ce607b0930502e207d845303 = L.polyline(\n",
       "                [[39.7273063659668, -105.19941711425781], [39.727298736572266, -105.19945526123047], [39.7272834777832, -105.1994857788086], [39.72726058959961, -105.19952392578125], [39.72722625732422, -105.19954681396484], [39.72719192504883, -105.19955444335938], [39.727169036865234, -105.19955444335938], [39.72714614868164, -105.19955444335938], [39.727115631103516, -105.19953918457031], [39.72708511352539, -105.19950866699219], [39.72706604003906, -105.19947052001953], [39.72705078125, -105.19943237304688], [39.727046966552734, -105.19937896728516], [39.72705078125, -105.19935607910156], [39.72705841064453, -105.19932556152344], [39.727073669433594, -105.19929504394531], [39.72709655761719, -105.19925689697266], [39.72713088989258, -105.19923400878906], [39.72716522216797, -105.19921875], [39.7271842956543, -105.19922637939453], [39.727210998535156, -105.19922637939453], [39.72734832763672, -105.19916534423828], [39.7274169921875, -105.19915008544922], [39.72753143310547, -105.19908905029297], [39.727684020996094, -105.19905853271484], [39.727745056152344, -105.19905090332031], [39.727970123291016, -105.19902038574219], [39.72815704345703, -105.19903564453125], [39.72843933105469, -105.19908905029297], [39.72866439819336, -105.19918060302734], [39.72882080078125, -105.19927978515625], [39.728919982910156, -105.19938659667969], [39.72903060913086, -105.19955444335938], [39.72904968261719, -105.1995849609375], [39.729217529296875, -105.19981384277344], [39.72930908203125, -105.19989776611328], [39.729408264160156, -105.19995880126953], [39.72954559326172, -105.20001220703125], [39.72962951660156, -105.2000732421875], [39.72972869873047, -105.2000732421875], [39.729713439941406, -105.2007064819336], [39.72972106933594, -105.20130920410156], [39.72981643676758, -105.20320129394531], [39.72982406616211, -105.20337677001953], [39.72986602783203, -105.20356750488281], [39.729881286621094, -105.20365142822266], [39.72992706298828, -105.203857421875], [39.730106353759766, -105.20426177978516], [39.730491638183594, -105.20480346679688], [39.730873107910156, -105.20531463623047], [39.7310676574707, -105.20559692382812], [39.73119354248047, -105.20582580566406], [39.73120880126953, -105.20585632324219], [39.73130798339844, -105.20611572265625], [39.731346130371094, -105.20624542236328], [39.73138427734375, -105.2064208984375], [39.731422424316406, -105.20673370361328], [39.73143005371094, -105.2070541381836], [39.731422424316406, -105.20722198486328], [39.731407165527344, -105.20740509033203], [39.731361389160156, -105.20777130126953], [39.731327056884766, -105.2079086303711], [39.73128128051758, -105.20806121826172], [39.73122787475586, -105.20820617675781], [39.731170654296875, -105.20834350585938], [39.73109817504883, -105.20848083496094], [39.73100662231445, -105.2086181640625], [39.73092269897461, -105.20872497558594], [39.73081970214844, -105.20883178710938], [39.730621337890625, -105.208984375], [39.7304801940918, -105.20907592773438], [39.730369567871094, -105.20919799804688], [39.73033142089844, -105.20925903320312], [39.73031234741211, -105.20932006835938], [39.73030090332031, -105.20938873291016], [39.73029327392578, -105.20951080322266], [39.73031234741211, -105.20967864990234], [39.73044204711914, -105.20993041992188], [39.730499267578125, -105.21003723144531], [39.730587005615234, -105.2101821899414], [39.73073959350586, -105.21044921875], [39.73092269897461, -105.21072387695312], [39.73109436035156, -105.2109603881836], [39.731239318847656, -105.21114349365234], [39.73141098022461, -105.21134948730469], [39.7315788269043, -105.21153259277344], [39.731754302978516, -105.21170806884766], [39.73197937011719, -105.21190643310547], [39.73236083984375, -105.21224212646484], [39.73291778564453, -105.21271514892578], [39.733455657958984, -105.21318817138672], [39.7338981628418, -105.21356964111328], [39.734275817871094, -105.21389770507812], [39.73471450805664, -105.21427917480469], [39.73546600341797, -105.21492767333984], [39.73563003540039, -105.21507263183594], [39.73588562011719, -105.21529388427734], [39.73638916015625, -105.21572875976562], [39.73691177368164, -105.2161865234375], [39.73772430419922, -105.21688079833984], [39.73908996582031, -105.21807098388672], [39.73978805541992, -105.21867370605469], [39.74030303955078, -105.21910858154297], [39.74056625366211, -105.21932983398438], [39.74067687988281, -105.21942138671875], [39.741580963134766, -105.22021484375], [39.74164962768555, -105.22027587890625], [39.741703033447266, -105.2203140258789], [39.742149353027344, -105.22069549560547], [39.74258041381836, -105.22106170654297], [39.74326705932617, -105.22154235839844], [39.74357986450195, -105.22176361083984], [39.74367141723633, -105.22183227539062], [39.743736267089844, -105.22187805175781], [39.74388122558594, -105.22197723388672], [39.743953704833984, -105.2220230102539], [39.7440071105957, -105.22206115722656], [39.744083404541016, -105.22209930419922], [39.744136810302734, -105.22212982177734], [39.74418258666992, -105.22215270996094], [39.74427795410156, -105.22220611572266], [39.74433517456055, -105.22222900390625], [39.744407653808594, -105.22225952148438], [39.74446487426758, -105.2222900390625], [39.7444953918457, -105.22230529785156], [39.74456787109375, -105.22234344482422], [39.744632720947266, -105.22238159179688], [39.74468231201172, -105.222412109375], [39.744720458984375, -105.2224349975586], [39.74476623535156, -105.22246551513672], [39.74481201171875, -105.22249603271484], [39.74485397338867, -105.2225341796875], [39.74488830566406, -105.2225570678711], [39.74493408203125, -105.22259521484375], [39.74497985839844, -105.22264099121094], [39.745155334472656, -105.22279357910156], [39.745479583740234, -105.2230453491211], [39.74550247192383, -105.22306060791016], [39.74551773071289, -105.22306823730469], [39.745540618896484, -105.22308349609375], [39.74555587768555, -105.22309112548828], [39.745574951171875, -105.22309875488281], [39.745601654052734, -105.22310638427734], [39.7456169128418, -105.22310638427734], [39.74563217163086, -105.22310638427734], [39.745662689208984, -105.22310638427734], [39.74568176269531, -105.22309875488281], [39.745697021484375, -105.22309112548828], [39.745723724365234, -105.22308349609375], [39.74573516845703, -105.22307586669922], [39.745758056640625, -105.22305297851562], [39.74576950073242, -105.2230453491211], [39.745784759521484, -105.22303009033203], [39.74580383300781, -105.2229995727539], [39.74589157104492, -105.2228775024414], [39.74600601196289, -105.22266387939453], [39.746158599853516, -105.2223892211914], [39.746360778808594, -105.22201538085938], [39.74644088745117, -105.22187042236328], [39.746482849121094, -105.22179412841797], [39.74652099609375, -105.22173309326172], [39.746551513671875, -105.2216796875], [39.746578216552734, -105.22162628173828], [39.7465934753418, -105.2215805053711], [39.74660110473633, -105.22154998779297], [39.746604919433594, -105.22151184082031], [39.746604919433594, -105.22146606445312], [39.74660110473633, -105.221435546875], [39.74658966064453, -105.22138977050781], [39.74658203125, -105.22135925292969], [39.746578216552734, -105.22132873535156], [39.746578216552734, -105.22130584716797], [39.74658203125, -105.22127532958984], [39.746585845947266, -105.22125244140625], [39.74659729003906, -105.22122955322266], [39.746612548828125, -105.22119903564453], [39.74662780761719, -105.22118377685547], [39.746646881103516, -105.2211685180664], [39.74666976928711, -105.22115325927734], [39.7466926574707, -105.22115325927734], [39.7467155456543, -105.22115325927734], [39.74671936035156, -105.22115325927734], [39.74678039550781, -105.22113037109375], [39.74681091308594, -105.22112274169922], [39.74683380126953, -105.22109985351562], [39.74686813354492, -105.2210693359375], [39.74688720703125, -105.22103881835938], [39.74690628051758, -105.22100067138672], [39.74697494506836, -105.22087097167969], [39.747108459472656, -105.22065734863281], [39.74713897705078, -105.22061157226562], [39.74715805053711, -105.2205810546875], [39.74720764160156, -105.22053527832031], [39.747337341308594, -105.22029876708984], [39.74735641479492, -105.22021484375], [39.74736785888672, -105.22018432617188], [39.74738311767578, -105.22015380859375], [39.74750900268555, -105.21992492675781], [39.74758529663086, -105.21979522705078], [39.74762725830078, -105.21974182128906], [39.7476921081543, -105.21965026855469], [39.747772216796875, -105.2195053100586], [39.747886657714844, -105.21929931640625], [39.747920989990234, -105.21923828125], [39.74795150756836, -105.21917724609375], [39.74809646606445, -105.21891784667969], [39.74813461303711, -105.2188491821289], [39.74825668334961, -105.2186279296875], [39.74848556518555, -105.21822357177734], [39.74851608276367, -105.2181625366211], [39.74856185913086, -105.21808624267578], [39.74905014038086, -105.2171630859375], [39.74909591674805, -105.21708679199219], [39.74912643432617, -105.217041015625], [39.74937438964844, -105.21658325195312], [39.74968338012695, -105.21601104736328], [39.74974822998047, -105.21607208251953], [39.750457763671875, -105.21675109863281], [39.75050735473633, -105.21680450439453], [39.750572204589844, -105.21685791015625], [39.750953674316406, -105.21720886230469], [39.751258850097656, -105.21749114990234], [39.7513313293457, -105.2175521850586], [39.75138854980469, -105.21760559082031], [39.751747131347656, -105.21793365478516], [39.75209426879883, -105.21826171875], [39.75214767456055, -105.21830749511719], [39.75221252441406, -105.21836853027344], [39.75230026245117, -105.21845245361328], [39.752506256103516, -105.21864318847656], [39.752716064453125, -105.21883392333984], [39.75289535522461, -105.21900177001953], [39.752960205078125, -105.21906280517578], [39.75303268432617, -105.21913146972656], [39.75370407104492, -105.21977233886719], [39.75376510620117, -105.21983337402344], [39.75382995605469, -105.21989440917969], [39.754234313964844, -105.22026062011719], [39.7545280456543, -105.22054290771484], [39.75458526611328, -105.2206039428711], [39.754661560058594, -105.22067260742188], [39.755332946777344, -105.22127532958984], [39.75540542602539, -105.22134399414062], [39.755489349365234, -105.22142028808594], [39.75614929199219, -105.22203826904297], [39.7562255859375, -105.22211456298828], [39.75630187988281, -105.22218322753906], [39.75661849975586, -105.22248077392578], [39.756629943847656, -105.22249603271484], [39.7569465637207, -105.22279357910156], [39.757057189941406, -105.22289276123047], [39.75748062133789, -105.2232666015625], [39.7575569152832, -105.22334289550781], [39.75762176513672, -105.22340393066406], [39.75785827636719, -105.22361755371094], [39.75796890258789, -105.22372436523438], [39.75800323486328, -105.2237548828125], [39.75830078125, -105.22405242919922], [39.758358001708984, -105.22410583496094], [39.758724212646484, -105.22444152832031], [39.75880432128906, -105.22451782226562], [39.759159088134766, -105.224853515625], [39.7595100402832, -105.22517395019531], [39.75968933105469, -105.225341796875], [39.7597541809082, -105.22540283203125], [39.75988006591797, -105.22551727294922], [39.75989532470703, -105.22553253173828], [39.75996398925781, -105.22560119628906], [39.76001739501953, -105.22564697265625], [39.76040267944336, -105.22599029541016], [39.76050567626953, -105.22608947753906], [39.76059341430664, -105.2261734008789], [39.76066589355469, -105.22624206542969], [39.76079559326172, -105.22636413574219], [39.7608757019043, -105.2264404296875], [39.76158142089844, -105.22710418701172], [39.761627197265625, -105.2271499633789], [39.761680603027344, -105.22720336914062], [39.762203216552734, -105.22769165039062], [39.7623405456543, -105.22782897949219], [39.763038635253906, -105.22845458984375], [39.763282775878906, -105.22866821289062], [39.763736724853516, -105.22906494140625], [39.764015197753906, -105.22930908203125], [39.764095306396484, -105.22937774658203], [39.76417541503906, -105.22946166992188], [39.76435852050781, -105.22965240478516], [39.7645378112793, -105.22986602783203], [39.76482391357422, -105.23019409179688], [39.76520538330078, -105.23070526123047], [39.765472412109375, -105.2310791015625], [39.765480041503906, -105.23109436035156], [39.76552963256836, -105.23117065429688], [39.76557922363281, -105.23123168945312], [39.76559066772461, -105.23124694824219], [39.76577377319336, -105.23150634765625], [39.76589584350586, -105.23167419433594], [39.765995025634766, -105.23180389404297], [39.7661018371582, -105.23192596435547], [39.7662467956543, -105.23206329345703], [39.76645278930664, -105.23226165771484], [39.76714324951172, -105.23292541503906], [39.767356872558594, -105.23312377929688], [39.76744079589844, -105.23320770263672], [39.76751708984375, -105.23328399658203], [39.767574310302734, -105.23335266113281], [39.76762771606445, -105.2334213256836], [39.767696380615234, -105.23353576660156], [39.767730712890625, -105.23360443115234], [39.76776123046875, -105.2336654663086], [39.767791748046875, -105.2337417602539], [39.767818450927734, -105.23381042480469], [39.76785659790039, -105.23394012451172], [39.76787185668945, -105.2340316772461], [39.76789093017578, -105.23412322998047], [39.76790237426758, -105.2342300415039], [39.76791000366211, -105.23433685302734], [39.767906188964844, -105.23440551757812], [39.76790237426758, -105.2344970703125], [39.767887115478516, -105.23466491699219], [39.76786422729492, -105.23477935791016], [39.76783752441406, -105.2348861694336], [39.767799377441406, -105.23503112792969], [39.76775360107422, -105.2352066040039], [39.7677116394043, -105.23534393310547]],\n",
       "                {&quot;bubblingMouseEvents&quot;: true, &quot;color&quot;: &quot;#eff821&quot;, &quot;dashArray&quot;: null, &quot;dashOffset&quot;: null, &quot;fill&quot;: false, &quot;fillColor&quot;: &quot;#eff821&quot;, &quot;fillOpacity&quot;: 0.2, &quot;fillRule&quot;: &quot;evenodd&quot;, &quot;lineCap&quot;: &quot;round&quot;, &quot;lineJoin&quot;: &quot;round&quot;, &quot;noClip&quot;: false, &quot;opacity&quot;: 0.8, &quot;smoothFactor&quot;: 1.0, &quot;stroke&quot;: true, &quot;weight&quot;: 10}\n",
       "            ).addTo(map_75c2c9742d22aa678c2dac182a4fdbb3);\n",
       "        \n",
       "    \n",
       "            poly_line_c29dfba3ce607b0930502e207d845303.bindTooltip(\n",
       "                `&lt;div&gt;\n",
       "                     1.7531906338670376\n",
       "                 &lt;/div&gt;`,\n",
       "                {&quot;sticky&quot;: true}\n",
       "            );\n",
       "        \n",
       "    \n",
       "            var marker_abae1fa0119b004cea180e155fc27528 = L.marker(\n",
       "                [39.7273063659668, -105.19941711425781],\n",
       "                {}\n",
       "            ).addTo(map_75c2c9742d22aa678c2dac182a4fdbb3);\n",
       "        \n",
       "    \n",
       "            var icon_2dea6fce008c1dd5731c1de2cd9a02fd = L.AwesomeMarkers.icon(\n",
       "                {&quot;extraClasses&quot;: &quot;fa-rotate-0&quot;, &quot;icon&quot;: &quot;circle&quot;, &quot;iconColor&quot;: &quot;white&quot;, &quot;markerColor&quot;: &quot;green&quot;, &quot;prefix&quot;: &quot;fa&quot;}\n",
       "            );\n",
       "            marker_abae1fa0119b004cea180e155fc27528.setIcon(icon_2dea6fce008c1dd5731c1de2cd9a02fd);\n",
       "        \n",
       "    \n",
       "            marker_abae1fa0119b004cea180e155fc27528.bindTooltip(\n",
       "                `&lt;div&gt;\n",
       "                     Origin\n",
       "                 &lt;/div&gt;`,\n",
       "                {&quot;sticky&quot;: true}\n",
       "            );\n",
       "        \n",
       "    \n",
       "            var marker_578b2fd11a16779ab274945dea09cf6b = L.marker(\n",
       "                [39.7677116394043, -105.23534393310547],\n",
       "                {}\n",
       "            ).addTo(map_75c2c9742d22aa678c2dac182a4fdbb3);\n",
       "        \n",
       "    \n",
       "            var icon_437eb59ef0018f80d8843428b0195aba = L.AwesomeMarkers.icon(\n",
       "                {&quot;extraClasses&quot;: &quot;fa-rotate-0&quot;, &quot;icon&quot;: &quot;circle&quot;, &quot;iconColor&quot;: &quot;white&quot;, &quot;markerColor&quot;: &quot;red&quot;, &quot;prefix&quot;: &quot;fa&quot;}\n",
       "            );\n",
       "            marker_578b2fd11a16779ab274945dea09cf6b.setIcon(icon_437eb59ef0018f80d8843428b0195aba);\n",
       "        \n",
       "    \n",
       "            marker_578b2fd11a16779ab274945dea09cf6b.bindTooltip(\n",
       "                `&lt;div&gt;\n",
       "                     Destination\n",
       "                 &lt;/div&gt;`,\n",
       "                {&quot;sticky&quot;: true}\n",
       "            );\n",
       "        \n",
       "    \n",
       "            var poly_line_72c81ca9e1fa1fd1f2e995f2835bd738 = L.polyline(\n",
       "                [[39.7273063659668, -105.19941711425781], [39.727298736572266, -105.19945526123047], [39.7272834777832, -105.1994857788086], [39.72726058959961, -105.19952392578125], [39.72722625732422, -105.19954681396484], [39.72719192504883, -105.19955444335938], [39.727169036865234, -105.19955444335938], [39.72714614868164, -105.19955444335938], [39.727115631103516, -105.19953918457031], [39.72708511352539, -105.19950866699219], [39.72706604003906, -105.19947052001953], [39.72705078125, -105.19943237304688], [39.727046966552734, -105.19937896728516], [39.72705078125, -105.19935607910156], [39.72705841064453, -105.19932556152344], [39.727073669433594, -105.19929504394531], [39.72709655761719, -105.19925689697266], [39.72713088989258, -105.19923400878906], [39.72716522216797, -105.19921875], [39.7271842956543, -105.19922637939453], [39.727210998535156, -105.19922637939453], [39.72734832763672, -105.19916534423828], [39.7274169921875, -105.19915008544922], [39.72753143310547, -105.19908905029297], [39.727684020996094, -105.19905853271484], [39.727745056152344, -105.19905090332031], [39.727970123291016, -105.19902038574219], [39.72815704345703, -105.19903564453125], [39.72843933105469, -105.19908905029297], [39.72866439819336, -105.19918060302734], [39.72882080078125, -105.19927978515625], [39.728919982910156, -105.19938659667969], [39.72903060913086, -105.19955444335938], [39.72904968261719, -105.1995849609375], [39.729217529296875, -105.19981384277344], [39.72930908203125, -105.19989776611328], [39.729408264160156, -105.19995880126953], [39.72954559326172, -105.20001220703125], [39.72962951660156, -105.2000732421875], [39.72964859008789, -105.19967651367188], [39.72967529296875, -105.19873046875], [39.72969055175781, -105.19867706298828], [39.7297248840332, -105.1985855102539], [39.72972869873047, -105.19841766357422], [39.72997283935547, -105.19841766357422], [39.7302131652832, -105.19842529296875], [39.730323791503906, -105.19842529296875], [39.73044204711914, -105.19844055175781], [39.73056411743164, -105.19847106933594], [39.730716705322266, -105.19851684570312], [39.73085021972656, -105.19856262207031], [39.73099136352539, -105.1986312866211], [39.73112869262695, -105.19871520996094], [39.73122787475586, -105.19879150390625], [39.73133087158203, -105.1988754272461], [39.73143005371094, -105.19895935058594], [39.73152542114258, -105.19905853271484], [39.73160934448242, -105.19915008544922], [39.73170852661133, -105.19926452636719], [39.73185729980469, -105.19944763183594], [39.73195266723633, -105.19956970214844], [39.73204040527344, -105.19966888427734], [39.73213577270508, -105.19976043701172], [39.732261657714844, -105.1998519897461], [39.73236846923828, -105.19991302490234], [39.73247146606445, -105.19996643066406], [39.73258972167969, -105.20000457763672], [39.732688903808594, -105.20002746582031], [39.7327995300293, -105.20006561279297], [39.73294448852539, -105.20010375976562], [39.733062744140625, -105.20013427734375], [39.733184814453125, -105.20018768310547], [39.73329162597656, -105.20025634765625], [39.73343276977539, -105.20036315917969], [39.733524322509766, -105.20045471191406], [39.733551025390625, -105.20048522949219], [39.733612060546875, -105.20055389404297], [39.73368835449219, -105.20065307617188], [39.733768463134766, -105.20075225830078], [39.73384094238281, -105.20085144042969], [39.73393630981445, -105.20094299316406], [39.73403549194336, -105.20101165771484], [39.734073638916016, -105.20104217529297], [39.73411178588867, -105.20106506347656], [39.734153747558594, -105.20108795166016], [39.73421096801758, -105.20111846923828], [39.734317779541016, -105.201171875], [39.734405517578125, -105.20120239257812], [39.73456954956055, -105.20124053955078], [39.734771728515625, -105.20127868652344], [39.73513412475586, -105.20133209228516], [39.73522186279297, -105.20134735107422], [39.73532485961914, -105.20135498046875], [39.735443115234375, -105.20134735107422], [39.73554992675781, -105.20132446289062], [39.73570251464844, -105.20128631591797], [39.73583984375, -105.20125579833984], [39.736244201660156, -105.20116424560547], [39.736717224121094, -105.20106506347656], [39.736785888671875, -105.20105743408203], [39.736854553222656, -105.20104217529297], [39.73696517944336, -105.20103454589844], [39.73707580566406, -105.20104217529297], [39.73719024658203, -105.20106506347656], [39.7373161315918, -105.20109558105469], [39.73771286010742, -105.20123291015625], [39.73795700073242, -105.20130157470703], [39.73844528198242, -105.2014389038086], [39.738685607910156, -105.2015151977539], [39.73957061767578, -105.20178985595703], [39.739715576171875, -105.20183563232422], [39.73982620239258, -105.20186614990234], [39.73993682861328, -105.2018814086914], [39.74006271362305, -105.20189666748047], [39.74018478393555, -105.20189666748047], [39.74031448364258, -105.2018814086914], [39.74042892456055, -105.20186614990234], [39.74055099487305, -105.20183563232422], [39.740665435791016, -105.2018051147461], [39.740760803222656, -105.20177459716797], [39.74087142944336, -105.20172119140625], [39.74099349975586, -105.20165252685547], [39.741127014160156, -105.2015609741211], [39.74126052856445, -105.20144653320312], [39.741371154785156, -105.20134735107422], [39.74147415161133, -105.20123291015625], [39.741607666015625, -105.2010726928711], [39.74169158935547, -105.20096588134766], [39.741790771484375, -105.20083618164062], [39.741798400878906, -105.2008285522461], [39.74189758300781, -105.20068359375], [39.741886138916016, -105.20062255859375], [39.74188995361328, -105.2005615234375], [39.74190902709961, -105.20050048828125], [39.741939544677734, -105.200439453125], [39.741981506347656, -105.20040130615234], [39.74203109741211, -105.20037078857422], [39.74208450317383, -105.20036315917969], [39.74214172363281, -105.20037841796875], [39.7421875, -105.2004165649414], [39.742225646972656, -105.2004623413086], [39.742252349853516, -105.20052337646484], [39.74226379394531, -105.20059204101562], [39.74225997924805, -105.2006607055664], [39.74224090576172, -105.20072174072266], [39.742271423339844, -105.20082092285156], [39.7423210144043, -105.20089721679688], [39.74280548095703, -105.20165252685547], [39.74290466308594, -105.20181274414062], [39.74291229248047, -105.20182800292969], [39.74314880371094, -105.20220184326172], [39.743438720703125, -105.20264434814453], [39.74357986450195, -105.20286560058594], [39.743770599365234, -105.20318603515625], [39.74412536621094, -105.20372009277344], [39.74445343017578, -105.20423126220703], [39.744537353515625, -105.2043685913086], [39.744808197021484, -105.2048110961914], [39.74503707885742, -105.2052001953125], [39.74516296386719, -105.20543670654297], [39.745262145996094, -105.20564270019531], [39.745357513427734, -105.20587158203125], [39.74544143676758, -105.20606994628906], [39.74546813964844, -105.20613861083984], [39.74555969238281, -105.20635223388672], [39.74563980102539, -105.20661926269531], [39.74573516845703, -105.20690155029297], [39.745811462402344, -105.20716094970703], [39.74584197998047, -105.20729064941406], [39.745906829833984, -105.20751953125], [39.74595642089844, -105.20774841308594], [39.746009826660156, -105.2080078125], [39.74603271484375, -105.20811462402344], [39.74605178833008, -105.20826721191406], [39.7460823059082, -105.20848083496094], [39.74610900878906, -105.20861053466797], [39.746116638183594, -105.20870971679688], [39.74611282348633, -105.20880126953125], [39.74610900878906, -105.20891571044922], [39.746116638183594, -105.20899200439453], [39.74613952636719, -105.20906829833984], [39.746158599853516, -105.20911407470703], [39.74625015258789, -105.20921325683594], [39.746280670166016, -105.20923614501953], [39.74629592895508, -105.20925903320312], [39.74632263183594, -105.20928955078125], [39.74634552001953, -105.2093505859375], [39.746360778808594, -105.20942687988281], [39.74639129638672, -105.20957946777344], [39.746437072753906, -105.209716796875], [39.74650192260742, -105.20983123779297], [39.746707916259766, -105.21003723144531], [39.74678039550781, -105.2101058959961], [39.747337341308594, -105.21060180664062], [39.74745559692383, -105.21070861816406], [39.747562408447266, -105.21080780029297], [39.747596740722656, -105.2108383178711], [39.74765396118164, -105.21089172363281], [39.74814987182617, -105.21135711669922], [39.74833679199219, -105.21153259277344], [39.74837112426758, -105.21156311035156], [39.748416900634766, -105.21160888671875], [39.748470306396484, -105.21165466308594], [39.748722076416016, -105.21189880371094], [39.749237060546875, -105.21237182617188], [39.74928283691406, -105.21240997314453], [39.75000762939453, -105.21307373046875], [39.75004577636719, -105.2131118774414], [39.75038146972656, -105.21342468261719], [39.75046157836914, -105.2135009765625], [39.75082015991211, -105.21383666992188], [39.750877380371094, -105.2138900756836], [39.75093460083008, -105.21394348144531], [39.7511100769043, -105.214111328125], [39.75162887573242, -105.21460723876953], [39.751670837402344, -105.21464538574219], [39.751739501953125, -105.21470642089844], [39.75248336791992, -105.21539306640625], [39.75250244140625, -105.21541595458984], [39.75325012207031, -105.21611022949219], [39.75330352783203, -105.21615600585938], [39.75407028198242, -105.21686553955078], [39.75413131713867, -105.2169189453125], [39.754478454589844, -105.21724700927734], [39.75456237792969, -105.21731567382812], [39.754966735839844, -105.2176742553711], [39.755069732666016, -105.21782684326172], [39.755313873291016, -105.218017578125], [39.75534439086914, -105.21804809570312], [39.75570297241211, -105.21839141845703], [39.755775451660156, -105.21846008300781], [39.75583267211914, -105.21852111816406], [39.75590133666992, -105.21858215332031], [39.756038665771484, -105.21870422363281], [39.75616455078125, -105.21882629394531], [39.75627899169922, -105.21892547607422], [39.75651550292969, -105.21914672851562], [39.7565803527832, -105.21920776367188], [39.756526947021484, -105.21929931640625], [39.756473541259766, -105.21939849853516], [39.756324768066406, -105.21967315673828], [39.75604248046875, -105.2201919555664], [39.756011962890625, -105.22024536132812], [39.75606918334961, -105.22032165527344], [39.756256103515625, -105.22053527832031], [39.756282806396484, -105.2205581665039], [39.756404876708984, -105.2206802368164], [39.75654602050781, -105.2208023071289], [39.75674057006836, -105.220947265625], [39.75669860839844, -105.22109985351562], [39.75663757324219, -105.2213134765625], [39.75657272338867, -105.22146606445312], [39.75651931762695, -105.22156524658203], [39.7564582824707, -105.2216796875], [39.756290435791016, -105.22199249267578], [39.7562255859375, -105.22211456298828], [39.75630187988281, -105.22218322753906], [39.75661849975586, -105.22248077392578], [39.756629943847656, -105.22249603271484], [39.7569465637207, -105.22279357910156], [39.757057189941406, -105.22289276123047], [39.75748062133789, -105.2232666015625], [39.7575569152832, -105.22334289550781], [39.75762176513672, -105.22340393066406], [39.75785827636719, -105.22361755371094], [39.75796890258789, -105.22372436523438], [39.75800323486328, -105.2237548828125], [39.75830078125, -105.22405242919922], [39.758358001708984, -105.22410583496094], [39.758724212646484, -105.22444152832031], [39.75880432128906, -105.22451782226562], [39.759159088134766, -105.224853515625], [39.7595100402832, -105.22517395019531], [39.75968933105469, -105.225341796875], [39.7597541809082, -105.22540283203125], [39.75988006591797, -105.22551727294922], [39.75989532470703, -105.22553253173828], [39.75996398925781, -105.22560119628906], [39.76001739501953, -105.22564697265625], [39.76040267944336, -105.22599029541016], [39.76050567626953, -105.22608947753906], [39.76059341430664, -105.2261734008789], [39.76066589355469, -105.22624206542969], [39.76079559326172, -105.22636413574219], [39.7608757019043, -105.2264404296875], [39.76158142089844, -105.22710418701172], [39.761627197265625, -105.2271499633789], [39.761680603027344, -105.22720336914062], [39.762203216552734, -105.22769165039062], [39.7623405456543, -105.22782897949219], [39.763038635253906, -105.22845458984375], [39.763282775878906, -105.22866821289062], [39.763736724853516, -105.22906494140625], [39.764015197753906, -105.22930908203125], [39.764095306396484, -105.22937774658203], [39.76417541503906, -105.22946166992188], [39.76435852050781, -105.22965240478516], [39.7645378112793, -105.22986602783203], [39.76482391357422, -105.23019409179688], [39.76520538330078, -105.23070526123047], [39.765472412109375, -105.2310791015625], [39.765480041503906, -105.23109436035156], [39.76552963256836, -105.23117065429688], [39.76557922363281, -105.23123168945312], [39.76559066772461, -105.23124694824219], [39.76577377319336, -105.23150634765625], [39.76589584350586, -105.23167419433594], [39.765995025634766, -105.23180389404297], [39.7661018371582, -105.23192596435547], [39.7662467956543, -105.23206329345703], [39.76645278930664, -105.23226165771484], [39.76714324951172, -105.23292541503906], [39.767356872558594, -105.23312377929688], [39.76744079589844, -105.23320770263672], [39.76751708984375, -105.23328399658203], [39.767574310302734, -105.23335266113281], [39.76762771606445, -105.2334213256836], [39.767696380615234, -105.23353576660156], [39.767730712890625, -105.23360443115234], [39.76776123046875, -105.2336654663086], [39.767791748046875, -105.2337417602539], [39.767818450927734, -105.23381042480469], [39.76785659790039, -105.23394012451172], [39.76787185668945, -105.2340316772461], [39.76789093017578, -105.23412322998047], [39.76790237426758, -105.2342300415039], [39.76791000366211, -105.23433685302734], [39.767906188964844, -105.23440551757812], [39.76790237426758, -105.2344970703125], [39.767887115478516, -105.23466491699219], [39.76786422729492, -105.23477935791016], [39.76783752441406, -105.2348861694336], [39.767799377441406, -105.23503112792969], [39.76775360107422, -105.2352066040039], [39.7677116394043, -105.23534393310547]],\n",
       "                {&quot;bubblingMouseEvents&quot;: true, &quot;color&quot;: &quot;#0c0786&quot;, &quot;dashArray&quot;: null, &quot;dashOffset&quot;: null, &quot;fill&quot;: false, &quot;fillColor&quot;: &quot;#0c0786&quot;, &quot;fillOpacity&quot;: 0.2, &quot;fillRule&quot;: &quot;evenodd&quot;, &quot;lineCap&quot;: &quot;round&quot;, &quot;lineJoin&quot;: &quot;round&quot;, &quot;noClip&quot;: false, &quot;opacity&quot;: 0.8, &quot;smoothFactor&quot;: 1.0, &quot;stroke&quot;: true, &quot;weight&quot;: 10}\n",
       "            ).addTo(map_75c2c9742d22aa678c2dac182a4fdbb3);\n",
       "        \n",
       "    \n",
       "            poly_line_72c81ca9e1fa1fd1f2e995f2835bd738.bindTooltip(\n",
       "                `&lt;div&gt;\n",
       "                     1.7423185323233328\n",
       "                 &lt;/div&gt;`,\n",
       "                {&quot;sticky&quot;: true}\n",
       "            );\n",
       "        \n",
       "    \n",
       "            var marker_d8f39c1b95d7892e27586425668509bc = L.marker(\n",
       "                [39.7273063659668, -105.19941711425781],\n",
       "                {}\n",
       "            ).addTo(map_75c2c9742d22aa678c2dac182a4fdbb3);\n",
       "        \n",
       "    \n",
       "            var icon_0e96f519d93efe7decd7ccdccbf78ebd = L.AwesomeMarkers.icon(\n",
       "                {&quot;extraClasses&quot;: &quot;fa-rotate-0&quot;, &quot;icon&quot;: &quot;circle&quot;, &quot;iconColor&quot;: &quot;white&quot;, &quot;markerColor&quot;: &quot;green&quot;, &quot;prefix&quot;: &quot;fa&quot;}\n",
       "            );\n",
       "            marker_d8f39c1b95d7892e27586425668509bc.setIcon(icon_0e96f519d93efe7decd7ccdccbf78ebd);\n",
       "        \n",
       "    \n",
       "            marker_d8f39c1b95d7892e27586425668509bc.bindTooltip(\n",
       "                `&lt;div&gt;\n",
       "                     Origin\n",
       "                 &lt;/div&gt;`,\n",
       "                {&quot;sticky&quot;: true}\n",
       "            );\n",
       "        \n",
       "    \n",
       "            var marker_6721034e55ef7f8890c6884ebda2ef21 = L.marker(\n",
       "                [39.7677116394043, -105.23534393310547],\n",
       "                {}\n",
       "            ).addTo(map_75c2c9742d22aa678c2dac182a4fdbb3);\n",
       "        \n",
       "    \n",
       "            var icon_77f2c024366d7c028cfb8546b70e9528 = L.AwesomeMarkers.icon(\n",
       "                {&quot;extraClasses&quot;: &quot;fa-rotate-0&quot;, &quot;icon&quot;: &quot;circle&quot;, &quot;iconColor&quot;: &quot;white&quot;, &quot;markerColor&quot;: &quot;red&quot;, &quot;prefix&quot;: &quot;fa&quot;}\n",
       "            );\n",
       "            marker_6721034e55ef7f8890c6884ebda2ef21.setIcon(icon_77f2c024366d7c028cfb8546b70e9528);\n",
       "        \n",
       "    \n",
       "            marker_6721034e55ef7f8890c6884ebda2ef21.bindTooltip(\n",
       "                `&lt;div&gt;\n",
       "                     Destination\n",
       "                 &lt;/div&gt;`,\n",
       "                {&quot;sticky&quot;: true}\n",
       "            );\n",
       "        \n",
       "&lt;/script&gt;\n",
       "&lt;/html&gt;\" style=\"position:absolute;width:100%;height:100%;left:0;top:0;border:none !important;\" allowfullscreen webkitallowfullscreen mozallowfullscreen></iframe></div></div>"
      ],
      "text/plain": [
       "<folium.folium.Map at 0x1b6145eb0>"
      ]
     },
     "execution_count": 75,
     "metadata": {},
     "output_type": "execute_result"
    }
   ],
   "source": [
    "m = plot_routes_folium(results, value_fn=lambda r: r[\"traversal_summary\"][\"energy_liquid\"], color_map=\"plasma\")\n",
    "m"
   ]
  },
  {
   "cell_type": "code",
   "execution_count": null,
   "id": "3687d632-c454-4f4c-8c77-9533bbab65fc",
   "metadata": {},
   "outputs": [],
   "source": []
  }
 ],
 "metadata": {
  "kernelspec": {
   "display_name": "Python 3 (ipykernel)",
   "language": "python",
   "name": "python3"
  },
  "language_info": {
   "codemirror_mode": {
    "name": "ipython",
    "version": 3
   },
   "file_extension": ".py",
   "mimetype": "text/x-python",
   "name": "python",
   "nbconvert_exporter": "python",
   "pygments_lexer": "ipython3",
   "version": "3.9.15"
  }
 },
 "nbformat": 4,
 "nbformat_minor": 5
}
