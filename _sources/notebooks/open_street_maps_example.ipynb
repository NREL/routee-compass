{
 "cells": [
  {
   "cell_type": "markdown",
   "id": "75b8a7cf-1dd0-4469-9b75-0f3d0824bf5c",
   "metadata": {},
   "source": [
    "# OpenStreetMap example\n",
    "\n",
    "In this example, we download a road network from OSM using the OSMNx package, and then process the result, resulting in a RouteE Compass network dataset.\n",
    "\n",
    "### requirements\n",
    "\n",
    "To download an open street maps dataset, you'll need a couple of extra dependencies: [osmnx](https://osmnx.readthedocs.io/en/stable/) and [tomllib](https://docs.python.org/3/library/tomllib.html) (Python>3.11) or [toml](https://pypi.org/project/toml/) (Python<3.11). \n",
    "\n",
    "You can install these doing: \n",
    "\n",
    "```bash\n",
    "pip install nrel.routee.compass[all]\n",
    "```\n",
    "\n",
    "Note, this also includes some plotting dependencies for visualizing results. If you just want the osm based dependencies you can do:\n",
    "\n",
    "```bash\n",
    "pip install nrel.routee.compass[osm]\n",
    "```"
   ]
  },
  {
   "cell_type": "code",
   "execution_count": 1,
   "id": "debe13e9-b483-496f-8e79-d99e93484fcf",
   "metadata": {},
   "outputs": [],
   "source": [
    "import osmnx as ox\n",
    "from nrel.routee.compass.io import generate_compass_dataset\n",
    "from nrel.routee.compass import CompassApp\n",
    "from pathlib import Path"
   ]
  },
  {
   "cell_type": "markdown",
   "id": "1d3dcecf-3e0b-48ab-bc88-47faecf465a6",
   "metadata": {},
   "source": [
    "Here we set the absolute path to output directory where you want the dataset collected:"
   ]
  },
  {
   "cell_type": "code",
   "execution_count": 2,
   "id": "0b365291-b2b1-4a9b-bbb5-1a94686ddac3",
   "metadata": {},
   "outputs": [],
   "source": [
    "output_directory = Path(\"golden_co\")              "
   ]
  },
  {
   "cell_type": "markdown",
   "id": "67bc2034-cd93-4214-88c0-3767290d679a",
   "metadata": {},
   "source": [
    "In this example will load in the road network that covers Golden, Colorado, as a small example but this workflow will work with any osmnx graph.\n",
    "\n",
    "Osmnx provides many graph download operations, any are acceptable."
   ]
  },
  {
   "cell_type": "code",
   "execution_count": 3,
   "id": "4e0726db-5a19-48cb-964f-7030ba14f0b3",
   "metadata": {},
   "outputs": [],
   "source": [
    "g = ox.graph_from_place(\"Golden, Colorado, USA\", network_type=\"drive\")  "
   ]
  },
  {
   "cell_type": "markdown",
   "id": "052a41ad-daba-4b78-943d-5f24a089bf88",
   "metadata": {},
   "source": [
    "Now, we call the `generate_compass_dataset` function which will convert the osmnx graph into files that are compatible with routee-compass.\n",
    "\n",
    "The network speeds arguments can also be provided here, see documentation on `generate_compass_dataset` or `osmnx.add_edge_speeds` for details."
   ]
  },
  {
   "cell_type": "markdown",
   "id": "045400fc-bfc6-4a7f-a31c-c2a1d5dfe417",
   "metadata": {},
   "source": [
    "### A note about grade\n",
    "\n",
    "In order to get the most accurate energy results from the routee-powertrain vehicle models, it's important to include road grade information since it plays a large factor in vehicle energy consumption (`add_grade=True`)\n",
    "\n",
    "That being said, adding grade can be a big lift computationally. In our case, we pull digital elevation model (DEM) raster files from USGS and then use osmnx to append elevation and grade to the graph. If the graph is large, this can take a while to download and could take up a lot of disk space. \n",
    "\n",
    "In addition, this requires a couple of additional dependencies (`rasterio` and `gdal`). The `gdal` package can be difficult to install via pip and so we recommend using conda:\n",
    "\n",
    "```bash\n",
    "conda install rasterio gdal\n",
    "```\n",
    "\n",
    "So, we recommend that you include grade information in your graph but want to be clear about the requirements for doing so."
   ]
  },
  {
   "cell_type": "code",
   "execution_count": 4,
   "id": "2a99e267-0ba5-462f-83e4-e8428701597c",
   "metadata": {},
   "outputs": [],
   "source": [
    "generate_compass_dataset(g, output_directory, add_grade=True, energy_model=\"2016_TOYOTA_Camry_4cyl_2WD\")      "
   ]
  },
  {
   "cell_type": "markdown",
   "id": "a54714f9-a4e5-48eb-84f9-4219a790956d",
   "metadata": {},
   "source": [
    "If you take a look in the directory where the compass files have been written, you'll notice some `.toml` files like: `osm_default_energy.toml`. \n",
    "These are configurations for the compass application. Here's what it might look like:\n",
    "\n",
    "```toml\n",
    "parallelism = 2\n",
    "\n",
    "[graph]\n",
    "edge_list_csv = \"edges-compass.csv.gz\"\n",
    "vertex_list_csv = \"vertices-compass.csv.gz\"\n",
    "verbose = true\n",
    "\n",
    "[traversal]\n",
    "type = \"speed_grade_energy_model\"\n",
    "model_type = \"smartcore\"\n",
    "speed_table_path = \"edges-posted-speed-enumerated.txt.gz\"\n",
    "energy_model_path = \"2016_TOYOTA_Camry_4cyl_2WD.bin\"\n",
    "ideal_energy_rate = 0.02857142857\n",
    "real_world_energy_adjustment = 1.166\n",
    "speed_table_speed_unit = \"kilometers_per_hour\"\n",
    "energy_model_speed_unit = \"miles_per_hour\"\n",
    "energy_model_grade_unit = \"decimal\"\n",
    "energy_model_energy_rate_unit = \"gallons_gasoline_per_mile\"\n",
    "output_time_unit = \"minutes\"\n",
    "output_distance_unit = \"miles\"\n",
    "grade_table_path = \"edges-grade-enumerated.txt.gz\"\n",
    "grade_table_grade_unit = \"decimal\"\n",
    "\n",
    "[plugin]\n",
    "[[plugin.input_plugins]]\n",
    "type = \"vertex_rtree\"\n",
    "vertices_file = \"vertices-compass.csv.gz\"\n",
    "\n",
    "[[plugin.output_plugins]]\n",
    "type = \"summary\"\n",
    "\n",
    "[[plugin.output_plugins]]\n",
    "type = \"traversal\"\n",
    "route = \"geo_json\"\n",
    "tree = \"geo_json\"\n",
    "geometry_file = \"edges-geometries-enumerated.txt.gz\"\n",
    "\n",
    "[[plugin.output_plugins]]\n",
    "type = \"uuid\"\n",
    "uuid_file = \"vertices-uuid-enumerated.txt.gz\"\n",
    "```\n",
    "\n",
    "This defines the parameters for the routing engine.\n",
    "See the documentation section of the config for more information."
   ]
  },
  {
   "cell_type": "markdown",
   "id": "ccf1e65a-d6af-4fe5-a60e-4333c7bbb910",
   "metadata": {},
   "source": [
    "Now we can load the application from one of our config files. \n",
    "We'll pick `osm_default_energy.toml` which will use a Toyota Camry energy model for finding the least energy route."
   ]
  },
  {
   "cell_type": "code",
   "execution_count": 5,
   "id": "30c0da5c-fd6d-44f2-873c-1ce8b863cda8",
   "metadata": {},
   "outputs": [],
   "source": [
    "import os\n",
    "os.chdir(\"golden_co\")"
   ]
  },
  {
   "cell_type": "code",
   "execution_count": 6,
   "id": "edad6c15-c641-4010-b097-7d07aa86c1e7",
   "metadata": {},
   "outputs": [
    {
     "name": "stdout",
     "output_type": "stream",
     "text": [
      "\n",
      "\n",
      "\n",
      "\n"
     ]
    },
    {
     "name": "stderr",
     "output_type": "stream",
     "text": [
      "uuid file: 100%|██████████| 746/746 [00:00<00:00, 4245946.00it/s]it/s]"
     ]
    }
   ],
   "source": [
    "app = CompassApp.from_config_file(\"osm_default_energy.toml\")  "
   ]
  },
  {
   "cell_type": "markdown",
   "id": "4bfbfbf8-e721-4754-a165-0beb7b46b81b",
   "metadata": {},
   "source": [
    "Now we have an application that we can run queries against.\n",
    "To demonstrate, we'll route between two locations in Golden, CO utilzing the grid search input plugin to run two separate searches. \n",
    "The energy cost coefficient indicates how much we should factor energy into our route search, 0.0 indicating that we should not factor in energy at all (shortest time route) and 1.0 indicating that we should only factor energy in (least energy route)"
   ]
  },
  {
   "cell_type": "code",
   "execution_count": 7,
   "id": "f01086d0-231f-4013-bc24-97f9c56670bd",
   "metadata": {},
   "outputs": [],
   "source": [
    "query = {\n",
    "    \"origin_name\": \"Government Center Station\",\n",
    "    \"destination_name\": \"Cannonball Creek Brewery\",\n",
    "    \"origin_x\": -105.200146,\n",
    "    \"origin_y\": 39.726570,\n",
    "    \"destination_x\": -105.234964,\n",
    "    \"destination_y\": 39.768477,\n",
    "    \"grid_search\": {\n",
    "        \"energy_cost_coefficient\": [0.0, 1.0]\n",
    "    }\n",
    "}"
   ]
  },
  {
   "cell_type": "code",
   "execution_count": 8,
   "id": "c6e9361b-5ffd-4ec5-a09a-d51e46752ebf",
   "metadata": {},
   "outputs": [],
   "source": [
    "results = app.run(query)"
   ]
  },
  {
   "cell_type": "markdown",
   "id": "60534047-b102-40af-9212-cf574f6c4ac2",
   "metadata": {},
   "source": [
    "Since we used the grid search to specify two separate cases, we should get two results back:"
   ]
  },
  {
   "cell_type": "code",
   "execution_count": 9,
   "id": "2c51774c-acff-4569-a820-4be5ba5aa51b",
   "metadata": {},
   "outputs": [
    {
     "data": {
      "text/plain": [
       "2"
      ]
     },
     "execution_count": 9,
     "metadata": {},
     "output_type": "execute_result"
    }
   ],
   "source": [
    "len(results)"
   ]
  },
  {
   "cell_type": "markdown",
   "id": "0b84c836-32b3-46d3-8a1f-a3f9511b1fd2",
   "metadata": {},
   "source": [
    "We can take a look at the summary for each result"
   ]
  },
  {
   "cell_type": "code",
   "execution_count": 10,
   "id": "d075cb16-b0ae-463a-a2ce-f94042bc13db",
   "metadata": {},
   "outputs": [],
   "source": [
    "shortest_time_result = results[0]"
   ]
  },
  {
   "cell_type": "code",
   "execution_count": 11,
   "id": "961c910c-63ec-4c79-9522-19f24f151215",
   "metadata": {},
   "outputs": [
    {
     "data": {
      "text/plain": [
       "{'distance': 4.23738036063421,\n",
       " 'distance_unit': 'miles',\n",
       " 'energy': 0.18821565778485838,\n",
       " 'energy_unit': 'gallons_gasoline',\n",
       " 'time': 8.501927726263151,\n",
       " 'time_unit': 'minutes'}"
      ]
     },
     "execution_count": 11,
     "metadata": {},
     "output_type": "execute_result"
    }
   ],
   "source": [
    "shortest_time_result[\"traversal_summary\"]"
   ]
  },
  {
   "cell_type": "code",
   "execution_count": 12,
   "id": "e2c6cb39-49aa-4697-9785-fa839dc16a86",
   "metadata": {},
   "outputs": [
    {
     "data": {
      "text/plain": [
       "{'distance': 4.017396519730842,\n",
       " 'distance_unit': 'miles',\n",
       " 'energy': 0.18722374836334246,\n",
       " 'energy_unit': 'gallons_gasoline',\n",
       " 'time': 8.987039191276414,\n",
       " 'time_unit': 'minutes'}"
      ]
     },
     "execution_count": 12,
     "metadata": {},
     "output_type": "execute_result"
    }
   ],
   "source": [
    "least_energy_result = results[1]\n",
    "least_energy_result[\"traversal_summary\"]"
   ]
  },
  {
   "cell_type": "code",
   "execution_count": 13,
   "id": "30257102-07ee-4338-9c8c-41676e1995ed",
   "metadata": {},
   "outputs": [],
   "source": [
    "import shapely\n",
    "import json\n",
    "geom = shortest_time_result[\"route\"]\n",
    "feature_collection = shapely.from_geojson(json.dumps(geom))\n",
    "linestring = shapely.line_merge(shapely.MultiLineString(feature_collection.geoms))"
   ]
  },
  {
   "cell_type": "markdown",
   "id": "a8ba7617-fbba-4659-8e17-2eaf093b061a",
   "metadata": {},
   "source": [
    "Lastly, let's plot the results to see what each route looks like "
   ]
  },
  {
   "cell_type": "code",
   "execution_count": 14,
   "id": "d3907fe2-14c8-4904-942a-d09fd7d42ab2",
   "metadata": {},
   "outputs": [],
   "source": [
    "from nrel.routee.compass.plot import plot_route_folium, plot_routes_folium"
   ]
  },
  {
   "cell_type": "markdown",
   "id": "70e99c19-cfeb-4bf3-a012-09d7727cdda2",
   "metadata": {},
   "source": [
    "We can use the `plot_route_folium` function to plot single routes, passing in the `line_kwargs` parameter to customize the folium linestring:"
   ]
  },
  {
   "cell_type": "code",
   "execution_count": 15,
   "id": "1ac13aae-32fc-4c10-b888-6373b175655a",
   "metadata": {},
   "outputs": [
    {
     "data": {
      "text/html": [
       "<div style=\"width:100%;\"><div style=\"position:relative;width:100%;height:0;padding-bottom:60%;\"><span style=\"color:#565656\">Make this Notebook Trusted to load map: File -> Trust Notebook</span><iframe srcdoc=\"&lt;!DOCTYPE html&gt;\n",
       "&lt;html&gt;\n",
       "&lt;head&gt;\n",
       "    \n",
       "    &lt;meta http-equiv=&quot;content-type&quot; content=&quot;text/html; charset=UTF-8&quot; /&gt;\n",
       "    \n",
       "        &lt;script&gt;\n",
       "            L_NO_TOUCH = false;\n",
       "            L_DISABLE_3D = false;\n",
       "        &lt;/script&gt;\n",
       "    \n",
       "    &lt;style&gt;html, body {width: 100%;height: 100%;margin: 0;padding: 0;}&lt;/style&gt;\n",
       "    &lt;style&gt;#map {position:absolute;top:0;bottom:0;right:0;left:0;}&lt;/style&gt;\n",
       "    &lt;script src=&quot;https://cdn.jsdelivr.net/npm/leaflet@1.9.3/dist/leaflet.js&quot;&gt;&lt;/script&gt;\n",
       "    &lt;script src=&quot;https://code.jquery.com/jquery-1.12.4.min.js&quot;&gt;&lt;/script&gt;\n",
       "    &lt;script src=&quot;https://cdn.jsdelivr.net/npm/bootstrap@5.2.2/dist/js/bootstrap.bundle.min.js&quot;&gt;&lt;/script&gt;\n",
       "    &lt;script src=&quot;https://cdnjs.cloudflare.com/ajax/libs/Leaflet.awesome-markers/2.0.2/leaflet.awesome-markers.js&quot;&gt;&lt;/script&gt;\n",
       "    &lt;link rel=&quot;stylesheet&quot; href=&quot;https://cdn.jsdelivr.net/npm/leaflet@1.9.3/dist/leaflet.css&quot;/&gt;\n",
       "    &lt;link rel=&quot;stylesheet&quot; href=&quot;https://cdn.jsdelivr.net/npm/bootstrap@5.2.2/dist/css/bootstrap.min.css&quot;/&gt;\n",
       "    &lt;link rel=&quot;stylesheet&quot; href=&quot;https://netdna.bootstrapcdn.com/bootstrap/3.0.0/css/bootstrap.min.css&quot;/&gt;\n",
       "    &lt;link rel=&quot;stylesheet&quot; href=&quot;https://cdn.jsdelivr.net/npm/@fortawesome/fontawesome-free@6.2.0/css/all.min.css&quot;/&gt;\n",
       "    &lt;link rel=&quot;stylesheet&quot; href=&quot;https://cdnjs.cloudflare.com/ajax/libs/Leaflet.awesome-markers/2.0.2/leaflet.awesome-markers.css&quot;/&gt;\n",
       "    &lt;link rel=&quot;stylesheet&quot; href=&quot;https://cdn.jsdelivr.net/gh/python-visualization/folium/folium/templates/leaflet.awesome.rotate.min.css&quot;/&gt;\n",
       "    \n",
       "            &lt;meta name=&quot;viewport&quot; content=&quot;width=device-width,\n",
       "                initial-scale=1.0, maximum-scale=1.0, user-scalable=no&quot; /&gt;\n",
       "            &lt;style&gt;\n",
       "                #map_5e6fdd78aee60d0d6315972837ed641b {\n",
       "                    position: relative;\n",
       "                    width: 100.0%;\n",
       "                    height: 100.0%;\n",
       "                    left: 0.0%;\n",
       "                    top: 0.0%;\n",
       "                }\n",
       "                .leaflet-container { font-size: 1rem; }\n",
       "            &lt;/style&gt;\n",
       "        \n",
       "&lt;/head&gt;\n",
       "&lt;body&gt;\n",
       "    \n",
       "    \n",
       "            &lt;div class=&quot;folium-map&quot; id=&quot;map_5e6fdd78aee60d0d6315972837ed641b&quot; &gt;&lt;/div&gt;\n",
       "        \n",
       "&lt;/body&gt;\n",
       "&lt;script&gt;\n",
       "    \n",
       "    \n",
       "            var map_5e6fdd78aee60d0d6315972837ed641b = L.map(\n",
       "                &quot;map_5e6fdd78aee60d0d6315972837ed641b&quot;,\n",
       "                {\n",
       "                    center: [39.7465774, -105.2216276],\n",
       "                    crs: L.CRS.EPSG3857,\n",
       "                    zoom: 12,\n",
       "                    zoomControl: true,\n",
       "                    preferCanvas: false,\n",
       "                }\n",
       "            );\n",
       "\n",
       "            \n",
       "\n",
       "        \n",
       "    \n",
       "            var tile_layer_ee2775096a1be4380f9bd39c42ca4e8e = L.tileLayer(\n",
       "                &quot;https://{s}.tile.openstreetmap.org/{z}/{x}/{y}.png&quot;,\n",
       "                {&quot;attribution&quot;: &quot;Data by \\u0026copy; \\u003ca target=\\&quot;_blank\\&quot; href=\\&quot;http://openstreetmap.org\\&quot;\\u003eOpenStreetMap\\u003c/a\\u003e, under \\u003ca target=\\&quot;_blank\\&quot; href=\\&quot;http://www.openstreetmap.org/copyright\\&quot;\\u003eODbL\\u003c/a\\u003e.&quot;, &quot;detectRetina&quot;: false, &quot;maxNativeZoom&quot;: 18, &quot;maxZoom&quot;: 18, &quot;minZoom&quot;: 0, &quot;noWrap&quot;: false, &quot;opacity&quot;: 1, &quot;subdomains&quot;: &quot;abc&quot;, &quot;tms&quot;: false}\n",
       "            ).addTo(map_5e6fdd78aee60d0d6315972837ed641b);\n",
       "        \n",
       "    \n",
       "            var poly_line_6406764e3f6bcb21b9ed2e3ae7f61509 = L.polyline(\n",
       "                [[39.7273069, -105.1994169], [39.7272989, -105.1994535], [39.7272848, -105.1994868], [39.7272593, -105.1995218], [39.7272272, -105.1995461], [39.7271912, -105.1995576], [39.7271688, -105.199558], [39.7271461, -105.1995532], [39.7271142, -105.1995365], [39.7270868, -105.1995096], [39.7270657, -105.1994741], [39.7270519, -105.1994296], [39.7270483, -105.1993816], [39.727052, -105.1993539], [39.7270571, -105.1993247], [39.7270719, -105.1992916], [39.7270973, -105.1992566], [39.7271293, -105.1992323], [39.7271651, -105.1992207], [39.7271854, -105.1992226], [39.7272113, -105.199227], [39.7273496, -105.1991687], [39.7274185, -105.1991465], [39.7275326, -105.1990928], [39.7276828, -105.1990602], [39.7277455, -105.1990518], [39.7279702, -105.1990232], [39.7281558, -105.1990357], [39.7284384, -105.1990893], [39.7286639, -105.199177], [39.7288222, -105.1992773], [39.7289214, -105.199385], [39.7290292, -105.1995543], [39.7290506, -105.1995879], [39.7292157, -105.1998155], [39.7293094, -105.1998945], [39.7294079, -105.1999604], [39.7295437, -105.200014], [39.7296299, -105.2000721], [39.7297292, -105.2000757], [39.7297135, -105.2007081], [39.7297192, -105.2013106], [39.7298153, -105.2032041], [39.7298256, -105.2033784], [39.7298664, -105.2035708], [39.7298795, -105.203649], [39.7299267, -105.2038558], [39.7301082, -105.2042608], [39.7304911, -105.2048068], [39.7308741, -105.2053111], [39.7310676, -105.2055985], [39.7311933, -105.205824], [39.7312069, -105.2058543], [39.7313075, -105.2061158], [39.731348, -105.206248], [39.731386, -105.2064213], [39.7314237, -105.2067336], [39.731429, -105.2070565], [39.7314226, -105.207224], [39.7314076, -105.2074036], [39.7313611, -105.2077675], [39.7313265, -105.2079124], [39.7312831, -105.20806], [39.7312292, -105.2082086], [39.7311706, -105.208344], [39.7310965, -105.2084777], [39.7310049, -105.208616], [39.7309234, -105.2087235], [39.7308212, -105.2088303], [39.7306227, -105.2089819], [39.7304801, -105.2090736], [39.7303681, -105.2091988], [39.7303327, -105.2092597], [39.7303114, -105.2093181], [39.730299, -105.20939], [39.7302939, -105.2095126], [39.7303105, -105.2096804], [39.7304414, -105.2099267], [39.7305001, -105.2100344], [39.7305871, -105.2101842], [39.7307404, -105.2104481], [39.7309234, -105.2107229], [39.7310934, -105.2109639], [39.731238, -105.211145], [39.7314101, -105.2113464], [39.7315783, -105.2115336], [39.7317541, -105.2117064], [39.7319796, -105.2119089], [39.732359, -105.2122393], [39.7329187, -105.2127184], [39.7334557, -105.213188], [39.7338968, -105.2135676], [39.7342777, -105.2138968], [39.7347139, -105.2142786], [39.7354652, -105.2149301], [39.7356319, -105.2150733], [39.7358844, -105.2152902], [39.7363901, -105.2157275], [39.7369129, -105.2161859], [39.7377243, -105.2168831], [39.7390882, -105.2180682], [39.7397882, -105.2186718], [39.7403043, -105.2191078], [39.7405645, -105.2193336], [39.7406767, -105.2194225], [39.7415803, -105.2202142], [39.7416486, -105.2202727], [39.7417047, -105.2203151], [39.7421502, -105.2206932], [39.7425816, -105.221062], [39.7432687, -105.2215398], [39.7435797, -105.2217631], [39.7436721, -105.2218299], [39.7437366, -105.2218764], [39.7438794, -105.2219759], [39.7439546, -105.2220253], [39.7440082, -105.2220586], [39.7440819, -105.2221021], [39.7441377, -105.2221322], [39.7441808, -105.2221541], [39.7442796, -105.2222043], [39.7443357, -105.2222286], [39.7444062, -105.222259], [39.7444657, -105.2222871], [39.7444962, -105.2223029], [39.7445695, -105.2223431], [39.7446343, -105.2223808], [39.744683, -105.2224104], [39.7447215, -105.2224349], [39.7447658, -105.2224654], [39.744813, -105.222499], [39.7448547, -105.2225315], [39.7448881, -105.2225586], [39.7449328, -105.2225965], [39.7449815, -105.2226391], [39.7451542, -105.2227925], [39.7454784, -105.2230438], [39.7455034, -105.2230623], [39.7455159, -105.2230713], [39.7455403, -105.2230861], [39.7455548, -105.2230941], [39.7455766, -105.2231014], [39.7456018, -105.223106], [39.7456176, -105.2231071], [39.7456337, -105.223107], [39.7456638, -105.2231045], [39.7456814, -105.2231011], [39.7456983, -105.2230945], [39.7457224, -105.2230821], [39.7457338, -105.2230745], [39.7457588, -105.2230543], [39.7457709, -105.223043], [39.7457834, -105.2230284], [39.7458035, -105.2230027], [39.7458905, -105.2228787], [39.7460068, -105.2226624], [39.7461589, -105.2223894], [39.7463617, -105.2220126], [39.7464427, -105.2218672], [39.746482, -105.2217968], [39.7465202, -105.2217322], [39.7465523, -105.2216771], [39.7465774, -105.2216276], [39.7465928, -105.2215823], [39.7466004, -105.2215466], [39.7466042, -105.2215101], [39.7466044, -105.2214695], [39.746601, -105.2214368], [39.7465881, -105.2213862], [39.7465804, -105.2213567], [39.7465774, -105.2213321], [39.7465774, -105.2213048], [39.746581, -105.2212762], [39.7465874, -105.2212518], [39.7465978, -105.2212266], [39.7466125, -105.2212024], [39.7466266, -105.2211858], [39.7466485, -105.2211678], [39.7466708, -105.2211566], [39.746693, -105.2211511], [39.746715, -105.2211506], [39.7467203, -105.2211517], [39.7467798, -105.2211327], [39.7468101, -105.2211204], [39.7468347, -105.2211032], [39.7468673, -105.2210676], [39.7468863, -105.2210389], [39.7469079, -105.2209995], [39.7469752, -105.2208699], [39.7471073, -105.220655], [39.7471371, -105.2206129], [39.7471594, -105.2205845], [39.7472061, -105.2205376], [39.7473376, -105.2202962], [39.747357, -105.2202177], [39.7473682, -105.2201868], [39.7473848, -105.2201519], [39.7475089, -105.2199249], [39.7475861, -105.2197973], [39.7476254, -105.2197401], [39.7476917, -105.2196525], [39.7477724, -105.2195069], [39.7478875, -105.219299], [39.7479219, -105.2192372], [39.7479518, -105.219179], [39.7480957, -105.2189201], [39.7481337, -105.2188515], [39.7482567, -105.2186294], [39.7484851, -105.2182271], [39.7485167, -105.218164], [39.7485605, -105.2180881], [39.7490516, -105.217166], [39.7490955, -105.2170866], [39.7491263, -105.2170387], [39.7493736, -105.2165801], [39.7496841, -105.2160128], [39.7497482, -105.2160733], [39.7504593, -105.216753], [39.7505084, -105.2168007], [39.7505733, -105.2168567], [39.7509525, -105.2172063], [39.7512593, -105.2174884], [39.7513304, -105.2175506], [39.7513869, -105.217604], [39.7517458, -105.2179367], [39.7520945, -105.21826], [39.7521462, -105.2183047], [39.7522126, -105.218369], [39.7523012, -105.2184523], [39.7525052, -105.218642], [39.7527145, -105.2188366], [39.7528959, -105.2189993], [39.7529601, -105.2190649], [39.7530308, -105.219128], [39.7537033, -105.2197718], [39.753764, -105.2198302], [39.7538299, -105.2198915], [39.7542346, -105.2202638], [39.7545279, -105.2205433], [39.7545847, -105.2206031], [39.7546623, -105.2206728], [39.7553326, -105.2212752], [39.755407, -105.221342], [39.7554908, -105.2214211], [39.7561483, -105.2220415], [39.7562254, -105.2221143], [39.7563006, -105.2221853], [39.7566193, -105.222483], [39.7566315, -105.2224957], [39.7569475, -105.2227913], [39.7570561, -105.222895], [39.7574792, -105.2232693], [39.7575579, -105.2233409], [39.7576236, -105.2234019], [39.7578565, -105.2236199], [39.7579703, -105.2237258], [39.7580027, -105.2237561], [39.7583001, -105.2240544], [39.7583591, -105.2241084], [39.7587249, -105.2244446], [39.7588057, -105.22452], [39.7591609, -105.2248516], [39.7595089, -105.2251741], [39.7596887, -105.2253408], [39.7597554, -105.2254024], [39.7598802, -105.2255173], [39.7598939, -105.2255305], [39.7599658, -105.2255988], [39.7600186, -105.2256498], [39.7604008, -105.2259941], [39.7605066, -105.2260931], [39.7605924, -105.226174], [39.760667, -105.2262427], [39.7607946, -105.2263631], [39.7608753, -105.2264373], [39.7615829, -105.2271044], [39.7616266, -105.2271481], [39.7616788, -105.2272008], [39.762203, -105.2276943], [39.7623411, -105.2278299], [39.7630405, -105.2284565], [39.7632824, -105.2286685], [39.7637358, -105.2290679], [39.7640137, -105.229309], [39.7640954, -105.229381], [39.7641743, -105.229462], [39.76436, -105.2296495], [39.7645376, -105.2298658], [39.764824, -105.2301918], [39.7652051, -105.2307044], [39.7654711, -105.2310802], [39.7654801, -105.2310934], [39.7655308, -105.231168], [39.7655792, -105.231232], [39.7655918, -105.2312486], [39.7657719, -105.2315035], [39.7658973, -105.2316751], [39.7659962, -105.2318039], [39.7661018, -105.231924], [39.7662469, -105.2320614], [39.7664515, -105.2322588], [39.7671442, -105.2329283], [39.7673559, -105.2331244], [39.7674414, -105.2332053], [39.7675186, -105.2332845], [39.7675756, -105.2333522], [39.7676291, -105.2334243], [39.7676969, -105.2335369], [39.7677304, -105.233602], [39.767761, -105.2336649], [39.7677908, -105.233739], [39.7678172, -105.233812], [39.7678551, -105.2339422], [39.7678736, -105.2340294], [39.7678904, -105.2341257], [39.7679032, -105.2342329], [39.7679095, -105.2343359], [39.7679068, -105.2344027], [39.7679029, -105.234499], [39.7678875, -105.2346626], [39.7678651, -105.2347791], [39.7678384, -105.2348898], [39.7678006, -105.2350283], [39.7677517, -105.2352031], [39.7677119, -105.2353468]],\n",
       "                {&quot;bubblingMouseEvents&quot;: true, &quot;color&quot;: &quot;blue&quot;, &quot;dashArray&quot;: null, &quot;dashOffset&quot;: null, &quot;fill&quot;: false, &quot;fillColor&quot;: &quot;blue&quot;, &quot;fillOpacity&quot;: 0.2, &quot;fillRule&quot;: &quot;evenodd&quot;, &quot;lineCap&quot;: &quot;round&quot;, &quot;lineJoin&quot;: &quot;round&quot;, &quot;noClip&quot;: false, &quot;opacity&quot;: 0.8, &quot;smoothFactor&quot;: 1.0, &quot;stroke&quot;: true, &quot;weight&quot;: 10}\n",
       "            ).addTo(map_5e6fdd78aee60d0d6315972837ed641b);\n",
       "        \n",
       "    \n",
       "            poly_line_6406764e3f6bcb21b9ed2e3ae7f61509.bindTooltip(\n",
       "                `&lt;div&gt;\n",
       "                     Shortest Time\n",
       "                 &lt;/div&gt;`,\n",
       "                {&quot;sticky&quot;: true}\n",
       "            );\n",
       "        \n",
       "    \n",
       "            var marker_6902ee7feb3c91f411bef91fffcafda8 = L.marker(\n",
       "                [39.7273069, -105.1994169],\n",
       "                {}\n",
       "            ).addTo(map_5e6fdd78aee60d0d6315972837ed641b);\n",
       "        \n",
       "    \n",
       "            var icon_45c70091cf67f498c42e94b48f45100f = L.AwesomeMarkers.icon(\n",
       "                {&quot;extraClasses&quot;: &quot;fa-rotate-0&quot;, &quot;icon&quot;: &quot;circle&quot;, &quot;iconColor&quot;: &quot;white&quot;, &quot;markerColor&quot;: &quot;green&quot;, &quot;prefix&quot;: &quot;fa&quot;}\n",
       "            );\n",
       "            marker_6902ee7feb3c91f411bef91fffcafda8.setIcon(icon_45c70091cf67f498c42e94b48f45100f);\n",
       "        \n",
       "    \n",
       "            marker_6902ee7feb3c91f411bef91fffcafda8.bindTooltip(\n",
       "                `&lt;div&gt;\n",
       "                     Origin\n",
       "                 &lt;/div&gt;`,\n",
       "                {&quot;sticky&quot;: true}\n",
       "            );\n",
       "        \n",
       "    \n",
       "            var marker_8561d2d910a8be3bc5d2cfa6a30c6063 = L.marker(\n",
       "                [39.7677119, -105.2353468],\n",
       "                {}\n",
       "            ).addTo(map_5e6fdd78aee60d0d6315972837ed641b);\n",
       "        \n",
       "    \n",
       "            var icon_fea81095d90d74dad83b121c4e124834 = L.AwesomeMarkers.icon(\n",
       "                {&quot;extraClasses&quot;: &quot;fa-rotate-0&quot;, &quot;icon&quot;: &quot;circle&quot;, &quot;iconColor&quot;: &quot;white&quot;, &quot;markerColor&quot;: &quot;red&quot;, &quot;prefix&quot;: &quot;fa&quot;}\n",
       "            );\n",
       "            marker_8561d2d910a8be3bc5d2cfa6a30c6063.setIcon(icon_fea81095d90d74dad83b121c4e124834);\n",
       "        \n",
       "    \n",
       "            marker_8561d2d910a8be3bc5d2cfa6a30c6063.bindTooltip(\n",
       "                `&lt;div&gt;\n",
       "                     Destination\n",
       "                 &lt;/div&gt;`,\n",
       "                {&quot;sticky&quot;: true}\n",
       "            );\n",
       "        \n",
       "    \n",
       "            var poly_line_3349ea569e76e0f0fe319322fd08afcb = L.polyline(\n",
       "                [[39.7273069, -105.1994169], [39.7272989, -105.1994535], [39.7272848, -105.1994868], [39.7272593, -105.1995218], [39.7272272, -105.1995461], [39.7271912, -105.1995576], [39.7271688, -105.199558], [39.7271461, -105.1995532], [39.7271142, -105.1995365], [39.7270868, -105.1995096], [39.7270657, -105.1994741], [39.7270519, -105.1994296], [39.7270483, -105.1993816], [39.727052, -105.1993539], [39.7270571, -105.1993247], [39.7270719, -105.1992916], [39.7270973, -105.1992566], [39.7271293, -105.1992323], [39.7271651, -105.1992207], [39.7271854, -105.1992226], [39.7272113, -105.199227], [39.7273496, -105.1991687], [39.7274185, -105.1991465], [39.7275326, -105.1990928], [39.7276828, -105.1990602], [39.7277455, -105.1990518], [39.7279702, -105.1990232], [39.7281558, -105.1990357], [39.7284384, -105.1990893], [39.7286639, -105.199177], [39.7288222, -105.1992773], [39.7289214, -105.199385], [39.7290292, -105.1995543], [39.7290506, -105.1995879], [39.7292157, -105.1998155], [39.7293094, -105.1998945], [39.7294079, -105.1999604], [39.7295437, -105.200014], [39.7296299, -105.2000721], [39.7296469, -105.1996789], [39.7296738, -105.1987284], [39.7296906, -105.1986794], [39.7297244, -105.1985856], [39.7297272, -105.1984193], [39.7299723, -105.1984198], [39.7302117, -105.1984227], [39.7303235, -105.1984285], [39.7304434, -105.198443], [39.7305651, -105.1984732], [39.7307182, -105.1985167], [39.7308487, -105.1985623], [39.7309909, -105.1986311], [39.731127, -105.1987144], [39.7312292, -105.1987897], [39.7313292, -105.1988731], [39.7314292, -105.1989611], [39.731524, -105.1990554], [39.7316089, -105.1991466], [39.7317085, -105.1992639], [39.7318575, -105.1994488], [39.7319522, -105.1995697], [39.7320423, -105.1996716], [39.7321372, -105.1997578], [39.7322615, -105.1998506], [39.7323697, -105.1999163], [39.7324712, -105.1999637], [39.7325898, -105.2000081], [39.732689, -105.2000309], [39.7327987, -105.2000627], [39.732945, -105.2001049], [39.7330635, -105.2001374], [39.7331838, -105.2001914], [39.7332899, -105.2002528], [39.7334312, -105.200363], [39.7335257, -105.2004544], [39.7335523, -105.2004835], [39.7336132, -105.2005503], [39.7336902, -105.2006555], [39.733767, -105.2007557], [39.7338411, -105.2008491], [39.7339359, -105.2009412], [39.7340357, -105.2010154], [39.7340742, -105.201042], [39.7341117, -105.2010678], [39.7341542, -105.2010901], [39.734211, -105.2011198], [39.7343173, -105.2011712], [39.7344056, -105.2012021], [39.7345704, -105.2012376], [39.7347726, -105.2012753], [39.7351329, -105.2013311], [39.7352203, -105.2013441], [39.7353243, -105.201352], [39.7354415, -105.2013441], [39.7355491, -105.2013268], [39.7357022, -105.2012901], [39.7358395, -105.201259], [39.7362429, -105.2011675], [39.7367157, -105.2010639], [39.7367857, -105.2010539], [39.7368531, -105.2010442], [39.7369645, -105.2010356], [39.7370755, -105.201044], [39.7371895, -105.2010632], [39.7373179, -105.201099], [39.737714, -105.2012295], [39.7379567, -105.2013009], [39.7384451, -105.2014404], [39.7386872, -105.2015167], [39.7395717, -105.2017905], [39.7397153, -105.2018369], [39.7398269, -105.2018673], [39.7399356, -105.2018843], [39.7400618, -105.2018961], [39.740184, -105.2018932], [39.7403133, -105.2018823], [39.7404288, -105.2018645], [39.7405518, -105.2018387], [39.740665, -105.2018073], [39.7407597, -105.2017713], [39.7408728, -105.2017196], [39.740992, -105.2016551], [39.7411268, -105.2015625], [39.7412599, -105.2014489], [39.7413718, -105.2013453], [39.7414758, -105.2012326], [39.741608, -105.2010691], [39.7416901, -105.200964], [39.7417903, -105.2008396], [39.7417994, -105.200826], [39.7418968, -105.200686], [39.7418878, -105.200623], [39.7418917, -105.2005592], [39.7419081, -105.2004988], [39.7419393, -105.2004416], [39.7419818, -105.2003982], [39.7420319, -105.2003723], [39.7420864, -105.2003661], [39.7421399, -105.2003805], [39.742188, -105.2004144], [39.7422255, -105.2004628], [39.742251, -105.2005229], [39.7422628, -105.2005898], [39.7422597, -105.2006584], [39.7422421, -105.2007231], [39.7422712, -105.2008198], [39.7423227, -105.200901], [39.7428069, -105.2016549], [39.7429048, -105.2018114], [39.7429131, -105.2018245], [39.7431503, -105.2022035], [39.7434374, -105.2026477], [39.7435807, -105.2028659], [39.7437705, -105.2031843], [39.7441255, -105.2037193], [39.7444536, -105.2042289], [39.7445369, -105.204369], [39.7448087, -105.2048085], [39.7450389, -105.205197], [39.745164, -105.2054397], [39.7452617, -105.205642], [39.745359, -105.2058753], [39.7454413, -105.2060693], [39.7454698, -105.2061365], [39.7455586, -105.2063498], [39.7456394, -105.2066197], [39.7457343, -105.2068984], [39.7458096, -105.2071619], [39.7458432, -105.2072893], [39.7459057, -105.2075162], [39.7459547, -105.2077463], [39.7460104, -105.2080066], [39.7460312, -105.2081149], [39.7460508, -105.2082709], [39.7460836, -105.2084787], [39.7461092, -105.2086125], [39.7461165, -105.2087078], [39.7461128, -105.2088019], [39.7461078, -105.2089177], [39.7461163, -105.208995], [39.7461377, -105.2090672], [39.7461588, -105.2091147], [39.7462509, -105.2092159], [39.746281, -105.2092382], [39.7462978, -105.209256], [39.7463242, -105.209292], [39.7463458, -105.2093473], [39.746361, -105.2094251], [39.7463921, -105.2095768], [39.7464353, -105.2097133], [39.7465001, -105.2098285], [39.7467097, -105.21004], [39.7467814, -105.2101094], [39.7473357, -105.2106047], [39.7474554, -105.2107116], [39.7475615, -105.2108064], [39.7475958, -105.2108371], [39.747653, -105.2108907], [39.7481502, -105.2113567], [39.7483361, -105.2115309], [39.7483726, -105.2115651], [39.7484183, -105.2116079], [39.7484718, -105.2116584], [39.7487212, -105.2118951], [39.749238, -105.2123721], [39.7492814, -105.2124135], [39.7500059, -105.2130759], [39.7500454, -105.2131129], [39.7503812, -105.2134256], [39.7504627, -105.2135015], [39.7508219, -105.2138362], [39.7508792, -105.2138895], [39.7509348, -105.2139426], [39.7511093, -105.2141093], [39.7516271, -105.2146038], [39.7516716, -105.2146463], [39.751739, -105.2147085], [39.7524829, -105.2153953], [39.7525012, -105.2154123], [39.7532517, -105.2161101], [39.7533052, -105.2161598], [39.7540716, -105.2168674], [39.7541308, -105.2169221], [39.7544795, -105.2172508], [39.7546281, -105.2174522], [39.7546745, -105.2175037], [39.7548394, -105.2176869], [39.7549112, -105.2177871], [39.7548521, -105.2179433], [39.7546476, -105.2183047], [39.7544379, -105.2186805], [39.7544293, -105.218688], [39.7543723, -105.2187394], [39.7544376, -105.2188002], [39.7544872, -105.2188464], [39.7547934, -105.2191313], [39.7551071, -105.2194077], [39.7551368, -105.2194339], [39.755202, -105.2194913], [39.7552559, -105.2195411], [39.755615, -105.2198733], [39.755696, -105.2199479], [39.7559351, -105.2201693], [39.7559559, -105.220191], [39.7560109, -105.2202486], [39.7560703, -105.2203182], [39.756257, -105.2205368], [39.7562813, -105.2205598], [39.7564057, -105.2206774], [39.7565461, -105.2208058], [39.7567417, -105.2209442], [39.7566986, -105.2211001], [39.756638, -105.2213112], [39.7565732, -105.2214643], [39.7565209, -105.2215678], [39.7564595, -105.2216814], [39.7562914, -105.2219923], [39.7562254, -105.2221143], [39.7563006, -105.2221853], [39.7566193, -105.222483], [39.7566315, -105.2224957], [39.7569475, -105.2227913], [39.7570561, -105.222895], [39.7574792, -105.2232693], [39.7575579, -105.2233409], [39.7576236, -105.2234019], [39.7578565, -105.2236199], [39.7579703, -105.2237258], [39.7580027, -105.2237561], [39.7583001, -105.2240544], [39.7583591, -105.2241084], [39.7587249, -105.2244446], [39.7588057, -105.22452], [39.7591609, -105.2248516], [39.7595089, -105.2251741], [39.7596887, -105.2253408], [39.7597554, -105.2254024], [39.7598802, -105.2255173], [39.7598939, -105.2255305], [39.7599658, -105.2255988], [39.7600186, -105.2256498], [39.7604008, -105.2259941], [39.7605066, -105.2260931], [39.7605924, -105.226174], [39.760667, -105.2262427], [39.7607946, -105.2263631], [39.7608753, -105.2264373], [39.7615829, -105.2271044], [39.7616266, -105.2271481], [39.7616788, -105.2272008], [39.762203, -105.2276943], [39.7623411, -105.2278299], [39.7630405, -105.2284565], [39.7632824, -105.2286685], [39.7637358, -105.2290679], [39.7640137, -105.229309], [39.7640954, -105.229381], [39.7641743, -105.229462], [39.76436, -105.2296495], [39.7645376, -105.2298658], [39.764824, -105.2301918], [39.7652051, -105.2307044], [39.7654711, -105.2310802], [39.7654801, -105.2310934], [39.7655308, -105.231168], [39.7655792, -105.231232], [39.7655918, -105.2312486], [39.7657719, -105.2315035], [39.7658973, -105.2316751], [39.7659962, -105.2318039], [39.7661018, -105.231924], [39.7662469, -105.2320614], [39.7664515, -105.2322588], [39.7671442, -105.2329283], [39.7673559, -105.2331244], [39.7674414, -105.2332053], [39.7675186, -105.2332845], [39.7675756, -105.2333522], [39.7676291, -105.2334243], [39.7676969, -105.2335369], [39.7677304, -105.233602], [39.767761, -105.2336649], [39.7677908, -105.233739], [39.7678172, -105.233812], [39.7678551, -105.2339422], [39.7678736, -105.2340294], [39.7678904, -105.2341257], [39.7679032, -105.2342329], [39.7679095, -105.2343359], [39.7679068, -105.2344027], [39.7679029, -105.234499], [39.7678875, -105.2346626], [39.7678651, -105.2347791], [39.7678384, -105.2348898], [39.7678006, -105.2350283], [39.7677517, -105.2352031], [39.7677119, -105.2353468]],\n",
       "                {&quot;bubblingMouseEvents&quot;: true, &quot;color&quot;: &quot;green&quot;, &quot;dashArray&quot;: null, &quot;dashOffset&quot;: null, &quot;fill&quot;: false, &quot;fillColor&quot;: &quot;green&quot;, &quot;fillOpacity&quot;: 0.2, &quot;fillRule&quot;: &quot;evenodd&quot;, &quot;lineCap&quot;: &quot;round&quot;, &quot;lineJoin&quot;: &quot;round&quot;, &quot;noClip&quot;: false, &quot;opacity&quot;: 0.8, &quot;smoothFactor&quot;: 1.0, &quot;stroke&quot;: true, &quot;weight&quot;: 10}\n",
       "            ).addTo(map_5e6fdd78aee60d0d6315972837ed641b);\n",
       "        \n",
       "    \n",
       "            poly_line_3349ea569e76e0f0fe319322fd08afcb.bindTooltip(\n",
       "                `&lt;div&gt;\n",
       "                     Least Energy\n",
       "                 &lt;/div&gt;`,\n",
       "                {&quot;sticky&quot;: true}\n",
       "            );\n",
       "        \n",
       "    \n",
       "            var marker_b9a3acafc0bb939f9f5fb5f2fa8ba7f7 = L.marker(\n",
       "                [39.7273069, -105.1994169],\n",
       "                {}\n",
       "            ).addTo(map_5e6fdd78aee60d0d6315972837ed641b);\n",
       "        \n",
       "    \n",
       "            var icon_d6912a1b5e7e079949d11e32e00dea90 = L.AwesomeMarkers.icon(\n",
       "                {&quot;extraClasses&quot;: &quot;fa-rotate-0&quot;, &quot;icon&quot;: &quot;circle&quot;, &quot;iconColor&quot;: &quot;white&quot;, &quot;markerColor&quot;: &quot;green&quot;, &quot;prefix&quot;: &quot;fa&quot;}\n",
       "            );\n",
       "            marker_b9a3acafc0bb939f9f5fb5f2fa8ba7f7.setIcon(icon_d6912a1b5e7e079949d11e32e00dea90);\n",
       "        \n",
       "    \n",
       "            marker_b9a3acafc0bb939f9f5fb5f2fa8ba7f7.bindTooltip(\n",
       "                `&lt;div&gt;\n",
       "                     Origin\n",
       "                 &lt;/div&gt;`,\n",
       "                {&quot;sticky&quot;: true}\n",
       "            );\n",
       "        \n",
       "    \n",
       "            var marker_d09760fd1b167457ff8d82085d575f1e = L.marker(\n",
       "                [39.7677119, -105.2353468],\n",
       "                {}\n",
       "            ).addTo(map_5e6fdd78aee60d0d6315972837ed641b);\n",
       "        \n",
       "    \n",
       "            var icon_068d667c897f021e6c99fb3531ba48e3 = L.AwesomeMarkers.icon(\n",
       "                {&quot;extraClasses&quot;: &quot;fa-rotate-0&quot;, &quot;icon&quot;: &quot;circle&quot;, &quot;iconColor&quot;: &quot;white&quot;, &quot;markerColor&quot;: &quot;red&quot;, &quot;prefix&quot;: &quot;fa&quot;}\n",
       "            );\n",
       "            marker_d09760fd1b167457ff8d82085d575f1e.setIcon(icon_068d667c897f021e6c99fb3531ba48e3);\n",
       "        \n",
       "    \n",
       "            marker_d09760fd1b167457ff8d82085d575f1e.bindTooltip(\n",
       "                `&lt;div&gt;\n",
       "                     Destination\n",
       "                 &lt;/div&gt;`,\n",
       "                {&quot;sticky&quot;: true}\n",
       "            );\n",
       "        \n",
       "&lt;/script&gt;\n",
       "&lt;/html&gt;\" style=\"position:absolute;width:100%;height:100%;left:0;top:0;border:none !important;\" allowfullscreen webkitallowfullscreen mozallowfullscreen></iframe></div></div>"
      ],
      "text/plain": [
       "<folium.folium.Map at 0x123135d10>"
      ]
     },
     "execution_count": 15,
     "metadata": {},
     "output_type": "execute_result"
    }
   ],
   "source": [
    "m = plot_route_folium(shortest_time_result, line_kwargs={\"color\": \"blue\", \"tooltip\": \"Shortest Time\"})\n",
    "m = plot_route_folium(least_energy_result, line_kwargs={\"color\": \"green\", \"tooltip\": \"Least Energy\"}, folium_map=m)\n",
    "m"
   ]
  },
  {
   "cell_type": "markdown",
   "id": "a457fb10-abef-4af7-9619-3decdc6075e3",
   "metadata": {},
   "source": [
    "We can also use the plot_routes_folium function and pass in multiple results. The function will color the routes based on the `value_fn` which takes a single result as an argument. For example, we can tell it to color the routes based on the total energy usage. "
   ]
  },
  {
   "cell_type": "code",
   "execution_count": 16,
   "id": "aa1e6b11",
   "metadata": {},
   "outputs": [
    {
     "data": {
      "text/html": [
       "<div style=\"width:100%;\"><div style=\"position:relative;width:100%;height:0;padding-bottom:60%;\"><span style=\"color:#565656\">Make this Notebook Trusted to load map: File -> Trust Notebook</span><iframe srcdoc=\"&lt;!DOCTYPE html&gt;\n",
       "&lt;html&gt;\n",
       "&lt;head&gt;\n",
       "    \n",
       "    &lt;meta http-equiv=&quot;content-type&quot; content=&quot;text/html; charset=UTF-8&quot; /&gt;\n",
       "    \n",
       "        &lt;script&gt;\n",
       "            L_NO_TOUCH = false;\n",
       "            L_DISABLE_3D = false;\n",
       "        &lt;/script&gt;\n",
       "    \n",
       "    &lt;style&gt;html, body {width: 100%;height: 100%;margin: 0;padding: 0;}&lt;/style&gt;\n",
       "    &lt;style&gt;#map {position:absolute;top:0;bottom:0;right:0;left:0;}&lt;/style&gt;\n",
       "    &lt;script src=&quot;https://cdn.jsdelivr.net/npm/leaflet@1.9.3/dist/leaflet.js&quot;&gt;&lt;/script&gt;\n",
       "    &lt;script src=&quot;https://code.jquery.com/jquery-1.12.4.min.js&quot;&gt;&lt;/script&gt;\n",
       "    &lt;script src=&quot;https://cdn.jsdelivr.net/npm/bootstrap@5.2.2/dist/js/bootstrap.bundle.min.js&quot;&gt;&lt;/script&gt;\n",
       "    &lt;script src=&quot;https://cdnjs.cloudflare.com/ajax/libs/Leaflet.awesome-markers/2.0.2/leaflet.awesome-markers.js&quot;&gt;&lt;/script&gt;\n",
       "    &lt;link rel=&quot;stylesheet&quot; href=&quot;https://cdn.jsdelivr.net/npm/leaflet@1.9.3/dist/leaflet.css&quot;/&gt;\n",
       "    &lt;link rel=&quot;stylesheet&quot; href=&quot;https://cdn.jsdelivr.net/npm/bootstrap@5.2.2/dist/css/bootstrap.min.css&quot;/&gt;\n",
       "    &lt;link rel=&quot;stylesheet&quot; href=&quot;https://netdna.bootstrapcdn.com/bootstrap/3.0.0/css/bootstrap.min.css&quot;/&gt;\n",
       "    &lt;link rel=&quot;stylesheet&quot; href=&quot;https://cdn.jsdelivr.net/npm/@fortawesome/fontawesome-free@6.2.0/css/all.min.css&quot;/&gt;\n",
       "    &lt;link rel=&quot;stylesheet&quot; href=&quot;https://cdnjs.cloudflare.com/ajax/libs/Leaflet.awesome-markers/2.0.2/leaflet.awesome-markers.css&quot;/&gt;\n",
       "    &lt;link rel=&quot;stylesheet&quot; href=&quot;https://cdn.jsdelivr.net/gh/python-visualization/folium/folium/templates/leaflet.awesome.rotate.min.css&quot;/&gt;\n",
       "    \n",
       "            &lt;meta name=&quot;viewport&quot; content=&quot;width=device-width,\n",
       "                initial-scale=1.0, maximum-scale=1.0, user-scalable=no&quot; /&gt;\n",
       "            &lt;style&gt;\n",
       "                #map_f5e9fdbd4de71b8ef0064aeb6f947a41 {\n",
       "                    position: relative;\n",
       "                    width: 100.0%;\n",
       "                    height: 100.0%;\n",
       "                    left: 0.0%;\n",
       "                    top: 0.0%;\n",
       "                }\n",
       "                .leaflet-container { font-size: 1rem; }\n",
       "            &lt;/style&gt;\n",
       "        \n",
       "&lt;/head&gt;\n",
       "&lt;body&gt;\n",
       "    \n",
       "    \n",
       "            &lt;div class=&quot;folium-map&quot; id=&quot;map_f5e9fdbd4de71b8ef0064aeb6f947a41&quot; &gt;&lt;/div&gt;\n",
       "        \n",
       "&lt;/body&gt;\n",
       "&lt;script&gt;\n",
       "    \n",
       "    \n",
       "            var map_f5e9fdbd4de71b8ef0064aeb6f947a41 = L.map(\n",
       "                &quot;map_f5e9fdbd4de71b8ef0064aeb6f947a41&quot;,\n",
       "                {\n",
       "                    center: [39.7465774, -105.2216276],\n",
       "                    crs: L.CRS.EPSG3857,\n",
       "                    zoom: 12,\n",
       "                    zoomControl: true,\n",
       "                    preferCanvas: false,\n",
       "                }\n",
       "            );\n",
       "\n",
       "            \n",
       "\n",
       "        \n",
       "    \n",
       "            var tile_layer_b22ff300046905100f9b524af60a2514 = L.tileLayer(\n",
       "                &quot;https://{s}.tile.openstreetmap.org/{z}/{x}/{y}.png&quot;,\n",
       "                {&quot;attribution&quot;: &quot;Data by \\u0026copy; \\u003ca target=\\&quot;_blank\\&quot; href=\\&quot;http://openstreetmap.org\\&quot;\\u003eOpenStreetMap\\u003c/a\\u003e, under \\u003ca target=\\&quot;_blank\\&quot; href=\\&quot;http://www.openstreetmap.org/copyright\\&quot;\\u003eODbL\\u003c/a\\u003e.&quot;, &quot;detectRetina&quot;: false, &quot;maxNativeZoom&quot;: 18, &quot;maxZoom&quot;: 18, &quot;minZoom&quot;: 0, &quot;noWrap&quot;: false, &quot;opacity&quot;: 1, &quot;subdomains&quot;: &quot;abc&quot;, &quot;tms&quot;: false}\n",
       "            ).addTo(map_f5e9fdbd4de71b8ef0064aeb6f947a41);\n",
       "        \n",
       "    \n",
       "            var poly_line_8ee9a6fcbe409c7f61afa98464585f6a = L.polyline(\n",
       "                [[39.7273069, -105.1994169], [39.7272989, -105.1994535], [39.7272848, -105.1994868], [39.7272593, -105.1995218], [39.7272272, -105.1995461], [39.7271912, -105.1995576], [39.7271688, -105.199558], [39.7271461, -105.1995532], [39.7271142, -105.1995365], [39.7270868, -105.1995096], [39.7270657, -105.1994741], [39.7270519, -105.1994296], [39.7270483, -105.1993816], [39.727052, -105.1993539], [39.7270571, -105.1993247], [39.7270719, -105.1992916], [39.7270973, -105.1992566], [39.7271293, -105.1992323], [39.7271651, -105.1992207], [39.7271854, -105.1992226], [39.7272113, -105.199227], [39.7273496, -105.1991687], [39.7274185, -105.1991465], [39.7275326, -105.1990928], [39.7276828, -105.1990602], [39.7277455, -105.1990518], [39.7279702, -105.1990232], [39.7281558, -105.1990357], [39.7284384, -105.1990893], [39.7286639, -105.199177], [39.7288222, -105.1992773], [39.7289214, -105.199385], [39.7290292, -105.1995543], [39.7290506, -105.1995879], [39.7292157, -105.1998155], [39.7293094, -105.1998945], [39.7294079, -105.1999604], [39.7295437, -105.200014], [39.7296299, -105.2000721], [39.7297292, -105.2000757], [39.7297135, -105.2007081], [39.7297192, -105.2013106], [39.7298153, -105.2032041], [39.7298256, -105.2033784], [39.7298664, -105.2035708], [39.7298795, -105.203649], [39.7299267, -105.2038558], [39.7301082, -105.2042608], [39.7304911, -105.2048068], [39.7308741, -105.2053111], [39.7310676, -105.2055985], [39.7311933, -105.205824], [39.7312069, -105.2058543], [39.7313075, -105.2061158], [39.731348, -105.206248], [39.731386, -105.2064213], [39.7314237, -105.2067336], [39.731429, -105.2070565], [39.7314226, -105.207224], [39.7314076, -105.2074036], [39.7313611, -105.2077675], [39.7313265, -105.2079124], [39.7312831, -105.20806], [39.7312292, -105.2082086], [39.7311706, -105.208344], [39.7310965, -105.2084777], [39.7310049, -105.208616], [39.7309234, -105.2087235], [39.7308212, -105.2088303], [39.7306227, -105.2089819], [39.7304801, -105.2090736], [39.7303681, -105.2091988], [39.7303327, -105.2092597], [39.7303114, -105.2093181], [39.730299, -105.20939], [39.7302939, -105.2095126], [39.7303105, -105.2096804], [39.7304414, -105.2099267], [39.7305001, -105.2100344], [39.7305871, -105.2101842], [39.7307404, -105.2104481], [39.7309234, -105.2107229], [39.7310934, -105.2109639], [39.731238, -105.211145], [39.7314101, -105.2113464], [39.7315783, -105.2115336], [39.7317541, -105.2117064], [39.7319796, -105.2119089], [39.732359, -105.2122393], [39.7329187, -105.2127184], [39.7334557, -105.213188], [39.7338968, -105.2135676], [39.7342777, -105.2138968], [39.7347139, -105.2142786], [39.7354652, -105.2149301], [39.7356319, -105.2150733], [39.7358844, -105.2152902], [39.7363901, -105.2157275], [39.7369129, -105.2161859], [39.7377243, -105.2168831], [39.7390882, -105.2180682], [39.7397882, -105.2186718], [39.7403043, -105.2191078], [39.7405645, -105.2193336], [39.7406767, -105.2194225], [39.7415803, -105.2202142], [39.7416486, -105.2202727], [39.7417047, -105.2203151], [39.7421502, -105.2206932], [39.7425816, -105.221062], [39.7432687, -105.2215398], [39.7435797, -105.2217631], [39.7436721, -105.2218299], [39.7437366, -105.2218764], [39.7438794, -105.2219759], [39.7439546, -105.2220253], [39.7440082, -105.2220586], [39.7440819, -105.2221021], [39.7441377, -105.2221322], [39.7441808, -105.2221541], [39.7442796, -105.2222043], [39.7443357, -105.2222286], [39.7444062, -105.222259], [39.7444657, -105.2222871], [39.7444962, -105.2223029], [39.7445695, -105.2223431], [39.7446343, -105.2223808], [39.744683, -105.2224104], [39.7447215, -105.2224349], [39.7447658, -105.2224654], [39.744813, -105.222499], [39.7448547, -105.2225315], [39.7448881, -105.2225586], [39.7449328, -105.2225965], [39.7449815, -105.2226391], [39.7451542, -105.2227925], [39.7454784, -105.2230438], [39.7455034, -105.2230623], [39.7455159, -105.2230713], [39.7455403, -105.2230861], [39.7455548, -105.2230941], [39.7455766, -105.2231014], [39.7456018, -105.223106], [39.7456176, -105.2231071], [39.7456337, -105.223107], [39.7456638, -105.2231045], [39.7456814, -105.2231011], [39.7456983, -105.2230945], [39.7457224, -105.2230821], [39.7457338, -105.2230745], [39.7457588, -105.2230543], [39.7457709, -105.223043], [39.7457834, -105.2230284], [39.7458035, -105.2230027], [39.7458905, -105.2228787], [39.7460068, -105.2226624], [39.7461589, -105.2223894], [39.7463617, -105.2220126], [39.7464427, -105.2218672], [39.746482, -105.2217968], [39.7465202, -105.2217322], [39.7465523, -105.2216771], [39.7465774, -105.2216276], [39.7465928, -105.2215823], [39.7466004, -105.2215466], [39.7466042, -105.2215101], [39.7466044, -105.2214695], [39.746601, -105.2214368], [39.7465881, -105.2213862], [39.7465804, -105.2213567], [39.7465774, -105.2213321], [39.7465774, -105.2213048], [39.746581, -105.2212762], [39.7465874, -105.2212518], [39.7465978, -105.2212266], [39.7466125, -105.2212024], [39.7466266, -105.2211858], [39.7466485, -105.2211678], [39.7466708, -105.2211566], [39.746693, -105.2211511], [39.746715, -105.2211506], [39.7467203, -105.2211517], [39.7467798, -105.2211327], [39.7468101, -105.2211204], [39.7468347, -105.2211032], [39.7468673, -105.2210676], [39.7468863, -105.2210389], [39.7469079, -105.2209995], [39.7469752, -105.2208699], [39.7471073, -105.220655], [39.7471371, -105.2206129], [39.7471594, -105.2205845], [39.7472061, -105.2205376], [39.7473376, -105.2202962], [39.747357, -105.2202177], [39.7473682, -105.2201868], [39.7473848, -105.2201519], [39.7475089, -105.2199249], [39.7475861, -105.2197973], [39.7476254, -105.2197401], [39.7476917, -105.2196525], [39.7477724, -105.2195069], [39.7478875, -105.219299], [39.7479219, -105.2192372], [39.7479518, -105.219179], [39.7480957, -105.2189201], [39.7481337, -105.2188515], [39.7482567, -105.2186294], [39.7484851, -105.2182271], [39.7485167, -105.218164], [39.7485605, -105.2180881], [39.7490516, -105.217166], [39.7490955, -105.2170866], [39.7491263, -105.2170387], [39.7493736, -105.2165801], [39.7496841, -105.2160128], [39.7497482, -105.2160733], [39.7504593, -105.216753], [39.7505084, -105.2168007], [39.7505733, -105.2168567], [39.7509525, -105.2172063], [39.7512593, -105.2174884], [39.7513304, -105.2175506], [39.7513869, -105.217604], [39.7517458, -105.2179367], [39.7520945, -105.21826], [39.7521462, -105.2183047], [39.7522126, -105.218369], [39.7523012, -105.2184523], [39.7525052, -105.218642], [39.7527145, -105.2188366], [39.7528959, -105.2189993], [39.7529601, -105.2190649], [39.7530308, -105.219128], [39.7537033, -105.2197718], [39.753764, -105.2198302], [39.7538299, -105.2198915], [39.7542346, -105.2202638], [39.7545279, -105.2205433], [39.7545847, -105.2206031], [39.7546623, -105.2206728], [39.7553326, -105.2212752], [39.755407, -105.221342], [39.7554908, -105.2214211], [39.7561483, -105.2220415], [39.7562254, -105.2221143], [39.7563006, -105.2221853], [39.7566193, -105.222483], [39.7566315, -105.2224957], [39.7569475, -105.2227913], [39.7570561, -105.222895], [39.7574792, -105.2232693], [39.7575579, -105.2233409], [39.7576236, -105.2234019], [39.7578565, -105.2236199], [39.7579703, -105.2237258], [39.7580027, -105.2237561], [39.7583001, -105.2240544], [39.7583591, -105.2241084], [39.7587249, -105.2244446], [39.7588057, -105.22452], [39.7591609, -105.2248516], [39.7595089, -105.2251741], [39.7596887, -105.2253408], [39.7597554, -105.2254024], [39.7598802, -105.2255173], [39.7598939, -105.2255305], [39.7599658, -105.2255988], [39.7600186, -105.2256498], [39.7604008, -105.2259941], [39.7605066, -105.2260931], [39.7605924, -105.226174], [39.760667, -105.2262427], [39.7607946, -105.2263631], [39.7608753, -105.2264373], [39.7615829, -105.2271044], [39.7616266, -105.2271481], [39.7616788, -105.2272008], [39.762203, -105.2276943], [39.7623411, -105.2278299], [39.7630405, -105.2284565], [39.7632824, -105.2286685], [39.7637358, -105.2290679], [39.7640137, -105.229309], [39.7640954, -105.229381], [39.7641743, -105.229462], [39.76436, -105.2296495], [39.7645376, -105.2298658], [39.764824, -105.2301918], [39.7652051, -105.2307044], [39.7654711, -105.2310802], [39.7654801, -105.2310934], [39.7655308, -105.231168], [39.7655792, -105.231232], [39.7655918, -105.2312486], [39.7657719, -105.2315035], [39.7658973, -105.2316751], [39.7659962, -105.2318039], [39.7661018, -105.231924], [39.7662469, -105.2320614], [39.7664515, -105.2322588], [39.7671442, -105.2329283], [39.7673559, -105.2331244], [39.7674414, -105.2332053], [39.7675186, -105.2332845], [39.7675756, -105.2333522], [39.7676291, -105.2334243], [39.7676969, -105.2335369], [39.7677304, -105.233602], [39.767761, -105.2336649], [39.7677908, -105.233739], [39.7678172, -105.233812], [39.7678551, -105.2339422], [39.7678736, -105.2340294], [39.7678904, -105.2341257], [39.7679032, -105.2342329], [39.7679095, -105.2343359], [39.7679068, -105.2344027], [39.7679029, -105.234499], [39.7678875, -105.2346626], [39.7678651, -105.2347791], [39.7678384, -105.2348898], [39.7678006, -105.2350283], [39.7677517, -105.2352031], [39.7677119, -105.2353468]],\n",
       "                {&quot;bubblingMouseEvents&quot;: true, &quot;color&quot;: &quot;#eff821&quot;, &quot;dashArray&quot;: null, &quot;dashOffset&quot;: null, &quot;fill&quot;: false, &quot;fillColor&quot;: &quot;#eff821&quot;, &quot;fillOpacity&quot;: 0.2, &quot;fillRule&quot;: &quot;evenodd&quot;, &quot;lineCap&quot;: &quot;round&quot;, &quot;lineJoin&quot;: &quot;round&quot;, &quot;noClip&quot;: false, &quot;opacity&quot;: 0.8, &quot;smoothFactor&quot;: 1.0, &quot;stroke&quot;: true, &quot;weight&quot;: 10}\n",
       "            ).addTo(map_f5e9fdbd4de71b8ef0064aeb6f947a41);\n",
       "        \n",
       "    \n",
       "            poly_line_8ee9a6fcbe409c7f61afa98464585f6a.bindTooltip(\n",
       "                `&lt;div&gt;\n",
       "                     0.18821565778485838\n",
       "                 &lt;/div&gt;`,\n",
       "                {&quot;sticky&quot;: true}\n",
       "            );\n",
       "        \n",
       "    \n",
       "            var marker_f42f7bb5b3e19865927ef3411c0a0a48 = L.marker(\n",
       "                [39.7273069, -105.1994169],\n",
       "                {}\n",
       "            ).addTo(map_f5e9fdbd4de71b8ef0064aeb6f947a41);\n",
       "        \n",
       "    \n",
       "            var icon_15aeb0dc4825e560514b0f26c8c5cb20 = L.AwesomeMarkers.icon(\n",
       "                {&quot;extraClasses&quot;: &quot;fa-rotate-0&quot;, &quot;icon&quot;: &quot;circle&quot;, &quot;iconColor&quot;: &quot;white&quot;, &quot;markerColor&quot;: &quot;green&quot;, &quot;prefix&quot;: &quot;fa&quot;}\n",
       "            );\n",
       "            marker_f42f7bb5b3e19865927ef3411c0a0a48.setIcon(icon_15aeb0dc4825e560514b0f26c8c5cb20);\n",
       "        \n",
       "    \n",
       "            marker_f42f7bb5b3e19865927ef3411c0a0a48.bindTooltip(\n",
       "                `&lt;div&gt;\n",
       "                     Origin\n",
       "                 &lt;/div&gt;`,\n",
       "                {&quot;sticky&quot;: true}\n",
       "            );\n",
       "        \n",
       "    \n",
       "            var marker_bd64e10e467bfaa6054456bc65c65dcf = L.marker(\n",
       "                [39.7677119, -105.2353468],\n",
       "                {}\n",
       "            ).addTo(map_f5e9fdbd4de71b8ef0064aeb6f947a41);\n",
       "        \n",
       "    \n",
       "            var icon_3e1f9de6460d5c0512d0986e97601baa = L.AwesomeMarkers.icon(\n",
       "                {&quot;extraClasses&quot;: &quot;fa-rotate-0&quot;, &quot;icon&quot;: &quot;circle&quot;, &quot;iconColor&quot;: &quot;white&quot;, &quot;markerColor&quot;: &quot;red&quot;, &quot;prefix&quot;: &quot;fa&quot;}\n",
       "            );\n",
       "            marker_bd64e10e467bfaa6054456bc65c65dcf.setIcon(icon_3e1f9de6460d5c0512d0986e97601baa);\n",
       "        \n",
       "    \n",
       "            marker_bd64e10e467bfaa6054456bc65c65dcf.bindTooltip(\n",
       "                `&lt;div&gt;\n",
       "                     Destination\n",
       "                 &lt;/div&gt;`,\n",
       "                {&quot;sticky&quot;: true}\n",
       "            );\n",
       "        \n",
       "    \n",
       "            var poly_line_63ad4d4e5561017b7e7fd40a459bf578 = L.polyline(\n",
       "                [[39.7273069, -105.1994169], [39.7272989, -105.1994535], [39.7272848, -105.1994868], [39.7272593, -105.1995218], [39.7272272, -105.1995461], [39.7271912, -105.1995576], [39.7271688, -105.199558], [39.7271461, -105.1995532], [39.7271142, -105.1995365], [39.7270868, -105.1995096], [39.7270657, -105.1994741], [39.7270519, -105.1994296], [39.7270483, -105.1993816], [39.727052, -105.1993539], [39.7270571, -105.1993247], [39.7270719, -105.1992916], [39.7270973, -105.1992566], [39.7271293, -105.1992323], [39.7271651, -105.1992207], [39.7271854, -105.1992226], [39.7272113, -105.199227], [39.7273496, -105.1991687], [39.7274185, -105.1991465], [39.7275326, -105.1990928], [39.7276828, -105.1990602], [39.7277455, -105.1990518], [39.7279702, -105.1990232], [39.7281558, -105.1990357], [39.7284384, -105.1990893], [39.7286639, -105.199177], [39.7288222, -105.1992773], [39.7289214, -105.199385], [39.7290292, -105.1995543], [39.7290506, -105.1995879], [39.7292157, -105.1998155], [39.7293094, -105.1998945], [39.7294079, -105.1999604], [39.7295437, -105.200014], [39.7296299, -105.2000721], [39.7296469, -105.1996789], [39.7296738, -105.1987284], [39.7296906, -105.1986794], [39.7297244, -105.1985856], [39.7297272, -105.1984193], [39.7299723, -105.1984198], [39.7302117, -105.1984227], [39.7303235, -105.1984285], [39.7304434, -105.198443], [39.7305651, -105.1984732], [39.7307182, -105.1985167], [39.7308487, -105.1985623], [39.7309909, -105.1986311], [39.731127, -105.1987144], [39.7312292, -105.1987897], [39.7313292, -105.1988731], [39.7314292, -105.1989611], [39.731524, -105.1990554], [39.7316089, -105.1991466], [39.7317085, -105.1992639], [39.7318575, -105.1994488], [39.7319522, -105.1995697], [39.7320423, -105.1996716], [39.7321372, -105.1997578], [39.7322615, -105.1998506], [39.7323697, -105.1999163], [39.7324712, -105.1999637], [39.7325898, -105.2000081], [39.732689, -105.2000309], [39.7327987, -105.2000627], [39.732945, -105.2001049], [39.7330635, -105.2001374], [39.7331838, -105.2001914], [39.7332899, -105.2002528], [39.7334312, -105.200363], [39.7335257, -105.2004544], [39.7335523, -105.2004835], [39.7336132, -105.2005503], [39.7336902, -105.2006555], [39.733767, -105.2007557], [39.7338411, -105.2008491], [39.7339359, -105.2009412], [39.7340357, -105.2010154], [39.7340742, -105.201042], [39.7341117, -105.2010678], [39.7341542, -105.2010901], [39.734211, -105.2011198], [39.7343173, -105.2011712], [39.7344056, -105.2012021], [39.7345704, -105.2012376], [39.7347726, -105.2012753], [39.7351329, -105.2013311], [39.7352203, -105.2013441], [39.7353243, -105.201352], [39.7354415, -105.2013441], [39.7355491, -105.2013268], [39.7357022, -105.2012901], [39.7358395, -105.201259], [39.7362429, -105.2011675], [39.7367157, -105.2010639], [39.7367857, -105.2010539], [39.7368531, -105.2010442], [39.7369645, -105.2010356], [39.7370755, -105.201044], [39.7371895, -105.2010632], [39.7373179, -105.201099], [39.737714, -105.2012295], [39.7379567, -105.2013009], [39.7384451, -105.2014404], [39.7386872, -105.2015167], [39.7395717, -105.2017905], [39.7397153, -105.2018369], [39.7398269, -105.2018673], [39.7399356, -105.2018843], [39.7400618, -105.2018961], [39.740184, -105.2018932], [39.7403133, -105.2018823], [39.7404288, -105.2018645], [39.7405518, -105.2018387], [39.740665, -105.2018073], [39.7407597, -105.2017713], [39.7408728, -105.2017196], [39.740992, -105.2016551], [39.7411268, -105.2015625], [39.7412599, -105.2014489], [39.7413718, -105.2013453], [39.7414758, -105.2012326], [39.741608, -105.2010691], [39.7416901, -105.200964], [39.7417903, -105.2008396], [39.7417994, -105.200826], [39.7418968, -105.200686], [39.7418878, -105.200623], [39.7418917, -105.2005592], [39.7419081, -105.2004988], [39.7419393, -105.2004416], [39.7419818, -105.2003982], [39.7420319, -105.2003723], [39.7420864, -105.2003661], [39.7421399, -105.2003805], [39.742188, -105.2004144], [39.7422255, -105.2004628], [39.742251, -105.2005229], [39.7422628, -105.2005898], [39.7422597, -105.2006584], [39.7422421, -105.2007231], [39.7422712, -105.2008198], [39.7423227, -105.200901], [39.7428069, -105.2016549], [39.7429048, -105.2018114], [39.7429131, -105.2018245], [39.7431503, -105.2022035], [39.7434374, -105.2026477], [39.7435807, -105.2028659], [39.7437705, -105.2031843], [39.7441255, -105.2037193], [39.7444536, -105.2042289], [39.7445369, -105.204369], [39.7448087, -105.2048085], [39.7450389, -105.205197], [39.745164, -105.2054397], [39.7452617, -105.205642], [39.745359, -105.2058753], [39.7454413, -105.2060693], [39.7454698, -105.2061365], [39.7455586, -105.2063498], [39.7456394, -105.2066197], [39.7457343, -105.2068984], [39.7458096, -105.2071619], [39.7458432, -105.2072893], [39.7459057, -105.2075162], [39.7459547, -105.2077463], [39.7460104, -105.2080066], [39.7460312, -105.2081149], [39.7460508, -105.2082709], [39.7460836, -105.2084787], [39.7461092, -105.2086125], [39.7461165, -105.2087078], [39.7461128, -105.2088019], [39.7461078, -105.2089177], [39.7461163, -105.208995], [39.7461377, -105.2090672], [39.7461588, -105.2091147], [39.7462509, -105.2092159], [39.746281, -105.2092382], [39.7462978, -105.209256], [39.7463242, -105.209292], [39.7463458, -105.2093473], [39.746361, -105.2094251], [39.7463921, -105.2095768], [39.7464353, -105.2097133], [39.7465001, -105.2098285], [39.7467097, -105.21004], [39.7467814, -105.2101094], [39.7473357, -105.2106047], [39.7474554, -105.2107116], [39.7475615, -105.2108064], [39.7475958, -105.2108371], [39.747653, -105.2108907], [39.7481502, -105.2113567], [39.7483361, -105.2115309], [39.7483726, -105.2115651], [39.7484183, -105.2116079], [39.7484718, -105.2116584], [39.7487212, -105.2118951], [39.749238, -105.2123721], [39.7492814, -105.2124135], [39.7500059, -105.2130759], [39.7500454, -105.2131129], [39.7503812, -105.2134256], [39.7504627, -105.2135015], [39.7508219, -105.2138362], [39.7508792, -105.2138895], [39.7509348, -105.2139426], [39.7511093, -105.2141093], [39.7516271, -105.2146038], [39.7516716, -105.2146463], [39.751739, -105.2147085], [39.7524829, -105.2153953], [39.7525012, -105.2154123], [39.7532517, -105.2161101], [39.7533052, -105.2161598], [39.7540716, -105.2168674], [39.7541308, -105.2169221], [39.7544795, -105.2172508], [39.7546281, -105.2174522], [39.7546745, -105.2175037], [39.7548394, -105.2176869], [39.7549112, -105.2177871], [39.7548521, -105.2179433], [39.7546476, -105.2183047], [39.7544379, -105.2186805], [39.7544293, -105.218688], [39.7543723, -105.2187394], [39.7544376, -105.2188002], [39.7544872, -105.2188464], [39.7547934, -105.2191313], [39.7551071, -105.2194077], [39.7551368, -105.2194339], [39.755202, -105.2194913], [39.7552559, -105.2195411], [39.755615, -105.2198733], [39.755696, -105.2199479], [39.7559351, -105.2201693], [39.7559559, -105.220191], [39.7560109, -105.2202486], [39.7560703, -105.2203182], [39.756257, -105.2205368], [39.7562813, -105.2205598], [39.7564057, -105.2206774], [39.7565461, -105.2208058], [39.7567417, -105.2209442], [39.7566986, -105.2211001], [39.756638, -105.2213112], [39.7565732, -105.2214643], [39.7565209, -105.2215678], [39.7564595, -105.2216814], [39.7562914, -105.2219923], [39.7562254, -105.2221143], [39.7563006, -105.2221853], [39.7566193, -105.222483], [39.7566315, -105.2224957], [39.7569475, -105.2227913], [39.7570561, -105.222895], [39.7574792, -105.2232693], [39.7575579, -105.2233409], [39.7576236, -105.2234019], [39.7578565, -105.2236199], [39.7579703, -105.2237258], [39.7580027, -105.2237561], [39.7583001, -105.2240544], [39.7583591, -105.2241084], [39.7587249, -105.2244446], [39.7588057, -105.22452], [39.7591609, -105.2248516], [39.7595089, -105.2251741], [39.7596887, -105.2253408], [39.7597554, -105.2254024], [39.7598802, -105.2255173], [39.7598939, -105.2255305], [39.7599658, -105.2255988], [39.7600186, -105.2256498], [39.7604008, -105.2259941], [39.7605066, -105.2260931], [39.7605924, -105.226174], [39.760667, -105.2262427], [39.7607946, -105.2263631], [39.7608753, -105.2264373], [39.7615829, -105.2271044], [39.7616266, -105.2271481], [39.7616788, -105.2272008], [39.762203, -105.2276943], [39.7623411, -105.2278299], [39.7630405, -105.2284565], [39.7632824, -105.2286685], [39.7637358, -105.2290679], [39.7640137, -105.229309], [39.7640954, -105.229381], [39.7641743, -105.229462], [39.76436, -105.2296495], [39.7645376, -105.2298658], [39.764824, -105.2301918], [39.7652051, -105.2307044], [39.7654711, -105.2310802], [39.7654801, -105.2310934], [39.7655308, -105.231168], [39.7655792, -105.231232], [39.7655918, -105.2312486], [39.7657719, -105.2315035], [39.7658973, -105.2316751], [39.7659962, -105.2318039], [39.7661018, -105.231924], [39.7662469, -105.2320614], [39.7664515, -105.2322588], [39.7671442, -105.2329283], [39.7673559, -105.2331244], [39.7674414, -105.2332053], [39.7675186, -105.2332845], [39.7675756, -105.2333522], [39.7676291, -105.2334243], [39.7676969, -105.2335369], [39.7677304, -105.233602], [39.767761, -105.2336649], [39.7677908, -105.233739], [39.7678172, -105.233812], [39.7678551, -105.2339422], [39.7678736, -105.2340294], [39.7678904, -105.2341257], [39.7679032, -105.2342329], [39.7679095, -105.2343359], [39.7679068, -105.2344027], [39.7679029, -105.234499], [39.7678875, -105.2346626], [39.7678651, -105.2347791], [39.7678384, -105.2348898], [39.7678006, -105.2350283], [39.7677517, -105.2352031], [39.7677119, -105.2353468]],\n",
       "                {&quot;bubblingMouseEvents&quot;: true, &quot;color&quot;: &quot;#0c0786&quot;, &quot;dashArray&quot;: null, &quot;dashOffset&quot;: null, &quot;fill&quot;: false, &quot;fillColor&quot;: &quot;#0c0786&quot;, &quot;fillOpacity&quot;: 0.2, &quot;fillRule&quot;: &quot;evenodd&quot;, &quot;lineCap&quot;: &quot;round&quot;, &quot;lineJoin&quot;: &quot;round&quot;, &quot;noClip&quot;: false, &quot;opacity&quot;: 0.8, &quot;smoothFactor&quot;: 1.0, &quot;stroke&quot;: true, &quot;weight&quot;: 10}\n",
       "            ).addTo(map_f5e9fdbd4de71b8ef0064aeb6f947a41);\n",
       "        \n",
       "    \n",
       "            poly_line_63ad4d4e5561017b7e7fd40a459bf578.bindTooltip(\n",
       "                `&lt;div&gt;\n",
       "                     0.18722374836334246\n",
       "                 &lt;/div&gt;`,\n",
       "                {&quot;sticky&quot;: true}\n",
       "            );\n",
       "        \n",
       "    \n",
       "            var marker_57adc3ad6e7d8c7bd278d30d1df431de = L.marker(\n",
       "                [39.7273069, -105.1994169],\n",
       "                {}\n",
       "            ).addTo(map_f5e9fdbd4de71b8ef0064aeb6f947a41);\n",
       "        \n",
       "    \n",
       "            var icon_917c456f73b69b0b53fa8d8048d5f344 = L.AwesomeMarkers.icon(\n",
       "                {&quot;extraClasses&quot;: &quot;fa-rotate-0&quot;, &quot;icon&quot;: &quot;circle&quot;, &quot;iconColor&quot;: &quot;white&quot;, &quot;markerColor&quot;: &quot;green&quot;, &quot;prefix&quot;: &quot;fa&quot;}\n",
       "            );\n",
       "            marker_57adc3ad6e7d8c7bd278d30d1df431de.setIcon(icon_917c456f73b69b0b53fa8d8048d5f344);\n",
       "        \n",
       "    \n",
       "            marker_57adc3ad6e7d8c7bd278d30d1df431de.bindTooltip(\n",
       "                `&lt;div&gt;\n",
       "                     Origin\n",
       "                 &lt;/div&gt;`,\n",
       "                {&quot;sticky&quot;: true}\n",
       "            );\n",
       "        \n",
       "    \n",
       "            var marker_9f05f804eab779baf28827016a73a4e7 = L.marker(\n",
       "                [39.7677119, -105.2353468],\n",
       "                {}\n",
       "            ).addTo(map_f5e9fdbd4de71b8ef0064aeb6f947a41);\n",
       "        \n",
       "    \n",
       "            var icon_9c0d129fcb8005579733c0f5eae70f74 = L.AwesomeMarkers.icon(\n",
       "                {&quot;extraClasses&quot;: &quot;fa-rotate-0&quot;, &quot;icon&quot;: &quot;circle&quot;, &quot;iconColor&quot;: &quot;white&quot;, &quot;markerColor&quot;: &quot;red&quot;, &quot;prefix&quot;: &quot;fa&quot;}\n",
       "            );\n",
       "            marker_9f05f804eab779baf28827016a73a4e7.setIcon(icon_9c0d129fcb8005579733c0f5eae70f74);\n",
       "        \n",
       "    \n",
       "            marker_9f05f804eab779baf28827016a73a4e7.bindTooltip(\n",
       "                `&lt;div&gt;\n",
       "                     Destination\n",
       "                 &lt;/div&gt;`,\n",
       "                {&quot;sticky&quot;: true}\n",
       "            );\n",
       "        \n",
       "&lt;/script&gt;\n",
       "&lt;/html&gt;\" style=\"position:absolute;width:100%;height:100%;left:0;top:0;border:none !important;\" allowfullscreen webkitallowfullscreen mozallowfullscreen></iframe></div></div>"
      ],
      "text/plain": [
       "<folium.folium.Map at 0x124205e50>"
      ]
     },
     "execution_count": 16,
     "metadata": {},
     "output_type": "execute_result"
    }
   ],
   "source": [
    "m = plot_routes_folium(results, value_fn=lambda r: r[\"traversal_summary\"][\"energy\"], color_map=\"plasma\")\n",
    "m"
   ]
  },
  {
   "cell_type": "code",
   "execution_count": null,
   "id": "3687d632-c454-4f4c-8c77-9533bbab65fc",
   "metadata": {},
   "outputs": [],
   "source": []
  }
 ],
 "metadata": {
  "kernelspec": {
   "display_name": "Python 3 (ipykernel)",
   "language": "python",
   "name": "python3"
  },
  "language_info": {
   "codemirror_mode": {
    "name": "ipython",
    "version": 3
   },
   "file_extension": ".py",
   "mimetype": "text/x-python",
   "name": "python",
   "nbconvert_exporter": "python",
   "pygments_lexer": "ipython3",
   "version": "3.11.5"
  }
 },
 "nbformat": 4,
 "nbformat_minor": 5
}
