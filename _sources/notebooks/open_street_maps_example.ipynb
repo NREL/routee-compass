{
 "cells": [
  {
   "cell_type": "markdown",
   "id": "75b8a7cf-1dd0-4469-9b75-0f3d0824bf5c",
   "metadata": {},
   "source": [
    "# OpenStreetMap example\n",
    "\n",
    "In this example, we download a road network from OSM using the OSMNx package, and then process the result, resulting in a RouteE Compass network dataset.\n",
    "\n",
    "## requirements\n",
    "\n",
    "To download an open street maps dataset, we'll need some extra dependnecies which are included with the conda distribution of this pacakge: \n",
    "\n",
    "```console\n",
    "conda create -n routee-compass -c conda-forge python=3.11 nrel.routee.compass \n",
    "```"
   ]
  },
  {
   "cell_type": "code",
   "execution_count": 1,
   "id": "debe13e9-b483-496f-8e79-d99e93484fcf",
   "metadata": {},
   "outputs": [],
   "source": [
    "import osmnx as ox\n",
    "import pandas as pd\n",
    "import matplotlib.pyplot as plt\n",
    "\n",
    "import json\n",
    "\n",
    "from nrel.routee.compass.io import generate_compass_dataset\n",
    "from nrel.routee.compass import CompassApp"
   ]
  },
  {
   "cell_type": "markdown",
   "id": "6209ab68-8cf6-40cf-a9d8-624e8d90d986",
   "metadata": {},
   "source": [
    "## Building RouteE Compass Dataset\n",
    "\n",
    "### Get OSM graph\n",
    "\n",
    "First, we need to get an OSM graph that we can use to convert into the format RouteE Compass expects.\n",
    "\n",
    "In this example we will load in a road network that covers Golden, Colorado as a small example, but this workflow will work with any osmnx graph (osmnx provides [many graph download operations](https://osmnx.readthedocs.io/en/stable/user-reference.html#module-osmnx.graph))."
   ]
  },
  {
   "cell_type": "code",
   "execution_count": 2,
   "id": "4e0726db-5a19-48cb-964f-7030ba14f0b3",
   "metadata": {},
   "outputs": [],
   "source": [
    "g = ox.graph_from_place(\"Denver, Colorado, USA\", network_type=\"drive\")  "
   ]
  },
  {
   "cell_type": "markdown",
   "id": "052a41ad-daba-4b78-943d-5f24a089bf88",
   "metadata": {},
   "source": [
    "### Convert Graph to Compass Dataset\n",
    "\n",
    "Now, we call the `generate_compass_dataset` function which will convert the osmnx graph into files that are compatible with RouteE Compass.\n",
    "\n",
    "```{note}\n",
    "In order to get the most accurate energy results from the routee-powertrain vehicle models, it's important to include road grade information since it plays a large factor in vehicle energy consumption (`add_grade=True`)\n",
    "That being said, adding grade can be a big lift computationally. In our case, we pull digital elevation model (DEM) raster files from USGS and then use osmnx to append elevation and grade to the graph. If the graph is large, this can take a while to download and could take up a lot of disk space.\n",
    "So, we recommend that you include grade information in your graph but want to be clear about the requirements for doing so.\n",
    "```"
   ]
  },
  {
   "cell_type": "code",
   "execution_count": 3,
   "id": "2a99e267-0ba5-462f-83e4-e8428701597c",
   "metadata": {},
   "outputs": [
    {
     "name": "stdout",
     "output_type": "stream",
     "text": [
      "processing graph topology and speeds\n",
      "adding grade information\n"
     ]
    },
    {
     "name": "stderr",
     "output_type": "stream",
     "text": [
      "/Users/rfitzger/anaconda3/envs/routee-rust/lib/python3.9/site-packages/osgeo/gdal.py:287: FutureWarning: Neither gdal.UseExceptions() nor gdal.DontUseExceptions() has been explicitly called. In GDAL 4.0, exceptions will be enabled by default.\n",
      "  warnings.warn(\n"
     ]
    },
    {
     "name": "stdout",
     "output_type": "stream",
     "text": [
      "processing vertices\n",
      "processing edges\n",
      "writing vertex files\n",
      "writing edge files\n",
      "writing edge attribute files\n",
      "copying default configuration TOML files\n",
      "copying RouteE Powertrain models\n"
     ]
    }
   ],
   "source": [
    "generate_compass_dataset(g, output_directory=\"denver_co\", add_grade=True)      "
   ]
  },
  {
   "cell_type": "markdown",
   "id": "a54714f9-a4e5-48eb-84f9-4219a790956d",
   "metadata": {},
   "source": [
    "This will parse the OSM graph and write the RouteE Compass files into a new folder \"denver_co/\". If you take a look in this directory, you'll notice some `.toml` files like: `osm_default_energy.toml`. \n",
    "These are configurations for the compass application. Take a look [here](https://nrel.github.io/routee-compass/config.html) for more information about this file.\n",
    "\n",
    "## Running\n",
    "\n",
    "### Load Application\n",
    "\n",
    "Now we can load the application from one of our config files. \n",
    "We'll pick `osm_default_energy.toml` for computing energy optimal routes."
   ]
  },
  {
   "cell_type": "code",
   "execution_count": 5,
   "id": "edad6c15-c641-4010-b097-7d07aa86c1e7",
   "metadata": {},
   "outputs": [
    {
     "name": "stdout",
     "output_type": "stream",
     "text": [
      "\n",
      "\n",
      "\n",
      "\n"
     ]
    },
    {
     "name": "stderr",
     "output_type": "stream",
     "text": [
      "uuid file: 100%|██████████| 16991/16991 [00:00<00:00, 4182921.75it/s]/s]"
     ]
    }
   ],
   "source": [
    "app = CompassApp.from_config_file(\"denver_co/osm_default_energy.toml\")  "
   ]
  },
  {
   "cell_type": "markdown",
   "id": "4bfbfbf8-e721-4754-a165-0beb7b46b81b",
   "metadata": {},
   "source": [
    "###  Queries\n",
    "\n",
    "With our application loaded we can start computing routes by passing queries to the app.\n",
    "To demonstrate, we'll route between two locations in Denver, CO utilzing the grid search input plugin to run three separate searches. \n",
    "\n",
    "The `model_name` is the vehicle we want to use for the route. If you look in the folder `denver_co/models` you'll see a collection of routee-powertrain models that can be used to compute the energy for your query.\n",
    "\n",
    "The `vehicle_state_variable_rates` section defines rates to be applied to each component of the cost function. In this case we use the following costs:\n",
    "\n",
    " - 0.655 dollars per mile\n",
    " - 20 dollars per hour (or 0.333 dollars per minute)\n",
    " - 3 dollars per gallon of gas\n",
    "\n",
    "The `grid_search` section defines our test cases.\n",
    "Here, we have three cases: [`least_time`, `least_energy`, `least_cost`].  \n",
    "In the least_time and least_energy cases, we zero out all other variable contributions using the `state_variable_coefficients` which always get applied to each cost componenet.\n",
    "In the least_cost case, we allow each cost component to contribute equally and the algorithm will minimize the resulting cost from all components being added together (after getting multiplied by the appropriate `vehicle_state_variable_rate`."
   ]
  },
  {
   "cell_type": "code",
   "execution_count": 6,
   "id": "f01086d0-231f-4013-bc24-97f9c56670bd",
   "metadata": {},
   "outputs": [],
   "source": [
    "query = [\n",
    "    {\n",
    "        \"origin_x\": -104.969307,\n",
    "        \"origin_y\": 39.779021,\n",
    "        \"destination_x\": -104.975360,\n",
    "        \"destination_y\": 39.693005,\n",
    "        \"model_name\": \"2016_TOYOTA_Camry_4cyl_2WD\",\n",
    "        \"vehicle_rates\": {\n",
    "            \"distance\": {\"type\": \"factor\", \"factor\": 0.655},\n",
    "            \"time\": {\"type\": \"factor\", \"factor\": 0.33},\n",
    "            \"energy_liquid\": {\"type\": \"factor\", \"factor\": 3.0},            \n",
    "        },\n",
    "        \"grid_search\": {\n",
    "            \"test_cases\": [\n",
    "              {\n",
    "                \"name\": \"least_time\",\n",
    "                \"weights\": {\n",
    "                  \"distance\": 0,\n",
    "                  \"time\": 1,\n",
    "                  \"energy_liquid\": 0\n",
    "                }\n",
    "              },\n",
    "              {\n",
    "                \"name\": \"least_energy\",\n",
    "                \"weights\": {\n",
    "                  \"distance\": 0,\n",
    "                  \"time\": 0,\n",
    "                  \"energy_liquid\": 1\n",
    "                }\n",
    "              },\n",
    "              {\n",
    "                \"name\": \"least_cost\",\n",
    "                \"weights\": {\n",
    "                  \"distance\": 1,\n",
    "                  \"time\": 1,\n",
    "                  \"energy_liquid\": 1\n",
    "                }\n",
    "              }\n",
    "            ]\n",
    "          }    \n",
    "    },\n",
    "]"
   ]
  },
  {
   "cell_type": "markdown",
   "id": "f1977bac-446f-41b2-b32d-ecfd449c3d5c",
   "metadata": {},
   "source": [
    "Now, let's pass the query to the application.\n",
    "\n",
    "```{note}\n",
    "A query can be a single object, or, a list of objects.\n",
    "If the input is a list of objects, the application will run these queries in parallel over the number of threads defined in the config file under the `paralellism` key (defaults to 2).\n",
    "```"
   ]
  },
  {
   "cell_type": "code",
   "execution_count": 7,
   "id": "c6e9361b-5ffd-4ec5-a09a-d51e46752ebf",
   "metadata": {},
   "outputs": [
    {
     "name": "stdout",
     "output_type": "stream",
     "text": [
      "\n"
     ]
    },
    {
     "name": "stderr",
     "output_type": "stream",
     "text": [
      "search: 100%|██████████| 3/3 [00:00<00:00, 35.65it/s]2.69it/s]"
     ]
    }
   ],
   "source": [
    "results = app.run(query)"
   ]
  },
  {
   "cell_type": "raw",
   "id": "6c1a5ea7-448a-4b4f-8787-085956b0f280",
   "metadata": {},
   "source": [
    "## Analysis\n",
    "\n",
    "The application returns the results as a list of python dictionaries.\n",
    "Since we used the grid search to specify three separate searches, we should get three results back:"
   ]
  },
  {
   "cell_type": "code",
   "execution_count": 7,
   "id": "2c51774c-acff-4569-a820-4be5ba5aa51b",
   "metadata": {},
   "outputs": [],
   "source": [
    "for r in results:\n",
    "    error = r.get(\"error\")\n",
    "    if error is not None:\n",
    "        print(f\"request had error: {error}\")\n",
    "\n",
    "assert len(results)==3, f\"expected 3 results, found {len(results)}\""
   ]
  },
  {
   "cell_type": "markdown",
   "id": "0b84c836-32b3-46d3-8a1f-a3f9511b1fd2",
   "metadata": {},
   "source": [
    "### Traversal and Cost Summaries\n",
    "\n",
    "Since we have the `traversal` output plugin activated by default, we can take a look at the summary for each result under the `traversal_summary` key."
   ]
  },
  {
   "cell_type": "code",
   "execution_count": 8,
   "id": "1825ee52",
   "metadata": {},
   "outputs": [],
   "source": [
    "def pretty_print(dict):\n",
    "    print(json.dumps(dict, indent=4))\n",
    "    \n",
    "shortest_time_result = next(filter(lambda r: r[\"request\"][\"name\"] == \"least_time\", results))\n",
    "least_energy_result = next(filter(lambda r: r[\"request\"][\"name\"] == \"least_energy\", results))\n",
    "least_cost_result = next(filter(lambda r: r[\"request\"][\"name\"] == \"least_cost\", results))"
   ]
  },
  {
   "cell_type": "markdown",
   "id": "18b50d4e",
   "metadata": {},
   "source": [
    "Summary of route result for distance, time, and energy:"
   ]
  },
  {
   "cell_type": "code",
   "execution_count": 9,
   "id": "961c910c-63ec-4c79-9522-19f24f151215",
   "metadata": {},
   "outputs": [
    {
     "name": "stdout",
     "output_type": "stream",
     "text": [
      "{\n",
      "    \"distance\": 9.152878807061885,\n",
      "    \"energy_electric\": 0.0,\n",
      "    \"energy_liquid\": 0.32011129944536876,\n",
      "    \"time\": 10.905464892278664\n",
      "}\n"
     ]
    }
   ],
   "source": [
    "pretty_print(shortest_time_result[\"traversal_summary\"])"
   ]
  },
  {
   "cell_type": "markdown",
   "id": "8335e9c5-a74f-463f-b870-d4006ab79ada",
   "metadata": {},
   "source": [
    "And, if we need to know the units and/or the initial conditions for the search, we can look at the state model"
   ]
  },
  {
   "cell_type": "code",
   "execution_count": 10,
   "id": "804b8d54-43d8-4c57-889d-e23f947892ee",
   "metadata": {},
   "outputs": [
    {
     "name": "stdout",
     "output_type": "stream",
     "text": [
      "{\n",
      "    \"distance\": {\n",
      "        \"distance_unit\": \"miles\",\n",
      "        \"initial\": 0.0\n",
      "    },\n",
      "    \"energy_electric\": {\n",
      "        \"energy_unit\": \"kilowatt_hours\",\n",
      "        \"initial\": 0.0\n",
      "    },\n",
      "    \"energy_liquid\": {\n",
      "        \"energy_unit\": \"gallons_gasoline\",\n",
      "        \"initial\": 0.0\n",
      "    },\n",
      "    \"time\": {\n",
      "        \"initial\": 0.0,\n",
      "        \"time_unit\": \"minutes\"\n",
      "    }\n",
      "}\n"
     ]
    }
   ],
   "source": [
    "pretty_print(shortest_time_result[\"state_model\"])"
   ]
  },
  {
   "cell_type": "markdown",
   "id": "22141c5e",
   "metadata": {},
   "source": [
    "The cost section shows the costs per unit assigned to the trip, in dollars.\n",
    "\n",
    "This is based on the user assumptions assigned in the configuration which can be overriden in the route request query."
   ]
  },
  {
   "cell_type": "code",
   "execution_count": 11,
   "id": "d4501094",
   "metadata": {},
   "outputs": [
    {
     "name": "stdout",
     "output_type": "stream",
     "text": [
      "{\n",
      "    \"distance\": 5.995135618625535,\n",
      "    \"energy_electric\": 0.0,\n",
      "    \"energy_liquid\": 0.9603338983361063,\n",
      "    \"time\": 3.598803414451959,\n",
      "    \"total_cost\": 10.5542729314136\n",
      "}\n"
     ]
    }
   ],
   "source": [
    "pretty_print(shortest_time_result[\"cost\"])"
   ]
  },
  {
   "cell_type": "markdown",
   "id": "ee8ad015",
   "metadata": {},
   "source": [
    "The cost_model section includes details for how these costs were calculated. \n",
    "\n",
    "The user can set different state variable coefficients in the query that are weighted against the vehicle state variable rates.\n",
    "\n",
    "The algorithm will rely on the weighted costs while the cost summary will show the final costs without weight coefficients applied."
   ]
  },
  {
   "cell_type": "code",
   "execution_count": 12,
   "id": "788183c8",
   "metadata": {},
   "outputs": [
    {
     "name": "stdout",
     "output_type": "stream",
     "text": [
      "{\n",
      "    \"cost_aggregation\": \"sum\",\n",
      "    \"distance\": {\n",
      "        \"feature\": \"distance\",\n",
      "        \"network_rate\": {\n",
      "            \"type\": \"zero\"\n",
      "        },\n",
      "        \"vehicle_rate\": {\n",
      "            \"factor\": 0.655,\n",
      "            \"type\": \"factor\"\n",
      "        },\n",
      "        \"weight\": 0.0\n",
      "    },\n",
      "    \"energy_electric\": {\n",
      "        \"feature\": \"energy_electric\",\n",
      "        \"network_rate\": {\n",
      "            \"type\": \"zero\"\n",
      "        },\n",
      "        \"vehicle_rate\": {\n",
      "            \"type\": \"zero\"\n",
      "        },\n",
      "        \"weight\": 0.0\n",
      "    },\n",
      "    \"energy_liquid\": {\n",
      "        \"feature\": \"energy_liquid\",\n",
      "        \"network_rate\": {\n",
      "            \"type\": \"zero\"\n",
      "        },\n",
      "        \"vehicle_rate\": {\n",
      "            \"factor\": 3.0,\n",
      "            \"type\": \"factor\"\n",
      "        },\n",
      "        \"weight\": 0.0\n",
      "    },\n",
      "    \"time\": {\n",
      "        \"feature\": \"time\",\n",
      "        \"network_rate\": {\n",
      "            \"type\": \"zero\"\n",
      "        },\n",
      "        \"vehicle_rate\": {\n",
      "            \"factor\": 0.33,\n",
      "            \"type\": \"factor\"\n",
      "        },\n",
      "        \"weight\": 1.0\n",
      "    }\n",
      "}\n"
     ]
    }
   ],
   "source": [
    "pretty_print(shortest_time_result[\"cost_model\"])"
   ]
  },
  {
   "cell_type": "markdown",
   "id": "a6a7fc0e",
   "metadata": {},
   "source": [
    "Each response object contains this information. The least energy traversal and cost summary are below."
   ]
  },
  {
   "cell_type": "code",
   "execution_count": 13,
   "id": "e2c6cb39-49aa-4697-9785-fa839dc16a86",
   "metadata": {},
   "outputs": [
    {
     "name": "stdout",
     "output_type": "stream",
     "text": [
      "{\n",
      "    \"distance\": 6.733433188572938,\n",
      "    \"energy_electric\": 0.0,\n",
      "    \"energy_liquid\": 0.2664853255906838,\n",
      "    \"time\": 12.777312852016575\n",
      "}\n",
      "{\n",
      "    \"distance\": 4.4103987385152745,\n",
      "    \"energy_electric\": 0.0,\n",
      "    \"energy_liquid\": 0.7994559767720513,\n",
      "    \"time\": 4.21651324116547,\n",
      "    \"total_cost\": 9.426367956452795\n",
      "}\n"
     ]
    }
   ],
   "source": [
    "pretty_print(least_energy_result[\"traversal_summary\"])\n",
    "pretty_print(least_energy_result[\"cost\"])"
   ]
  },
  {
   "cell_type": "markdown",
   "id": "73127486",
   "metadata": {},
   "source": [
    "What becomes interesting is if we can compare our choices. Here's a quick comparison of the shortest time and least energy routes:"
   ]
  },
  {
   "cell_type": "code",
   "execution_count": 14,
   "id": "6283c273",
   "metadata": {},
   "outputs": [
    {
     "name": "stdout",
     "output_type": "stream",
     "text": [
      " - distance: 2.42 miles further with time-optimal\n",
      " - time: 1.87 minutes longer with energy-optimal\n",
      " - energy: 0.05 gallons_gasoline more with time-optimal\n",
      " - cost: $1.13 more with time-optimal\n"
     ]
    }
   ],
   "source": [
    "dist_diff = shortest_time_result[\"traversal_summary\"][\"distance\"] - least_energy_result[\"traversal_summary\"][\"distance\"]\n",
    "time_diff = shortest_time_result[\"traversal_summary\"][\"time\"] - least_energy_result[\"traversal_summary\"][\"time\"]\n",
    "enrg_diff = shortest_time_result[\"traversal_summary\"][\"energy_liquid\"] - least_energy_result[\"traversal_summary\"][\"energy_liquid\"]\n",
    "cost_diff = shortest_time_result[\"cost\"][\"total_cost\"] - least_energy_result[\"cost\"][\"total_cost\"]\n",
    "dist_unit = shortest_time_result[\"state_model\"][\"distance\"][\"distance_unit\"]\n",
    "time_unit = shortest_time_result[\"state_model\"][\"time\"][\"time_unit\"]\n",
    "enrg_unit = shortest_time_result[\"state_model\"][\"energy_liquid\"][\"energy_unit\"]\n",
    "print(f\" - distance: {dist_diff:.2f} {dist_unit} further with time-optimal\")\n",
    "print(f\" - time: {-time_diff:.2f} {time_unit} longer with energy-optimal\")\n",
    "print(f\" - energy: {enrg_diff:.2f} {enrg_unit} more with time-optimal\")\n",
    "print(f\" - cost: ${cost_diff:.2f} more with time-optimal\")"
   ]
  },
  {
   "cell_type": "markdown",
   "id": "7a6af97d-7f60-4bc1-9b7e-df594e59ebfd",
   "metadata": {},
   "source": [
    "In addition to the summary, the result also contains much more information.\n",
    "Here's a list of all the different sections that get returned:"
   ]
  },
  {
   "cell_type": "code",
   "execution_count": 15,
   "id": "791e814f-333c-43f4-ae84-36b9be517548",
   "metadata": {},
   "outputs": [
    {
     "name": "stdout",
     "output_type": "stream",
     "text": [
      " - algorithm_runtime\n",
      " - basic_summary_runtime\n",
      " - cost\n",
      "   - distance\n",
      "   - energy_electric\n",
      "   - energy_liquid\n",
      "   - time\n",
      "   - total_cost\n",
      " - cost_model\n",
      "   - cost_aggregation\n",
      "   - distance\n",
      "     - feature\n",
      "     - network_rate\n",
      "       - type\n",
      "     - vehicle_rate\n",
      "       - factor\n",
      "       - type\n",
      "     - weight\n",
      "   - energy_electric\n",
      "     - feature\n",
      "     - network_rate\n",
      "       - type\n",
      "     - vehicle_rate\n",
      "       - type\n",
      "     - weight\n",
      "   - energy_liquid\n",
      "     - feature\n",
      "     - network_rate\n",
      "       - type\n",
      "     - vehicle_rate\n",
      "       - factor\n",
      "       - type\n",
      "     - weight\n",
      "   - time\n",
      "     - feature\n",
      "     - network_rate\n",
      "       - type\n",
      "     - vehicle_rate\n",
      "       - factor\n",
      "       - type\n",
      "     - weight\n",
      " - destination_vertex_uuid\n",
      " - iterations\n",
      " - origin_vertex_uuid\n",
      " - output_plugin_executed_time\n",
      " - request\n",
      "   - destination_vertex\n",
      "   - destination_x\n",
      "   - destination_y\n",
      "   - model_name\n",
      "   - name\n",
      "   - origin_vertex\n",
      "   - origin_x\n",
      "   - origin_y\n",
      "   - query_weight_estimate\n",
      "   - state_variable_coefficients\n",
      "     - distance\n",
      "     - energy_liquid\n",
      "     - time\n",
      "   - vehicle_state_variable_rates\n",
      "     - distance\n",
      "       - factor\n",
      "       - type\n",
      "     - energy_liquid\n",
      "       - factor\n",
      "       - type\n",
      "     - time\n",
      "       - factor\n",
      "       - type\n",
      " - route\n",
      "   - features\n",
      "   - type\n",
      " - route_size_count\n",
      " - search_app_runtime\n",
      " - search_executed_time\n",
      " - state_model\n",
      "   - distance\n",
      "     - distance_unit\n",
      "     - initial\n",
      "   - energy_electric\n",
      "     - energy_unit\n",
      "     - initial\n",
      "   - energy_liquid\n",
      "     - energy_unit\n",
      "     - initial\n",
      "   - time\n",
      "     - initial\n",
      "     - time_unit\n",
      " - traversal_summary\n",
      "   - distance\n",
      "   - energy_electric\n",
      "   - energy_liquid\n",
      "   - time\n",
      " - tree_size_count\n",
      " - tree_size_mb\n"
     ]
    }
   ],
   "source": [
    "def print_keys(d, indent=0):\n",
    "    for k in sorted(d.keys()):\n",
    "        print(f\"{' '*indent} - {k}\")\n",
    "        if isinstance(d[k], dict):\n",
    "            print_keys(d[k], indent+2)\n",
    "print_keys(least_energy_result)"
   ]
  },
  {
   "cell_type": "markdown",
   "id": "02501e5a-6e5b-4c1b-bc48-3c9e6e206ab7",
   "metadata": {},
   "source": [
    "### Plotting\n",
    "\n",
    "We can also plot the results to see the difference between the two routes."
   ]
  },
  {
   "cell_type": "code",
   "execution_count": 16,
   "id": "30257102-07ee-4338-9c8c-41676e1995ed",
   "metadata": {},
   "outputs": [],
   "source": [
    "from nrel.routee.compass.plot import plot_route_folium, plot_routes_folium"
   ]
  },
  {
   "cell_type": "markdown",
   "id": "70e99c19-cfeb-4bf3-a012-09d7727cdda2",
   "metadata": {},
   "source": [
    "We can use the `plot_route_folium` function to plot single routes, passing in the `line_kwargs` parameter to customize the folium linestring:"
   ]
  },
  {
   "cell_type": "code",
   "execution_count": 17,
   "id": "1ac13aae-32fc-4c10-b888-6373b175655a",
   "metadata": {},
   "outputs": [
    {
     "data": {
      "text/html": [
       "<div style=\"width:100%;\"><div style=\"position:relative;width:100%;height:0;padding-bottom:60%;\"><span style=\"color:#565656\">Make this Notebook Trusted to load map: File -> Trust Notebook</span><iframe srcdoc=\"&lt;!DOCTYPE html&gt;\n",
       "&lt;html&gt;\n",
       "&lt;head&gt;\n",
       "    \n",
       "    &lt;meta http-equiv=&quot;content-type&quot; content=&quot;text/html; charset=UTF-8&quot; /&gt;\n",
       "    \n",
       "        &lt;script&gt;\n",
       "            L_NO_TOUCH = false;\n",
       "            L_DISABLE_3D = false;\n",
       "        &lt;/script&gt;\n",
       "    \n",
       "    &lt;style&gt;html, body {width: 100%;height: 100%;margin: 0;padding: 0;}&lt;/style&gt;\n",
       "    &lt;style&gt;#map {position:absolute;top:0;bottom:0;right:0;left:0;}&lt;/style&gt;\n",
       "    &lt;script src=&quot;https://cdn.jsdelivr.net/npm/leaflet@1.9.3/dist/leaflet.js&quot;&gt;&lt;/script&gt;\n",
       "    &lt;script src=&quot;https://code.jquery.com/jquery-1.12.4.min.js&quot;&gt;&lt;/script&gt;\n",
       "    &lt;script src=&quot;https://cdn.jsdelivr.net/npm/bootstrap@5.2.2/dist/js/bootstrap.bundle.min.js&quot;&gt;&lt;/script&gt;\n",
       "    &lt;script src=&quot;https://cdnjs.cloudflare.com/ajax/libs/Leaflet.awesome-markers/2.0.2/leaflet.awesome-markers.js&quot;&gt;&lt;/script&gt;\n",
       "    &lt;link rel=&quot;stylesheet&quot; href=&quot;https://cdn.jsdelivr.net/npm/leaflet@1.9.3/dist/leaflet.css&quot;/&gt;\n",
       "    &lt;link rel=&quot;stylesheet&quot; href=&quot;https://cdn.jsdelivr.net/npm/bootstrap@5.2.2/dist/css/bootstrap.min.css&quot;/&gt;\n",
       "    &lt;link rel=&quot;stylesheet&quot; href=&quot;https://netdna.bootstrapcdn.com/bootstrap/3.0.0/css/bootstrap.min.css&quot;/&gt;\n",
       "    &lt;link rel=&quot;stylesheet&quot; href=&quot;https://cdn.jsdelivr.net/npm/@fortawesome/fontawesome-free@6.2.0/css/all.min.css&quot;/&gt;\n",
       "    &lt;link rel=&quot;stylesheet&quot; href=&quot;https://cdnjs.cloudflare.com/ajax/libs/Leaflet.awesome-markers/2.0.2/leaflet.awesome-markers.css&quot;/&gt;\n",
       "    &lt;link rel=&quot;stylesheet&quot; href=&quot;https://cdn.jsdelivr.net/gh/python-visualization/folium/folium/templates/leaflet.awesome.rotate.min.css&quot;/&gt;\n",
       "    \n",
       "            &lt;meta name=&quot;viewport&quot; content=&quot;width=device-width,\n",
       "                initial-scale=1.0, maximum-scale=1.0, user-scalable=no&quot; /&gt;\n",
       "            &lt;style&gt;\n",
       "                #map_b6cf708d54aa4599b756d3ce62516c9c {\n",
       "                    position: relative;\n",
       "                    width: 100.0%;\n",
       "                    height: 100.0%;\n",
       "                    left: 0.0%;\n",
       "                    top: 0.0%;\n",
       "                }\n",
       "                .leaflet-container { font-size: 1rem; }\n",
       "            &lt;/style&gt;\n",
       "        \n",
       "&lt;/head&gt;\n",
       "&lt;body&gt;\n",
       "    \n",
       "    \n",
       "            &lt;div class=&quot;folium-map&quot; id=&quot;map_b6cf708d54aa4599b756d3ce62516c9c&quot; &gt;&lt;/div&gt;\n",
       "        \n",
       "&lt;/body&gt;\n",
       "&lt;script&gt;\n",
       "    \n",
       "    \n",
       "            var map_b6cf708d54aa4599b756d3ce62516c9c = L.map(\n",
       "                &quot;map_b6cf708d54aa4599b756d3ce62516c9c&quot;,\n",
       "                {\n",
       "                    center: [39.73823928833008, -105.01406860351562],\n",
       "                    crs: L.CRS.EPSG3857,\n",
       "                    zoom: 12,\n",
       "                    zoomControl: true,\n",
       "                    preferCanvas: false,\n",
       "                }\n",
       "            );\n",
       "\n",
       "            \n",
       "\n",
       "        \n",
       "    \n",
       "            var tile_layer_91198d8453ecb8ddf13da3c43cd11146 = L.tileLayer(\n",
       "                &quot;https://{s}.tile.openstreetmap.org/{z}/{x}/{y}.png&quot;,\n",
       "                {&quot;attribution&quot;: &quot;Data by \\u0026copy; \\u003ca target=\\&quot;_blank\\&quot; href=\\&quot;http://openstreetmap.org\\&quot;\\u003eOpenStreetMap\\u003c/a\\u003e, under \\u003ca target=\\&quot;_blank\\&quot; href=\\&quot;http://www.openstreetmap.org/copyright\\&quot;\\u003eODbL\\u003c/a\\u003e.&quot;, &quot;detectRetina&quot;: false, &quot;maxNativeZoom&quot;: 18, &quot;maxZoom&quot;: 18, &quot;minZoom&quot;: 0, &quot;noWrap&quot;: false, &quot;opacity&quot;: 1, &quot;subdomains&quot;: &quot;abc&quot;, &quot;tms&quot;: false}\n",
       "            ).addTo(map_b6cf708d54aa4599b756d3ce62516c9c);\n",
       "        \n",
       "    \n",
       "            var poly_line_0633987bf2e82ded548a26dc464c4978 = L.polyline(\n",
       "                [[39.77902603149414, -104.96916961669922], [39.77896499633789, -104.96910095214844], [39.77878189086914, -104.96887969970703], [39.778751373291016, -104.96884155273438], [39.778587341308594, -104.9686508178711], [39.778480529785156, -104.96852111816406], [39.77839660644531, -104.96841430664062], [39.77846908569336, -104.96832275390625], [39.77865982055664, -104.96807098388672], [39.778709411621094, -104.96791076660156], [39.77894592285156, -104.96761322021484], [39.77906799316406, -104.96745300292969], [39.77915954589844, -104.96732330322266], [39.7791862487793, -104.96728515625], [39.779232025146484, -104.96722412109375], [39.77926254272461, -104.96719360351562], [39.779293060302734, -104.9671630859375], [39.77932357788086, -104.96714782714844], [39.77938461303711, -104.96710968017578], [39.779441833496094, -104.96707916259766], [39.77951431274414, -104.96704864501953], [39.7796745300293, -104.96698760986328], [39.77983093261719, -104.9669418334961], [39.78031921386719, -104.96683502197266], [39.780364990234375, -104.9668197631836], [39.78050231933594, -104.966796875], [39.78049850463867, -104.96688079833984], [39.78049850463867, -104.96698760986328], [39.78049850463867, -104.96705627441406], [39.78049087524414, -104.96717834472656], [39.78046798706055, -104.96759033203125], [39.78045654296875, -104.96772003173828], [39.78042984008789, -104.96797180175781], [39.78041458129883, -104.96810913085938], [39.780372619628906, -104.96839904785156], [39.78034210205078, -104.96859741210938], [39.780296325683594, -104.96888732910156], [39.7802734375, -104.96903228759766], [39.78025436401367, -104.96917724609375], [39.780250549316406, -104.96920776367188], [39.780235290527344, -104.96934509277344], [39.78020095825195, -104.96965789794922], [39.78001403808594, -104.9715347290039], [39.77994155883789, -104.97315216064453], [39.77980422973633, -104.97496032714844], [39.7797737121582, -104.97691345214844], [39.7797737121582, -104.9772720336914], [39.7797737121582, -104.97753143310547], [39.7797737121582, -104.97764587402344], [39.779781341552734, -104.97801971435547], [39.77980041503906, -104.97874450683594], [39.77981948852539, -104.97929382324219], [39.77983093261719, -104.97946166992188], [39.77986526489258, -104.98001861572266], [39.77991485595703, -104.98080444335938], [39.779991149902344, -104.98214721679688], [39.78001403808594, -104.98335266113281], [39.7800178527832, -104.98450469970703], [39.78002166748047, -104.98558044433594], [39.780033111572266, -104.98602294921875], [39.7800407409668, -104.98613739013672], [39.780059814453125, -104.98633575439453], [39.780086517333984, -104.9865493774414], [39.780128479003906, -104.98677825927734], [39.780174255371094, -104.98695373535156], [39.78023910522461, -104.98715209960938], [39.780540466308594, -104.98787689208984], [39.78069305419922, -104.98828887939453], [39.78076934814453, -104.98860168457031], [39.780784606933594, -104.98871612548828], [39.780792236328125, -104.98896026611328], [39.78078079223633, -104.98912048339844], [39.780765533447266, -104.98928833007812], [39.78071975708008, -104.98950958251953], [39.78061294555664, -104.98975372314453], [39.78052520751953, -104.98993682861328], [39.78038787841797, -104.99011993408203], [39.78028869628906, -104.99024963378906], [39.780174255371094, -104.99034881591797], [39.77997589111328, -104.990478515625], [39.77995300292969, -104.99049377441406], [39.77978515625, -104.99056243896484], [39.77960205078125, -104.99060821533203], [39.7794189453125, -104.99060821533203], [39.77922439575195, -104.9905776977539], [39.778968811035156, -104.99048614501953], [39.77858352661133, -104.9903335571289], [39.778541564941406, -104.99031066894531], [39.77811050415039, -104.99011993408203], [39.777706146240234, -104.98995208740234], [39.7775764465332, -104.98990631103516], [39.77741241455078, -104.98985290527344], [39.77730941772461, -104.98983001708984], [39.7772102355957, -104.98980712890625], [39.777130126953125, -104.98979949951172], [39.77692794799805, -104.98979187011719], [39.77660369873047, -104.98979187011719], [39.77629089355469, -104.98980712890625], [39.77605056762695, -104.98982238769531], [39.77583694458008, -104.98986053466797], [39.77559280395508, -104.98991394042969], [39.7751579284668, -104.99003601074219], [39.774871826171875, -104.99012756347656], [39.77482986450195, -104.9901351928711], [39.774696350097656, -104.99018096923828], [39.774539947509766, -104.99022674560547], [39.774383544921875, -104.99026489257812], [39.77424621582031, -104.99028778076172], [39.77410888671875, -104.99029541015625], [39.773887634277344, -104.99030303955078], [39.77339553833008, -104.99031829833984], [39.773284912109375, -104.99031829833984], [39.77314376831055, -104.99032592773438], [39.773006439208984, -104.99034118652344], [39.77288055419922, -104.99036407470703], [39.77272033691406, -104.99040222167969], [39.77251434326172, -104.99046325683594], [39.77234649658203, -104.99051666259766], [39.77214431762695, -104.99059295654297], [39.77194595336914, -104.99068450927734], [39.77174377441406, -104.99079895019531], [39.77142333984375, -104.99098205566406], [39.77122116088867, -104.9911117553711], [39.77073287963867, -104.9914321899414], [39.7704963684082, -104.99164581298828], [39.770259857177734, -104.99187469482422], [39.77001190185547, -104.99214172363281], [39.769779205322266, -104.99241638183594], [39.76954650878906, -104.99272918701172], [39.76931381225586, -104.99305725097656], [39.76912307739258, -104.99334716796875], [39.76897048950195, -104.99359893798828], [39.768775939941406, -104.99393463134766], [39.768592834472656, -104.99432373046875], [39.76849365234375, -104.99454498291016], [39.76826477050781, -104.9951171875], [39.768192291259766, -104.99535369873047], [39.76802062988281, -104.99580383300781], [39.767581939697266, -104.99694061279297], [39.767154693603516, -104.99806213378906], [39.766963958740234, -104.9985580444336], [39.76682662963867, -104.9989013671875], [39.7667121887207, -104.99915313720703], [39.76656723022461, -104.99944305419922], [39.76641845703125, -104.99970245361328], [39.766273498535156, -104.99990844726562], [39.766109466552734, -105.00015258789062], [39.7659912109375, -105.00031280517578], [39.7658805847168, -105.0004653930664], [39.765750885009766, -105.00062561035156], [39.765567779541016, -105.00081634521484], [39.76536560058594, -105.00100708007812], [39.76518249511719, -105.00117492675781], [39.76498794555664, -105.00135803222656], [39.763919830322266, -105.002197265625], [39.76262283325195, -105.00331115722656], [39.76240539550781, -105.00350189208984], [39.762203216552734, -105.0036849975586], [39.76198959350586, -105.00389099121094], [39.76179885864258, -105.00407409667969], [39.7616081237793, -105.0042724609375], [39.761444091796875, -105.00445556640625], [39.761260986328125, -105.00466918945312], [39.76103973388672, -105.00492858886719], [39.76044845581055, -105.00575256347656], [39.759456634521484, -105.0072021484375], [39.75861740112305, -105.0083999633789], [39.758094787597656, -105.00910949707031], [39.75727844238281, -105.0101547241211], [39.75709915161133, -105.01038360595703], [39.756736755371094, -105.0108871459961], [39.75618362426758, -105.0116195678711], [39.75572967529297, -105.01225280761719], [39.75527572631836, -105.01285552978516], [39.75492858886719, -105.01334381103516], [39.7547492980957, -105.01359558105469], [39.75423812866211, -105.01427459716797], [39.75400924682617, -105.01457214355469], [39.753841400146484, -105.0147705078125], [39.75370788574219, -105.01492309570312], [39.75352096557617, -105.01513671875], [39.75336837768555, -105.01529693603516], [39.753173828125, -105.01548767089844], [39.75297164916992, -105.01567840576172], [39.752811431884766, -105.01581573486328], [39.75261688232422, -105.01597595214844], [39.75239944458008, -105.0161361694336], [39.75222396850586, -105.01627349853516], [39.752037048339844, -105.01639556884766], [39.751853942871094, -105.0165023803711], [39.75165939331055, -105.01661682128906], [39.75148391723633, -105.01670837402344], [39.75117874145508, -105.0168685913086], [39.75090026855469, -105.01699829101562], [39.75063705444336, -105.01710510253906], [39.74983215332031, -105.01744079589844], [39.74938201904297, -105.01763916015625], [39.74889373779297, -105.01783752441406], [39.748531341552734, -105.01799011230469], [39.74820327758789, -105.01811218261719], [39.74799728393555, -105.01818084716797], [39.74775695800781, -105.01825714111328], [39.74755096435547, -105.01830291748047], [39.74735641479492, -105.01834106445312], [39.747108459472656, -105.01836395263672], [39.74689865112305, -105.01837158203125], [39.74666976928711, -105.01836395263672], [39.74650955200195, -105.01835632324219], [39.74633026123047, -105.01832580566406], [39.746131896972656, -105.0182876586914], [39.74597930908203, -105.01824951171875], [39.74581527709961, -105.01819610595703], [39.745609283447266, -105.01811218261719], [39.74538040161133, -105.01800537109375], [39.74514389038086, -105.01786804199219], [39.744937896728516, -105.01773834228516], [39.744747161865234, -105.01759338378906], [39.74456787109375, -105.0174560546875], [39.74444580078125, -105.01734161376953], [39.743892669677734, -105.01679992675781], [39.74342727661133, -105.0163345336914], [39.743038177490234, -105.015869140625], [39.742897033691406, -105.01570892333984], [39.74272537231445, -105.0155258178711], [39.7425422668457, -105.01532745361328], [39.74235916137695, -105.01516723632812], [39.7421875, -105.01500701904297], [39.74201965332031, -105.0148696899414], [39.74187469482422, -105.01476287841797], [39.74171447753906, -105.0146484375], [39.74155807495117, -105.01456451416016], [39.741329193115234, -105.01445007324219], [39.74116134643555, -105.01438903808594], [39.74099349975586, -105.01432037353516], [39.74075698852539, -105.01425170898438], [39.7405891418457, -105.01421356201172], [39.740386962890625, -105.01416778564453], [39.740230560302734, -105.01415252685547], [39.74014663696289, -105.0141372680664], [39.73987579345703, -105.01412963867188], [39.73881530761719, -105.01406860351562], [39.73861312866211, -105.0140609741211], [39.73841094970703, -105.0140609741211], [39.73823928833008, -105.01406860351562], [39.73807907104492, -105.01408386230469], [39.7379035949707, -105.01409912109375], [39.73770523071289, -105.01412963867188], [39.737457275390625, -105.01416778564453], [39.737152099609375, -105.01428985595703], [39.73687744140625, -105.01436614990234], [39.7366828918457, -105.01441955566406], [39.73640823364258, -105.01451873779297], [39.73619079589844, -105.01460266113281], [39.73607635498047, -105.01464080810547], [39.735904693603516, -105.01471710205078], [39.73575973510742, -105.01478576660156], [39.73533630371094, -105.0149917602539], [39.73477554321289, -105.01528930664062], [39.734619140625, -105.01536560058594], [39.73448181152344, -105.01542663574219], [39.73434066772461, -105.01548767089844], [39.73418426513672, -105.01554870605469], [39.73397445678711, -105.015625], [39.733829498291016, -105.01566314697266], [39.73370361328125, -105.01570129394531], [39.73356246948242, -105.01573944091797], [39.733436584472656, -105.0157699584961], [39.73330307006836, -105.01579284667969], [39.73316955566406, -105.01582336425781], [39.73301315307617, -105.01583862304688], [39.73285675048828, -105.01585388183594], [39.73271942138672, -105.01586151123047], [39.732574462890625, -105.015869140625], [39.73243713378906, -105.01587677001953], [39.732303619384766, -105.01588439941406], [39.73218536376953, -105.01588439941406], [39.73207092285156, -105.01587677001953], [39.73195266723633, -105.015869140625], [39.73179244995117, -105.01585388183594], [39.73155212402344, -105.01580047607422], [39.73124313354492, -105.01573181152344], [39.731075286865234, -105.01568603515625], [39.7308464050293, -105.01561737060547], [39.730567932128906, -105.01553344726562], [39.730201721191406, -105.0154037475586], [39.729949951171875, -105.01531219482422], [39.72952651977539, -105.01518249511719], [39.729122161865234, -105.0150375366211], [39.728843688964844, -105.01493835449219], [39.72844314575195, -105.01477813720703], [39.72832107543945, -105.01473236083984], [39.728145599365234, -105.01466369628906], [39.727943420410156, -105.01458740234375], [39.727439880371094, -105.01441192626953], [39.72711181640625, -105.01427459716797], [39.72694778442383, -105.01421356201172], [39.726749420166016, -105.01412200927734], [39.726558685302734, -105.0140380859375], [39.726375579833984, -105.01394653320312], [39.72616195678711, -105.01382446289062], [39.72585678100586, -105.01362609863281], [39.725624084472656, -105.01348114013672], [39.72536087036133, -105.01329803466797], [39.72511672973633, -105.01311492919922], [39.72493362426758, -105.01297760009766], [39.7247200012207, -105.01280212402344], [39.72451400756836, -105.01262664794922], [39.72426986694336, -105.01239776611328], [39.72408676147461, -105.01221466064453], [39.723899841308594, -105.01201629638672], [39.72377395629883, -105.01188659667969], [39.72359848022461, -105.01168060302734], [39.72343826293945, -105.0114974975586], [39.72330093383789, -105.01133728027344], [39.723079681396484, -105.01106262207031], [39.7227897644043, -105.01066589355469], [39.72258377075195, -105.01038360595703], [39.722251892089844, -105.0099105834961], [39.7220573425293, -105.0096435546875], [39.721920013427734, -105.00946807861328], [39.721744537353516, -105.00924682617188], [39.721649169921875, -105.00914001464844], [39.7214241027832, -105.00888061523438], [39.72117233276367, -105.00861358642578], [39.720741271972656, -105.0081787109375], [39.720523834228516, -105.00794219970703], [39.7200813293457, -105.0074691772461], [39.71998977661133, -105.00737762451172], [39.71975326538086, -105.00711822509766], [39.71941375732422, -105.00675201416016], [39.719242095947266, -105.0065689086914], [39.719085693359375, -105.00640106201172], [39.718936920166016, -105.00623321533203], [39.718807220458984, -105.00608825683594], [39.718658447265625, -105.00591278076172], [39.71849060058594, -105.00570678710938], [39.7183723449707, -105.00556182861328], [39.71826171875, -105.00541687011719], [39.71812057495117, -105.00521850585938], [39.71792221069336, -105.00492858886719], [39.71759796142578, -105.00445556640625], [39.717166900634766, -105.0038070678711], [39.716880798339844, -105.00337982177734], [39.71671676635742, -105.00314331054688], [39.716552734375, -105.00292205810547], [39.7164306640625, -105.00276184082031], [39.71633529663086, -105.00264739990234], [39.71624755859375, -105.00254821777344], [39.71617889404297, -105.00247192382812], [39.71608352661133, -105.00237274169922], [39.715999603271484, -105.00228118896484], [39.71593475341797, -105.0022201538086], [39.715885162353516, -105.0021743774414], [39.715755462646484, -105.00206756591797], [39.715660095214844, -105.00198364257812], [39.715538024902344, -105.00189208984375], [39.71543884277344, -105.00181579589844], [39.71533203125, -105.00173950195312], [39.7152214050293, -105.00166320800781], [39.71499252319336, -105.00151824951172], [39.714324951171875, -105.0010757446289], [39.71399688720703, -105.00086212158203], [39.71346664428711, -105.00052642822266], [39.71318435668945, -105.00035095214844], [39.71266174316406, -105.00003051757812], [39.71223449707031, -104.9997787475586], [39.71159362792969, -104.99940490722656], [39.71141052246094, -104.99930572509766], [39.710933685302734, -104.99901580810547], [39.71067810058594, -104.99886322021484], [39.710357666015625, -104.99867248535156], [39.71013641357422, -104.99855041503906], [39.70988464355469, -104.99840545654297], [39.70966720581055, -104.99829864501953], [39.7094841003418, -104.99820709228516], [39.70940017700195, -104.99816131591797], [39.709136962890625, -104.99803924560547], [39.708702087402344, -104.99784088134766], [39.70827865600586, -104.99764251708984], [39.7078857421875, -104.99746704101562], [39.707275390625, -104.9971923828125], [39.70710372924805, -104.99711608886719], [39.7068977355957, -104.99701690673828], [39.706809997558594, -104.99697875976562], [39.706729888916016, -104.99693298339844], [39.70663070678711, -104.99688720703125], [39.706539154052734, -104.99683380126953], [39.70646667480469, -104.99678802490234], [39.70637130737305, -104.9967269897461], [39.70630645751953, -104.99668884277344], [39.70623779296875, -104.99664306640625], [39.70616912841797, -104.99658966064453], [39.706085205078125, -104.99652862548828], [39.70596694946289, -104.9964370727539], [39.705814361572266, -104.9963150024414], [39.7056999206543, -104.9962158203125], [39.70561218261719, -104.99613189697266], [39.70552062988281, -104.99604034423828], [39.705467224121094, -104.99598693847656], [39.70537567138672, -104.99588775634766], [39.705299377441406, -104.99580383300781], [39.705169677734375, -104.99565124511719], [39.70507049560547, -104.99552917480469], [39.704959869384766, -104.9953842163086], [39.704837799072266, -104.99520874023438], [39.70473098754883, -104.99505615234375], [39.704627990722656, -104.99488067626953], [39.704551696777344, -104.99474334716797], [39.704471588134766, -104.99459838867188], [39.70440673828125, -104.99447631835938], [39.7043342590332, -104.99433135986328], [39.704261779785156, -104.99417877197266], [39.70420455932617, -104.99404907226562], [39.70415115356445, -104.99392700195312], [39.704097747802734, -104.99378204345703], [39.70404815673828, -104.99363708496094], [39.70399475097656, -104.99347686767578], [39.70393753051758, -104.9933090209961], [39.70388412475586, -104.99313354492188], [39.703792572021484, -104.99284362792969], [39.70363235473633, -104.9923324584961], [39.703487396240234, -104.99188232421875], [39.703304290771484, -104.99127197265625], [39.703189849853516, -104.99092102050781], [39.70305633544922, -104.990478515625], [39.702980041503906, -104.99024200439453], [39.70287322998047, -104.989990234375], [39.70277404785156, -104.98977661132812], [39.70265197753906, -104.98954010009766], [39.70252990722656, -104.98933410644531], [39.70241928100586, -104.98914337158203], [39.70228576660156, -104.98894500732422], [39.702110290527344, -104.98870849609375], [39.70179748535156, -104.9883041381836], [39.70148849487305, -104.98790740966797], [39.700843811035156, -104.987060546875], [39.700706481933594, -104.98689270019531], [39.70027542114258, -104.98641967773438], [39.700077056884766, -104.9861831665039], [39.69994354248047, -104.98603057861328], [39.699771881103516, -104.98583984375], [39.69960021972656, -104.98567962646484], [39.699462890625, -104.98554229736328], [39.699344635009766, -104.98542022705078], [39.69913101196289, -104.98521423339844], [39.698974609375, -104.98504638671875], [39.69866180419922, -104.9847412109375], [39.6981086730957, -104.98410034179688], [39.69713592529297, -104.98299407958984], [39.696075439453125, -104.98184967041016], [39.69560623168945, -104.9813003540039], [39.69524383544922, -104.98087310791016], [39.69488525390625, -104.98043823242188], [39.694786071777344, -104.98033905029297], [39.6947021484375, -104.98025512695312], [39.69462585449219, -104.98019409179688], [39.6945915222168, -104.98016357421875], [39.69448471069336, -104.98009490966797], [39.69437789916992, -104.98002624511719], [39.6942024230957, -104.97992706298828], [39.69398498535156, -104.97977447509766], [39.69377899169922, -104.97953033447266], [39.69367599487305, -104.97943115234375], [39.69364929199219, -104.97940063476562], [39.69361114501953, -104.97936248779297], [39.69355010986328, -104.97931671142578], [39.6934814453125, -104.9792709350586], [39.69330978393555, -104.97918701171875], [39.69325637817383, -104.97914123535156], [39.693199157714844, -104.97909545898438], [39.693145751953125, -104.97903442382812], [39.693092346191406, -104.97897338867188], [39.69303512573242, -104.97886657714844], [39.69300079345703, -104.97877502441406], [39.69298553466797, -104.97871398925781], [39.69298553466797, -104.97850036621094], [39.69298553466797, -104.97827911376953], [39.69298553466797, -104.97792053222656], [39.6929931640625, -104.9774398803711], [39.6929931640625, -104.9773941040039], [39.6929931640625, -104.9772720336914], [39.692989349365234, -104.97704315185547], [39.692989349365234, -104.97694396972656], [39.692989349365234, -104.97685241699219], [39.69298553466797, -104.97636413574219], [39.6929817199707, -104.97577667236328]],\n",
       "                {&quot;bubblingMouseEvents&quot;: true, &quot;color&quot;: &quot;red&quot;, &quot;dashArray&quot;: null, &quot;dashOffset&quot;: null, &quot;fill&quot;: false, &quot;fillColor&quot;: &quot;red&quot;, &quot;fillOpacity&quot;: 0.2, &quot;fillRule&quot;: &quot;evenodd&quot;, &quot;lineCap&quot;: &quot;round&quot;, &quot;lineJoin&quot;: &quot;round&quot;, &quot;noClip&quot;: false, &quot;opacity&quot;: 0.8, &quot;smoothFactor&quot;: 1.0, &quot;stroke&quot;: true, &quot;weight&quot;: 10}\n",
       "            ).addTo(map_b6cf708d54aa4599b756d3ce62516c9c);\n",
       "        \n",
       "    \n",
       "            poly_line_0633987bf2e82ded548a26dc464c4978.bindTooltip(\n",
       "                `&lt;div&gt;\n",
       "                     Shortest Time\n",
       "                 &lt;/div&gt;`,\n",
       "                {&quot;sticky&quot;: true}\n",
       "            );\n",
       "        \n",
       "    \n",
       "            var marker_51e8e84125a77a2fb180e6f323d27b85 = L.marker(\n",
       "                [39.77902603149414, -104.96916961669922],\n",
       "                {}\n",
       "            ).addTo(map_b6cf708d54aa4599b756d3ce62516c9c);\n",
       "        \n",
       "    \n",
       "            var icon_5fe7f896fc566755b249e564107262ca = L.AwesomeMarkers.icon(\n",
       "                {&quot;extraClasses&quot;: &quot;fa-rotate-0&quot;, &quot;icon&quot;: &quot;circle&quot;, &quot;iconColor&quot;: &quot;white&quot;, &quot;markerColor&quot;: &quot;green&quot;, &quot;prefix&quot;: &quot;fa&quot;}\n",
       "            );\n",
       "            marker_51e8e84125a77a2fb180e6f323d27b85.setIcon(icon_5fe7f896fc566755b249e564107262ca);\n",
       "        \n",
       "    \n",
       "            marker_51e8e84125a77a2fb180e6f323d27b85.bindTooltip(\n",
       "                `&lt;div&gt;\n",
       "                     Origin\n",
       "                 &lt;/div&gt;`,\n",
       "                {&quot;sticky&quot;: true}\n",
       "            );\n",
       "        \n",
       "    \n",
       "            var marker_b3dbf16a30f95c6a552145a7c117e057 = L.marker(\n",
       "                [39.6929817199707, -104.97577667236328],\n",
       "                {}\n",
       "            ).addTo(map_b6cf708d54aa4599b756d3ce62516c9c);\n",
       "        \n",
       "    \n",
       "            var icon_05c025ef9bca364192e682fa3b0133d4 = L.AwesomeMarkers.icon(\n",
       "                {&quot;extraClasses&quot;: &quot;fa-rotate-0&quot;, &quot;icon&quot;: &quot;circle&quot;, &quot;iconColor&quot;: &quot;white&quot;, &quot;markerColor&quot;: &quot;red&quot;, &quot;prefix&quot;: &quot;fa&quot;}\n",
       "            );\n",
       "            marker_b3dbf16a30f95c6a552145a7c117e057.setIcon(icon_05c025ef9bca364192e682fa3b0133d4);\n",
       "        \n",
       "    \n",
       "            marker_b3dbf16a30f95c6a552145a7c117e057.bindTooltip(\n",
       "                `&lt;div&gt;\n",
       "                     Destination\n",
       "                 &lt;/div&gt;`,\n",
       "                {&quot;sticky&quot;: true}\n",
       "            );\n",
       "        \n",
       "    \n",
       "            var poly_line_b88057c0260a68bf7b601e9b657ca271 = L.polyline(\n",
       "                [[39.77902603149414, -104.96916961669922], [39.77896499633789, -104.96910095214844], [39.77878189086914, -104.96887969970703], [39.778751373291016, -104.96884155273438], [39.778587341308594, -104.9686508178711], [39.778480529785156, -104.96852111816406], [39.77839660644531, -104.96841430664062], [39.778324127197266, -104.96851348876953], [39.778228759765625, -104.96863555908203], [39.778076171875, -104.96883392333984], [39.777626037597656, -104.96941375732422], [39.7774772644043, -104.96961212158203], [39.77703857421875, -104.97017669677734], [39.776737213134766, -104.97056579589844], [39.77666473388672, -104.97066497802734], [39.7766227722168, -104.97071838378906], [39.776371002197266, -104.97103881835938], [39.77608108520508, -104.9714126586914], [39.775978088378906, -104.97154998779297], [39.774810791015625, -104.97306060791016], [39.77475357055664, -104.97313690185547], [39.77467346191406, -104.97323608398438], [39.77459716796875, -104.97333526611328], [39.773738861083984, -104.97444915771484], [39.77363586425781, -104.97457885742188], [39.773353576660156, -104.97494506835938], [39.77303695678711, -104.97535705566406], [39.77297592163086, -104.9754409790039], [39.77290344238281, -104.97553253173828], [39.772544860839844, -104.97599029541016], [39.772335052490234, -104.97626495361328], [39.77207946777344, -104.97659301757812], [39.771976470947266, -104.97673034667969], [39.771705627441406, -104.97708129882812], [39.77125549316406, -104.97766876220703], [39.77039337158203, -104.9787826538086], [39.77033233642578, -104.9788589477539], [39.770263671875, -104.97895050048828], [39.769996643066406, -104.97929382324219], [39.76996994018555, -104.9793930053711], [39.76955032348633, -104.97993469238281], [39.769287109375, -104.98027801513672], [39.7691764831543, -104.98041534423828], [39.769039154052734, -104.98059844970703], [39.76881408691406, -104.98088836669922], [39.768733978271484, -104.98099517822266], [39.76864242553711, -104.98110961914062], [39.76858901977539, -104.9811782836914], [39.76840591430664, -104.98141479492188], [39.7678337097168, -104.98216247558594], [39.76764678955078, -104.9823989868164], [39.76701736450195, -104.98321533203125], [39.766876220703125, -104.9833984375], [39.766693115234375, -104.98363494873047], [39.766624450683594, -104.98372650146484], [39.76657485961914, -104.9837875366211], [39.76653289794922, -104.98384857177734], [39.766178131103516, -104.98429870605469], [39.766021728515625, -104.98450469970703], [39.76557159423828, -104.98507690429688], [39.76506423950195, -104.98573303222656], [39.76464080810547, -104.98627471923828], [39.764495849609375, -104.98646545410156], [39.76442337036133, -104.98655700683594], [39.764347076416016, -104.98664855957031], [39.763763427734375, -104.98738861083984], [39.76366424560547, -104.98750305175781], [39.763572692871094, -104.98760223388672], [39.76346969604492, -104.98770141601562], [39.76337814331055, -104.98778533935547], [39.76326370239258, -104.98786926269531], [39.76316452026367, -104.9879379272461], [39.76304626464844, -104.98800659179688], [39.762916564941406, -104.98807525634766], [39.762813568115234, -104.98812103271484], [39.76266860961914, -104.98816680908203], [39.76252746582031, -104.98819732666016], [39.762413024902344, -104.98820495605469], [39.762290954589844, -104.98821258544922], [39.76216125488281, -104.98821258544922], [39.762062072753906, -104.98820495605469], [39.76179885864258, -104.9881591796875], [39.76161575317383, -104.98812103271484], [39.76142501831055, -104.98808288574219], [39.76121520996094, -104.98804473876953], [39.75983428955078, -104.98776245117188], [39.75953674316406, -104.98770141601562], [39.75946807861328, -104.98763275146484], [39.75936508178711, -104.98761749267578], [39.7588996887207, -104.987548828125], [39.758426666259766, -104.98747253417969], [39.758270263671875, -104.9874496459961], [39.75812911987305, -104.98744201660156], [39.75796127319336, -104.98744201660156], [39.75767517089844, -104.9874267578125], [39.75761032104492, -104.9874267578125], [39.75736618041992, -104.98741912841797], [39.757179260253906, -104.98741149902344], [39.757102966308594, -104.98741149902344], [39.756961822509766, -104.98741149902344], [39.756805419921875, -104.9874038696289], [39.756404876708984, -104.9874038696289], [39.75601577758789, -104.9874038696289], [39.75578308105469, -104.98739624023438], [39.75563049316406, -104.98739624023438], [39.755496978759766, -104.98739624023438], [39.75507736206055, -104.98738861083984], [39.75468063354492, -104.98738861083984], [39.75453186035156, -104.98738098144531], [39.754398345947266, -104.98738098144531], [39.754364013671875, -104.98738098144531], [39.75428009033203, -104.98738861083984], [39.75388717651367, -104.98738861083984], [39.753604888916016, -104.98738861083984], [39.75343704223633, -104.98738861083984], [39.7532844543457, -104.98738861083984], [39.75323486328125, -104.98738861083984], [39.75295639038086, -104.98738861083984], [39.752933502197266, -104.98738861083984], [39.752662658691406, -104.98738861083984], [39.752262115478516, -104.98738861083984], [39.75224304199219, -104.98738098144531], [39.751827239990234, -104.98738098144531], [39.75173568725586, -104.98738098144531], [39.751583099365234, -104.98738098144531], [39.75148391723633, -104.98738098144531], [39.751014709472656, -104.98738098144531], [39.750850677490234, -104.98738098144531], [39.75082015991211, -104.98738098144531], [39.750736236572266, -104.98738098144531], [39.750389099121094, -104.98737335205078], [39.75023651123047, -104.98737335205078], [39.7501106262207, -104.98737335205078], [39.7497673034668, -104.98737335205078], [39.74958419799805, -104.98737335205078], [39.74951171875, -104.98737335205078], [39.749412536621094, -104.98737335205078], [39.74927520751953, -104.98738098144531], [39.749168395996094, -104.98738098144531], [39.74892044067383, -104.98738098144531], [39.74868392944336, -104.98738098144531], [39.74851989746094, -104.98738098144531], [39.74822235107422, -104.98738098144531], [39.74802017211914, -104.98738098144531], [39.7476692199707, -104.98738098144531], [39.74758529663086, -104.98738098144531], [39.74751281738281, -104.98738098144531], [39.7474365234375, -104.98738098144531], [39.747379302978516, -104.98738098144531], [39.74735641479492, -104.98738098144531], [39.74730682373047, -104.98738098144531], [39.74697494506836, -104.98738098144531], [39.746944427490234, -104.98738098144531], [39.74678039550781, -104.98738861083984], [39.74667739868164, -104.98738861083984], [39.74653244018555, -104.98738861083984], [39.746482849121094, -104.98738861083984], [39.74626541137695, -104.98738861083984], [39.74618148803711, -104.98738861083984], [39.74605178833008, -104.98738861083984], [39.745948791503906, -104.98738861083984], [39.74554443359375, -104.98738861083984], [39.745418548583984, -104.98738861083984], [39.74506378173828, -104.98739624023438], [39.74480438232422, -104.98739624023438], [39.74473571777344, -104.9874038696289], [39.74430847167969, -104.98739624023438], [39.743526458740234, -104.98739624023438], [39.74336242675781, -104.98739624023438], [39.74320602416992, -104.98739624023438], [39.74302291870117, -104.98739624023438], [39.74254608154297, -104.98739624023438], [39.74245834350586, -104.98739624023438], [39.74220275878906, -104.98739624023438], [39.74214172363281, -104.98738861083984], [39.74182891845703, -104.98738861083984], [39.74177932739258, -104.98738861083984], [39.7416877746582, -104.98738861083984], [39.74163818359375, -104.98738098144531], [39.74156188964844, -104.98738861083984], [39.74149703979492, -104.98738861083984], [39.741416931152344, -104.98738861083984], [39.74137496948242, -104.98738861083984], [39.74129867553711, -104.98738861083984], [39.7410888671875, -104.98738861083984], [39.74089050292969, -104.98739624023438], [39.740875244140625, -104.98739624023438], [39.74071502685547, -104.98739624023438], [39.740631103515625, -104.98739624023438], [39.740478515625, -104.98739624023438], [39.74021530151367, -104.9874038696289], [39.74014663696289, -104.9874038696289], [39.74000930786133, -104.9874038696289], [39.73992919921875, -104.9874038696289], [39.73912048339844, -104.98739624023438], [39.73855209350586, -104.98739624023438], [39.73845672607422, -104.98739624023438], [39.73835372924805, -104.98739624023438], [39.73801040649414, -104.98739624023438], [39.73710250854492, -104.98738861083984], [39.73695373535156, -104.98738861083984], [39.736900329589844, -104.98738861083984], [39.736846923828125, -104.98738861083984], [39.73676300048828, -104.98738861083984], [39.73644256591797, -104.98739624023438], [39.73640441894531, -104.98739624023438], [39.736244201660156, -104.98739624023438], [39.73619079589844, -104.98739624023438], [39.73557662963867, -104.98739624023438], [39.73536682128906, -104.98739624023438], [39.73527526855469, -104.98739624023438], [39.73518753051758, -104.98739624023438], [39.73509216308594, -104.98739624023438], [39.73466110229492, -104.98739624023438], [39.734039306640625, -104.9874038696289], [39.73394775390625, -104.98739624023438], [39.733848571777344, -104.9874038696289], [39.73375701904297, -104.9874038696289], [39.73365020751953, -104.9874038696289], [39.73337173461914, -104.9874038696289], [39.733306884765625, -104.9874038696289], [39.732810974121094, -104.9874038696289], [39.732444763183594, -104.98741149902344], [39.732147216796875, -104.98741149902344], [39.7320556640625, -104.98741149902344], [39.731964111328125, -104.98741149902344], [39.73185348510742, -104.98741149902344], [39.73183059692383, -104.98741149902344], [39.73168182373047, -104.98741149902344], [39.73122024536133, -104.98741912841797], [39.731178283691406, -104.98741912841797], [39.73095703125, -104.98741912841797], [39.73054885864258, -104.98741912841797], [39.73045349121094, -104.98741912841797], [39.73037338256836, -104.98741912841797], [39.730010986328125, -104.98741912841797], [39.729522705078125, -104.98741912841797], [39.72943115234375, -104.98741912841797], [39.72917175292969, -104.98741912841797], [39.72908020019531, -104.98741912841797], [39.7289924621582, -104.98741912841797], [39.728668212890625, -104.98741912841797], [39.72862243652344, -104.98741912841797], [39.72829055786133, -104.98741912841797], [39.727420806884766, -104.98741912841797], [39.727298736572266, -104.98741912841797], [39.72718048095703, -104.98741912841797], [39.72665786743164, -104.9874267578125], [39.72663497924805, -104.9874267578125], [39.726600646972656, -104.9874267578125], [39.726375579833984, -104.98743438720703], [39.726226806640625, -104.98744201660156], [39.726112365722656, -104.98744201660156], [39.72574996948242, -104.98745727539062], [39.72563934326172, -104.98746490478516], [39.72555923461914, -104.98746490478516], [39.725223541259766, -104.98747253417969], [39.7251091003418, -104.98747253417969], [39.724884033203125, -104.98748016357422], [39.72444152832031, -104.98748779296875], [39.72422409057617, -104.98748779296875], [39.72414779663086, -104.98748779296875], [39.72405242919922, -104.98748779296875], [39.72385025024414, -104.98748779296875], [39.72378921508789, -104.98748779296875], [39.72360610961914, -104.98748779296875], [39.72319793701172, -104.98750305175781], [39.723026275634766, -104.98751068115234], [39.722869873046875, -104.98751068115234], [39.72262191772461, -104.98751068115234], [39.72255325317383, -104.98751068115234], [39.72245788574219, -104.98751068115234], [39.72215270996094, -104.98750305175781], [39.72206497192383, -104.98750305175781], [39.72195816040039, -104.98749542236328], [39.7216911315918, -104.98748779296875], [39.72103500366211, -104.98748779296875], [39.720943450927734, -104.98748779296875], [39.720863342285156, -104.98748779296875], [39.71990966796875, -104.98748779296875], [39.71987533569336, -104.98748779296875], [39.719451904296875, -104.98748779296875], [39.7193603515625, -104.98748779296875], [39.71928787231445, -104.98748779296875], [39.71902847290039, -104.98748779296875], [39.71844482421875, -104.98748779296875], [39.71834945678711, -104.98748779296875], [39.7182731628418, -104.98748779296875], [39.71819305419922, -104.98748779296875], [39.71754455566406, -104.98748779296875], [39.717464447021484, -104.98748779296875], [39.7174186706543, -104.98748779296875], [39.716644287109375, -104.98748779296875], [39.71656799316406, -104.98748779296875], [39.71649932861328, -104.98748779296875], [39.716224670410156, -104.98749542236328], [39.71613311767578, -104.98749542236328], [39.71575927734375, -104.98750305175781], [39.71568298339844, -104.98750305175781], [39.715606689453125, -104.98750305175781], [39.71514892578125, -104.98751831054688], [39.714847564697266, -104.98753356933594], [39.71476364135742, -104.98753356933594], [39.71470260620117, -104.98753356933594], [39.713897705078125, -104.987548828125], [39.713294982910156, -104.987548828125], [39.71319580078125, -104.987548828125], [39.71306610107422, -104.98755645751953], [39.71297836303711, -104.98755645751953], [39.71291732788086, -104.98755645751953], [39.712486267089844, -104.98756408691406], [39.71209716796875, -104.9875717163086], [39.71201705932617, -104.98757934570312], [39.71174240112305, -104.98757934570312], [39.711578369140625, -104.98758697509766], [39.711280822753906, -104.98759460449219], [39.71114730834961, -104.98759460449219], [39.71101379394531, -104.98759460449219], [39.71085739135742, -104.98759460449219], [39.71025085449219, -104.98760986328125], [39.71002960205078, -104.98760986328125], [39.70989227294922, -104.98761749267578], [39.70948028564453, -104.98761749267578], [39.70942306518555, -104.98760986328125], [39.70934295654297, -104.98761749267578], [39.709259033203125, -104.98761749267578], [39.70914840698242, -104.98762512207031], [39.7091064453125, -104.98762512207031], [39.70846939086914, -104.9876480102539], [39.70835876464844, -104.9876480102539], [39.70762634277344, -104.9876480102539], [39.707542419433594, -104.9876480102539], [39.707462310791016, -104.98764038085938], [39.7066535949707, -104.98760223388672], [39.70616912841797, -104.98758697509766], [39.705841064453125, -104.9875717163086], [39.70573806762695, -104.98756408691406], [39.705665588378906, -104.98755645751953], [39.705406188964844, -104.98754119873047], [39.705223083496094, -104.98753356933594], [39.705101013183594, -104.9875259399414], [39.704872131347656, -104.9875259399414], [39.7047119140625, -104.9875259399414], [39.704627990722656, -104.98751831054688], [39.70394515991211, -104.98751068115234], [39.703880310058594, -104.98751068115234], [39.70368194580078, -104.98750305175781], [39.70335006713867, -104.98750305175781], [39.70302963256836, -104.98750305175781], [39.7028694152832, -104.98750305175781], [39.70270538330078, -104.98751831054688], [39.70259475708008, -104.9875259399414], [39.702491760253906, -104.98753356933594], [39.70227813720703, -104.987548828125], [39.7021369934082, -104.98755645751953], [39.70204162597656, -104.98756408691406], [39.700843811035156, -104.98760986328125], [39.700782775878906, -104.98749542236328], [39.70073318481445, -104.9874038696289], [39.700687408447266, -104.98731994628906], [39.700660705566406, -104.98727416992188], [39.70061111450195, -104.9871826171875], [39.70054626464844, -104.98707580566406], [39.70036315917969, -104.98675537109375], [39.70024490356445, -104.986572265625], [39.70008850097656, -104.98636627197266], [39.700042724609375, -104.98631286621094], [39.69866180419922, -104.9847412109375], [39.6981086730957, -104.98410034179688], [39.69713592529297, -104.98299407958984], [39.696075439453125, -104.98184967041016], [39.69560623168945, -104.9813003540039], [39.69524383544922, -104.98087310791016], [39.69488525390625, -104.98043823242188], [39.694786071777344, -104.98033905029297], [39.6947021484375, -104.98025512695312], [39.69462585449219, -104.98019409179688], [39.6945915222168, -104.98016357421875], [39.69448471069336, -104.98009490966797], [39.69437789916992, -104.98002624511719], [39.6942024230957, -104.97992706298828], [39.69398498535156, -104.97977447509766], [39.69377899169922, -104.97953033447266], [39.69367599487305, -104.97943115234375], [39.69364929199219, -104.97940063476562], [39.69361114501953, -104.97936248779297], [39.69355010986328, -104.97931671142578], [39.6934814453125, -104.9792709350586], [39.69330978393555, -104.97918701171875], [39.69325637817383, -104.97914123535156], [39.693199157714844, -104.97909545898438], [39.693145751953125, -104.97903442382812], [39.693092346191406, -104.97897338867188], [39.69303512573242, -104.97886657714844], [39.69300079345703, -104.97877502441406], [39.69298553466797, -104.97871398925781], [39.69298553466797, -104.97850036621094], [39.69298553466797, -104.97827911376953], [39.69298553466797, -104.97792053222656], [39.6929931640625, -104.9774398803711], [39.6929931640625, -104.9773941040039], [39.6929931640625, -104.9772720336914], [39.692989349365234, -104.97704315185547], [39.692989349365234, -104.97694396972656], [39.692989349365234, -104.97685241699219], [39.69298553466797, -104.97636413574219], [39.6929817199707, -104.97577667236328]],\n",
       "                {&quot;bubblingMouseEvents&quot;: true, &quot;color&quot;: &quot;green&quot;, &quot;dashArray&quot;: null, &quot;dashOffset&quot;: null, &quot;fill&quot;: false, &quot;fillColor&quot;: &quot;green&quot;, &quot;fillOpacity&quot;: 0.2, &quot;fillRule&quot;: &quot;evenodd&quot;, &quot;lineCap&quot;: &quot;round&quot;, &quot;lineJoin&quot;: &quot;round&quot;, &quot;noClip&quot;: false, &quot;opacity&quot;: 0.8, &quot;smoothFactor&quot;: 1.0, &quot;stroke&quot;: true, &quot;weight&quot;: 10}\n",
       "            ).addTo(map_b6cf708d54aa4599b756d3ce62516c9c);\n",
       "        \n",
       "    \n",
       "            poly_line_b88057c0260a68bf7b601e9b657ca271.bindTooltip(\n",
       "                `&lt;div&gt;\n",
       "                     Least Energy\n",
       "                 &lt;/div&gt;`,\n",
       "                {&quot;sticky&quot;: true}\n",
       "            );\n",
       "        \n",
       "    \n",
       "            var marker_51449498af2992f67a03ee1a4743b9b3 = L.marker(\n",
       "                [39.77902603149414, -104.96916961669922],\n",
       "                {}\n",
       "            ).addTo(map_b6cf708d54aa4599b756d3ce62516c9c);\n",
       "        \n",
       "    \n",
       "            var icon_0d220eb467754e9f97fb970647ef051a = L.AwesomeMarkers.icon(\n",
       "                {&quot;extraClasses&quot;: &quot;fa-rotate-0&quot;, &quot;icon&quot;: &quot;circle&quot;, &quot;iconColor&quot;: &quot;white&quot;, &quot;markerColor&quot;: &quot;green&quot;, &quot;prefix&quot;: &quot;fa&quot;}\n",
       "            );\n",
       "            marker_51449498af2992f67a03ee1a4743b9b3.setIcon(icon_0d220eb467754e9f97fb970647ef051a);\n",
       "        \n",
       "    \n",
       "            marker_51449498af2992f67a03ee1a4743b9b3.bindTooltip(\n",
       "                `&lt;div&gt;\n",
       "                     Origin\n",
       "                 &lt;/div&gt;`,\n",
       "                {&quot;sticky&quot;: true}\n",
       "            );\n",
       "        \n",
       "    \n",
       "            var marker_0844385ced7afed6079e777212cdc756 = L.marker(\n",
       "                [39.6929817199707, -104.97577667236328],\n",
       "                {}\n",
       "            ).addTo(map_b6cf708d54aa4599b756d3ce62516c9c);\n",
       "        \n",
       "    \n",
       "            var icon_c89925817012d0ad601284ad1f049e9e = L.AwesomeMarkers.icon(\n",
       "                {&quot;extraClasses&quot;: &quot;fa-rotate-0&quot;, &quot;icon&quot;: &quot;circle&quot;, &quot;iconColor&quot;: &quot;white&quot;, &quot;markerColor&quot;: &quot;red&quot;, &quot;prefix&quot;: &quot;fa&quot;}\n",
       "            );\n",
       "            marker_0844385ced7afed6079e777212cdc756.setIcon(icon_c89925817012d0ad601284ad1f049e9e);\n",
       "        \n",
       "    \n",
       "            marker_0844385ced7afed6079e777212cdc756.bindTooltip(\n",
       "                `&lt;div&gt;\n",
       "                     Destination\n",
       "                 &lt;/div&gt;`,\n",
       "                {&quot;sticky&quot;: true}\n",
       "            );\n",
       "        \n",
       "    \n",
       "            var poly_line_cb6d42712bef935f49dac78318d38137 = L.polyline(\n",
       "                [[39.77902603149414, -104.96916961669922], [39.77896499633789, -104.96910095214844], [39.77878189086914, -104.96887969970703], [39.778751373291016, -104.96884155273438], [39.778587341308594, -104.9686508178711], [39.778480529785156, -104.96852111816406], [39.77839660644531, -104.96841430664062], [39.778324127197266, -104.96851348876953], [39.778228759765625, -104.96863555908203], [39.778076171875, -104.96883392333984], [39.777626037597656, -104.96941375732422], [39.7774772644043, -104.96961212158203], [39.77703857421875, -104.97017669677734], [39.776737213134766, -104.97056579589844], [39.77666473388672, -104.97066497802734], [39.7766227722168, -104.97071838378906], [39.776371002197266, -104.97103881835938], [39.77608108520508, -104.9714126586914], [39.775978088378906, -104.97154998779297], [39.774810791015625, -104.97306060791016], [39.77475357055664, -104.97313690185547], [39.77467346191406, -104.97323608398438], [39.77459716796875, -104.97333526611328], [39.773738861083984, -104.97444915771484], [39.77363586425781, -104.97457885742188], [39.773353576660156, -104.97494506835938], [39.77303695678711, -104.97535705566406], [39.77297592163086, -104.9754409790039], [39.77287673950195, -104.97531127929688], [39.77263259887695, -104.9749984741211], [39.77257537841797, -104.97492218017578], [39.77229690551758, -104.97456359863281], [39.77223587036133, -104.9744873046875], [39.77199935913086, -104.97418212890625], [39.77191162109375, -104.97406768798828], [39.77157974243164, -104.9736328125], [39.77155303955078, -104.9736328125], [39.77154541015625, -104.97361755371094], [39.7712516784668, -104.97325897216797], [39.77125549316406, -104.97321319580078], [39.77090072631836, -104.97274017333984], [39.7706184387207, -104.97236633300781], [39.77056884765625, -104.97230529785156], [39.77048110961914, -104.97219848632812], [39.77042770385742, -104.9721450805664], [39.7703742980957, -104.97209167480469], [39.77033233642578, -104.97205352783203], [39.770233154296875, -104.97198486328125], [39.770118713378906, -104.9721450805664], [39.76996994018555, -104.97232818603516], [39.76978302001953, -104.97257232666016], [39.76957321166992, -104.97283172607422], [39.76926803588867, -104.97325134277344], [39.76918411254883, -104.97335815429688], [39.76904296875, -104.97335815429688], [39.76840591430664, -104.97335052490234], [39.76824188232422, -104.97335052490234], [39.7681770324707, -104.97335052490234], [39.7680549621582, -104.97335052490234], [39.7677001953125, -104.97335052490234], [39.767547607421875, -104.97335052490234], [39.7670783996582, -104.97335052490234], [39.76704788208008, -104.97335052490234], [39.766971588134766, -104.97335052490234], [39.76690673828125, -104.97335052490234], [39.76670455932617, -104.97335052490234], [39.76658248901367, -104.97335052490234], [39.766502380371094, -104.97335052490234], [39.76637649536133, -104.97335052490234], [39.766136169433594, -104.97335052490234], [39.76605987548828, -104.97335052490234], [39.765865325927734, -104.97335052490234], [39.76577377319336, -104.97335052490234], [39.76567459106445, -104.97335052490234], [39.76523208618164, -104.97335052490234], [39.76495361328125, -104.97335052490234], [39.764835357666016, -104.97335052490234], [39.7646598815918, -104.97335052490234], [39.764591217041016, -104.97335052490234], [39.7645149230957, -104.97335052490234], [39.764427185058594, -104.97335052490234], [39.76421356201172, -104.97335052490234], [39.764034271240234, -104.97335052490234], [39.76380920410156, -104.97335052490234], [39.763580322265625, -104.97335052490234], [39.76325988769531, -104.97335052490234], [39.76316833496094, -104.97339630126953], [39.763118743896484, -104.97339630126953], [39.76306915283203, -104.97335052490234], [39.762874603271484, -104.97335815429688], [39.762454986572266, -104.97335815429688], [39.76237869262695, -104.97335815429688], [39.76214599609375, -104.97335052490234], [39.762054443359375, -104.97335052490234], [39.76194381713867, -104.97335052490234], [39.76179122924805, -104.97335052490234], [39.76169967651367, -104.97335052490234], [39.76160430908203, -104.97335052490234], [39.76118087768555, -104.97335052490234], [39.76103973388672, -104.97335052490234], [39.76084518432617, -104.97335052490234], [39.76076126098633, -104.97335052490234], [39.76066589355469, -104.97335052490234], [39.760440826416016, -104.97335052490234], [39.76033401489258, -104.97335052490234], [39.759613037109375, -104.97335052490234], [39.7595100402832, -104.97335052490234], [39.75939178466797, -104.97339630126953], [39.759151458740234, -104.97339630126953], [39.75912094116211, -104.97335052490234], [39.759010314941406, -104.97335052490234], [39.758827209472656, -104.97335052490234], [39.75831604003906, -104.97335052490234], [39.75823211669922, -104.97335052490234], [39.758174896240234, -104.97335052490234], [39.75764083862305, -104.97335815429688], [39.7572021484375, -104.97335815429688], [39.75708770751953, -104.97335815429688], [39.75699234008789, -104.97335815429688], [39.75688171386719, -104.97335815429688], [39.75673294067383, -104.97335815429688], [39.75627899169922, -104.97335815429688], [39.75574493408203, -104.97335815429688], [39.75540542602539, -104.97335815429688], [39.75531005859375, -104.97335815429688], [39.75495147705078, -104.97335815429688], [39.75469970703125, -104.97335815429688], [39.754547119140625, -104.97335815429688], [39.75442886352539, -104.97335815429688], [39.753578186035156, -104.97335815429688], [39.75333786010742, -104.97335815429688], [39.75325012207031, -104.97335815429688], [39.75314712524414, -104.97335815429688], [39.75208282470703, -104.97335815429688], [39.751991271972656, -104.97335815429688], [39.751895904541016, -104.97335815429688], [39.75139236450195, -104.9733657836914], [39.75082778930664, -104.9733657836914], [39.750732421875, -104.9733657836914], [39.75063705444336, -104.9733657836914], [39.750423431396484, -104.9733657836914], [39.750282287597656, -104.9733657836914], [39.75018310546875, -104.9733657836914], [39.749576568603516, -104.9733657836914], [39.74947738647461, -104.9733657836914], [39.74938201904297, -104.9733657836914], [39.74884033203125, -104.9733657836914], [39.74821853637695, -104.97337341308594], [39.74812698364258, -104.97337341308594], [39.748016357421875, -104.97337341308594], [39.747798919677734, -104.97337341308594], [39.74757766723633, -104.97337341308594], [39.74747085571289, -104.97337341308594], [39.74736785888672, -104.97337341308594], [39.74721908569336, -104.97337341308594], [39.747066497802734, -104.97337341308594], [39.746952056884766, -104.97337341308594], [39.746864318847656, -104.97337341308594], [39.74663162231445, -104.97337341308594], [39.746551513671875, -104.97338104248047], [39.746482849121094, -104.97338104248047], [39.7460823059082, -104.97338104248047], [39.74594497680664, -104.97338104248047], [39.74583435058594, -104.97338104248047], [39.74509048461914, -104.97340393066406], [39.745052337646484, -104.97340393066406], [39.745018005371094, -104.97344207763672], [39.744972229003906, -104.97344970703125], [39.744937896728516, -104.97344970703125], [39.744834899902344, -104.97339630126953], [39.744834899902344, -104.97355651855469], [39.744834899902344, -104.97415924072266], [39.74483871459961, -104.97454833984375], [39.74483871459961, -104.97476196289062], [39.74464416503906, -104.97476196289062], [39.744606018066406, -104.97476196289062], [39.74433517456055, -104.97476959228516], [39.74381637573242, -104.97476959228516], [39.74373245239258, -104.97476959228516], [39.743377685546875, -104.97477722167969], [39.74324417114258, -104.97477722167969], [39.743133544921875, -104.97477722167969], [39.7426872253418, -104.97477722167969], [39.74175262451172, -104.97477722167969], [39.74166488647461, -104.97477722167969], [39.74156951904297, -104.97477722167969], [39.7412109375, -104.97478485107422], [39.740718841552734, -104.97479248046875], [39.74055862426758, -104.97479248046875], [39.74032211303711, -104.97479248046875], [39.74012756347656, -104.97480010986328], [39.740020751953125, -104.97480010986328], [39.740020751953125, -104.9746322631836], [39.740020751953125, -104.97451782226562], [39.74002456665039, -104.97415924072266], [39.73991775512695, -104.97415924072266], [39.73970031738281, -104.97415924072266], [39.73955535888672, -104.97415161132812], [39.739315032958984, -104.97415161132812], [39.73896789550781, -104.97415161132812], [39.738609313964844, -104.97415161132812], [39.73850631713867, -104.9741439819336], [39.73841857910156, -104.9741439819336], [39.73833465576172, -104.9741439819336], [39.736942291259766, -104.9741439819336], [39.736881256103516, -104.9741439819336], [39.73681640625, -104.9741439819336], [39.73567581176758, -104.97412109375], [39.735252380371094, -104.97411346435547], [39.735164642333984, -104.97411346435547], [39.735069274902344, -104.97411346435547], [39.73379898071289, -104.97410583496094], [39.73370361328125, -104.97410583496094], [39.733612060546875, -104.97410583496094], [39.73240280151367, -104.97410583496094], [39.732357025146484, -104.97410583496094], [39.73214340209961, -104.97410583496094], [39.7320556640625, -104.97410583496094], [39.73196029663086, -104.97410583496094], [39.731422424316406, -104.97410583496094], [39.73128890991211, -104.97410583496094], [39.730960845947266, -104.97410583496094], [39.73088455200195, -104.97410583496094], [39.73067855834961, -104.97410583496094], [39.73054504394531, -104.97410583496094], [39.7304573059082, -104.97410583496094], [39.730369567871094, -104.97410583496094], [39.73027420043945, -104.97410583496094], [39.73003387451172, -104.97410583496094], [39.729976654052734, -104.97410583496094], [39.729896545410156, -104.97410583496094], [39.72964859008789, -104.97410583496094], [39.7294807434082, -104.97410583496094], [39.729434967041016, -104.97410583496094], [39.72917175292969, -104.97410583496094], [39.72907257080078, -104.97410583496094], [39.72898864746094, -104.97410583496094], [39.727378845214844, -104.9740982055664], [39.72727966308594, -104.9740982055664], [39.727195739746094, -104.9740982055664], [39.7259635925293, -104.9740982055664], [39.72566604614258, -104.97409057617188], [39.7255859375, -104.97409057617188], [39.72549819946289, -104.97409057617188], [39.725337982177734, -104.97409057617188], [39.7252082824707, -104.97409057617188], [39.724693298339844, -104.97409057617188], [39.72453689575195, -104.97409057617188], [39.72406768798828, -104.97408294677734], [39.72374725341797, -104.97408294677734], [39.72247314453125, -104.97408294677734], [39.72218322753906, -104.97408294677734], [39.72205352783203, -104.97408294677734], [39.721946716308594, -104.97408294677734], [39.72013473510742, -104.97406768798828], [39.719642639160156, -104.97406005859375], [39.71931457519531, -104.97406005859375], [39.71918869018555, -104.97406005859375], [39.718971252441406, -104.97405242919922], [39.71888732910156, -104.97404479980469], [39.71880340576172, -104.97403717041016], [39.71875, -104.97402954101562], [39.71870422363281, -104.9740219116211], [39.718650817871094, -104.97401428222656], [39.71857452392578, -104.97399139404297], [39.718505859375, -104.97396850585938], [39.71845245361328, -104.97393798828125], [39.71842956542969, -104.97392272949219], [39.71839141845703, -104.97390747070312], [39.71834945678711, -104.97386932373047], [39.718318939208984, -104.97382354736328], [39.71824264526367, -104.97368621826172], [39.71818923950195, -104.97358703613281], [39.71816635131836, -104.97354888916016], [39.71815490722656, -104.9735336303711], [39.71811294555664, -104.97348022460938], [39.71806335449219, -104.97343444824219], [39.71802520751953, -104.97341918945312], [39.717979431152344, -104.97340393066406], [39.717952728271484, -104.97339630126953], [39.71792221069336, -104.973388671875], [39.717899322509766, -104.973388671875], [39.71767807006836, -104.973388671875], [39.716922760009766, -104.973388671875], [39.71653366088867, -104.97339630126953], [39.71645736694336, -104.97339630126953], [39.71589660644531, -104.97339630126953], [39.71546936035156, -104.97341918945312], [39.71541976928711, -104.97341918945312], [39.71538543701172, -104.97342681884766], [39.71536636352539, -104.97342681884766], [39.71527862548828, -104.97342681884766], [39.7148551940918, -104.97344970703125], [39.71479415893555, -104.97344970703125], [39.71472930908203, -104.97345733642578], [39.714656829833984, -104.97344970703125], [39.71451950073242, -104.97344207763672], [39.71427917480469, -104.9734115600586], [39.712989807128906, -104.97340393066406], [39.71291732788086, -104.97340393066406], [39.71285629272461, -104.97340393066406], [39.71247482299805, -104.97340393066406], [39.711551666259766, -104.97340393066406], [39.71137237548828, -104.97340393066406], [39.711204528808594, -104.97340393066406], [39.71110534667969, -104.97340393066406], [39.711021423339844, -104.97340393066406], [39.7109489440918, -104.97340393066406], [39.710845947265625, -104.97340393066406], [39.709381103515625, -104.973388671875], [39.70929718017578, -104.973388671875], [39.707820892333984, -104.973388671875], [39.707557678222656, -104.973388671875], [39.70749282836914, -104.973388671875], [39.707420349121094, -104.973388671875], [39.70706558227539, -104.97338104248047], [39.70566940307617, -104.97337341308594], [39.70392990112305, -104.973388671875], [39.70386505126953, -104.973388671875], [39.70379638671875, -104.973388671875], [39.70212173461914, -104.97339630126953], [39.70206069946289, -104.97339630126953], [39.70030212402344, -104.97339630126953], [39.70021057128906, -104.97340393066406], [39.700138092041016, -104.97339630126953], [39.698429107666016, -104.97340393066406], [39.69660949707031, -104.9734115600586], [39.69625473022461, -104.97341918945312], [39.694740295410156, -104.97341918945312], [39.694149017333984, -104.97343444824219], [39.69339370727539, -104.97343444824219], [39.69325256347656, -104.97343444824219], [39.69306564331055, -104.97342681884766], [39.6929817199707, -104.97342681884766], [39.6929817199707, -104.97357177734375], [39.6929817199707, -104.97403717041016], [39.6929817199707, -104.974609375], [39.69298553466797, -104.97517395019531], [39.6929817199707, -104.97577667236328]],\n",
       "                {&quot;bubblingMouseEvents&quot;: true, &quot;color&quot;: &quot;blue&quot;, &quot;dashArray&quot;: null, &quot;dashOffset&quot;: null, &quot;fill&quot;: false, &quot;fillColor&quot;: &quot;blue&quot;, &quot;fillOpacity&quot;: 0.2, &quot;fillRule&quot;: &quot;evenodd&quot;, &quot;lineCap&quot;: &quot;round&quot;, &quot;lineJoin&quot;: &quot;round&quot;, &quot;noClip&quot;: false, &quot;opacity&quot;: 0.8, &quot;smoothFactor&quot;: 1.0, &quot;stroke&quot;: true, &quot;weight&quot;: 10}\n",
       "            ).addTo(map_b6cf708d54aa4599b756d3ce62516c9c);\n",
       "        \n",
       "    \n",
       "            poly_line_cb6d42712bef935f49dac78318d38137.bindTooltip(\n",
       "                `&lt;div&gt;\n",
       "                     Least Cost\n",
       "                 &lt;/div&gt;`,\n",
       "                {&quot;sticky&quot;: true}\n",
       "            );\n",
       "        \n",
       "    \n",
       "            var marker_d7e8d51bdfa0b414359dba4b6850173d = L.marker(\n",
       "                [39.77902603149414, -104.96916961669922],\n",
       "                {}\n",
       "            ).addTo(map_b6cf708d54aa4599b756d3ce62516c9c);\n",
       "        \n",
       "    \n",
       "            var icon_777c8c4fb41598cadb9bc5aa82e9fc8e = L.AwesomeMarkers.icon(\n",
       "                {&quot;extraClasses&quot;: &quot;fa-rotate-0&quot;, &quot;icon&quot;: &quot;circle&quot;, &quot;iconColor&quot;: &quot;white&quot;, &quot;markerColor&quot;: &quot;green&quot;, &quot;prefix&quot;: &quot;fa&quot;}\n",
       "            );\n",
       "            marker_d7e8d51bdfa0b414359dba4b6850173d.setIcon(icon_777c8c4fb41598cadb9bc5aa82e9fc8e);\n",
       "        \n",
       "    \n",
       "            marker_d7e8d51bdfa0b414359dba4b6850173d.bindTooltip(\n",
       "                `&lt;div&gt;\n",
       "                     Origin\n",
       "                 &lt;/div&gt;`,\n",
       "                {&quot;sticky&quot;: true}\n",
       "            );\n",
       "        \n",
       "    \n",
       "            var marker_cd94423e998833f6c8afd0bb042a8e37 = L.marker(\n",
       "                [39.6929817199707, -104.97577667236328],\n",
       "                {}\n",
       "            ).addTo(map_b6cf708d54aa4599b756d3ce62516c9c);\n",
       "        \n",
       "    \n",
       "            var icon_67a4dd8906dac98fef7f4c548ce0a4fe = L.AwesomeMarkers.icon(\n",
       "                {&quot;extraClasses&quot;: &quot;fa-rotate-0&quot;, &quot;icon&quot;: &quot;circle&quot;, &quot;iconColor&quot;: &quot;white&quot;, &quot;markerColor&quot;: &quot;red&quot;, &quot;prefix&quot;: &quot;fa&quot;}\n",
       "            );\n",
       "            marker_cd94423e998833f6c8afd0bb042a8e37.setIcon(icon_67a4dd8906dac98fef7f4c548ce0a4fe);\n",
       "        \n",
       "    \n",
       "            marker_cd94423e998833f6c8afd0bb042a8e37.bindTooltip(\n",
       "                `&lt;div&gt;\n",
       "                     Destination\n",
       "                 &lt;/div&gt;`,\n",
       "                {&quot;sticky&quot;: true}\n",
       "            );\n",
       "        \n",
       "&lt;/script&gt;\n",
       "&lt;/html&gt;\" style=\"position:absolute;width:100%;height:100%;left:0;top:0;border:none !important;\" allowfullscreen webkitallowfullscreen mozallowfullscreen></iframe></div></div>"
      ],
      "text/plain": [
       "<folium.folium.Map at 0x1b03568b0>"
      ]
     },
     "execution_count": 17,
     "metadata": {},
     "output_type": "execute_result"
    }
   ],
   "source": [
    "m = plot_route_folium(shortest_time_result, line_kwargs={\"color\": \"red\", \"tooltip\": \"Shortest Time\"})\n",
    "m = plot_route_folium(least_energy_result, line_kwargs={\"color\": \"green\", \"tooltip\": \"Least Energy\"}, folium_map=m)\n",
    "m = plot_route_folium(least_cost_result, line_kwargs={\"color\": \"blue\", \"tooltip\": \"Least Cost\"}, folium_map=m)\n",
    "m"
   ]
  },
  {
   "cell_type": "markdown",
   "id": "a457fb10-abef-4af7-9619-3decdc6075e3",
   "metadata": {},
   "source": [
    "We can also use the plot_routes_folium function and pass in multiple results. The function will color the routes based on the `value_fn` which takes a single result as an argument. For example, we can tell it to color the routes based on the total energy usage. "
   ]
  },
  {
   "cell_type": "code",
   "execution_count": 18,
   "id": "aa1e6b11",
   "metadata": {},
   "outputs": [
    {
     "data": {
      "text/html": [
       "<div style=\"width:100%;\"><div style=\"position:relative;width:100%;height:0;padding-bottom:60%;\"><span style=\"color:#565656\">Make this Notebook Trusted to load map: File -> Trust Notebook</span><iframe srcdoc=\"&lt;!DOCTYPE html&gt;\n",
       "&lt;html&gt;\n",
       "&lt;head&gt;\n",
       "    \n",
       "    &lt;meta http-equiv=&quot;content-type&quot; content=&quot;text/html; charset=UTF-8&quot; /&gt;\n",
       "    \n",
       "        &lt;script&gt;\n",
       "            L_NO_TOUCH = false;\n",
       "            L_DISABLE_3D = false;\n",
       "        &lt;/script&gt;\n",
       "    \n",
       "    &lt;style&gt;html, body {width: 100%;height: 100%;margin: 0;padding: 0;}&lt;/style&gt;\n",
       "    &lt;style&gt;#map {position:absolute;top:0;bottom:0;right:0;left:0;}&lt;/style&gt;\n",
       "    &lt;script src=&quot;https://cdn.jsdelivr.net/npm/leaflet@1.9.3/dist/leaflet.js&quot;&gt;&lt;/script&gt;\n",
       "    &lt;script src=&quot;https://code.jquery.com/jquery-1.12.4.min.js&quot;&gt;&lt;/script&gt;\n",
       "    &lt;script src=&quot;https://cdn.jsdelivr.net/npm/bootstrap@5.2.2/dist/js/bootstrap.bundle.min.js&quot;&gt;&lt;/script&gt;\n",
       "    &lt;script src=&quot;https://cdnjs.cloudflare.com/ajax/libs/Leaflet.awesome-markers/2.0.2/leaflet.awesome-markers.js&quot;&gt;&lt;/script&gt;\n",
       "    &lt;link rel=&quot;stylesheet&quot; href=&quot;https://cdn.jsdelivr.net/npm/leaflet@1.9.3/dist/leaflet.css&quot;/&gt;\n",
       "    &lt;link rel=&quot;stylesheet&quot; href=&quot;https://cdn.jsdelivr.net/npm/bootstrap@5.2.2/dist/css/bootstrap.min.css&quot;/&gt;\n",
       "    &lt;link rel=&quot;stylesheet&quot; href=&quot;https://netdna.bootstrapcdn.com/bootstrap/3.0.0/css/bootstrap.min.css&quot;/&gt;\n",
       "    &lt;link rel=&quot;stylesheet&quot; href=&quot;https://cdn.jsdelivr.net/npm/@fortawesome/fontawesome-free@6.2.0/css/all.min.css&quot;/&gt;\n",
       "    &lt;link rel=&quot;stylesheet&quot; href=&quot;https://cdnjs.cloudflare.com/ajax/libs/Leaflet.awesome-markers/2.0.2/leaflet.awesome-markers.css&quot;/&gt;\n",
       "    &lt;link rel=&quot;stylesheet&quot; href=&quot;https://cdn.jsdelivr.net/gh/python-visualization/folium/folium/templates/leaflet.awesome.rotate.min.css&quot;/&gt;\n",
       "    \n",
       "            &lt;meta name=&quot;viewport&quot; content=&quot;width=device-width,\n",
       "                initial-scale=1.0, maximum-scale=1.0, user-scalable=no&quot; /&gt;\n",
       "            &lt;style&gt;\n",
       "                #map_77bceaf15f8f92685ff07972bb265db5 {\n",
       "                    position: relative;\n",
       "                    width: 100.0%;\n",
       "                    height: 100.0%;\n",
       "                    left: 0.0%;\n",
       "                    top: 0.0%;\n",
       "                }\n",
       "                .leaflet-container { font-size: 1rem; }\n",
       "            &lt;/style&gt;\n",
       "        \n",
       "&lt;/head&gt;\n",
       "&lt;body&gt;\n",
       "    \n",
       "    \n",
       "            &lt;div class=&quot;folium-map&quot; id=&quot;map_77bceaf15f8f92685ff07972bb265db5&quot; &gt;&lt;/div&gt;\n",
       "        \n",
       "&lt;/body&gt;\n",
       "&lt;script&gt;\n",
       "    \n",
       "    \n",
       "            var map_77bceaf15f8f92685ff07972bb265db5 = L.map(\n",
       "                &quot;map_77bceaf15f8f92685ff07972bb265db5&quot;,\n",
       "                {\n",
       "                    center: [39.73823928833008, -105.01406860351562],\n",
       "                    crs: L.CRS.EPSG3857,\n",
       "                    zoom: 12,\n",
       "                    zoomControl: true,\n",
       "                    preferCanvas: false,\n",
       "                }\n",
       "            );\n",
       "\n",
       "            \n",
       "\n",
       "        \n",
       "    \n",
       "            var tile_layer_63693c84a48315790e7524f1adf3fbe4 = L.tileLayer(\n",
       "                &quot;https://{s}.tile.openstreetmap.org/{z}/{x}/{y}.png&quot;,\n",
       "                {&quot;attribution&quot;: &quot;Data by \\u0026copy; \\u003ca target=\\&quot;_blank\\&quot; href=\\&quot;http://openstreetmap.org\\&quot;\\u003eOpenStreetMap\\u003c/a\\u003e, under \\u003ca target=\\&quot;_blank\\&quot; href=\\&quot;http://www.openstreetmap.org/copyright\\&quot;\\u003eODbL\\u003c/a\\u003e.&quot;, &quot;detectRetina&quot;: false, &quot;maxNativeZoom&quot;: 18, &quot;maxZoom&quot;: 18, &quot;minZoom&quot;: 0, &quot;noWrap&quot;: false, &quot;opacity&quot;: 1, &quot;subdomains&quot;: &quot;abc&quot;, &quot;tms&quot;: false}\n",
       "            ).addTo(map_77bceaf15f8f92685ff07972bb265db5);\n",
       "        \n",
       "    \n",
       "            var poly_line_3096e7d1c76ca60404f4c47b9117a47c = L.polyline(\n",
       "                [[39.77902603149414, -104.96916961669922], [39.77896499633789, -104.96910095214844], [39.77878189086914, -104.96887969970703], [39.778751373291016, -104.96884155273438], [39.778587341308594, -104.9686508178711], [39.778480529785156, -104.96852111816406], [39.77839660644531, -104.96841430664062], [39.77846908569336, -104.96832275390625], [39.77865982055664, -104.96807098388672], [39.778709411621094, -104.96791076660156], [39.77894592285156, -104.96761322021484], [39.77906799316406, -104.96745300292969], [39.77915954589844, -104.96732330322266], [39.7791862487793, -104.96728515625], [39.779232025146484, -104.96722412109375], [39.77926254272461, -104.96719360351562], [39.779293060302734, -104.9671630859375], [39.77932357788086, -104.96714782714844], [39.77938461303711, -104.96710968017578], [39.779441833496094, -104.96707916259766], [39.77951431274414, -104.96704864501953], [39.7796745300293, -104.96698760986328], [39.77983093261719, -104.9669418334961], [39.78031921386719, -104.96683502197266], [39.780364990234375, -104.9668197631836], [39.78050231933594, -104.966796875], [39.78049850463867, -104.96688079833984], [39.78049850463867, -104.96698760986328], [39.78049850463867, -104.96705627441406], [39.78049087524414, -104.96717834472656], [39.78046798706055, -104.96759033203125], [39.78045654296875, -104.96772003173828], [39.78042984008789, -104.96797180175781], [39.78041458129883, -104.96810913085938], [39.780372619628906, -104.96839904785156], [39.78034210205078, -104.96859741210938], [39.780296325683594, -104.96888732910156], [39.7802734375, -104.96903228759766], [39.78025436401367, -104.96917724609375], [39.780250549316406, -104.96920776367188], [39.780235290527344, -104.96934509277344], [39.78020095825195, -104.96965789794922], [39.78001403808594, -104.9715347290039], [39.77994155883789, -104.97315216064453], [39.77980422973633, -104.97496032714844], [39.7797737121582, -104.97691345214844], [39.7797737121582, -104.9772720336914], [39.7797737121582, -104.97753143310547], [39.7797737121582, -104.97764587402344], [39.779781341552734, -104.97801971435547], [39.77980041503906, -104.97874450683594], [39.77981948852539, -104.97929382324219], [39.77983093261719, -104.97946166992188], [39.77986526489258, -104.98001861572266], [39.77991485595703, -104.98080444335938], [39.779991149902344, -104.98214721679688], [39.78001403808594, -104.98335266113281], [39.7800178527832, -104.98450469970703], [39.78002166748047, -104.98558044433594], [39.780033111572266, -104.98602294921875], [39.7800407409668, -104.98613739013672], [39.780059814453125, -104.98633575439453], [39.780086517333984, -104.9865493774414], [39.780128479003906, -104.98677825927734], [39.780174255371094, -104.98695373535156], [39.78023910522461, -104.98715209960938], [39.780540466308594, -104.98787689208984], [39.78069305419922, -104.98828887939453], [39.78076934814453, -104.98860168457031], [39.780784606933594, -104.98871612548828], [39.780792236328125, -104.98896026611328], [39.78078079223633, -104.98912048339844], [39.780765533447266, -104.98928833007812], [39.78071975708008, -104.98950958251953], [39.78061294555664, -104.98975372314453], [39.78052520751953, -104.98993682861328], [39.78038787841797, -104.99011993408203], [39.78028869628906, -104.99024963378906], [39.780174255371094, -104.99034881591797], [39.77997589111328, -104.990478515625], [39.77995300292969, -104.99049377441406], [39.77978515625, -104.99056243896484], [39.77960205078125, -104.99060821533203], [39.7794189453125, -104.99060821533203], [39.77922439575195, -104.9905776977539], [39.778968811035156, -104.99048614501953], [39.77858352661133, -104.9903335571289], [39.778541564941406, -104.99031066894531], [39.77811050415039, -104.99011993408203], [39.777706146240234, -104.98995208740234], [39.7775764465332, -104.98990631103516], [39.77741241455078, -104.98985290527344], [39.77730941772461, -104.98983001708984], [39.7772102355957, -104.98980712890625], [39.777130126953125, -104.98979949951172], [39.77692794799805, -104.98979187011719], [39.77660369873047, -104.98979187011719], [39.77629089355469, -104.98980712890625], [39.77605056762695, -104.98982238769531], [39.77583694458008, -104.98986053466797], [39.77559280395508, -104.98991394042969], [39.7751579284668, -104.99003601074219], [39.774871826171875, -104.99012756347656], [39.77482986450195, -104.9901351928711], [39.774696350097656, -104.99018096923828], [39.774539947509766, -104.99022674560547], [39.774383544921875, -104.99026489257812], [39.77424621582031, -104.99028778076172], [39.77410888671875, -104.99029541015625], [39.773887634277344, -104.99030303955078], [39.77339553833008, -104.99031829833984], [39.773284912109375, -104.99031829833984], [39.77314376831055, -104.99032592773438], [39.773006439208984, -104.99034118652344], [39.77288055419922, -104.99036407470703], [39.77272033691406, -104.99040222167969], [39.77251434326172, -104.99046325683594], [39.77234649658203, -104.99051666259766], [39.77214431762695, -104.99059295654297], [39.77194595336914, -104.99068450927734], [39.77174377441406, -104.99079895019531], [39.77142333984375, -104.99098205566406], [39.77122116088867, -104.9911117553711], [39.77073287963867, -104.9914321899414], [39.7704963684082, -104.99164581298828], [39.770259857177734, -104.99187469482422], [39.77001190185547, -104.99214172363281], [39.769779205322266, -104.99241638183594], [39.76954650878906, -104.99272918701172], [39.76931381225586, -104.99305725097656], [39.76912307739258, -104.99334716796875], [39.76897048950195, -104.99359893798828], [39.768775939941406, -104.99393463134766], [39.768592834472656, -104.99432373046875], [39.76849365234375, -104.99454498291016], [39.76826477050781, -104.9951171875], [39.768192291259766, -104.99535369873047], [39.76802062988281, -104.99580383300781], [39.767581939697266, -104.99694061279297], [39.767154693603516, -104.99806213378906], [39.766963958740234, -104.9985580444336], [39.76682662963867, -104.9989013671875], [39.7667121887207, -104.99915313720703], [39.76656723022461, -104.99944305419922], [39.76641845703125, -104.99970245361328], [39.766273498535156, -104.99990844726562], [39.766109466552734, -105.00015258789062], [39.7659912109375, -105.00031280517578], [39.7658805847168, -105.0004653930664], [39.765750885009766, -105.00062561035156], [39.765567779541016, -105.00081634521484], [39.76536560058594, -105.00100708007812], [39.76518249511719, -105.00117492675781], [39.76498794555664, -105.00135803222656], [39.763919830322266, -105.002197265625], [39.76262283325195, -105.00331115722656], [39.76240539550781, -105.00350189208984], [39.762203216552734, -105.0036849975586], [39.76198959350586, -105.00389099121094], [39.76179885864258, -105.00407409667969], [39.7616081237793, -105.0042724609375], [39.761444091796875, -105.00445556640625], [39.761260986328125, -105.00466918945312], [39.76103973388672, -105.00492858886719], [39.76044845581055, -105.00575256347656], [39.759456634521484, -105.0072021484375], [39.75861740112305, -105.0083999633789], [39.758094787597656, -105.00910949707031], [39.75727844238281, -105.0101547241211], [39.75709915161133, -105.01038360595703], [39.756736755371094, -105.0108871459961], [39.75618362426758, -105.0116195678711], [39.75572967529297, -105.01225280761719], [39.75527572631836, -105.01285552978516], [39.75492858886719, -105.01334381103516], [39.7547492980957, -105.01359558105469], [39.75423812866211, -105.01427459716797], [39.75400924682617, -105.01457214355469], [39.753841400146484, -105.0147705078125], [39.75370788574219, -105.01492309570312], [39.75352096557617, -105.01513671875], [39.75336837768555, -105.01529693603516], [39.753173828125, -105.01548767089844], [39.75297164916992, -105.01567840576172], [39.752811431884766, -105.01581573486328], [39.75261688232422, -105.01597595214844], [39.75239944458008, -105.0161361694336], [39.75222396850586, -105.01627349853516], [39.752037048339844, -105.01639556884766], [39.751853942871094, -105.0165023803711], [39.75165939331055, -105.01661682128906], [39.75148391723633, -105.01670837402344], [39.75117874145508, -105.0168685913086], [39.75090026855469, -105.01699829101562], [39.75063705444336, -105.01710510253906], [39.74983215332031, -105.01744079589844], [39.74938201904297, -105.01763916015625], [39.74889373779297, -105.01783752441406], [39.748531341552734, -105.01799011230469], [39.74820327758789, -105.01811218261719], [39.74799728393555, -105.01818084716797], [39.74775695800781, -105.01825714111328], [39.74755096435547, -105.01830291748047], [39.74735641479492, -105.01834106445312], [39.747108459472656, -105.01836395263672], [39.74689865112305, -105.01837158203125], [39.74666976928711, -105.01836395263672], [39.74650955200195, -105.01835632324219], [39.74633026123047, -105.01832580566406], [39.746131896972656, -105.0182876586914], [39.74597930908203, -105.01824951171875], [39.74581527709961, -105.01819610595703], [39.745609283447266, -105.01811218261719], [39.74538040161133, -105.01800537109375], [39.74514389038086, -105.01786804199219], [39.744937896728516, -105.01773834228516], [39.744747161865234, -105.01759338378906], [39.74456787109375, -105.0174560546875], [39.74444580078125, -105.01734161376953], [39.743892669677734, -105.01679992675781], [39.74342727661133, -105.0163345336914], [39.743038177490234, -105.015869140625], [39.742897033691406, -105.01570892333984], [39.74272537231445, -105.0155258178711], [39.7425422668457, -105.01532745361328], [39.74235916137695, -105.01516723632812], [39.7421875, -105.01500701904297], [39.74201965332031, -105.0148696899414], [39.74187469482422, -105.01476287841797], [39.74171447753906, -105.0146484375], [39.74155807495117, -105.01456451416016], [39.741329193115234, -105.01445007324219], [39.74116134643555, -105.01438903808594], [39.74099349975586, -105.01432037353516], [39.74075698852539, -105.01425170898438], [39.7405891418457, -105.01421356201172], [39.740386962890625, -105.01416778564453], [39.740230560302734, -105.01415252685547], [39.74014663696289, -105.0141372680664], [39.73987579345703, -105.01412963867188], [39.73881530761719, -105.01406860351562], [39.73861312866211, -105.0140609741211], [39.73841094970703, -105.0140609741211], [39.73823928833008, -105.01406860351562], [39.73807907104492, -105.01408386230469], [39.7379035949707, -105.01409912109375], [39.73770523071289, -105.01412963867188], [39.737457275390625, -105.01416778564453], [39.737152099609375, -105.01428985595703], [39.73687744140625, -105.01436614990234], [39.7366828918457, -105.01441955566406], [39.73640823364258, -105.01451873779297], [39.73619079589844, -105.01460266113281], [39.73607635498047, -105.01464080810547], [39.735904693603516, -105.01471710205078], [39.73575973510742, -105.01478576660156], [39.73533630371094, -105.0149917602539], [39.73477554321289, -105.01528930664062], [39.734619140625, -105.01536560058594], [39.73448181152344, -105.01542663574219], [39.73434066772461, -105.01548767089844], [39.73418426513672, -105.01554870605469], [39.73397445678711, -105.015625], [39.733829498291016, -105.01566314697266], [39.73370361328125, -105.01570129394531], [39.73356246948242, -105.01573944091797], [39.733436584472656, -105.0157699584961], [39.73330307006836, -105.01579284667969], [39.73316955566406, -105.01582336425781], [39.73301315307617, -105.01583862304688], [39.73285675048828, -105.01585388183594], [39.73271942138672, -105.01586151123047], [39.732574462890625, -105.015869140625], [39.73243713378906, -105.01587677001953], [39.732303619384766, -105.01588439941406], [39.73218536376953, -105.01588439941406], [39.73207092285156, -105.01587677001953], [39.73195266723633, -105.015869140625], [39.73179244995117, -105.01585388183594], [39.73155212402344, -105.01580047607422], [39.73124313354492, -105.01573181152344], [39.731075286865234, -105.01568603515625], [39.7308464050293, -105.01561737060547], [39.730567932128906, -105.01553344726562], [39.730201721191406, -105.0154037475586], [39.729949951171875, -105.01531219482422], [39.72952651977539, -105.01518249511719], [39.729122161865234, -105.0150375366211], [39.728843688964844, -105.01493835449219], [39.72844314575195, -105.01477813720703], [39.72832107543945, -105.01473236083984], [39.728145599365234, -105.01466369628906], [39.727943420410156, -105.01458740234375], [39.727439880371094, -105.01441192626953], [39.72711181640625, -105.01427459716797], [39.72694778442383, -105.01421356201172], [39.726749420166016, -105.01412200927734], [39.726558685302734, -105.0140380859375], [39.726375579833984, -105.01394653320312], [39.72616195678711, -105.01382446289062], [39.72585678100586, -105.01362609863281], [39.725624084472656, -105.01348114013672], [39.72536087036133, -105.01329803466797], [39.72511672973633, -105.01311492919922], [39.72493362426758, -105.01297760009766], [39.7247200012207, -105.01280212402344], [39.72451400756836, -105.01262664794922], [39.72426986694336, -105.01239776611328], [39.72408676147461, -105.01221466064453], [39.723899841308594, -105.01201629638672], [39.72377395629883, -105.01188659667969], [39.72359848022461, -105.01168060302734], [39.72343826293945, -105.0114974975586], [39.72330093383789, -105.01133728027344], [39.723079681396484, -105.01106262207031], [39.7227897644043, -105.01066589355469], [39.72258377075195, -105.01038360595703], [39.722251892089844, -105.0099105834961], [39.7220573425293, -105.0096435546875], [39.721920013427734, -105.00946807861328], [39.721744537353516, -105.00924682617188], [39.721649169921875, -105.00914001464844], [39.7214241027832, -105.00888061523438], [39.72117233276367, -105.00861358642578], [39.720741271972656, -105.0081787109375], [39.720523834228516, -105.00794219970703], [39.7200813293457, -105.0074691772461], [39.71998977661133, -105.00737762451172], [39.71975326538086, -105.00711822509766], [39.71941375732422, -105.00675201416016], [39.719242095947266, -105.0065689086914], [39.719085693359375, -105.00640106201172], [39.718936920166016, -105.00623321533203], [39.718807220458984, -105.00608825683594], [39.718658447265625, -105.00591278076172], [39.71849060058594, -105.00570678710938], [39.7183723449707, -105.00556182861328], [39.71826171875, -105.00541687011719], [39.71812057495117, -105.00521850585938], [39.71792221069336, -105.00492858886719], [39.71759796142578, -105.00445556640625], [39.717166900634766, -105.0038070678711], [39.716880798339844, -105.00337982177734], [39.71671676635742, -105.00314331054688], [39.716552734375, -105.00292205810547], [39.7164306640625, -105.00276184082031], [39.71633529663086, -105.00264739990234], [39.71624755859375, -105.00254821777344], [39.71617889404297, -105.00247192382812], [39.71608352661133, -105.00237274169922], [39.715999603271484, -105.00228118896484], [39.71593475341797, -105.0022201538086], [39.715885162353516, -105.0021743774414], [39.715755462646484, -105.00206756591797], [39.715660095214844, -105.00198364257812], [39.715538024902344, -105.00189208984375], [39.71543884277344, -105.00181579589844], [39.71533203125, -105.00173950195312], [39.7152214050293, -105.00166320800781], [39.71499252319336, -105.00151824951172], [39.714324951171875, -105.0010757446289], [39.71399688720703, -105.00086212158203], [39.71346664428711, -105.00052642822266], [39.71318435668945, -105.00035095214844], [39.71266174316406, -105.00003051757812], [39.71223449707031, -104.9997787475586], [39.71159362792969, -104.99940490722656], [39.71141052246094, -104.99930572509766], [39.710933685302734, -104.99901580810547], [39.71067810058594, -104.99886322021484], [39.710357666015625, -104.99867248535156], [39.71013641357422, -104.99855041503906], [39.70988464355469, -104.99840545654297], [39.70966720581055, -104.99829864501953], [39.7094841003418, -104.99820709228516], [39.70940017700195, -104.99816131591797], [39.709136962890625, -104.99803924560547], [39.708702087402344, -104.99784088134766], [39.70827865600586, -104.99764251708984], [39.7078857421875, -104.99746704101562], [39.707275390625, -104.9971923828125], [39.70710372924805, -104.99711608886719], [39.7068977355957, -104.99701690673828], [39.706809997558594, -104.99697875976562], [39.706729888916016, -104.99693298339844], [39.70663070678711, -104.99688720703125], [39.706539154052734, -104.99683380126953], [39.70646667480469, -104.99678802490234], [39.70637130737305, -104.9967269897461], [39.70630645751953, -104.99668884277344], [39.70623779296875, -104.99664306640625], [39.70616912841797, -104.99658966064453], [39.706085205078125, -104.99652862548828], [39.70596694946289, -104.9964370727539], [39.705814361572266, -104.9963150024414], [39.7056999206543, -104.9962158203125], [39.70561218261719, -104.99613189697266], [39.70552062988281, -104.99604034423828], [39.705467224121094, -104.99598693847656], [39.70537567138672, -104.99588775634766], [39.705299377441406, -104.99580383300781], [39.705169677734375, -104.99565124511719], [39.70507049560547, -104.99552917480469], [39.704959869384766, -104.9953842163086], [39.704837799072266, -104.99520874023438], [39.70473098754883, -104.99505615234375], [39.704627990722656, -104.99488067626953], [39.704551696777344, -104.99474334716797], [39.704471588134766, -104.99459838867188], [39.70440673828125, -104.99447631835938], [39.7043342590332, -104.99433135986328], [39.704261779785156, -104.99417877197266], [39.70420455932617, -104.99404907226562], [39.70415115356445, -104.99392700195312], [39.704097747802734, -104.99378204345703], [39.70404815673828, -104.99363708496094], [39.70399475097656, -104.99347686767578], [39.70393753051758, -104.9933090209961], [39.70388412475586, -104.99313354492188], [39.703792572021484, -104.99284362792969], [39.70363235473633, -104.9923324584961], [39.703487396240234, -104.99188232421875], [39.703304290771484, -104.99127197265625], [39.703189849853516, -104.99092102050781], [39.70305633544922, -104.990478515625], [39.702980041503906, -104.99024200439453], [39.70287322998047, -104.989990234375], [39.70277404785156, -104.98977661132812], [39.70265197753906, -104.98954010009766], [39.70252990722656, -104.98933410644531], [39.70241928100586, -104.98914337158203], [39.70228576660156, -104.98894500732422], [39.702110290527344, -104.98870849609375], [39.70179748535156, -104.9883041381836], [39.70148849487305, -104.98790740966797], [39.700843811035156, -104.987060546875], [39.700706481933594, -104.98689270019531], [39.70027542114258, -104.98641967773438], [39.700077056884766, -104.9861831665039], [39.69994354248047, -104.98603057861328], [39.699771881103516, -104.98583984375], [39.69960021972656, -104.98567962646484], [39.699462890625, -104.98554229736328], [39.699344635009766, -104.98542022705078], [39.69913101196289, -104.98521423339844], [39.698974609375, -104.98504638671875], [39.69866180419922, -104.9847412109375], [39.6981086730957, -104.98410034179688], [39.69713592529297, -104.98299407958984], [39.696075439453125, -104.98184967041016], [39.69560623168945, -104.9813003540039], [39.69524383544922, -104.98087310791016], [39.69488525390625, -104.98043823242188], [39.694786071777344, -104.98033905029297], [39.6947021484375, -104.98025512695312], [39.69462585449219, -104.98019409179688], [39.6945915222168, -104.98016357421875], [39.69448471069336, -104.98009490966797], [39.69437789916992, -104.98002624511719], [39.6942024230957, -104.97992706298828], [39.69398498535156, -104.97977447509766], [39.69377899169922, -104.97953033447266], [39.69367599487305, -104.97943115234375], [39.69364929199219, -104.97940063476562], [39.69361114501953, -104.97936248779297], [39.69355010986328, -104.97931671142578], [39.6934814453125, -104.9792709350586], [39.69330978393555, -104.97918701171875], [39.69325637817383, -104.97914123535156], [39.693199157714844, -104.97909545898438], [39.693145751953125, -104.97903442382812], [39.693092346191406, -104.97897338867188], [39.69303512573242, -104.97886657714844], [39.69300079345703, -104.97877502441406], [39.69298553466797, -104.97871398925781], [39.69298553466797, -104.97850036621094], [39.69298553466797, -104.97827911376953], [39.69298553466797, -104.97792053222656], [39.6929931640625, -104.9774398803711], [39.6929931640625, -104.9773941040039], [39.6929931640625, -104.9772720336914], [39.692989349365234, -104.97704315185547], [39.692989349365234, -104.97694396972656], [39.692989349365234, -104.97685241699219], [39.69298553466797, -104.97636413574219], [39.6929817199707, -104.97577667236328]],\n",
       "                {&quot;bubblingMouseEvents&quot;: true, &quot;color&quot;: &quot;#eff821&quot;, &quot;dashArray&quot;: null, &quot;dashOffset&quot;: null, &quot;fill&quot;: false, &quot;fillColor&quot;: &quot;#eff821&quot;, &quot;fillOpacity&quot;: 0.2, &quot;fillRule&quot;: &quot;evenodd&quot;, &quot;lineCap&quot;: &quot;round&quot;, &quot;lineJoin&quot;: &quot;round&quot;, &quot;noClip&quot;: false, &quot;opacity&quot;: 0.8, &quot;smoothFactor&quot;: 1.0, &quot;stroke&quot;: true, &quot;weight&quot;: 10}\n",
       "            ).addTo(map_77bceaf15f8f92685ff07972bb265db5);\n",
       "        \n",
       "    \n",
       "            poly_line_3096e7d1c76ca60404f4c47b9117a47c.bindTooltip(\n",
       "                `&lt;div&gt;\n",
       "                     0.32011129944536876\n",
       "                 &lt;/div&gt;`,\n",
       "                {&quot;sticky&quot;: true}\n",
       "            );\n",
       "        \n",
       "    \n",
       "            var marker_b408369e32baf49a93b267bb1c26ab1e = L.marker(\n",
       "                [39.77902603149414, -104.96916961669922],\n",
       "                {}\n",
       "            ).addTo(map_77bceaf15f8f92685ff07972bb265db5);\n",
       "        \n",
       "    \n",
       "            var icon_6bdb7e8c90867a43a909c4b03b0f45ff = L.AwesomeMarkers.icon(\n",
       "                {&quot;extraClasses&quot;: &quot;fa-rotate-0&quot;, &quot;icon&quot;: &quot;circle&quot;, &quot;iconColor&quot;: &quot;white&quot;, &quot;markerColor&quot;: &quot;green&quot;, &quot;prefix&quot;: &quot;fa&quot;}\n",
       "            );\n",
       "            marker_b408369e32baf49a93b267bb1c26ab1e.setIcon(icon_6bdb7e8c90867a43a909c4b03b0f45ff);\n",
       "        \n",
       "    \n",
       "            marker_b408369e32baf49a93b267bb1c26ab1e.bindTooltip(\n",
       "                `&lt;div&gt;\n",
       "                     Origin\n",
       "                 &lt;/div&gt;`,\n",
       "                {&quot;sticky&quot;: true}\n",
       "            );\n",
       "        \n",
       "    \n",
       "            var marker_5e58e74755fc0f7be486049c35336a3f = L.marker(\n",
       "                [39.6929817199707, -104.97577667236328],\n",
       "                {}\n",
       "            ).addTo(map_77bceaf15f8f92685ff07972bb265db5);\n",
       "        \n",
       "    \n",
       "            var icon_0a710de33c2e19f55db9d8a13e270ae9 = L.AwesomeMarkers.icon(\n",
       "                {&quot;extraClasses&quot;: &quot;fa-rotate-0&quot;, &quot;icon&quot;: &quot;circle&quot;, &quot;iconColor&quot;: &quot;white&quot;, &quot;markerColor&quot;: &quot;red&quot;, &quot;prefix&quot;: &quot;fa&quot;}\n",
       "            );\n",
       "            marker_5e58e74755fc0f7be486049c35336a3f.setIcon(icon_0a710de33c2e19f55db9d8a13e270ae9);\n",
       "        \n",
       "    \n",
       "            marker_5e58e74755fc0f7be486049c35336a3f.bindTooltip(\n",
       "                `&lt;div&gt;\n",
       "                     Destination\n",
       "                 &lt;/div&gt;`,\n",
       "                {&quot;sticky&quot;: true}\n",
       "            );\n",
       "        \n",
       "    \n",
       "            var poly_line_467195630d68d76e5593e7251fc8958f = L.polyline(\n",
       "                [[39.77902603149414, -104.96916961669922], [39.77896499633789, -104.96910095214844], [39.77878189086914, -104.96887969970703], [39.778751373291016, -104.96884155273438], [39.778587341308594, -104.9686508178711], [39.778480529785156, -104.96852111816406], [39.77839660644531, -104.96841430664062], [39.778324127197266, -104.96851348876953], [39.778228759765625, -104.96863555908203], [39.778076171875, -104.96883392333984], [39.777626037597656, -104.96941375732422], [39.7774772644043, -104.96961212158203], [39.77703857421875, -104.97017669677734], [39.776737213134766, -104.97056579589844], [39.77666473388672, -104.97066497802734], [39.7766227722168, -104.97071838378906], [39.776371002197266, -104.97103881835938], [39.77608108520508, -104.9714126586914], [39.775978088378906, -104.97154998779297], [39.774810791015625, -104.97306060791016], [39.77475357055664, -104.97313690185547], [39.77467346191406, -104.97323608398438], [39.77459716796875, -104.97333526611328], [39.773738861083984, -104.97444915771484], [39.77363586425781, -104.97457885742188], [39.773353576660156, -104.97494506835938], [39.77303695678711, -104.97535705566406], [39.77297592163086, -104.9754409790039], [39.77287673950195, -104.97531127929688], [39.77263259887695, -104.9749984741211], [39.77257537841797, -104.97492218017578], [39.77229690551758, -104.97456359863281], [39.77223587036133, -104.9744873046875], [39.77199935913086, -104.97418212890625], [39.77191162109375, -104.97406768798828], [39.77157974243164, -104.9736328125], [39.77155303955078, -104.9736328125], [39.77154541015625, -104.97361755371094], [39.7712516784668, -104.97325897216797], [39.77125549316406, -104.97321319580078], [39.77090072631836, -104.97274017333984], [39.7706184387207, -104.97236633300781], [39.77056884765625, -104.97230529785156], [39.77048110961914, -104.97219848632812], [39.77042770385742, -104.9721450805664], [39.7703742980957, -104.97209167480469], [39.77033233642578, -104.97205352783203], [39.770233154296875, -104.97198486328125], [39.770118713378906, -104.9721450805664], [39.76996994018555, -104.97232818603516], [39.76978302001953, -104.97257232666016], [39.76957321166992, -104.97283172607422], [39.76926803588867, -104.97325134277344], [39.76918411254883, -104.97335815429688], [39.76904296875, -104.97335815429688], [39.76840591430664, -104.97335052490234], [39.76824188232422, -104.97335052490234], [39.7681770324707, -104.97335052490234], [39.7680549621582, -104.97335052490234], [39.7677001953125, -104.97335052490234], [39.767547607421875, -104.97335052490234], [39.7670783996582, -104.97335052490234], [39.76704788208008, -104.97335052490234], [39.766971588134766, -104.97335052490234], [39.76690673828125, -104.97335052490234], [39.76670455932617, -104.97335052490234], [39.76658248901367, -104.97335052490234], [39.766502380371094, -104.97335052490234], [39.76637649536133, -104.97335052490234], [39.766136169433594, -104.97335052490234], [39.76605987548828, -104.97335052490234], [39.765865325927734, -104.97335052490234], [39.76577377319336, -104.97335052490234], [39.76567459106445, -104.97335052490234], [39.76523208618164, -104.97335052490234], [39.76495361328125, -104.97335052490234], [39.764835357666016, -104.97335052490234], [39.7646598815918, -104.97335052490234], [39.764591217041016, -104.97335052490234], [39.7645149230957, -104.97335052490234], [39.764427185058594, -104.97335052490234], [39.76421356201172, -104.97335052490234], [39.764034271240234, -104.97335052490234], [39.76380920410156, -104.97335052490234], [39.763580322265625, -104.97335052490234], [39.76325988769531, -104.97335052490234], [39.76316833496094, -104.97339630126953], [39.763118743896484, -104.97339630126953], [39.76306915283203, -104.97335052490234], [39.762874603271484, -104.97335815429688], [39.762454986572266, -104.97335815429688], [39.76237869262695, -104.97335815429688], [39.76214599609375, -104.97335052490234], [39.762054443359375, -104.97335052490234], [39.76194381713867, -104.97335052490234], [39.76179122924805, -104.97335052490234], [39.76169967651367, -104.97335052490234], [39.76160430908203, -104.97335052490234], [39.76118087768555, -104.97335052490234], [39.76103973388672, -104.97335052490234], [39.76084518432617, -104.97335052490234], [39.76076126098633, -104.97335052490234], [39.76066589355469, -104.97335052490234], [39.760440826416016, -104.97335052490234], [39.76033401489258, -104.97335052490234], [39.759613037109375, -104.97335052490234], [39.7595100402832, -104.97335052490234], [39.75939178466797, -104.97339630126953], [39.759151458740234, -104.97339630126953], [39.75912094116211, -104.97335052490234], [39.759010314941406, -104.97335052490234], [39.758827209472656, -104.97335052490234], [39.75831604003906, -104.97335052490234], [39.75823211669922, -104.97335052490234], [39.758174896240234, -104.97335052490234], [39.75764083862305, -104.97335815429688], [39.7572021484375, -104.97335815429688], [39.75708770751953, -104.97335815429688], [39.75699234008789, -104.97335815429688], [39.75688171386719, -104.97335815429688], [39.75673294067383, -104.97335815429688], [39.75627899169922, -104.97335815429688], [39.75574493408203, -104.97335815429688], [39.75540542602539, -104.97335815429688], [39.75531005859375, -104.97335815429688], [39.75495147705078, -104.97335815429688], [39.75469970703125, -104.97335815429688], [39.754547119140625, -104.97335815429688], [39.75442886352539, -104.97335815429688], [39.753578186035156, -104.97335815429688], [39.75333786010742, -104.97335815429688], [39.75325012207031, -104.97335815429688], [39.75314712524414, -104.97335815429688], [39.75208282470703, -104.97335815429688], [39.751991271972656, -104.97335815429688], [39.751895904541016, -104.97335815429688], [39.75139236450195, -104.9733657836914], [39.75082778930664, -104.9733657836914], [39.750732421875, -104.9733657836914], [39.75063705444336, -104.9733657836914], [39.750423431396484, -104.9733657836914], [39.750282287597656, -104.9733657836914], [39.75018310546875, -104.9733657836914], [39.749576568603516, -104.9733657836914], [39.74947738647461, -104.9733657836914], [39.74938201904297, -104.9733657836914], [39.74884033203125, -104.9733657836914], [39.74821853637695, -104.97337341308594], [39.74812698364258, -104.97337341308594], [39.748016357421875, -104.97337341308594], [39.747798919677734, -104.97337341308594], [39.74757766723633, -104.97337341308594], [39.74747085571289, -104.97337341308594], [39.74736785888672, -104.97337341308594], [39.74721908569336, -104.97337341308594], [39.747066497802734, -104.97337341308594], [39.746952056884766, -104.97337341308594], [39.746864318847656, -104.97337341308594], [39.74663162231445, -104.97337341308594], [39.746551513671875, -104.97338104248047], [39.746482849121094, -104.97338104248047], [39.7460823059082, -104.97338104248047], [39.74594497680664, -104.97338104248047], [39.74583435058594, -104.97338104248047], [39.74509048461914, -104.97340393066406], [39.745052337646484, -104.97340393066406], [39.745018005371094, -104.97344207763672], [39.744972229003906, -104.97344970703125], [39.744937896728516, -104.97344970703125], [39.744834899902344, -104.97339630126953], [39.744834899902344, -104.97355651855469], [39.744834899902344, -104.97415924072266], [39.74483871459961, -104.97454833984375], [39.74483871459961, -104.97476196289062], [39.74464416503906, -104.97476196289062], [39.744606018066406, -104.97476196289062], [39.74433517456055, -104.97476959228516], [39.74381637573242, -104.97476959228516], [39.74373245239258, -104.97476959228516], [39.743377685546875, -104.97477722167969], [39.74324417114258, -104.97477722167969], [39.743133544921875, -104.97477722167969], [39.7426872253418, -104.97477722167969], [39.74175262451172, -104.97477722167969], [39.74166488647461, -104.97477722167969], [39.74156951904297, -104.97477722167969], [39.7412109375, -104.97478485107422], [39.740718841552734, -104.97479248046875], [39.74055862426758, -104.97479248046875], [39.74032211303711, -104.97479248046875], [39.74012756347656, -104.97480010986328], [39.740020751953125, -104.97480010986328], [39.740020751953125, -104.9746322631836], [39.740020751953125, -104.97451782226562], [39.74002456665039, -104.97415924072266], [39.73991775512695, -104.97415924072266], [39.73970031738281, -104.97415924072266], [39.73955535888672, -104.97415161132812], [39.739315032958984, -104.97415161132812], [39.73896789550781, -104.97415161132812], [39.738609313964844, -104.97415161132812], [39.73850631713867, -104.9741439819336], [39.73841857910156, -104.9741439819336], [39.73833465576172, -104.9741439819336], [39.736942291259766, -104.9741439819336], [39.736881256103516, -104.9741439819336], [39.73681640625, -104.9741439819336], [39.73567581176758, -104.97412109375], [39.735252380371094, -104.97411346435547], [39.735164642333984, -104.97411346435547], [39.735069274902344, -104.97411346435547], [39.73379898071289, -104.97410583496094], [39.73370361328125, -104.97410583496094], [39.733612060546875, -104.97410583496094], [39.73240280151367, -104.97410583496094], [39.732357025146484, -104.97410583496094], [39.73214340209961, -104.97410583496094], [39.7320556640625, -104.97410583496094], [39.73196029663086, -104.97410583496094], [39.731422424316406, -104.97410583496094], [39.73128890991211, -104.97410583496094], [39.730960845947266, -104.97410583496094], [39.73088455200195, -104.97410583496094], [39.73067855834961, -104.97410583496094], [39.73054504394531, -104.97410583496094], [39.7304573059082, -104.97410583496094], [39.730369567871094, -104.97410583496094], [39.73027420043945, -104.97410583496094], [39.73003387451172, -104.97410583496094], [39.729976654052734, -104.97410583496094], [39.729896545410156, -104.97410583496094], [39.72964859008789, -104.97410583496094], [39.7294807434082, -104.97410583496094], [39.729434967041016, -104.97410583496094], [39.72917175292969, -104.97410583496094], [39.72907257080078, -104.97410583496094], [39.72898864746094, -104.97410583496094], [39.727378845214844, -104.9740982055664], [39.72727966308594, -104.9740982055664], [39.727195739746094, -104.9740982055664], [39.7259635925293, -104.9740982055664], [39.72566604614258, -104.97409057617188], [39.7255859375, -104.97409057617188], [39.72549819946289, -104.97409057617188], [39.725337982177734, -104.97409057617188], [39.7252082824707, -104.97409057617188], [39.724693298339844, -104.97409057617188], [39.72453689575195, -104.97409057617188], [39.72406768798828, -104.97408294677734], [39.72374725341797, -104.97408294677734], [39.72247314453125, -104.97408294677734], [39.72218322753906, -104.97408294677734], [39.72205352783203, -104.97408294677734], [39.721946716308594, -104.97408294677734], [39.72013473510742, -104.97406768798828], [39.719642639160156, -104.97406005859375], [39.71931457519531, -104.97406005859375], [39.71918869018555, -104.97406005859375], [39.718971252441406, -104.97405242919922], [39.71888732910156, -104.97404479980469], [39.71880340576172, -104.97403717041016], [39.71875, -104.97402954101562], [39.71870422363281, -104.9740219116211], [39.718650817871094, -104.97401428222656], [39.71857452392578, -104.97399139404297], [39.718505859375, -104.97396850585938], [39.71845245361328, -104.97393798828125], [39.71842956542969, -104.97392272949219], [39.71839141845703, -104.97390747070312], [39.71834945678711, -104.97386932373047], [39.718318939208984, -104.97382354736328], [39.71824264526367, -104.97368621826172], [39.71818923950195, -104.97358703613281], [39.71816635131836, -104.97354888916016], [39.71815490722656, -104.9735336303711], [39.71811294555664, -104.97348022460938], [39.71806335449219, -104.97343444824219], [39.71802520751953, -104.97341918945312], [39.717979431152344, -104.97340393066406], [39.717952728271484, -104.97339630126953], [39.71792221069336, -104.973388671875], [39.717899322509766, -104.973388671875], [39.71767807006836, -104.973388671875], [39.716922760009766, -104.973388671875], [39.71653366088867, -104.97339630126953], [39.71645736694336, -104.97339630126953], [39.71589660644531, -104.97339630126953], [39.71546936035156, -104.97341918945312], [39.71541976928711, -104.97341918945312], [39.71538543701172, -104.97342681884766], [39.71536636352539, -104.97342681884766], [39.71527862548828, -104.97342681884766], [39.7148551940918, -104.97344970703125], [39.71479415893555, -104.97344970703125], [39.71472930908203, -104.97345733642578], [39.714656829833984, -104.97344970703125], [39.71451950073242, -104.97344207763672], [39.71427917480469, -104.9734115600586], [39.712989807128906, -104.97340393066406], [39.71291732788086, -104.97340393066406], [39.71285629272461, -104.97340393066406], [39.71247482299805, -104.97340393066406], [39.711551666259766, -104.97340393066406], [39.71137237548828, -104.97340393066406], [39.711204528808594, -104.97340393066406], [39.71110534667969, -104.97340393066406], [39.711021423339844, -104.97340393066406], [39.7109489440918, -104.97340393066406], [39.710845947265625, -104.97340393066406], [39.709381103515625, -104.973388671875], [39.70929718017578, -104.973388671875], [39.707820892333984, -104.973388671875], [39.707557678222656, -104.973388671875], [39.70749282836914, -104.973388671875], [39.707420349121094, -104.973388671875], [39.70706558227539, -104.97338104248047], [39.70566940307617, -104.97337341308594], [39.70392990112305, -104.973388671875], [39.70386505126953, -104.973388671875], [39.70379638671875, -104.973388671875], [39.70212173461914, -104.97339630126953], [39.70206069946289, -104.97339630126953], [39.70030212402344, -104.97339630126953], [39.70021057128906, -104.97340393066406], [39.700138092041016, -104.97339630126953], [39.698429107666016, -104.97340393066406], [39.69660949707031, -104.9734115600586], [39.69625473022461, -104.97341918945312], [39.694740295410156, -104.97341918945312], [39.694149017333984, -104.97343444824219], [39.69339370727539, -104.97343444824219], [39.69325256347656, -104.97343444824219], [39.69306564331055, -104.97342681884766], [39.6929817199707, -104.97342681884766], [39.6929817199707, -104.97357177734375], [39.6929817199707, -104.97403717041016], [39.6929817199707, -104.974609375], [39.69298553466797, -104.97517395019531], [39.6929817199707, -104.97577667236328]],\n",
       "                {&quot;bubblingMouseEvents&quot;: true, &quot;color&quot;: &quot;#8104a7&quot;, &quot;dashArray&quot;: null, &quot;dashOffset&quot;: null, &quot;fill&quot;: false, &quot;fillColor&quot;: &quot;#8104a7&quot;, &quot;fillOpacity&quot;: 0.2, &quot;fillRule&quot;: &quot;evenodd&quot;, &quot;lineCap&quot;: &quot;round&quot;, &quot;lineJoin&quot;: &quot;round&quot;, &quot;noClip&quot;: false, &quot;opacity&quot;: 0.8, &quot;smoothFactor&quot;: 1.0, &quot;stroke&quot;: true, &quot;weight&quot;: 10}\n",
       "            ).addTo(map_77bceaf15f8f92685ff07972bb265db5);\n",
       "        \n",
       "    \n",
       "            poly_line_467195630d68d76e5593e7251fc8958f.bindTooltip(\n",
       "                `&lt;div&gt;\n",
       "                     0.280412929797509\n",
       "                 &lt;/div&gt;`,\n",
       "                {&quot;sticky&quot;: true}\n",
       "            );\n",
       "        \n",
       "    \n",
       "            var marker_f8fb9f6234222553ddb96ee8b37c8ae1 = L.marker(\n",
       "                [39.77902603149414, -104.96916961669922],\n",
       "                {}\n",
       "            ).addTo(map_77bceaf15f8f92685ff07972bb265db5);\n",
       "        \n",
       "    \n",
       "            var icon_727ad313e66aff1a5fd555ee887af284 = L.AwesomeMarkers.icon(\n",
       "                {&quot;extraClasses&quot;: &quot;fa-rotate-0&quot;, &quot;icon&quot;: &quot;circle&quot;, &quot;iconColor&quot;: &quot;white&quot;, &quot;markerColor&quot;: &quot;green&quot;, &quot;prefix&quot;: &quot;fa&quot;}\n",
       "            );\n",
       "            marker_f8fb9f6234222553ddb96ee8b37c8ae1.setIcon(icon_727ad313e66aff1a5fd555ee887af284);\n",
       "        \n",
       "    \n",
       "            marker_f8fb9f6234222553ddb96ee8b37c8ae1.bindTooltip(\n",
       "                `&lt;div&gt;\n",
       "                     Origin\n",
       "                 &lt;/div&gt;`,\n",
       "                {&quot;sticky&quot;: true}\n",
       "            );\n",
       "        \n",
       "    \n",
       "            var marker_e81ff4662acbccd08209491db4657bd7 = L.marker(\n",
       "                [39.6929817199707, -104.97577667236328],\n",
       "                {}\n",
       "            ).addTo(map_77bceaf15f8f92685ff07972bb265db5);\n",
       "        \n",
       "    \n",
       "            var icon_0081b7beb646617f32b06a6aaa6096ad = L.AwesomeMarkers.icon(\n",
       "                {&quot;extraClasses&quot;: &quot;fa-rotate-0&quot;, &quot;icon&quot;: &quot;circle&quot;, &quot;iconColor&quot;: &quot;white&quot;, &quot;markerColor&quot;: &quot;red&quot;, &quot;prefix&quot;: &quot;fa&quot;}\n",
       "            );\n",
       "            marker_e81ff4662acbccd08209491db4657bd7.setIcon(icon_0081b7beb646617f32b06a6aaa6096ad);\n",
       "        \n",
       "    \n",
       "            marker_e81ff4662acbccd08209491db4657bd7.bindTooltip(\n",
       "                `&lt;div&gt;\n",
       "                     Destination\n",
       "                 &lt;/div&gt;`,\n",
       "                {&quot;sticky&quot;: true}\n",
       "            );\n",
       "        \n",
       "    \n",
       "            var poly_line_26538eb8c516090da23fe9fc05784049 = L.polyline(\n",
       "                [[39.77902603149414, -104.96916961669922], [39.77896499633789, -104.96910095214844], [39.77878189086914, -104.96887969970703], [39.778751373291016, -104.96884155273438], [39.778587341308594, -104.9686508178711], [39.778480529785156, -104.96852111816406], [39.77839660644531, -104.96841430664062], [39.778324127197266, -104.96851348876953], [39.778228759765625, -104.96863555908203], [39.778076171875, -104.96883392333984], [39.777626037597656, -104.96941375732422], [39.7774772644043, -104.96961212158203], [39.77703857421875, -104.97017669677734], [39.776737213134766, -104.97056579589844], [39.77666473388672, -104.97066497802734], [39.7766227722168, -104.97071838378906], [39.776371002197266, -104.97103881835938], [39.77608108520508, -104.9714126586914], [39.775978088378906, -104.97154998779297], [39.774810791015625, -104.97306060791016], [39.77475357055664, -104.97313690185547], [39.77467346191406, -104.97323608398438], [39.77459716796875, -104.97333526611328], [39.773738861083984, -104.97444915771484], [39.77363586425781, -104.97457885742188], [39.773353576660156, -104.97494506835938], [39.77303695678711, -104.97535705566406], [39.77297592163086, -104.9754409790039], [39.77290344238281, -104.97553253173828], [39.772544860839844, -104.97599029541016], [39.772335052490234, -104.97626495361328], [39.77207946777344, -104.97659301757812], [39.771976470947266, -104.97673034667969], [39.771705627441406, -104.97708129882812], [39.77125549316406, -104.97766876220703], [39.77039337158203, -104.9787826538086], [39.77033233642578, -104.9788589477539], [39.770263671875, -104.97895050048828], [39.769996643066406, -104.97929382324219], [39.76996994018555, -104.9793930053711], [39.76955032348633, -104.97993469238281], [39.769287109375, -104.98027801513672], [39.7691764831543, -104.98041534423828], [39.769039154052734, -104.98059844970703], [39.76881408691406, -104.98088836669922], [39.768733978271484, -104.98099517822266], [39.76864242553711, -104.98110961914062], [39.76858901977539, -104.9811782836914], [39.76840591430664, -104.98141479492188], [39.7678337097168, -104.98216247558594], [39.76764678955078, -104.9823989868164], [39.76701736450195, -104.98321533203125], [39.766876220703125, -104.9833984375], [39.766693115234375, -104.98363494873047], [39.766624450683594, -104.98372650146484], [39.76657485961914, -104.9837875366211], [39.76653289794922, -104.98384857177734], [39.766178131103516, -104.98429870605469], [39.766021728515625, -104.98450469970703], [39.76557159423828, -104.98507690429688], [39.76506423950195, -104.98573303222656], [39.76464080810547, -104.98627471923828], [39.764495849609375, -104.98646545410156], [39.76442337036133, -104.98655700683594], [39.764347076416016, -104.98664855957031], [39.763763427734375, -104.98738861083984], [39.76366424560547, -104.98750305175781], [39.763572692871094, -104.98760223388672], [39.76346969604492, -104.98770141601562], [39.76337814331055, -104.98778533935547], [39.76326370239258, -104.98786926269531], [39.76316452026367, -104.9879379272461], [39.76304626464844, -104.98800659179688], [39.762916564941406, -104.98807525634766], [39.762813568115234, -104.98812103271484], [39.76266860961914, -104.98816680908203], [39.76252746582031, -104.98819732666016], [39.762413024902344, -104.98820495605469], [39.762290954589844, -104.98821258544922], [39.76216125488281, -104.98821258544922], [39.762062072753906, -104.98820495605469], [39.76179885864258, -104.9881591796875], [39.76161575317383, -104.98812103271484], [39.76142501831055, -104.98808288574219], [39.76121520996094, -104.98804473876953], [39.75983428955078, -104.98776245117188], [39.75953674316406, -104.98770141601562], [39.75946807861328, -104.98763275146484], [39.75936508178711, -104.98761749267578], [39.7588996887207, -104.987548828125], [39.758426666259766, -104.98747253417969], [39.758270263671875, -104.9874496459961], [39.75812911987305, -104.98744201660156], [39.75796127319336, -104.98744201660156], [39.75767517089844, -104.9874267578125], [39.75761032104492, -104.9874267578125], [39.75736618041992, -104.98741912841797], [39.757179260253906, -104.98741149902344], [39.757102966308594, -104.98741149902344], [39.756961822509766, -104.98741149902344], [39.756805419921875, -104.9874038696289], [39.756404876708984, -104.9874038696289], [39.75601577758789, -104.9874038696289], [39.75578308105469, -104.98739624023438], [39.75563049316406, -104.98739624023438], [39.755496978759766, -104.98739624023438], [39.75507736206055, -104.98738861083984], [39.75468063354492, -104.98738861083984], [39.75453186035156, -104.98738098144531], [39.754398345947266, -104.98738098144531], [39.754364013671875, -104.98738098144531], [39.75428009033203, -104.98738861083984], [39.75388717651367, -104.98738861083984], [39.753604888916016, -104.98738861083984], [39.75343704223633, -104.98738861083984], [39.7532844543457, -104.98738861083984], [39.75323486328125, -104.98738861083984], [39.75295639038086, -104.98738861083984], [39.752933502197266, -104.98738861083984], [39.752662658691406, -104.98738861083984], [39.752262115478516, -104.98738861083984], [39.75224304199219, -104.98738098144531], [39.751827239990234, -104.98738098144531], [39.75173568725586, -104.98738098144531], [39.751583099365234, -104.98738098144531], [39.75148391723633, -104.98738098144531], [39.751014709472656, -104.98738098144531], [39.750850677490234, -104.98738098144531], [39.75082015991211, -104.98738098144531], [39.750736236572266, -104.98738098144531], [39.750389099121094, -104.98737335205078], [39.75023651123047, -104.98737335205078], [39.7501106262207, -104.98737335205078], [39.7497673034668, -104.98737335205078], [39.74958419799805, -104.98737335205078], [39.74951171875, -104.98737335205078], [39.749412536621094, -104.98737335205078], [39.74927520751953, -104.98738098144531], [39.749168395996094, -104.98738098144531], [39.74892044067383, -104.98738098144531], [39.74868392944336, -104.98738098144531], [39.74851989746094, -104.98738098144531], [39.74822235107422, -104.98738098144531], [39.74802017211914, -104.98738098144531], [39.7476692199707, -104.98738098144531], [39.74758529663086, -104.98738098144531], [39.74751281738281, -104.98738098144531], [39.7474365234375, -104.98738098144531], [39.747379302978516, -104.98738098144531], [39.74735641479492, -104.98738098144531], [39.74730682373047, -104.98738098144531], [39.74697494506836, -104.98738098144531], [39.746944427490234, -104.98738098144531], [39.74678039550781, -104.98738861083984], [39.74667739868164, -104.98738861083984], [39.74653244018555, -104.98738861083984], [39.746482849121094, -104.98738861083984], [39.74626541137695, -104.98738861083984], [39.74618148803711, -104.98738861083984], [39.74605178833008, -104.98738861083984], [39.745948791503906, -104.98738861083984], [39.74554443359375, -104.98738861083984], [39.745418548583984, -104.98738861083984], [39.74506378173828, -104.98739624023438], [39.74480438232422, -104.98739624023438], [39.74473571777344, -104.9874038696289], [39.74430847167969, -104.98739624023438], [39.743526458740234, -104.98739624023438], [39.74336242675781, -104.98739624023438], [39.74320602416992, -104.98739624023438], [39.74302291870117, -104.98739624023438], [39.74254608154297, -104.98739624023438], [39.74245834350586, -104.98739624023438], [39.74220275878906, -104.98739624023438], [39.74214172363281, -104.98738861083984], [39.74182891845703, -104.98738861083984], [39.74177932739258, -104.98738861083984], [39.7416877746582, -104.98738861083984], [39.74163818359375, -104.98738098144531], [39.74156188964844, -104.98738861083984], [39.74149703979492, -104.98738861083984], [39.741416931152344, -104.98738861083984], [39.74137496948242, -104.98738861083984], [39.74129867553711, -104.98738861083984], [39.7410888671875, -104.98738861083984], [39.74089050292969, -104.98739624023438], [39.740875244140625, -104.98739624023438], [39.74071502685547, -104.98739624023438], [39.740631103515625, -104.98739624023438], [39.740478515625, -104.98739624023438], [39.74021530151367, -104.9874038696289], [39.74014663696289, -104.9874038696289], [39.74000930786133, -104.9874038696289], [39.73992919921875, -104.9874038696289], [39.73912048339844, -104.98739624023438], [39.73855209350586, -104.98739624023438], [39.73845672607422, -104.98739624023438], [39.73835372924805, -104.98739624023438], [39.73801040649414, -104.98739624023438], [39.73710250854492, -104.98738861083984], [39.73695373535156, -104.98738861083984], [39.736900329589844, -104.98738861083984], [39.736846923828125, -104.98738861083984], [39.73676300048828, -104.98738861083984], [39.73644256591797, -104.98739624023438], [39.73640441894531, -104.98739624023438], [39.736244201660156, -104.98739624023438], [39.73619079589844, -104.98739624023438], [39.73557662963867, -104.98739624023438], [39.73536682128906, -104.98739624023438], [39.73527526855469, -104.98739624023438], [39.73518753051758, -104.98739624023438], [39.73509216308594, -104.98739624023438], [39.73466110229492, -104.98739624023438], [39.734039306640625, -104.9874038696289], [39.73394775390625, -104.98739624023438], [39.733848571777344, -104.9874038696289], [39.73375701904297, -104.9874038696289], [39.73365020751953, -104.9874038696289], [39.73337173461914, -104.9874038696289], [39.733306884765625, -104.9874038696289], [39.732810974121094, -104.9874038696289], [39.732444763183594, -104.98741149902344], [39.732147216796875, -104.98741149902344], [39.7320556640625, -104.98741149902344], [39.731964111328125, -104.98741149902344], [39.73185348510742, -104.98741149902344], [39.73183059692383, -104.98741149902344], [39.73168182373047, -104.98741149902344], [39.73122024536133, -104.98741912841797], [39.731178283691406, -104.98741912841797], [39.73095703125, -104.98741912841797], [39.73054885864258, -104.98741912841797], [39.73045349121094, -104.98741912841797], [39.73037338256836, -104.98741912841797], [39.730010986328125, -104.98741912841797], [39.729522705078125, -104.98741912841797], [39.72943115234375, -104.98741912841797], [39.72917175292969, -104.98741912841797], [39.72908020019531, -104.98741912841797], [39.7289924621582, -104.98741912841797], [39.728668212890625, -104.98741912841797], [39.72862243652344, -104.98741912841797], [39.72829055786133, -104.98741912841797], [39.727420806884766, -104.98741912841797], [39.727298736572266, -104.98741912841797], [39.72718048095703, -104.98741912841797], [39.72665786743164, -104.9874267578125], [39.72663497924805, -104.9874267578125], [39.726600646972656, -104.9874267578125], [39.726375579833984, -104.98743438720703], [39.726226806640625, -104.98744201660156], [39.726112365722656, -104.98744201660156], [39.72574996948242, -104.98745727539062], [39.72563934326172, -104.98746490478516], [39.72555923461914, -104.98746490478516], [39.725223541259766, -104.98747253417969], [39.7251091003418, -104.98747253417969], [39.724884033203125, -104.98748016357422], [39.72444152832031, -104.98748779296875], [39.72422409057617, -104.98748779296875], [39.72414779663086, -104.98748779296875], [39.72405242919922, -104.98748779296875], [39.72385025024414, -104.98748779296875], [39.72378921508789, -104.98748779296875], [39.72360610961914, -104.98748779296875], [39.72319793701172, -104.98750305175781], [39.723026275634766, -104.98751068115234], [39.722869873046875, -104.98751068115234], [39.72262191772461, -104.98751068115234], [39.72255325317383, -104.98751068115234], [39.72245788574219, -104.98751068115234], [39.72215270996094, -104.98750305175781], [39.72206497192383, -104.98750305175781], [39.72195816040039, -104.98749542236328], [39.7216911315918, -104.98748779296875], [39.72103500366211, -104.98748779296875], [39.720943450927734, -104.98748779296875], [39.720863342285156, -104.98748779296875], [39.71990966796875, -104.98748779296875], [39.71987533569336, -104.98748779296875], [39.719451904296875, -104.98748779296875], [39.7193603515625, -104.98748779296875], [39.71928787231445, -104.98748779296875], [39.71902847290039, -104.98748779296875], [39.71844482421875, -104.98748779296875], [39.71834945678711, -104.98748779296875], [39.7182731628418, -104.98748779296875], [39.71819305419922, -104.98748779296875], [39.71754455566406, -104.98748779296875], [39.717464447021484, -104.98748779296875], [39.7174186706543, -104.98748779296875], [39.716644287109375, -104.98748779296875], [39.71656799316406, -104.98748779296875], [39.71649932861328, -104.98748779296875], [39.716224670410156, -104.98749542236328], [39.71613311767578, -104.98749542236328], [39.71575927734375, -104.98750305175781], [39.71568298339844, -104.98750305175781], [39.715606689453125, -104.98750305175781], [39.71514892578125, -104.98751831054688], [39.714847564697266, -104.98753356933594], [39.71476364135742, -104.98753356933594], [39.71470260620117, -104.98753356933594], [39.713897705078125, -104.987548828125], [39.713294982910156, -104.987548828125], [39.71319580078125, -104.987548828125], [39.71306610107422, -104.98755645751953], [39.71297836303711, -104.98755645751953], [39.71291732788086, -104.98755645751953], [39.712486267089844, -104.98756408691406], [39.71209716796875, -104.9875717163086], [39.71201705932617, -104.98757934570312], [39.71174240112305, -104.98757934570312], [39.711578369140625, -104.98758697509766], [39.711280822753906, -104.98759460449219], [39.71114730834961, -104.98759460449219], [39.71101379394531, -104.98759460449219], [39.71085739135742, -104.98759460449219], [39.71025085449219, -104.98760986328125], [39.71002960205078, -104.98760986328125], [39.70989227294922, -104.98761749267578], [39.70948028564453, -104.98761749267578], [39.70942306518555, -104.98760986328125], [39.70934295654297, -104.98761749267578], [39.709259033203125, -104.98761749267578], [39.70914840698242, -104.98762512207031], [39.7091064453125, -104.98762512207031], [39.70846939086914, -104.9876480102539], [39.70835876464844, -104.9876480102539], [39.70762634277344, -104.9876480102539], [39.707542419433594, -104.9876480102539], [39.707462310791016, -104.98764038085938], [39.7066535949707, -104.98760223388672], [39.70616912841797, -104.98758697509766], [39.705841064453125, -104.9875717163086], [39.70573806762695, -104.98756408691406], [39.705665588378906, -104.98755645751953], [39.705406188964844, -104.98754119873047], [39.705223083496094, -104.98753356933594], [39.705101013183594, -104.9875259399414], [39.704872131347656, -104.9875259399414], [39.7047119140625, -104.9875259399414], [39.704627990722656, -104.98751831054688], [39.70394515991211, -104.98751068115234], [39.703880310058594, -104.98751068115234], [39.70368194580078, -104.98750305175781], [39.70335006713867, -104.98750305175781], [39.70302963256836, -104.98750305175781], [39.7028694152832, -104.98750305175781], [39.70270538330078, -104.98751831054688], [39.70259475708008, -104.9875259399414], [39.702491760253906, -104.98753356933594], [39.70227813720703, -104.987548828125], [39.7021369934082, -104.98755645751953], [39.70204162597656, -104.98756408691406], [39.700843811035156, -104.98760986328125], [39.700782775878906, -104.98749542236328], [39.70073318481445, -104.9874038696289], [39.700687408447266, -104.98731994628906], [39.700660705566406, -104.98727416992188], [39.70061111450195, -104.9871826171875], [39.70054626464844, -104.98707580566406], [39.70036315917969, -104.98675537109375], [39.70024490356445, -104.986572265625], [39.70008850097656, -104.98636627197266], [39.700042724609375, -104.98631286621094], [39.69866180419922, -104.9847412109375], [39.6981086730957, -104.98410034179688], [39.69713592529297, -104.98299407958984], [39.696075439453125, -104.98184967041016], [39.69560623168945, -104.9813003540039], [39.69524383544922, -104.98087310791016], [39.69488525390625, -104.98043823242188], [39.694786071777344, -104.98033905029297], [39.6947021484375, -104.98025512695312], [39.69462585449219, -104.98019409179688], [39.6945915222168, -104.98016357421875], [39.69448471069336, -104.98009490966797], [39.69437789916992, -104.98002624511719], [39.6942024230957, -104.97992706298828], [39.69398498535156, -104.97977447509766], [39.69377899169922, -104.97953033447266], [39.69367599487305, -104.97943115234375], [39.69364929199219, -104.97940063476562], [39.69361114501953, -104.97936248779297], [39.69355010986328, -104.97931671142578], [39.6934814453125, -104.9792709350586], [39.69330978393555, -104.97918701171875], [39.69325637817383, -104.97914123535156], [39.693199157714844, -104.97909545898438], [39.693145751953125, -104.97903442382812], [39.693092346191406, -104.97897338867188], [39.69303512573242, -104.97886657714844], [39.69300079345703, -104.97877502441406], [39.69298553466797, -104.97871398925781], [39.69298553466797, -104.97850036621094], [39.69298553466797, -104.97827911376953], [39.69298553466797, -104.97792053222656], [39.6929931640625, -104.9774398803711], [39.6929931640625, -104.9773941040039], [39.6929931640625, -104.9772720336914], [39.692989349365234, -104.97704315185547], [39.692989349365234, -104.97694396972656], [39.692989349365234, -104.97685241699219], [39.69298553466797, -104.97636413574219], [39.6929817199707, -104.97577667236328]],\n",
       "                {&quot;bubblingMouseEvents&quot;: true, &quot;color&quot;: &quot;#0c0786&quot;, &quot;dashArray&quot;: null, &quot;dashOffset&quot;: null, &quot;fill&quot;: false, &quot;fillColor&quot;: &quot;#0c0786&quot;, &quot;fillOpacity&quot;: 0.2, &quot;fillRule&quot;: &quot;evenodd&quot;, &quot;lineCap&quot;: &quot;round&quot;, &quot;lineJoin&quot;: &quot;round&quot;, &quot;noClip&quot;: false, &quot;opacity&quot;: 0.8, &quot;smoothFactor&quot;: 1.0, &quot;stroke&quot;: true, &quot;weight&quot;: 10}\n",
       "            ).addTo(map_77bceaf15f8f92685ff07972bb265db5);\n",
       "        \n",
       "    \n",
       "            poly_line_26538eb8c516090da23fe9fc05784049.bindTooltip(\n",
       "                `&lt;div&gt;\n",
       "                     0.2664853255906838\n",
       "                 &lt;/div&gt;`,\n",
       "                {&quot;sticky&quot;: true}\n",
       "            );\n",
       "        \n",
       "    \n",
       "            var marker_50f1588a12c520bb262fc8c55a243907 = L.marker(\n",
       "                [39.77902603149414, -104.96916961669922],\n",
       "                {}\n",
       "            ).addTo(map_77bceaf15f8f92685ff07972bb265db5);\n",
       "        \n",
       "    \n",
       "            var icon_50d53abde7ef57cbeed74c98cc5cec60 = L.AwesomeMarkers.icon(\n",
       "                {&quot;extraClasses&quot;: &quot;fa-rotate-0&quot;, &quot;icon&quot;: &quot;circle&quot;, &quot;iconColor&quot;: &quot;white&quot;, &quot;markerColor&quot;: &quot;green&quot;, &quot;prefix&quot;: &quot;fa&quot;}\n",
       "            );\n",
       "            marker_50f1588a12c520bb262fc8c55a243907.setIcon(icon_50d53abde7ef57cbeed74c98cc5cec60);\n",
       "        \n",
       "    \n",
       "            marker_50f1588a12c520bb262fc8c55a243907.bindTooltip(\n",
       "                `&lt;div&gt;\n",
       "                     Origin\n",
       "                 &lt;/div&gt;`,\n",
       "                {&quot;sticky&quot;: true}\n",
       "            );\n",
       "        \n",
       "    \n",
       "            var marker_b77a6be72ef94bcf92969d8a1c82f68f = L.marker(\n",
       "                [39.6929817199707, -104.97577667236328],\n",
       "                {}\n",
       "            ).addTo(map_77bceaf15f8f92685ff07972bb265db5);\n",
       "        \n",
       "    \n",
       "            var icon_39a9568a303e01f77af42b73eab40e7f = L.AwesomeMarkers.icon(\n",
       "                {&quot;extraClasses&quot;: &quot;fa-rotate-0&quot;, &quot;icon&quot;: &quot;circle&quot;, &quot;iconColor&quot;: &quot;white&quot;, &quot;markerColor&quot;: &quot;red&quot;, &quot;prefix&quot;: &quot;fa&quot;}\n",
       "            );\n",
       "            marker_b77a6be72ef94bcf92969d8a1c82f68f.setIcon(icon_39a9568a303e01f77af42b73eab40e7f);\n",
       "        \n",
       "    \n",
       "            marker_b77a6be72ef94bcf92969d8a1c82f68f.bindTooltip(\n",
       "                `&lt;div&gt;\n",
       "                     Destination\n",
       "                 &lt;/div&gt;`,\n",
       "                {&quot;sticky&quot;: true}\n",
       "            );\n",
       "        \n",
       "&lt;/script&gt;\n",
       "&lt;/html&gt;\" style=\"position:absolute;width:100%;height:100%;left:0;top:0;border:none !important;\" allowfullscreen webkitallowfullscreen mozallowfullscreen></iframe></div></div>"
      ],
      "text/plain": [
       "<folium.folium.Map at 0x1a655fe20>"
      ]
     },
     "execution_count": 18,
     "metadata": {},
     "output_type": "execute_result"
    }
   ],
   "source": [
    "m = plot_routes_folium(results, value_fn=lambda r: r[\"traversal_summary\"][\"energy_liquid\"], color_map=\"plasma\")\n",
    "m"
   ]
  },
  {
   "cell_type": "markdown",
   "id": "b16969d4-7b3d-4f2f-b3f4-f4bffe63bbd6",
   "metadata": {},
   "source": [
    "### Tradeoffs\n",
    "\n",
    "Lastly, let's look at the tradeoffs for taking one route versus another.\n",
    "\n",
    "First we'll gather some of the summary values into a dataframe:"
   ]
  },
  {
   "cell_type": "code",
   "execution_count": 189,
   "id": "fb7c4f93-7b70-44a2-b661-d17f7ae369c9",
   "metadata": {},
   "outputs": [],
   "source": [
    "c = []\n",
    "for r in results:\n",
    "    c.append({ \n",
    "        \"scenario\": r[\"request\"][\"name\"],\n",
    "        \"time_minutes\": r[\"traversal_summary\"][\"time\"],\n",
    "        \"distance_miles\": r[\"traversal_summary\"][\"distance\"],\n",
    "        \"energy_gge\": r[\"traversal_summary\"][\"energy_liquid\"],\n",
    "        \"cost_dollars\": r[\"cost\"][\"total_cost\"],\n",
    "    })"
   ]
  },
  {
   "cell_type": "code",
   "execution_count": 190,
   "id": "0d625a58-bdee-41af-8f37-4ffa0a0ff4a7",
   "metadata": {},
   "outputs": [
    {
     "data": {
      "text/html": [
       "<div>\n",
       "<style scoped>\n",
       "    .dataframe tbody tr th:only-of-type {\n",
       "        vertical-align: middle;\n",
       "    }\n",
       "\n",
       "    .dataframe tbody tr th {\n",
       "        vertical-align: top;\n",
       "    }\n",
       "\n",
       "    .dataframe thead th {\n",
       "        text-align: right;\n",
       "    }\n",
       "</style>\n",
       "<table border=\"1\" class=\"dataframe\">\n",
       "  <thead>\n",
       "    <tr style=\"text-align: right;\">\n",
       "      <th></th>\n",
       "      <th>scenario</th>\n",
       "      <th>time_minutes</th>\n",
       "      <th>distance_miles</th>\n",
       "      <th>energy_gge</th>\n",
       "      <th>cost_dollars</th>\n",
       "    </tr>\n",
       "  </thead>\n",
       "  <tbody>\n",
       "    <tr>\n",
       "      <th>0</th>\n",
       "      <td>least_time</td>\n",
       "      <td>10.605214</td>\n",
       "      <td>9.152879</td>\n",
       "      <td>0.320099</td>\n",
       "      <td>10.455153</td>\n",
       "    </tr>\n",
       "    <tr>\n",
       "      <th>1</th>\n",
       "      <td>least_cost</td>\n",
       "      <td>12.906891</td>\n",
       "      <td>6.469531</td>\n",
       "      <td>0.280017</td>\n",
       "      <td>9.336866</td>\n",
       "    </tr>\n",
       "    <tr>\n",
       "      <th>2</th>\n",
       "      <td>least_energy</td>\n",
       "      <td>12.657830</td>\n",
       "      <td>6.733433</td>\n",
       "      <td>0.266469</td>\n",
       "      <td>9.386889</td>\n",
       "    </tr>\n",
       "  </tbody>\n",
       "</table>\n",
       "</div>"
      ],
      "text/plain": [
       "       scenario  time_minutes  distance_miles  energy_gge  cost_dollars\n",
       "0    least_time     10.605214        9.152879    0.320099     10.455153\n",
       "1    least_cost     12.906891        6.469531    0.280017      9.336866\n",
       "2  least_energy     12.657830        6.733433    0.266469      9.386889"
      ]
     },
     "execution_count": 190,
     "metadata": {},
     "output_type": "execute_result"
    }
   ],
   "source": [
    "df = pd.DataFrame(c)\n",
    "df"
   ]
  },
  {
   "cell_type": "markdown",
   "id": "f44a303c-eadd-4aaa-b6fc-947571ce9cee",
   "metadata": {},
   "source": [
    "Now, let's look at the tradeoff between time and cost."
   ]
  },
  {
   "cell_type": "code",
   "execution_count": 191,
   "id": "7cae7446-0b14-40b6-9bdc-d4c37d20f8bf",
   "metadata": {},
   "outputs": [
    {
     "data": {
      "text/plain": [
       "Text(0.5, 1.0, 'Cost vs Time by Scenario')"
      ]
     },
     "execution_count": 191,
     "metadata": {},
     "output_type": "execute_result"
    },
    {
     "data": {
      "image/png": "[encoded data removed]",
      "text/plain": [
       "<Figure size 640x480 with 1 Axes>"
      ]
     },
     "metadata": {},
     "output_type": "display_data"
    }
   ],
   "source": [
    "fig, ax = plt.subplots()\n",
    "colors = {'least_time':'red', 'least_cost':'blue', 'least_energy':'green'}\n",
    "\n",
    "for scenario, group in df.groupby('scenario'):\n",
    "    ax.scatter(group['time_minutes'], group['cost_dollars'], color=colors[scenario], label=scenario)\n",
    "\n",
    "ax.set_xlabel('Time (minutes)')\n",
    "ax.set_ylabel('Cost (dollars)')\n",
    "ax.legend(title='Scenario')\n",
    "plt.title('Cost vs Time by Scenario')"
   ]
  },
  {
   "cell_type": "markdown",
   "id": "f2204865-5cca-43e3-a3d4-69c7f4f35156",
   "metadata": {},
   "source": [
    "Next, let's look at the time versus energy tradeoff"
   ]
  },
  {
   "cell_type": "code",
   "execution_count": 192,
   "id": "f1ff1f2e-ad6a-4881-88aa-37227a6d30fb",
   "metadata": {},
   "outputs": [
    {
     "data": {
      "text/plain": [
       "Text(0.5, 1.0, 'Cost vs Energy by Scenario')"
      ]
     },
     "execution_count": 192,
     "metadata": {},
     "output_type": "execute_result"
    },
    {
     "data": {
      "image/png": "[encoded data removed]",
      "text/plain": [
       "<Figure size 640x480 with 1 Axes>"
      ]
     },
     "metadata": {},
     "output_type": "display_data"
    }
   ],
   "source": [
    "fig, ax = plt.subplots()\n",
    "\n",
    "for scenario, group in df.groupby('scenario'):\n",
    "    ax.scatter(group['time_minutes'], group['energy_gge'], color=colors[scenario], label=scenario)\n",
    "\n",
    "ax.set_xlabel('Time (minutes)')\n",
    "ax.set_ylabel('Energy (gge)')\n",
    "ax.legend(title='Scenario')\n",
    "plt.title('Cost vs Energy by Scenario')"
   ]
  },
  {
   "cell_type": "code",
   "execution_count": null,
   "id": "746196b4-4125-4d58-825c-13e9b810bbfc",
   "metadata": {},
   "outputs": [],
   "source": []
  },
  {
   "cell_type": "code",
   "execution_count": null,
   "id": "920d6956-2ba9-48a2-b41a-831e08467b97",
   "metadata": {},
   "outputs": [],
   "source": []
  }
 ],
 "metadata": {
  "kernelspec": {
   "display_name": "Python 3 (ipykernel)",
   "language": "python",
   "name": "python3"
  },
  "language_info": {
   "codemirror_mode": {
    "name": "ipython",
    "version": 3
   },
   "file_extension": ".py",
   "mimetype": "text/x-python",
   "name": "python",
   "nbconvert_exporter": "python",
   "pygments_lexer": "ipython3",
   "version": "3.9.15"
  }
 },
 "nbformat": 4,
 "nbformat_minor": 5
}
