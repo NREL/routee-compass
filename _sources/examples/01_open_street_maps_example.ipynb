{
 "cells": [
  {
   "cell_type": "markdown",
   "id": "ee63cb99",
   "metadata": {},
   "source": [
    "# OpenStreetMap Example\n",
    "\n",
    "In this example, we download a road network from OSM using the OSMNx package, and then process the result, resulting in a RouteE Compass network dataset.\n",
    "\n",
    "## requirements\n",
    "\n",
    "To download an open street maps dataset, we'll need some extra dependnecies which are included with the conda distribution of this pacakge:\n",
    "\n",
    "```console\n",
    "conda create -n routee-compass -c conda-forge python=3.11 nrel.routee.compass\n",
    "```"
   ]
  },
  {
   "cell_type": "code",
   "execution_count": null,
   "id": "113714a7",
   "metadata": {},
   "outputs": [],
   "source": [
    "\n",
    "\n",
    "import osmnx as ox\n",
    "\n",
    "import json\n",
    "\n",
    "from nrel.routee.compass import CompassApp\n",
    "from nrel.routee.compass.io import generate_compass_dataset, results_to_geopandas\n",
    "from nrel.routee.compass.plot import plot_route_folium, plot_routes_folium\n",
    "\n"
   ]
  },
  {
   "cell_type": "markdown",
   "id": "c64a631f",
   "metadata": {},
   "source": [
    "## Building RouteE Compass Dataset\n",
    "\n",
    "### Get OSM graph\n",
    "\n",
    "First, we need to get an OSM graph that we can use to convert into the format RouteE Compass expects.\n",
    "\n",
    "In this example we will load in a road network that covers Golden, Colorado as a small example, but this workflow will work with any osmnx graph (osmnx provides [many graph download operations](https://osmnx.readthedocs.io/en/stable/user-reference.html#module-osmnx.graph))."
   ]
  },
  {
   "cell_type": "code",
   "execution_count": null,
   "id": "8e8d6cef",
   "metadata": {},
   "outputs": [],
   "source": [
    "\n",
    "g = ox.graph_from_place(\"Denver, Colorado, USA\", network_type=\"drive\")\n",
    "\n",
    "\n"
   ]
  },
  {
   "cell_type": "markdown",
   "id": "f7837327",
   "metadata": {},
   "source": [
    "### Convert Graph to Compass Dataset\n",
    "\n",
    "Now, we call the `generate_compass_dataset` function which will convert the osmnx graph into files that are compatible with RouteE Compass.\n",
    "\n",
    "```{note}\n",
    "In order to get the most accurate energy results from the routee-powertrain vehicle models, it's important to include road grade information since it plays a large factor in vehicle energy consumption.\n",
    "That being said, adding grade can be a big lift computationally. In our case, we pull digital elevation model (DEM) raster files from USGS and then use osmnx to append elevation and grade to the graph. If the graph is large, this can take a while to download and could take up a lot of disk space.\n",
    "So, we recommend that you include grade information in your graph but want to be clear about the requirements for doing so.\n",
    "\n",
    "If you do not wish to impute grade from node elevations, remove \"grade\" from the \"phases\" argument.\n",
    "```"
   ]
  },
  {
   "cell_type": "code",
   "execution_count": null,
   "id": "6c179786",
   "metadata": {},
   "outputs": [],
   "source": [
    "\n",
    "generate_compass_dataset(g, output_directory=\"denver_co\")\n",
    "\n",
    "\n"
   ]
  },
  {
   "cell_type": "markdown",
   "id": "d5c2168b",
   "metadata": {},
   "source": [
    "This will parse the OSM graph and write the RouteE Compass files into a new folder \"denver_co/\". If you take a look in this directory, you'll notice some `.toml` files like: `osm_default_energy.toml`.\n",
    "These are configurations for the compass application. Take a look [here](https://nrel.github.io/routee-compass/config.html) for more information about this file.\n",
    "\n",
    "## Running\n",
    "\n",
    "### Load Application\n",
    "\n",
    "Now we can load the application from one of our config files.\n",
    "We'll pick `osm_default_energy.toml` for computing energy optimal routes."
   ]
  },
  {
   "cell_type": "code",
   "execution_count": null,
   "id": "dcf9e123",
   "metadata": {},
   "outputs": [],
   "source": [
    "\n",
    "app = CompassApp.from_config_file(\"denver_co/osm_default_energy.toml\")\n",
    "\n",
    "\n"
   ]
  },
  {
   "cell_type": "markdown",
   "id": "e640e947",
   "metadata": {},
   "source": [
    "###  Queries\n",
    "\n",
    "With our application loaded we can start computing routes by passing queries to the app.\n",
    "To demonstrate, we'll route between two locations in Denver, CO utilzing the grid search input plugin to run three separate searches.\n",
    "\n",
    "The `model_name` is the vehicle we want to use for the route. If you look in the folder `denver_co/models` you'll see a collection of routee-powertrain models that can be used to compute the energy for your query.\n",
    "\n",
    "The `vehicle_state_variable_rates` section defines rates to be applied to each component of the cost function. In this case we use the following costs:\n",
    "\n",
    " - 0.655 dollars per mile\n",
    " - 20 dollars per hour (or 0.333 dollars per minute)\n",
    " - 3 dollars per gallon of gas\n",
    "\n",
    "The `grid_search` section defines our test cases.\n",
    "Here, we have three cases: [`least_time`, `least_energy`, `least_cost`].\n",
    "In the least_time and least_energy cases, we zero out all other variable contributions using the `state_variable_coefficients` which always get applied to each cost componenet.\n",
    "In the least_cost case, we allow each cost component to contribute equally and the algorithm will minimize the resulting cost from all components being added together (after getting multiplied by the appropriate `vehicle_state_variable_rate`."
   ]
  },
  {
   "cell_type": "code",
   "execution_count": null,
   "id": "08c754ff",
   "metadata": {},
   "outputs": [],
   "source": [
    "\n",
    "\n",
    "query = [\n",
    "    {\n",
    "        \"origin_x\": -104.969307,\n",
    "        \"origin_y\": 39.779021,\n",
    "        \"destination_x\": -104.975360,\n",
    "        \"destination_y\": 39.693005,\n",
    "        \"model_name\": \"2016_TOYOTA_Camry_4cyl_2WD\",\n",
    "        \"vehicle_rates\": {\n",
    "            \"trip_distance\": {\"type\": \"factor\", \"factor\": 0.655},\n",
    "            \"trip_time\": {\"type\": \"factor\", \"factor\": 0.33},\n",
    "            \"trip_energy\": {\"type\": \"factor\", \"factor\": 3.0},\n",
    "        },\n",
    "        \"grid_search\": {\n",
    "            \"test_cases\": [\n",
    "                {\n",
    "                    \"name\": \"least_time\",\n",
    "                    \"weights\": {\n",
    "                        \"trip_distance\": 0,\n",
    "                        \"trip_time\": 1,\n",
    "                        \"trip_energy\": 0,\n",
    "                    },\n",
    "                },\n",
    "                {\n",
    "                    \"name\": \"least_energy\",\n",
    "                    \"weights\": {\n",
    "                        \"trip_distance\": 0,\n",
    "                        \"trip_time\": 0,\n",
    "                        \"trip_energy\": 1,\n",
    "                    },\n",
    "                },\n",
    "                {\n",
    "                    \"name\": \"least_cost\",\n",
    "                    \"weights\": {\n",
    "                        \"trip_distance\": 1,\n",
    "                        \"trip_time\": 1,\n",
    "                        \"trip_energy\": 1,\n",
    "                    },\n",
    "                },\n",
    "            ]\n",
    "        },\n",
    "    },\n",
    "]\n",
    "\n",
    "\n"
   ]
  },
  {
   "cell_type": "markdown",
   "id": "545f96f2",
   "metadata": {},
   "source": [
    "Now, let's pass the query to the application.\n",
    "\n",
    "```{note}\n",
    "A query can be a single object, or, a list of objects.\n",
    "If the input is a list of objects, the application will run these queries in parallel over the number of threads defined in the config file under the `paralellism` key (defaults to 2).\n",
    "```"
   ]
  },
  {
   "cell_type": "code",
   "execution_count": null,
   "id": "44b02bc3",
   "metadata": {},
   "outputs": [],
   "source": [
    "\n",
    "\n",
    "\n",
    "results = app.run(query)\n",
    "\n"
   ]
  },
  {
   "cell_type": "markdown",
   "id": "69958103",
   "metadata": {},
   "source": [
    "## Analysis\n",
    "\n",
    "The application returns the results as a list of python dictionaries.\n",
    "Since we used the grid search to specify three separate searches, we should get three results back:"
   ]
  },
  {
   "cell_type": "code",
   "execution_count": null,
   "id": "b8bcf3ba",
   "metadata": {},
   "outputs": [],
   "source": [
    "\n",
    "\n",
    "\n",
    "for r in results:\n",
    "    error = r.get(\"error\")\n",
    "    if error is not None:\n",
    "        print(f\"request had error: {error}\")\n",
    "\n",
    "assert len(results) == 3, f\"expected 3 results, found {len(results)}\"\n",
    "\n",
    "\n"
   ]
  },
  {
   "cell_type": "markdown",
   "id": "55ed07d2",
   "metadata": {},
   "source": [
    "### Traversal and Cost Summaries\n",
    "\n",
    "Since we have the `traversal` output plugin activated by default, we can take a look at the summary for each result under the `traversal_summary` key."
   ]
  },
  {
   "cell_type": "code",
   "execution_count": null,
   "id": "d80a134c",
   "metadata": {},
   "outputs": [],
   "source": [
    "\n",
    "\n",
    "\n",
    "def pretty_print(dict):\n",
    "    print(json.dumps(dict, indent=4))\n",
    "\n",
    "\n",
    "shortest_time_result = next(\n",
    "    filter(lambda r: r[\"request\"][\"name\"] == \"least_time\", results)\n",
    ")\n",
    "least_energy_result = next(\n",
    "    filter(lambda r: r[\"request\"][\"name\"] == \"least_energy\", results)\n",
    ")\n",
    "least_cost_result = next(\n",
    "    filter(lambda r: r[\"request\"][\"name\"] == \"least_cost\", results)\n",
    ")\n",
    "\n",
    "\n",
    "\n",
    "\n",
    "shortest_time_result[\"route\"][\"path\"][\"features\"][-1]\n",
    "\n",
    "\n"
   ]
  },
  {
   "cell_type": "markdown",
   "id": "c4115462",
   "metadata": {},
   "source": [
    "Summary of route result for distance, time, and energy:"
   ]
  },
  {
   "cell_type": "code",
   "execution_count": null,
   "id": "403eb85c",
   "metadata": {},
   "outputs": [],
   "source": [
    "\n",
    "\n",
    "\n",
    "pretty_print(shortest_time_result[\"route\"][\"traversal_summary\"])\n",
    "\n",
    "\n"
   ]
  },
  {
   "cell_type": "markdown",
   "id": "08d889e5",
   "metadata": {},
   "source": [
    "And, if we need to know the units and/or the initial conditions for the search, we can look at the state model"
   ]
  },
  {
   "cell_type": "code",
   "execution_count": null,
   "id": "f8054103",
   "metadata": {},
   "outputs": [],
   "source": [
    "\n",
    "\n",
    "\n",
    "pretty_print(shortest_time_result[\"route\"][\"state_model\"])\n",
    "\n",
    "\n"
   ]
  },
  {
   "cell_type": "markdown",
   "id": "50f99737",
   "metadata": {},
   "source": [
    "The cost section shows the costs per unit assigned to the trip, in dollars.\n",
    "\n",
    "This is based on the user assumptions assigned in the configuration which can be overriden in the route request query."
   ]
  },
  {
   "cell_type": "code",
   "execution_count": null,
   "id": "8b04b230",
   "metadata": {},
   "outputs": [],
   "source": [
    "\n",
    "\n",
    "pretty_print(shortest_time_result[\"route\"][\"cost\"])\n",
    "\n",
    "\n"
   ]
  },
  {
   "cell_type": "markdown",
   "id": "9b08c93a",
   "metadata": {},
   "source": [
    "The cost_model section includes details for how these costs were calculated.\n",
    "\n",
    "The user can set different state variable coefficients in the query that are weighted against the vehicle state variable rates.\n",
    "\n",
    "The algorithm will rely on the weighted costs while the cost summary will show the final costs without weight coefficients applied."
   ]
  },
  {
   "cell_type": "code",
   "execution_count": null,
   "id": "43030d72",
   "metadata": {},
   "outputs": [],
   "source": [
    "\n",
    "\n",
    "\n",
    "pretty_print(shortest_time_result[\"route\"][\"cost_model\"])\n",
    "\n",
    "\n"
   ]
  },
  {
   "cell_type": "markdown",
   "id": "b78350c8",
   "metadata": {},
   "source": [
    "Each response object contains this information. The least energy traversal and cost summary are below."
   ]
  },
  {
   "cell_type": "code",
   "execution_count": null,
   "id": "0a8bc6ff",
   "metadata": {},
   "outputs": [],
   "source": [
    "\n",
    "\n",
    "\n",
    "pretty_print(least_energy_result[\"route\"][\"traversal_summary\"])\n",
    "pretty_print(least_energy_result[\"route\"][\"cost\"])\n",
    "\n",
    "\n"
   ]
  },
  {
   "cell_type": "markdown",
   "id": "a5d6fb3a",
   "metadata": {},
   "source": [
    "What becomes interesting is if we can compare our choices. Here's a quick comparison of the shortest time and least energy routes:"
   ]
  },
  {
   "cell_type": "code",
   "execution_count": null,
   "id": "74db4b56",
   "metadata": {},
   "outputs": [],
   "source": [
    "\n",
    "\n",
    "dist_diff = (\n",
    "    shortest_time_result[\"route\"][\"traversal_summary\"][\"trip_distance\"]\n",
    "    - least_energy_result[\"route\"][\"traversal_summary\"][\"trip_distance\"]\n",
    ")\n",
    "time_diff = (\n",
    "    shortest_time_result[\"route\"][\"traversal_summary\"][\"trip_time\"]\n",
    "    - least_energy_result[\"route\"][\"traversal_summary\"][\"trip_time\"]\n",
    ")\n",
    "enrg_diff = (\n",
    "    shortest_time_result[\"route\"][\"traversal_summary\"][\"trip_energy\"]\n",
    "    - least_energy_result[\"route\"][\"traversal_summary\"][\"trip_energy\"]\n",
    ")\n",
    "cost_diff = (\n",
    "    shortest_time_result[\"route\"][\"cost\"][\"total_cost\"]\n",
    "    - least_energy_result[\"route\"][\"cost\"][\"total_cost\"]\n",
    ")\n",
    "dist_unit = shortest_time_result[\"route\"][\"state_model\"][\"trip_distance\"][\"Distance\"][\n",
    "    \"output_unit\"\n",
    "]\n",
    "time_unit = shortest_time_result[\"route\"][\"state_model\"][\"trip_time\"][\"Time\"][\n",
    "    \"output_unit\"\n",
    "]\n",
    "enrg_unit = shortest_time_result[\"route\"][\"state_model\"][\"trip_energy\"][\"Energy\"][\n",
    "    \"output_unit\"\n",
    "]\n",
    "print(f\" - distance: {dist_diff:.2f} {dist_unit} further with time-optimal\")\n",
    "print(f\" - time: {-time_diff:.2f} {time_unit} longer with energy-optimal\")\n",
    "print(f\" - energy: {enrg_diff:.2f} {enrg_unit} more with time-optimal\")\n",
    "print(f\" - cost: ${cost_diff:.2f} more with time-optimal\")\n",
    "\n",
    "\n"
   ]
  },
  {
   "cell_type": "markdown",
   "id": "0c8b021a",
   "metadata": {},
   "source": [
    "In addition to the summary, the result also contains much more information.\n",
    "Here's a list of all the different sections that get returned:"
   ]
  },
  {
   "cell_type": "code",
   "execution_count": null,
   "id": "7f1574c5",
   "metadata": {},
   "outputs": [],
   "source": [
    "\n",
    "\n",
    "\n",
    "def print_keys(d, indent=0):\n",
    "    for k in sorted(d.keys()):\n",
    "        print(f\"{' ' * indent} - {k}\")\n",
    "        if isinstance(d[k], dict):\n",
    "            print_keys(d[k], indent + 2)\n",
    "\n",
    "\n",
    "print_keys(least_energy_result)\n",
    "\n"
   ]
  },
  {
   "cell_type": "markdown",
   "id": "cf2b3575",
   "metadata": {},
   "source": [
    "We can also convert the results into a geodataframe:"
   ]
  },
  {
   "cell_type": "code",
   "execution_count": null,
   "id": "313b33a7",
   "metadata": {},
   "outputs": [],
   "source": [
    "\n",
    "gdf = results_to_geopandas(least_energy_result)\n",
    "gdf.head()\n",
    "\n",
    "\n"
   ]
  },
  {
   "cell_type": "markdown",
   "id": "53c99695",
   "metadata": {},
   "source": [
    "### Plotting\n",
    "\n",
    "We can plot the results to see the difference between the two routes."
   ]
  },
  {
   "cell_type": "code",
   "execution_count": null,
   "id": "a60290e9",
   "metadata": {},
   "outputs": [],
   "source": [
    "\n",
    "\n",
    "\n",
    "\n",
    "\n"
   ]
  },
  {
   "cell_type": "markdown",
   "id": "dc1e784b",
   "metadata": {},
   "source": [
    "We can use the `plot_route_folium` function to plot single routes, passing in the `line_kwargs` parameter to customize the folium linestring:"
   ]
  },
  {
   "cell_type": "code",
   "execution_count": null,
   "id": "8ebbece8",
   "metadata": {},
   "outputs": [],
   "source": [
    "\n",
    "\n",
    "\n",
    "m = plot_route_folium(\n",
    "    shortest_time_result, line_kwargs={\"color\": \"red\", \"tooltip\": \"Shortest Time\"}\n",
    ")\n",
    "m = plot_route_folium(\n",
    "    least_energy_result,\n",
    "    line_kwargs={\"color\": \"green\", \"tooltip\": \"Least Energy\"},\n",
    "    folium_map=m,\n",
    ")\n",
    "m = plot_route_folium(\n",
    "    least_cost_result,\n",
    "    line_kwargs={\"color\": \"blue\", \"tooltip\": \"Least Cost\"},\n",
    "    folium_map=m,\n",
    ")\n",
    "m\n",
    "\n",
    "\n"
   ]
  },
  {
   "cell_type": "markdown",
   "id": "f59a1b49",
   "metadata": {},
   "source": [
    "We can also use the plot_routes_folium function and pass in multiple results. The function will color the routes based on the `value_fn` which takes a single result as an argument. For example, we can tell it to color the routes based on the total energy usage."
   ]
  },
  {
   "cell_type": "code",
   "execution_count": null,
   "id": "8800c9bd",
   "metadata": {},
   "outputs": [],
   "source": [
    "\n",
    "\n",
    "\n",
    "folium_map = plot_routes_folium(\n",
    "    results,\n",
    "    value_fn=lambda r: r[\"route\"][\"traversal_summary\"][\"trip_energy\"],\n",
    "    color_map=\"plasma\",\n",
    ")\n",
    "folium_map\n",
    "\n",
    "\n"
   ]
  },
  {
   "cell_type": "markdown",
   "id": "3d9af736",
   "metadata": {},
   "source": [
    "And the `plot_routes_folium` can also accept an existing `folium_map` parameter. Let's query our application with different origin and destination places:"
   ]
  },
  {
   "cell_type": "code",
   "execution_count": null,
   "id": "5f56661c",
   "metadata": {},
   "outputs": [],
   "source": [
    "\n",
    "\n",
    "\n",
    "query[0] = {\n",
    "    **query[0],\n",
    "    \"origin_x\": -105.081406,\n",
    "    \"origin_y\": 39.667736,\n",
    "    \"destination_x\": -104.95414,\n",
    "    \"destination_y\": 39.65316,\n",
    "}\n",
    "new_results = app.run(query)\n",
    "\n",
    "\n",
    "folium_map = plot_routes_folium(\n",
    "    new_results,\n",
    "    value_fn=lambda r: r[\"route\"][\"traversal_summary\"][\"trip_energy\"],\n",
    "    color_map=\"plasma\",\n",
    "    folium_map=folium_map,\n",
    ")\n",
    "folium_map\n",
    "\n"
   ]
  }
 ],
 "metadata": {},
 "nbformat": 4,
 "nbformat_minor": 5
}
