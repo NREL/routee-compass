{
 "cells": [
  {
   "cell_type": "markdown",
   "id": "017909f6",
   "metadata": {},
   "source": [
    "# Different Powertrains Example\n",
    "\n",
    "In this example, we'll showcase how you can run different powertrain technologies.\n",
    "\n",
    "This builds off of the [Open Street Maps Example](01_open_street_maps_example) and assumes that we've already downloaded a road network so be sure to check that one out first."
   ]
  },
  {
   "cell_type": "code",
   "execution_count": null,
   "id": "f0b2d5f2",
   "metadata": {},
   "outputs": [],
   "source": [
    "\n",
    "import seaborn as sns\n",
    "\n",
    "from nrel.routee.compass import CompassApp\n",
    "from nrel.routee.compass.io.convert_results import results_to_geopandas\n",
    "\n",
    "\n"
   ]
  },
  {
   "cell_type": "markdown",
   "id": "5cc779f3",
   "metadata": {},
   "source": [
    "## Running\n",
    "\n",
    "### Load Application\n",
    "\n",
    "Here, we'll load our application from the config file that was built in the [Open Street Maps Example](01_open_street_maps_example)"
   ]
  },
  {
   "cell_type": "code",
   "execution_count": null,
   "id": "6aba05cf",
   "metadata": {},
   "outputs": [],
   "source": [
    "\n",
    "\n",
    "\n",
    "app = CompassApp.from_config_file(\"denver_co/osm_default_energy.toml\")\n",
    "\n",
    "\n"
   ]
  },
  {
   "cell_type": "markdown",
   "id": "7a7892ba",
   "metadata": {},
   "source": [
    "## Queries\n",
    "\n",
    "RouteE Compass can execute search plans for internal combustion (ICE), plug-in hybrid (PHEV) and battery electric (BEV) powertrain types. \n",
    "Each of these powertrain types are represented by RouteE Powertrain models.\n",
    "To see all the models we can use you can take a look at the folder `denver_co/models` and then reference the `traversal.vehicles` section of the `osm_default_energy.toml` configuration file to see how they are integrated and what name is expected as the `model_name` parameter in the query.\n",
    "Note that you can also train your own RouteE Powertrain models.\n",
    "Take a look at [this notebook](https://github.com/NREL/routee-powertrain/blob/main/docs/model_training-smartcore.ipynb) for more details.\n",
    "\n",
    "To demonstrate running other powertrain types, we'll use an ICE (2016_TOYOTA_Camry_4cyl_2WD), a BEV (2017_CHEVROLET_Bolt) and a PHEV (2016_CHEVROLET_Volt) model and create queries for each powertrain type.\n",
    "\n",
    "Notice that we can specify the `starting_soc_percent` for any vehicle that uses electric energy (BEV and PHEV).\n",
    "Also notice that we specify the energy weights for both \"electric\" and \"liquid\" energy that get applied to both energy sources.\n",
    "In the cases of the ICE and BEV, we only use one type of energy (liquid and electric respectively). \n",
    "But, for the PHEV model, we use a combination of liquid and electric energy.\n",
    "By default, the PHEV will run using battery energy exclusively (starting at `starting_soc_percent`) and when the battery runs out, the vehicle will switch to it's hybrid mode, using primarily gasoline energy."
   ]
  },
  {
   "cell_type": "code",
   "execution_count": null,
   "id": "9cb8da83",
   "metadata": {},
   "outputs": [],
   "source": [
    "\n",
    "\n",
    "\n",
    "query = [\n",
    "    {\n",
    "        \"origin_x\": -104.969307,\n",
    "        \"origin_y\": 39.779021,\n",
    "        \"destination_x\": -104.975360,\n",
    "        \"destination_y\": 39.693005,\n",
    "        \"starting_soc_percent\": 100,\n",
    "        \"vehicle_rates\": {\n",
    "            \"distance\": {\"type\": \"factor\", \"factor\": 0.655},\n",
    "            \"time\": {\"type\": \"factor\", \"factor\": 0.33},\n",
    "            \"energy_electric\": {\"type\": \"factor\", \"factor\": 0.5},\n",
    "            \"energy_liquid\": {\"type\": \"factor\", \"factor\": 3.1},\n",
    "        },\n",
    "        \"grid_search\": {\n",
    "            \"model_name\": [\n",
    "                \"2017_CHEVROLET_Bolt\",\n",
    "                \"2016_TOYOTA_Camry_4cyl_2WD\",\n",
    "                \"2016_CHEVROLET_Volt\",\n",
    "            ],\n",
    "            \"test_cases\": [\n",
    "                {\n",
    "                    \"name\": \"least_time\",\n",
    "                    \"weights\": {\n",
    "                        \"distance\": 0,\n",
    "                        \"time\": 1,\n",
    "                        \"energy_electric\": 0,\n",
    "                        \"energy_liquid\": 0,\n",
    "                    },\n",
    "                },\n",
    "                {\n",
    "                    \"name\": \"least_energy\",\n",
    "                    \"weights\": {\n",
    "                        \"distance\": 0,\n",
    "                        \"time\": 0,\n",
    "                        \"energy_electric\": 1,\n",
    "                        \"energy_liquid\": 1,\n",
    "                    },\n",
    "                },\n",
    "            ],\n",
    "        },\n",
    "    },\n",
    "]\n",
    "\n",
    "\n",
    "\n",
    "\n",
    "result = app.run(query)\n",
    "\n",
    "\n"
   ]
  },
  {
   "cell_type": "markdown",
   "id": "3942fcf1",
   "metadata": {},
   "source": [
    "First, let's review the state model to see what energy units we're using."
   ]
  },
  {
   "cell_type": "code",
   "execution_count": null,
   "id": "8d7f475b",
   "metadata": {},
   "outputs": [],
   "source": [
    "\n",
    "\n",
    "\n",
    "result[0][\"route\"][\"state_model\"]\n",
    "\n",
    "\n"
   ]
  },
  {
   "cell_type": "markdown",
   "id": "1c5d8f9d",
   "metadata": {},
   "source": [
    "Now we can take a look at the results.\n",
    "First let's convert the results into a dataframe"
   ]
  },
  {
   "cell_type": "code",
   "execution_count": null,
   "id": "7ad8bc7b",
   "metadata": {},
   "outputs": [],
   "source": [
    "\n",
    "\n",
    "\n",
    "gdf = results_to_geopandas(result)\n",
    "\n",
    "\n"
   ]
  },
  {
   "cell_type": "markdown",
   "id": "e7c6f2e1",
   "metadata": {},
   "source": [
    "Let's convert all the energy types to be in a single unit.\n",
    "We'll use gge as our unit and convert the electrical energy using a factor of 33.694 kwh/gge"
   ]
  },
  {
   "cell_type": "code",
   "execution_count": null,
   "id": "19f88422",
   "metadata": {},
   "outputs": [],
   "source": [
    "\n",
    "\n",
    "\n",
    "gdf[\"gge\"] = (\n",
    "    gdf[\"route.traversal_summary.energy_electric\"].fillna(0) * (1 / 33.694)\n",
    ") + gdf[\"route.traversal_summary.energy_liquid\"].fillna(0)\n",
    "\n",
    "\n"
   ]
  },
  {
   "cell_type": "markdown",
   "id": "5b8b325a",
   "metadata": {},
   "source": [
    "Next, we can look at the energy usage versus the route time, broken out by powertrain and route objective"
   ]
  },
  {
   "cell_type": "code",
   "execution_count": null,
   "id": "0e2145e4",
   "metadata": {},
   "outputs": [],
   "source": [
    "\n",
    "\n",
    "\n",
    "sns.scatterplot(\n",
    "    gdf,\n",
    "    x=\"route.traversal_summary.time\",\n",
    "    y=\"gge\",\n",
    "    hue=\"request.model_name\",\n",
    "    style=\"request.name\",\n",
    ")\n",
    "\n",
    "\n"
   ]
  },
  {
   "cell_type": "markdown",
   "id": "0697be74",
   "metadata": {},
   "source": [
    "Here, we see that the BEV and the PHEV use much less energy than the ICE alternative but all powertrains have a route that uses less energy and more time.\n",
    "\n",
    "We could also look at the estimated cost based on our assumptions of:\n",
    "\n",
    " - distance: \\\\$ 0.655 per mile\n",
    " - time: \\\\$ 0.33 per minute (\\\\$ 20 per hour)\n",
    " - gasoline: \\\\$ 3.1 per gallon\n",
    " - electric: \\\\$ 0.5 per kilowatt-hour"
   ]
  },
  {
   "cell_type": "code",
   "execution_count": null,
   "id": "05c6df8e",
   "metadata": {},
   "outputs": [],
   "source": [
    "\n",
    "\n",
    "\n",
    "sns.scatterplot(\n",
    "    data=gdf,\n",
    "    y=\"route.cost.total_cost\",\n",
    "    x=\"route.traversal_summary.time\",\n",
    "    hue=\"request.model_name\",\n",
    "    style=\"request.name\",\n",
    ")\n",
    "\n",
    "\n"
   ]
  },
  {
   "cell_type": "markdown",
   "id": "da66661f",
   "metadata": {},
   "source": [
    "Here, we notice that the ICE vehicle has the lowest costs and all powertrains save money on the optimal energy route.\n",
    "This would likely change based on our cost assumptions (for example if we assume that charging is done at home for a much lower cost of electricity)\n",
    "\n",
    "Lastly, we can plot the results"
   ]
  },
  {
   "cell_type": "code",
   "execution_count": null,
   "id": "3b6bef50",
   "metadata": {},
   "outputs": [],
   "source": [
    "\n",
    "\n",
    "\n",
    "gdf.plot(column=\"gge\", legend=True)\n",
    "\n"
   ]
  }
 ],
 "metadata": {},
 "nbformat": 4,
 "nbformat_minor": 5
}
