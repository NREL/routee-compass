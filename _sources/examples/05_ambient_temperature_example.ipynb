{
 "cells": [
  {
   "cell_type": "markdown",
   "id": "6982f06b",
   "metadata": {},
   "source": [
    "# Ambient Temperature Example\n",
    "\n",
    "In this example, we'll demonstrate how to use RouteE Compass to plan routes\n",
    "that incorporate ambient temperature data for electric vehicles.\n",
    "\n",
    "This builds off the [Open Street Maps Example](01_open_street_maps_example)\n",
    "and assumes that we've already downloaded a road network,\n",
    "so be sure to check that one out first."
   ]
  },
  {
   "cell_type": "code",
   "execution_count": null,
   "id": "8c19d5f5",
   "metadata": {},
   "outputs": [],
   "source": [
    "\n",
    "from nrel.routee.compass import CompassApp\n",
    "\n",
    "import pandas as pd\n",
    "import matplotlib.pyplot as plt\n",
    "\n"
   ]
  },
  {
   "cell_type": "markdown",
   "id": "98506a70",
   "metadata": {},
   "source": [
    "First, we'll load the application from the pre-built configuration file \n",
    "that includes a traversal model that injects ambient temperature."
   ]
  },
  {
   "cell_type": "code",
   "execution_count": null,
   "id": "cc9df616",
   "metadata": {},
   "outputs": [],
   "source": [
    "\n",
    "app = CompassApp.from_config_file(\"./denver_co/osm_default_temperature.toml\")\n"
   ]
  },
  {
   "cell_type": "markdown",
   "id": "8b73b5af",
   "metadata": {},
   "source": [
    "## Basic Route With Mild Ambient Temperature\n",
    "\n",
    "Let's start with a basic route query for a 2016 Nissan Leaf 30 kWh with \n",
    "mild ambient temperature considerations and search for the shortest time route."
   ]
  },
  {
   "cell_type": "code",
   "execution_count": null,
   "id": "404bf5fe",
   "metadata": {},
   "outputs": [],
   "source": [
    "\n",
    "query = {\n",
    "    \"origin_x\": -104.969307,\n",
    "    \"origin_y\": 39.779021,\n",
    "    \"destination_x\": -104.975360,\n",
    "    \"destination_y\": 39.693005,\n",
    "    \"model_name\": \"2016_Nissan_Leaf_30_kWh_Steady_Thermal\",\n",
    "    \"weights\": {\"trip_distance\": 0, \"trip_time\": 1, \"trip_energy_electric\": 0},\n",
    "    \"ambient_temperature\": {\"value\": 72, \"unit\": \"fahrenheit\"},\n",
    "}\n",
    "result = app.run(query)\n",
    "if \"error\" in result:\n",
    "    print(result[\"error\"])\n"
   ]
  },
  {
   "cell_type": "markdown",
   "id": "71d441d9",
   "metadata": {},
   "source": [
    "Let's look at the energy consumption for the route."
   ]
  },
  {
   "cell_type": "code",
   "execution_count": null,
   "id": "a19a4a49",
   "metadata": {},
   "outputs": [],
   "source": [
    "\n",
    "energy = result[\"route\"][\"traversal_summary\"][\"trip_energy_electric\"]\n",
    "print(\n",
    "    f\"Ambient Temperature: {query['ambient_temperature']['value']} F, Trip Energy: {round(energy, 3)} kWh\"\n",
    ")\n"
   ]
  },
  {
   "cell_type": "markdown",
   "id": "fb466f72",
   "metadata": {},
   "source": [
    "Next, let's look at how the ambient temperature affects the energy consumption by running the same route query\n",
    "with different temperature settings."
   ]
  },
  {
   "cell_type": "code",
   "execution_count": null,
   "id": "ca43801e",
   "metadata": {},
   "outputs": [],
   "source": [
    "temp_results = []\n",
    "for temp in [0, 15, 32, 50, 72, 90, 110]:\n",
    "    query[\"ambient_temperature\"] = {\"value\": temp, \"unit\": \"fahrenheit\"}\n",
    "    result = app.run(query)\n",
    "    if \"error\" in result:\n",
    "        print(result[\"error\"])\n",
    "    else:\n",
    "        energy = result[\"route\"][\"traversal_summary\"][\"trip_energy_electric\"]\n",
    "        temp_results.append(\n",
    "            {\n",
    "                \"ambient_temperature_f\": temp,\n",
    "                \"trip_energy_electric\": energy,\n",
    "                \"vehicle_model\": query[\"model_name\"],\n",
    "            }\n",
    "        )\n",
    "        print(f\"Ambient Temperature: {temp} F, Trip Energy: {round(energy, 3)} kWh\")\n",
    "\n",
    "plot_df = pd.DataFrame(temp_results)\n",
    "plt.figure(figsize=(10, 6))\n",
    "plt.plot(plot_df[\"ambient_temperature_f\"], plot_df[\"trip_energy_electric\"], marker=\"o\")\n",
    "plt.title(\"Effect of Ambient Temperature on Trip Energy Consumption\")\n",
    "plt.xlabel(\"Ambient Temperature (F)\")\n",
    "plt.ylabel(\"Trip Energy (kWh)\")\n",
    "plt.grid(True)\n",
    "plt.show()\n"
   ]
  },
  {
   "cell_type": "markdown",
   "id": "a83e3db1",
   "metadata": {},
   "source": [
    "Next, let's take a look at the 2022 Tesla Model 3 and the 2020 Chevy Bolt and compare their energy consumption across the same range of ambient temperatures."
   ]
  },
  {
   "cell_type": "code",
   "execution_count": null,
   "id": "4a8c54de",
   "metadata": {},
   "outputs": [],
   "source": [
    "for model in [\n",
    "    \"2022_Tesla_Model_3_RWD_Steady_Thermal\",\n",
    "    \"2020_Chevrolet_Bolt_EV_Steady_Thermal\",\n",
    "]:\n",
    "    for temp in [0, 15, 32, 50, 72, 90, 110]:\n",
    "        query[\"model_name\"] = model\n",
    "        query[\"ambient_temperature\"] = {\"value\": temp, \"unit\": \"fahrenheit\"}\n",
    "        result = app.run(query)\n",
    "        if \"error\" in result:\n",
    "            print(result[\"error\"])\n",
    "        else:\n",
    "            energy = result[\"route\"][\"traversal_summary\"][\"trip_energy_electric\"]\n",
    "            temp_results.append(\n",
    "                {\n",
    "                    \"ambient_temperature_f\": temp,\n",
    "                    \"trip_energy_electric\": energy,\n",
    "                    \"vehicle_model\": model,\n",
    "                }\n",
    "            )\n",
    "            print(\n",
    "                f\"Model: {model}, Ambient Temperature: {temp} F, Trip Energy: {round(energy, 3)} kWh\"\n",
    "            )\n",
    "\n",
    "plot_df = pd.DataFrame(temp_results)\n",
    "plt.figure(figsize=(10, 6))\n",
    "for model in plot_df[\"vehicle_model\"].unique():\n",
    "    model_data = plot_df[plot_df[\"vehicle_model\"] == model]\n",
    "    plt.plot(\n",
    "        model_data[\"ambient_temperature_f\"],\n",
    "        model_data[\"trip_energy_electric\"],\n",
    "        marker=\"o\",\n",
    "        label=model,\n",
    "    )\n",
    "plt.title(\"Effect of Ambient Temperature on Trip Energy Consumption by Vehicle Model\")\n",
    "plt.xlabel(\"Ambient Temperature (F)\")\n",
    "plt.ylabel(\"Trip Energy (kWh)\")\n",
    "plt.grid(True)\n",
    "plt.legend()\n",
    "plt.show()\n"
   ]
  }
 ],
 "metadata": {},
 "nbformat": 4,
 "nbformat_minor": 5
}
