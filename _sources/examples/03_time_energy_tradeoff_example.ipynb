{
 "cells": [
  {
   "cell_type": "markdown",
   "id": "d867af58",
   "metadata": {},
   "source": [
    "# Time Energy Tradeoff Example\n",
    "\n",
    "In this example, we'll demonstrate how to use RouteE Compass to compare the tradeoffs between time and energy consumption.\n",
    "\n",
    "This builds off the [Open Street Maps Example](01_open_street_maps_example) and assumes that we've already downloaded a road network so be sure to check that one out first."
   ]
  },
  {
   "cell_type": "code",
   "execution_count": null,
   "id": "92ab84ed",
   "metadata": {},
   "outputs": [],
   "source": [
    "\n",
    "import seaborn as sns\n",
    "import numpy as np\n",
    "import matplotlib.pyplot as plt\n",
    "\n",
    "from nrel.routee.compass import CompassApp\n",
    "from nrel.routee.compass.io.convert_results import results_to_geopandas\n",
    "\n"
   ]
  },
  {
   "cell_type": "markdown",
   "id": "d2715d0c",
   "metadata": {},
   "source": [
    "First, we'll load the application from the pre-built configuration file."
   ]
  },
  {
   "cell_type": "code",
   "execution_count": null,
   "id": "a0a99e85",
   "metadata": {},
   "outputs": [],
   "source": [
    "\n",
    "app = CompassApp.from_config_file(\"denver_co/osm_default_energy.toml\")\n"
   ]
  },
  {
   "cell_type": "markdown",
   "id": "61e15516",
   "metadata": {},
   "source": [
    "## Build Time and Energy Weights\n",
    "\n",
    "Next, we'll sweep a range of values for our time and energy weights such that the sum of the two is equal to 1.\n",
    "\n",
    "Note that the weights are combined with the vehicle_rates to arrive at the final link cost that gets minimized in the path algorithm.\n",
    "Because of this, the weights might be more sensitive at different scales, depending on the vehicle rates.\n",
    "In this case, we're assuming that the time cost is $30/hour ($0.5/minute) and the energy costs are $0.12/kWh for electric and $3.00/gallon for gasoline (liquid).\n",
    "Based on our own testing, the energy weights are more sensitive as they approach one, so we'll use a square root transformation to make the sweep more uniform."
   ]
  },
  {
   "cell_type": "code",
   "execution_count": null,
   "id": "aedbf61b",
   "metadata": {},
   "outputs": [],
   "source": [
    "energy_weights = np.linspace(0, 1, 100)\n",
    "energy_weights = energy_weights ** (1 / 4)\n",
    "time_weights = 1 - energy_weights\n",
    "\n",
    "test_cases = [\n",
    "    {\n",
    "        \"name\": f\"energy_{i}\",\n",
    "        \"weights\": {\n",
    "            \"distance\": 0,\n",
    "            \"time\": time_weights[i],\n",
    "            \"energy_liquid\": energy_weights[i],\n",
    "            \"energy_electric\": energy_weights[i],\n",
    "        },\n",
    "    }\n",
    "    for i in range(len(energy_weights))\n",
    "]\n",
    "\n"
   ]
  },
  {
   "cell_type": "markdown",
   "id": "9e069eec",
   "metadata": {},
   "source": [
    "Let's take a quick look at the weights we've generated."
   ]
  },
  {
   "cell_type": "code",
   "execution_count": null,
   "id": "bca550c1",
   "metadata": {},
   "outputs": [],
   "source": [
    "plt.plot(np.linspace(0, 1, 100), time_weights, label=\"Time Weight\")\n",
    "plt.plot(np.linspace(0, 1, 100), energy_weights, label=\"Energy Weight\")\n",
    "plt.legend()\n",
    "plt.title(\"Time and Energy Weights\")\n"
   ]
  },
  {
   "cell_type": "markdown",
   "id": "b8aac7c5",
   "metadata": {},
   "source": [
    "## Run Queries\n",
    "\n",
    "Now that we have they weights let's perform a grid search over all of them to compare the tradeoffs between time and energy consumption for a 2017 Chevy Bolt and a 2016 Toyota Corolla.\n",
    "\n",
    "First, the Chevy Bolt:"
   ]
  },
  {
   "cell_type": "code",
   "execution_count": null,
   "id": "b5e53440",
   "metadata": {},
   "outputs": [],
   "source": [
    "bev_query = {\n",
    "    \"origin_x\": -104.9256,\n",
    "    \"origin_y\": 39.6638949,\n",
    "    \"destination_x\": -104.8659653,\n",
    "    \"destination_y\": 39.7867693,\n",
    "    \"model_name\": \"2017_CHEVROLET_Bolt\",\n",
    "    \"vehicle_rates\": {\n",
    "        \"distance\": {\"type\": \"factor\", \"factor\": 0.655},\n",
    "        \"time\": {\"type\": \"factor\", \"factor\": 0.5},\n",
    "        \"energy_liquid\": {\"type\": \"factor\", \"factor\": 3.0},\n",
    "        \"energy_electric\": {\"type\": \"factor\", \"factor\": 0.12},\n",
    "    },\n",
    "    \"grid_search\": {\n",
    "        \"test_cases\": test_cases,\n",
    "    },\n",
    "}\n",
    "\n",
    "bev_results = app.run(bev_query)\n",
    "\n"
   ]
  },
  {
   "cell_type": "markdown",
   "id": "bbfcfb17",
   "metadata": {},
   "source": [
    "With the results, we can convert them into a geodataframe and plot the time vs energy consumption."
   ]
  },
  {
   "cell_type": "code",
   "execution_count": null,
   "id": "d7af3be8",
   "metadata": {},
   "outputs": [],
   "source": [
    "bev_gdf = results_to_geopandas(bev_results)\n",
    "bev_ax = sns.scatterplot(\n",
    "    data=bev_gdf,\n",
    "    x=\"route.traversal_summary.time\",\n",
    "    y=\"route.traversal_summary.energy_electric\",\n",
    "    hue=\"request.weights.energy_electric\",\n",
    ")\n",
    "bev_ax.set(\n",
    "    title=\"2017 Chevy Bolt Time vs Energy\",\n",
    "    xlabel=\"Time (minutes)\",\n",
    "    ylabel=\"Electric Energy (kWh)\",\n",
    ")\n",
    "bev_ax.legend(title=\"Electric Energy Weight\")\n",
    "\n"
   ]
  },
  {
   "cell_type": "markdown",
   "id": "919e4e44",
   "metadata": {},
   "source": [
    "Above you can see a nice Pareto front showing the tradeoff between time and energy consumption.\n",
    "As the energy weight approaches 1, the time increases and the energy consumption decreases to it's minimum.\n",
    "Between 23 and 24 minutes of travel time, the energy consmption decreses significantly, whereas as we go from 24 to 28 minutes, we only see a small additional decrease in energy consumption.\n",
    "\n",
    "Let's take a look at what those actual routes look like:"
   ]
  },
  {
   "cell_type": "code",
   "execution_count": null,
   "id": "0eb53801",
   "metadata": {},
   "outputs": [],
   "source": [
    "bev_gdf.explore(column=\"route.traversal_summary.energy_electric\")\n",
    "\n"
   ]
  },
  {
   "cell_type": "markdown",
   "id": "d2c4b1e7",
   "metadata": {},
   "source": [
    "Something that stands out is that the routes that have higher energy consumption use the highway to gain a lower travel time at the expense of increased energy consumption.\n",
    "The routes that have lower energy consumption use the local roads to reduce the energy consumption at the expense of increased travel time.\n",
    "\n",
    "Next, let's take a look at the 2016 Toyota Corolla:"
   ]
  },
  {
   "cell_type": "code",
   "execution_count": null,
   "id": "bcb75e07",
   "metadata": {},
   "outputs": [],
   "source": [
    "ice_query = {\n",
    "    \"origin_x\": -104.9256,\n",
    "    \"origin_y\": 39.6638949,\n",
    "    \"destination_x\": -104.8659653,\n",
    "    \"destination_y\": 39.7867693,\n",
    "    \"model_name\": \"2016_TOYOTA_Camry_4cyl_2WD\",\n",
    "    \"vehicle_rates\": {\n",
    "        \"distance\": {\"type\": \"factor\", \"factor\": 0.655},\n",
    "        \"time\": {\"type\": \"factor\", \"factor\": 0.5},\n",
    "        \"energy_liquid\": {\"type\": \"factor\", \"factor\": 3.0},\n",
    "        \"energy_electric\": {\"type\": \"factor\", \"factor\": 0.12},\n",
    "    },\n",
    "    \"grid_search\": {\n",
    "        \"test_cases\": test_cases,\n",
    "    },\n",
    "}\n",
    "\n",
    "ice_results = app.run(ice_query)\n",
    "\n",
    "ice_gdf = results_to_geopandas(ice_results)\n",
    "\n",
    "# ⛏️\n",
    "ice_ax = sns.scatterplot(\n",
    "    data=ice_gdf,\n",
    "    x=\"route.traversal_summary.time\",\n",
    "    y=\"route.traversal_summary.energy_liquid\",\n",
    "    hue=\"request.weights.energy_liquid\",\n",
    ")\n",
    "ice_ax.set(\n",
    "    title=\"2016 Toyota Corrola Time vs Energy\",\n",
    "    xlabel=\"Time (minutes)\",\n",
    "    ylabel=\"Gasoline Consumption (gallons)\",\n",
    ")\n",
    "ice_ax.legend(title=\"Liquid Energy Weight\")\n",
    "\n"
   ]
  },
  {
   "cell_type": "markdown",
   "id": "c66ed4d6",
   "metadata": {},
   "source": [
    "Here, we see a quite different tradeoff between time and energy consumption.\n",
    "The Toyota Corolla achieves the minimum energy consumption at around 24 minutes of travel time and doesn't exhibit the same sharp decrease in energy consumption as the Chevy Bolt.\n",
    "At the same time, there are no alternative routes with significantly longer travel times, relative to those that were found for the Chevy Bolt.\n",
    "\n",
    "Lastly, let's take a look at the routes for the Toyota Corolla:"
   ]
  },
  {
   "cell_type": "code",
   "execution_count": null,
   "id": "823d317e",
   "metadata": {},
   "outputs": [],
   "source": [
    "\n",
    "ice_gdf.explore(column=\"route.traversal_summary.energy_liquid\")\n",
    "\n"
   ]
  },
  {
   "cell_type": "markdown",
   "id": "2e924fef",
   "metadata": {},
   "source": [
    "Here we notice, similarly to the Chevy Bolt, that the routes that minimize time and have larger energy consumption use the highway, while the routes that minimize energy consumption use the local roads.\n",
    "But, there are much fewer local alternatives for the Toyota Corolla than there were for the Chevy Bolt."
   ]
  }
 ],
 "metadata": {},
 "nbformat": 4,
 "nbformat_minor": 5
}
