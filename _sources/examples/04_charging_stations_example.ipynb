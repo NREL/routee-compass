{
 "cells": [
  {
   "cell_type": "markdown",
   "id": "8fc8d753",
   "metadata": {},
   "source": [
    "# Charging Stations Example\n",
    "\n",
    "In this example, we'll demonstrate how to use RouteE Compass to plan routes\n",
    "that incorporate charging stations for electric vehicles.\n",
    "\n",
    "This builds off the [Open Street Maps Example](01_open_street_maps_example)\n",
    "and assumes that we've already downloaded a road network and charging station data,\n",
    "so be sure to check that one out first."
   ]
  },
  {
   "cell_type": "code",
   "execution_count": null,
   "id": "80027df0",
   "metadata": {},
   "outputs": [],
   "source": [
    "\n",
    "import folium\n",
    "from nrel.routee.compass import CompassApp\n",
    "from nrel.routee.compass.plot import plot_route_folium\n",
    "\n",
    "import pandas as pd\n",
    "import matplotlib.pyplot as plt\n",
    "\n"
   ]
  },
  {
   "cell_type": "markdown",
   "id": "276c1a16",
   "metadata": {},
   "source": [
    "First, we'll load the application from the pre-built configuration file \n",
    "that includes charging station data and the charging station traversal model."
   ]
  },
  {
   "cell_type": "code",
   "execution_count": null,
   "id": "9020f754",
   "metadata": {},
   "outputs": [],
   "source": [
    "\n",
    "app = CompassApp.from_config_file(\"./denver_co/osm_default_charging.toml\")\n"
   ]
  },
  {
   "cell_type": "markdown",
   "id": "e70b67c0",
   "metadata": {},
   "source": [
    "## Basic Route Without Charging Considerations\n",
    "\n",
    "Let's start with a basic route query for a 2017 Chevrolet Bolt without \n",
    "any special charging considerations and search for the shortest time route."
   ]
  },
  {
   "cell_type": "code",
   "execution_count": null,
   "id": "f1cbc7d8",
   "metadata": {},
   "outputs": [],
   "source": [
    "\n",
    "query = {\n",
    "    \"origin_x\": -104.969307,\n",
    "    \"origin_y\": 39.779021,\n",
    "    \"destination_x\": -104.975360,\n",
    "    \"destination_y\": 39.693005,\n",
    "    \"model_name\": \"2017_CHEVROLET_Bolt\",\n",
    "    \"weights\": {\"trip_distance\": 0, \"trip_time\": 1, \"trip_energy_electric\": 0},\n",
    "}\n",
    "result = app.run(query)\n",
    "if \"error\" in result:\n",
    "    print(result[\"error\"])\n"
   ]
  },
  {
   "cell_type": "markdown",
   "id": "2eb3ccea",
   "metadata": {},
   "source": [
    "Let's examine the route traversal summary to understand the basic route characteristics."
   ]
  },
  {
   "cell_type": "code",
   "execution_count": null,
   "id": "3e976e71",
   "metadata": {},
   "outputs": [],
   "source": [
    "\n",
    "result[\"route\"][\"traversal_summary\"]\n"
   ]
  },
  {
   "cell_type": "markdown",
   "id": "a384aea5",
   "metadata": {},
   "source": [
    "Now we can visualize this basic route on a map."
   ]
  },
  {
   "cell_type": "code",
   "execution_count": null,
   "id": "baa02c3b",
   "metadata": {},
   "outputs": [],
   "source": [
    "\n",
    "plot_route_folium(result)\n"
   ]
  },
  {
   "cell_type": "markdown",
   "id": "c4ca36e9",
   "metadata": {},
   "source": [
    "## Low State of Charge Scenario\n",
    "\n",
    "Next, we'll create a scenario where the vehicle has a low starting state of charge (SOC) \n",
    "and needs to find a charging station along the route.\n",
    "\n",
    "Note that we'll allow both DC Fast Charging (DCFC) and Level 2 (L2) charging stations\n",
    "but we're also trying to minimize the trip time, so the algorithm should prioritize \n",
    "DCFC charging stations since they provide faster charging."
   ]
  },
  {
   "cell_type": "code",
   "execution_count": null,
   "id": "75b2c308",
   "metadata": {},
   "outputs": [],
   "source": [
    "\n",
    "low_soc_query = {\n",
    "    \"origin_x\": -104.969307,\n",
    "    \"origin_y\": 39.779021,\n",
    "    \"destination_x\": -104.975360,\n",
    "    \"destination_y\": 39.693005,\n",
    "    \"model_name\": \"2017_CHEVROLET_Bolt\",\n",
    "    \"weights\": {\"trip_distance\": 0, \"trip_time\": 1, \"trip_energy_electric\": 0},\n",
    "    \"starting_soc_percent\": 2,\n",
    "    \"full_soc_percent\": 80,\n",
    "    \"valid_power_types\": [\"DCFC\", \"L2\"],\n",
    "}\n",
    "low_soc_result = app.run(low_soc_query)\n",
    "if \"error\" in low_soc_result:\n",
    "    print(low_soc_result[\"error\"])\n"
   ]
  },
  {
   "cell_type": "markdown",
   "id": "550dd1be",
   "metadata": {},
   "source": [
    "Let's examine how the route changes when charging is required."
   ]
  },
  {
   "cell_type": "code",
   "execution_count": null,
   "id": "fe6a4fd6",
   "metadata": {},
   "outputs": [],
   "source": [
    "\n",
    "low_soc_result[\"route\"][\"traversal_summary\"]\n"
   ]
  },
  {
   "cell_type": "markdown",
   "id": "c0a1801c",
   "metadata": {},
   "source": [
    "Now we'll visualize the route that includes charging stops."
   ]
  },
  {
   "cell_type": "code",
   "execution_count": null,
   "id": "adf5b860",
   "metadata": {},
   "outputs": [],
   "source": [
    "\n",
    "m = plot_route_folium(low_soc_result)\n",
    "m\n"
   ]
  },
  {
   "cell_type": "markdown",
   "id": "14368e29",
   "metadata": {},
   "source": [
    "## Visualizing Charging Infrastructure\n",
    "\n",
    "Let's load the charging station data and visualize the available \n",
    "charging infrastructure on our map."
   ]
  },
  {
   "cell_type": "code",
   "execution_count": null,
   "id": "2e51bdf8",
   "metadata": {},
   "outputs": [],
   "source": [
    "\n",
    "cdf = pd.read_csv(\"./denver_co/charging-stations.csv.gz\")\n"
   ]
  },
  {
   "cell_type": "markdown",
   "id": "e5eba7e0",
   "metadata": {},
   "source": [
    "We'll filter to show only DC Fast Charging (DCFC) stations"
   ]
  },
  {
   "cell_type": "code",
   "execution_count": null,
   "id": "9915cdd3",
   "metadata": {},
   "outputs": [],
   "source": [
    "\n",
    "cdf = cdf[cdf[\"power_type\"].isin([\"DCFC\"])].copy()\n"
   ]
  },
  {
   "cell_type": "markdown",
   "id": "f3a19983",
   "metadata": {},
   "source": [
    "Now we'll add the charging stations to our map to show the available charging infrastructure."
   ]
  },
  {
   "cell_type": "code",
   "execution_count": null,
   "id": "3de28eda",
   "metadata": {},
   "outputs": [],
   "source": [
    "\n",
    "# plot the charging_stations on the map\n",
    "for station in cdf.itertuples():\n",
    "    m.add_child(\n",
    "        folium.Marker(\n",
    "            location=[station.y, station.x],\n",
    "            popup=f\"{station.power_type}\",\n",
    "            icon=folium.Icon(color=\"blue\", icon=\"bolt\"),\n",
    "        )\n",
    "    )\n",
    "m\n"
   ]
  },
  {
   "cell_type": "markdown",
   "id": "633625d0",
   "metadata": {},
   "source": [
    "## Analyzing State of Charge Over the Route\n",
    "\n",
    "Let's extract and analyze how the state of charge changes throughout the journey."
   ]
  },
  {
   "cell_type": "code",
   "execution_count": null,
   "id": "28ee3d36",
   "metadata": {},
   "outputs": [],
   "source": [
    "\n",
    "socs = []\n",
    "time = []\n",
    "distance = []\n",
    "for feature in low_soc_result[\"route\"][\"path\"][\"features\"]:\n",
    "    socs.append(feature[\"properties\"][\"state\"][\"trip_soc\"])\n",
    "    time.append(feature[\"properties\"][\"state\"][\"trip_time\"])\n",
    "    distance.append(feature[\"properties\"][\"state\"][\"trip_distance\"])\n"
   ]
  },
  {
   "cell_type": "markdown",
   "id": "ffc1b814",
   "metadata": {},
   "source": [
    "Plot the state of charge over time to see when charging occurs."
   ]
  },
  {
   "cell_type": "code",
   "execution_count": null,
   "id": "cd078295",
   "metadata": {},
   "outputs": [],
   "source": [
    "\n",
    "plt.plot(time, socs)\n"
   ]
  },
  {
   "cell_type": "markdown",
   "id": "622c90ca",
   "metadata": {},
   "source": [
    "Plot the state of charge over distance to understand the spatial distribution of charging needs."
   ]
  },
  {
   "cell_type": "code",
   "execution_count": null,
   "id": "1c4d14fa",
   "metadata": {},
   "outputs": [],
   "source": [
    "\n",
    "plt.plot(distance, socs)\n"
   ]
  }
 ],
 "metadata": {},
 "nbformat": 4,
 "nbformat_minor": 5
}
